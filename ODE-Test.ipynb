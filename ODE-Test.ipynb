{
 "cells": [
  {
   "cell_type": "code",
   "execution_count": null,
   "metadata": {
    "collapsed": false
   },
   "outputs": [],
   "source": [
    "import numpy as np\n",
    "import scipy as sp\n",
    "from scipy.integrate import odeint\n",
    "\n",
    "import matplotlib.pyplot as plt\n",
    "from IPython.display import Latex\n",
    "from IPython.html.widgets import interactive\n",
    "%pylab inline --no-import-all\n"
   ]
  },
  {
   "cell_type": "code",
   "execution_count": null,
   "metadata": {
    "collapsed": false,
    "scrolled": true
   },
   "outputs": [],
   "source": [
    "N=10000\n",
    "y=np.zeros([4])\n",
    "Lo=.5\n",
    "L=1.\n",
    "vo=1.4\n",
    "thetao=np.pi/2\n",
    "omegao=1.\n",
    "beta=0.\n",
    "b=2"
   ]
  },
  {
   "cell_type": "code",
   "execution_count": null,
   "metadata": {
    "collapsed": false
   },
   "outputs": [],
   "source": [
    "y[0]=L\n",
    "y[1]=vo\n",
    "y[2]=thetao\n",
    "y[3]=omegao"
   ]
  },
  {
   "cell_type": "code",
   "execution_count": null,
   "metadata": {
    "collapsed": false
   },
   "outputs": [],
   "source": [
    "time=np.linspace(0,1000,N)"
   ]
  },
  {
   "cell_type": "code",
   "execution_count": null,
   "metadata": {
    "collapsed": true
   },
   "outputs": [],
   "source": [
    "k=2.5\n",
    "m=.2\n",
    "gravity=9.8"
   ]
  },
  {
   "cell_type": "code",
   "execution_count": null,
   "metadata": {
    "collapsed": true
   },
   "outputs": [],
   "source": [
    "def spring_pendulum(y,time):\n",
    "    g0=y[1]\n",
    "    g1=Lo+y[0]*y[3]*y[3]-k/m*y[0]+gravity*np.cos(y[2])\n",
    "    g2=y[3]\n",
    "    g3=-(gravity*np.sin(y[2])+2.0*y[1]*y[3])/(Lo+y[0])\n",
    "    return np.array([g0,g1,g2,g3])"
   ]
  },
  {
   "cell_type": "code",
   "execution_count": null,
   "metadata": {
    "collapsed": false
   },
   "outputs": [],
   "source": [
    "answer=odeint(spring_pendulum,y,time)"
   ]
  },
  {
   "cell_type": "code",
   "execution_count": null,
   "metadata": {
    "collapsed": false
   },
   "outputs": [],
   "source": [
    "xdata=(Lo+answer[:,0])*np.sin(answer[:,2])\n",
    "ydata=-(Lo+answer[:,0])*np.cos(answer[:,2])"
   ]
  },
  {
   "cell_type": "code",
   "execution_count": null,
   "metadata": {
    "collapsed": false
   },
   "outputs": [],
   "source": [
    "fig, ax=plt.subplots()\n",
    "ax.plot(xdata,ydata)\n"
   ]
  },
  {
   "cell_type": "code",
   "execution_count": null,
   "metadata": {
    "collapsed": false
   },
   "outputs": [],
   "source": [
    "def damped_driven_pendulum(state,time):\n",
    "    g0=state[1]\n",
    "    g1=-gravity/Lo*np.sin(state[0])-beta*state[1]+beta*np.cos(omegao*time/3.)\n",
    "    return np.array([g0,g1])"
   ]
  },
  {
   "cell_type": "code",
   "execution_count": null,
   "metadata": {
    "collapsed": false
   },
   "outputs": [],
   "source": [
    "state=np.zeros(2)\n",
    "state[0]=thetao\n",
    "state[1]=omegao\n",
    "answer=odeint(damped_driven_pendulum,state,time)"
   ]
  },
  {
   "cell_type": "code",
   "execution_count": null,
   "metadata": {
    "collapsed": false
   },
   "outputs": [],
   "source": [
    "fig,ax=plt.subplots()\n",
    "ax.plot(answer[:,0],answer[:,1])"
   ]
  },
  {
   "cell_type": "code",
   "execution_count": null,
   "metadata": {
    "collapsed": false
   },
   "outputs": [],
   "source": [
    "skip=100\n",
    "answer=answer[skip*]"
   ]
  },
  {
   "cell_type": "code",
   "execution_count": null,
   "metadata": {
    "collapsed": false
   },
   "outputs": [],
   "source": [
    "# x''' +Ax'' -x'^2+x=0\n",
    "# x'=v\n",
    "# v'=a\n",
    "# a'=-Av'+v^2-x\n",
    "\n",
    "def jerk(state,time):\n",
    "    g0=state[1]\n",
    "    g1=state[2]\n",
    "    g2=-A*state[2]+state[1]**2-state[0]\n",
    "    return np.array([g0,g1,g2])"
   ]
  },
  {
   "cell_type": "code",
   "execution_count": null,
   "metadata": {
    "collapsed": true
   },
   "outputs": [],
   "source": []
  },
  {
   "cell_type": "code",
   "execution_count": null,
   "metadata": {
    "collapsed": true
   },
   "outputs": [],
   "source": [
    "def jerk2(state,time):\n",
    "    g0=state[1]\n",
    "    g1=state[2]\n",
    "    g2=-state[1]+state[0]**2-B\n",
    "    return np.array([g0,g1,g2])"
   ]
  },
  {
   "cell_type": "code",
   "execution_count": null,
   "metadata": {
    "collapsed": false
   },
   "outputs": [],
   "source": [
    "A=2.017\n",
    "B=2.2\n",
    "xo=.4\n",
    "vo=-.4\n",
    "ao=.3\n",
    "vector=np.zeros(3)\n",
    "vector[0]=xo\n",
    "vector[1]=vo\n",
    "vector[2]=ao\n",
    "N=1000000\n",
    "time=np.linspace(0,1000,N)"
   ]
  },
  {
   "cell_type": "code",
   "execution_count": null,
   "metadata": {
    "collapsed": false
   },
   "outputs": [],
   "source": [
    "answer=odeint(jerk,vector,time)"
   ]
  },
  {
   "cell_type": "code",
   "execution_count": null,
   "metadata": {
    "collapsed": false
   },
   "outputs": [],
   "source": [
    "fig, ax=plt.subplots()\n",
    "ax.plot(answer[:,0],answer[:,1])\n",
    "ax.plot(xo,vo,'x')\n"
   ]
  },
  {
   "cell_type": "code",
   "execution_count": null,
   "metadata": {
    "collapsed": false
   },
   "outputs": [],
   "source": [
    "plot(time,answer[:,2])\n",
    "show()"
   ]
  },
  {
   "cell_type": "code",
   "execution_count": null,
   "metadata": {
    "collapsed": false
   },
   "outputs": [],
   "source": [
    "A=2.017\n",
    "B=.01\n",
    "xo=0\n",
    "vo=-.001\n",
    "ao=0\n",
    "vector=np.zeros(3)\n",
    "vector[0]=xo\n",
    "vector[1]=vo\n",
    "vector[2]=ao\n",
    "N=5000\n",
    "time=np.linspace(0,500,N)"
   ]
  },
  {
   "cell_type": "code",
   "execution_count": null,
   "metadata": {
    "collapsed": false
   },
   "outputs": [],
   "source": [
    "answer=odeint(jerk2,vector,time)\n",
    "\n",
    "fig,ax=plt.subplots()\n",
    "ax.plot(answer[:,0],answer[:,1])\n"
   ]
  },
  {
   "cell_type": "code",
   "execution_count": null,
   "metadata": {
    "collapsed": false
   },
   "outputs": [],
   "source": [
    "A=2.017\n",
    "B=.01\n",
    "xo=0.\n",
    "vo=-.001\n",
    "ao=0.\n",
    "vector=np.zeros(3)\n",
    "vector[0]=xo\n",
    "vector[1]=vo\n",
    "vector[2]=ao\n",
    "N=50000000\n",
    "time=np.linspace(0,5000,N)\n",
    "fig, ax=plt.subplots()\n",
    "vo=np.linspace(-.1,0,50)\n",
    "for j in vo:\n",
    "    P=[]\n",
    "    \n",
    "   \n",
    "    vector[1]=j\n",
    "    answer=odeint(jerk2,vector,time)\n",
    "    \n",
    "    \n",
    "    \n",
    "    for i in range(len(answer[:,1])-2):\n",
    "        test=answer[i,2]*answer[i+1,2]\n",
    "        if test<0:\n",
    "            P.append((answer[i,0],answer[i,1]))\n",
    "            \n",
    "   \n",
    "    ax.plot(np.array(P)[:,1],np.array(P)[:,0],'.',markersize=1)\n",
    "    plt.ylim(-.2,.2)\n",
    "    plt.xlim(-.2,.2)\n",
    "    \n",
    "\n",
    "   \n"
   ]
  },
  {
   "cell_type": "code",
   "execution_count": 11,
   "metadata": {
    "collapsed": false
   },
   "outputs": [],
   "source": [
    "def diode(x):\n",
    "    return -6*min(x,0)\n",
    "    "
   ]
  },
  {
   "cell_type": "code",
   "execution_count": 12,
   "metadata": {
    "collapsed": true
   },
   "outputs": [],
   "source": [
    "def sprott_ckt(state,time,Rv):\n",
    "    g0=state[1]\n",
    "    g1=state[2]\n",
    "    g2=-(R/Rv)*state[2]-state[1]+diode(state[0])-(R/Ro)*Vo\n",
    "    return np.array([g0,g1,g2])"
   ]
  },
  {
   "cell_type": "code",
   "execution_count": 57,
   "metadata": {
    "collapsed": false
   },
   "outputs": [],
   "source": [
    "R=47e3\n",
    "Ro=157e3\n",
    "Rv=50e3\n",
    "Vo=.253\n",
    "vector=np.zeros(3)\n",
    "vector[0]=.75\n",
    "vector[1]=0.\n",
    "vector[2]=0\n",
    "N=50000\n",
    "time=np.linspace(0,1000,N)"
   ]
  },
  {
   "cell_type": "code",
   "execution_count": 58,
   "metadata": {
    "collapsed": false
   },
   "outputs": [
    {
     "data": {
      "text/plain": [
       "[<matplotlib.lines.Line2D at 0x27c43d090>]"
      ]
     },
     "execution_count": 58,
     "metadata": {},
     "output_type": "execute_result"
    },
    {
     "data": {
      "image/png": "[encoded data removed]",
      "text/plain": [
       "<matplotlib.figure.Figure at 0x27bdba2d0>"
      ]
     },
     "metadata": {},
     "output_type": "display_data"
    }
   ],
   "source": [
    "answer=odeint(sprott_ckt,vector,time,args=(Rv,))\n",
    "\n",
    "fig,ax=plt.subplots()\n",
    "ax.plot(answer[:,0],answer[:,1])"
   ]
  },
  {
   "cell_type": "code",
   "execution_count": null,
   "metadata": {
    "collapsed": false
   },
   "outputs": [],
   "source": [
    "fig, ax=plt.subplots()\n",
    "ax.plot(time[-1000:],answer[-1000:,0],',')"
   ]
  },
  {
   "cell_type": "code",
   "execution_count": null,
   "metadata": {
    "collapsed": false
   },
   "outputs": [],
   "source": [
    "from scipy.signal import argrelextrema\n"
   ]
  },
  {
   "cell_type": "code",
   "execution_count": null,
   "metadata": {
    "collapsed": false
   },
   "outputs": [],
   "source": [
    "c=answer[-5000:,0]\n",
    "a=c[argrelextrema(c,np.greater)[0]]\n",
    "r=np.full((len(a),1), Rv)\n",
    "fig, ax = plt.subplots()\n",
    "ax.plot(r,a,',k')\n",
    "plt.ylim(0,.5)\n",
    "a"
   ]
  },
  {
   "cell_type": "code",
   "execution_count": null,
   "metadata": {
    "collapsed": false
   },
   "outputs": [],
   "source": [
    "Rv=np.linspace(50e3,250e3,1000)\n",
    "fig, ax = plt.subplots()\n",
    "for i in Rv:\n",
    "    answer=odeint(sprott_ckt,vector,time,args=(i,))\n",
    "    c=answer[-5000:,0]\n",
    "    a=c[argrelextrema(c,np.greater)[0]]\n",
    "    r=np.full((len(a),1), i)\n",
    "    ax.plot(r,a,',k')\n",
    "    \n",
    "\n",
    "\n"
   ]
  },
  {
   "cell_type": "code",
   "execution_count": null,
   "metadata": {
    "collapsed": false
   },
   "outputs": [],
   "source": [
    "vo"
   ]
  },
  {
   "cell_type": "code",
   "execution_count": null,
   "metadata": {
    "collapsed": false
   },
   "outputs": [],
   "source": [
    "steps=100\n",
    "theta_initial=np.pi/6.0\n",
    "v_initial=0.0\n",
    "\n",
    "beta=0.5\n",
    "amp=1.2\n",
    "omega_d=0.713\n",
    "time_step=2.0*np.pi/(omega_d*steps)"
   ]
  },
  {
   "cell_type": "code",
   "execution_count": null,
   "metadata": {
    "collapsed": true
   },
   "outputs": [],
   "source": [
    "N=300\n",
    "skip=100"
   ]
  },
  {
   "cell_type": "code",
   "execution_count": null,
   "metadata": {
    "collapsed": false
   },
   "outputs": [],
   "source": [
    "initial_state=np.array([theta_initial,v_initial])"
   ]
  },
  {
   "cell_type": "code",
   "execution_count": null,
   "metadata": {
    "collapsed": false
   },
   "outputs": [],
   "source": [
    "time=np.arange(0.,N*(2.0*np.pi)/omega_d,time_step)"
   ]
  },
  {
   "cell_type": "code",
   "execution_count": null,
   "metadata": {
    "collapsed": false
   },
   "outputs": [],
   "source": [
    "answer=odeint(DE_pendulum,initial_state,time)"
   ]
  },
  {
   "cell_type": "code",
   "execution_count": null,
   "metadata": {
    "collapsed": true
   },
   "outputs": [],
   "source": [
    "answer=answer[skip*steps:]"
   ]
  },
  {
   "cell_type": "code",
   "execution_count": null,
   "metadata": {
    "collapsed": false
   },
   "outputs": [],
   "source": [
    "answer"
   ]
  },
  {
   "cell_type": "code",
   "execution_count": null,
   "metadata": {
    "collapsed": false
   },
   "outputs": [],
   "source": [
    "steps=100\n",
    "theta_initial=np.pi/6.0\n",
    "v_initial=0.0\n",
    "beta=.5\n",
    "amp=1.2\n",
    "N=500\n",
    "skip=200\n",
    "initial_state=np.array([theta_initial,v_initial])\n",
    "Rv=np.linspace(.8,.6,1000)\n",
    "#Rv=(.713,.715,.724,.7)\n",
    "for a in Rv:\n",
    "    time_step=2.0*np.pi/(a*steps)\n",
    "    time=np.arange(0.,N*(2.0*np.pi)/a,time_step)\n",
    "    \n",
    "    answer=odeint(DE_pendulum,initial_state,time,args=(a,))\n",
    "    \n",
    "    answer=answer[skip*steps:]\n",
    "    \n",
    "    offset=0\n",
    "    max_index=(N-skip)*steps-offset\n",
    "    P_thetas=[]\n",
    "    P_omegas=[]\n",
    "    for i, position in enumerate(answer[:,0]):\n",
    "        while position>np.pi:\n",
    "            position=position-(2.*np.pi)\n",
    "        while position<np.pi:\n",
    "            position=position+(2.*np.pi)\n",
    "        answer[i,0]=position\n",
    "    \n",
    "    for j in range(offset,max_index,steps):\n",
    "        P_thetas.append(answer[j ,0])\n",
    "        P_omegas.append(answer[j ,1])\n",
    "   \n",
    "        r=np.full((len(P_omegas),1), a)\n",
    "        plt.plot(r,P_omegas,'b,')\n",
    "    \n"
   ]
  },
  {
   "cell_type": "code",
   "execution_count": 2,
   "metadata": {
    "collapsed": false
   },
   "outputs": [],
   "source": [
    "def DE_pendulum(y,time,omega_d):\n",
    "    g0=y[1]\n",
    "    g1=-np.sin(y[0])-beta*y[1] + amp*np.sin(omega_d*time)\n",
    "    return np.array([g0,g1])"
   ]
  },
  {
   "cell_type": "code",
   "execution_count": 3,
   "metadata": {
    "collapsed": false
   },
   "outputs": [
    {
     "ename": "NameError",
     "evalue": "name 'steps' is not defined",
     "output_type": "error",
     "traceback": [
      "\u001b[0;31m---------------------------------------------------------------------------\u001b[0m",
      "\u001b[0;31mNameError\u001b[0m                                 Traceback (most recent call last)",
      "\u001b[0;32m<ipython-input-3-57d460f54729>\u001b[0m in \u001b[0;36m<module>\u001b[0;34m()\u001b[0m\n\u001b[1;32m      1\u001b[0m \u001b[0ma\u001b[0m\u001b[0;34m=\u001b[0m\u001b[0;36m.715\u001b[0m\u001b[0;34m\u001b[0m\u001b[0m\n\u001b[0;32m----> 2\u001b[0;31m \u001b[0mtime_step\u001b[0m\u001b[0;34m=\u001b[0m\u001b[0;36m2.0\u001b[0m\u001b[0;34m*\u001b[0m\u001b[0mnp\u001b[0m\u001b[0;34m.\u001b[0m\u001b[0mpi\u001b[0m\u001b[0;34m/\u001b[0m\u001b[0;34m(\u001b[0m\u001b[0ma\u001b[0m\u001b[0;34m*\u001b[0m\u001b[0msteps\u001b[0m\u001b[0;34m)\u001b[0m\u001b[0;34m\u001b[0m\u001b[0m\n\u001b[0m\u001b[1;32m      3\u001b[0m \u001b[0mtime\u001b[0m\u001b[0;34m=\u001b[0m\u001b[0mnp\u001b[0m\u001b[0;34m.\u001b[0m\u001b[0marange\u001b[0m\u001b[0;34m(\u001b[0m\u001b[0;36m0.\u001b[0m\u001b[0;34m,\u001b[0m\u001b[0mN\u001b[0m\u001b[0;34m*\u001b[0m\u001b[0;34m(\u001b[0m\u001b[0;36m2.0\u001b[0m\u001b[0;34m*\u001b[0m\u001b[0mnp\u001b[0m\u001b[0;34m.\u001b[0m\u001b[0mpi\u001b[0m\u001b[0;34m)\u001b[0m\u001b[0;34m/\u001b[0m\u001b[0ma\u001b[0m\u001b[0;34m,\u001b[0m\u001b[0mtime_step\u001b[0m\u001b[0;34m)\u001b[0m\u001b[0;34m\u001b[0m\u001b[0m\n\u001b[1;32m      4\u001b[0m \u001b[0manswer\u001b[0m\u001b[0;34m=\u001b[0m\u001b[0modeint\u001b[0m\u001b[0;34m(\u001b[0m\u001b[0mDE_pendulum\u001b[0m\u001b[0;34m,\u001b[0m\u001b[0minitial_state\u001b[0m\u001b[0;34m,\u001b[0m\u001b[0mtime\u001b[0m\u001b[0;34m,\u001b[0m\u001b[0margs\u001b[0m\u001b[0;34m=\u001b[0m\u001b[0;34m(\u001b[0m\u001b[0ma\u001b[0m\u001b[0;34m,\u001b[0m\u001b[0;34m)\u001b[0m\u001b[0;34m)\u001b[0m\u001b[0;34m\u001b[0m\u001b[0m\n\u001b[1;32m      5\u001b[0m \u001b[0manswer\u001b[0m\u001b[0;34m=\u001b[0m\u001b[0manswer\u001b[0m\u001b[0;34m[\u001b[0m\u001b[0mskip\u001b[0m\u001b[0;34m*\u001b[0m\u001b[0msteps\u001b[0m\u001b[0;34m:\u001b[0m\u001b[0;34m]\u001b[0m\u001b[0;34m\u001b[0m\u001b[0m\n",
      "\u001b[0;31mNameError\u001b[0m: name 'steps' is not defined"
     ]
    }
   ],
   "source": [
    "a=.715\n",
    "time_step=2.0*np.pi/(a*steps)\n",
    "time=np.arange(0.,N*(2.0*np.pi)/a,time_step)\n",
    "answer=odeint(DE_pendulum,initial_state,time,args=(a,))\n",
    "answer=answer[skip*steps:]\n",
    "offset=0\n",
    "max_index=(N-skip)*steps-offset\n",
    "P_thetas=[]\n",
    "P_omegas=[]\n",
    "for i, position in enumerate(answer[:,0]):\n",
    "    while position>np.pi:\n",
    "        position=position-(2.*np.pi)\n",
    "    while position<-np.pi:\n",
    "        position=position+(2.*np.pi)\n",
    "    answer[i,0]=position\n",
    "\n",
    "for j in range(offset,max_index,steps):\n",
    "    P_thetas.append(answer[j ,0])\n",
    "    P_omegas.append(answer[j ,1])\n",
    "plt.plot(answer[:,0],answer[:,1],'c,')\n",
    "plt.plot(P_thetas,P_omegas,'b.')\n",
    "print a, len(answer), len(time), time_step, steps*skip,max_index, answer.shape"
   ]
  },
  {
   "cell_type": "code",
   "execution_count": null,
   "metadata": {
    "collapsed": false
   },
   "outputs": [],
   "source": [
    "P_thetas"
   ]
  },
  {
   "cell_type": "code",
   "execution_count": 54,
   "metadata": {
    "collapsed": false
   },
   "outputs": [
    {
     "data": {
      "text/plain": [
       "[<matplotlib.lines.Line2D at 0x27bf60fd0>]"
      ]
     },
     "execution_count": 54,
     "metadata": {},
     "output_type": "execute_result"
    },
    {
     "data": {
      "image/png": "[encoded data removed]",
      "text/plain": [
       "<matplotlib.figure.Figure at 0x27bf60850>"
      ]
     },
     "metadata": {},
     "output_type": "display_data"
    }
   ],
   "source": [
    "R=47e3\n",
    "Ro=157e3\n",
    "#Rv=np.linspace(50e3,250e3,1000)\n",
    "Rv=50e3\n",
    "Vo=.253\n",
    "vector=np.zeros(3)\n",
    "vector[0]=.75\n",
    "vector[1]=0.\n",
    "vector[2]=0\n",
    "N=5000\n",
    "skip=100\n",
    "time=np.linspace(0,6000,N)\n",
    "answer=odeint(sprott_ckt,vector,time,args=(Rv,))\n",
    "answer=answer[skip:]\n",
    "offset=50\n",
    "max_index=(N-skip)-offset\n",
    "P_thetas=[]\n",
    "P_omegas=[]\n",
    "for i, position in enumerate(answer[:,0]):\n",
    "    while position>np.pi:\n",
    "        position=position-(2.*np.pi)\n",
    "    while position<-np.pi:\n",
    "        position=position+(2.*np.pi)\n",
    "    answer[i,0]=position\n",
    "\n",
    "for j in range(offset,max_index,steps):\n",
    "    P_thetas.append(answer[j ,0])\n",
    "    P_omegas.append(answer[j ,1])\n",
    "plt.plot(answer[:,0],answer[:,1],'c')\n",
    "plt.plot(P_thetas,P_omegas,'bx')"
   ]
  },
  {
   "cell_type": "code",
   "execution_count": 19,
   "metadata": {
    "collapsed": false
   },
   "outputs": [
    {
     "data": {
      "text/plain": [
       "300"
      ]
     },
     "execution_count": 19,
     "metadata": {},
     "output_type": "execute_result"
    }
   ],
   "source": [
    "len(time)"
   ]
  },
  {
   "cell_type": "code",
   "execution_count": 20,
   "metadata": {
    "collapsed": false
   },
   "outputs": [
    {
     "data": {
      "text/plain": [
       "200"
      ]
     },
     "execution_count": 20,
     "metadata": {},
     "output_type": "execute_result"
    }
   ],
   "source": [
    "len(answer)"
   ]
  },
  {
   "cell_type": "code",
   "execution_count": null,
   "metadata": {
    "collapsed": true
   },
   "outputs": [],
   "source": []
  }
 ],
 "metadata": {
  "kernelspec": {
   "display_name": "Python 2",
   "language": "python",
   "name": "python2"
  },
  "language_info": {
   "codemirror_mode": {
    "name": "ipython",
    "version": 2
   },
   "file_extension": ".py",
   "mimetype": "text/x-python",
   "name": "python",
   "nbconvert_exporter": "python",
   "pygments_lexer": "ipython2",
   "version": "2.7.11"
  }
 },
 "nbformat": 4,
 "nbformat_minor": 0
}
