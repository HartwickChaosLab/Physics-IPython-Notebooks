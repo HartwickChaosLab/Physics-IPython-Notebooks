{
 "cells": [
  {
   "cell_type": "code",
   "execution_count": 12,
   "metadata": {
    "collapsed": true
   },
   "outputs": [],
   "source": [
    "import numpy as np\n",
    "import matplotlib.pyplot as plt\n",
    "%matplotlib inline"
   ]
  },
  {
   "cell_type": "code",
   "execution_count": 2,
   "metadata": {
    "collapsed": true
   },
   "outputs": [],
   "source": [
    "def logistic(r, x):\n",
    "    return r*x*(1-x)"
   ]
  },
  {
   "cell_type": "code",
   "execution_count": 3,
   "metadata": {
    "collapsed": true
   },
   "outputs": [],
   "source": [
    "n = 10000\n",
    "r = np.linspace(2.5, 5.0, n)"
   ]
  },
  {
   "cell_type": "code",
   "execution_count": 6,
   "metadata": {
    "collapsed": true
   },
   "outputs": [],
   "source": [
    "iterations = 1000\n",
    "last = 100"
   ]
  },
  {
   "cell_type": "code",
   "execution_count": 7,
   "metadata": {
    "collapsed": true
   },
   "outputs": [],
   "source": [
    "x = 1e-5 * np.ones(n)"
   ]
  },
  {
   "cell_type": "code",
   "execution_count": 8,
   "metadata": {
    "collapsed": true
   },
   "outputs": [],
   "source": [
    "lyapunov = np.zeros(n)"
   ]
  },
  {
   "cell_type": "code",
   "execution_count": 9,
   "metadata": {
    "collapsed": false
   },
   "outputs": [
    {
     "name": "stderr",
     "output_type": "stream",
     "text": [
      "/Users/schultzk/anaconda/lib/python2.7/site-packages/ipykernel/__main__.py:2: RuntimeWarning: overflow encountered in multiply\n",
      "  from ipykernel import kernelapp as app\n",
      "/Users/schultzk/anaconda/lib/python2.7/site-packages/ipykernel/__main__.py:6: RuntimeWarning: overflow encountered in multiply\n"
     ]
    },
    {
     "data": {
      "text/plain": [
       "<matplotlib.text.Text at 0x10efa66d0>"
      ]
     },
     "execution_count": 9,
     "metadata": {},
     "output_type": "execute_result"
    },
    {
     "data": {
      "image/png": "[encoded data removed]",
      "text/plain": [
       "<matplotlib.figure.Figure at 0x109dbee50>"
      ]
     },
     "metadata": {},
     "output_type": "display_data"
    }
   ],
   "source": [
    "plt.subplot(211)\n",
    "for i in range(iterations):\n",
    "    x = logistic(r, x)\n",
    "    # We compute the partial sum of the\n",
    "    # Lyapunov exponent.\n",
    "    lyapunov += np.log(abs(r-2*r*x))\n",
    "    # We display the bifurcation diagram.\n",
    "    if i >= (iterations - last):\n",
    "        plt.plot(r, x, ',k', alpha=.005)\n",
    "plt.xlim(2.5, 4)\n",
    "plt.title(\"Bifurcation diagram\")"
   ]
  },
  {
   "cell_type": "code",
   "execution_count": 10,
   "metadata": {
    "collapsed": false
   },
   "outputs": [
    {
     "data": {
      "text/plain": [
       "<matplotlib.text.Text at 0x111409490>"
      ]
     },
     "execution_count": 10,
     "metadata": {},
     "output_type": "execute_result"
    },
    {
     "data": {
      "image/png": "[encoded data removed]",
      "text/plain": [
       "<matplotlib.figure.Figure at 0x1111c0950>"
      ]
     },
     "metadata": {},
     "output_type": "display_data"
    }
   ],
   "source": [
    "plt.subplot(212)\n",
    "plt.plot(r[lyapunov<0],lyapunov[lyapunov<0] / iterations,',k', alpha=0.1)\n",
    "plt.plot(r[lyapunov>=0],lyapunov[lyapunov>=0] / iterations,',r', alpha=0.25)\n",
    "plt.xlim(2.5, 4)\n",
    "plt.ylim(-6, 1)\n",
    "plt.title(\"Lyapunov exponent\")"
   ]
  },
  {
   "cell_type": "code",
   "execution_count": 19,
   "metadata": {
    "collapsed": true
   },
   "outputs": [],
   "source": [
    "import numpy as np\n",
    "import scipy.integrate as spi\n",
    "import matplotlib.pyplot as plt\n",
    "%matplotlib inline"
   ]
  },
  {
   "cell_type": "code",
   "execution_count": 20,
   "metadata": {
    "collapsed": true
   },
   "outputs": [],
   "source": [
    "m = 1.  # particle's mass\n",
    "k = 1.  # drag coefficient\n",
    "g = 9.81  # gravity acceleration"
   ]
  },
  {
   "cell_type": "code",
   "execution_count": 21,
   "metadata": {
    "collapsed": true
   },
   "outputs": [],
   "source": [
    "# The initial position is (0, 0).\n",
    "v0 = np.zeros(4)\n",
    "# The initial speed vector is oriented\n",
    "# to the top right.\n",
    "v0[2] = 4.\n",
    "v0[3] = 10.\n"
   ]
  },
  {
   "cell_type": "code",
   "execution_count": 23,
   "metadata": {
    "collapsed": false
   },
   "outputs": [],
   "source": [
    "def f(v, t0, k):\n",
    "# v has four components: v=[u, u'].\n",
    "    u, udot = v[:2], v[2:]\n",
    "# We compute the second derivative u'' of u.\n",
    "    udotdot = -k/m * udot\n",
    "    udotdot[1] -= g\n",
    "# We return v'=[u', u''].\n",
    "    return np.r_[udot, udotdot]"
   ]
  },
  {
   "cell_type": "code",
   "execution_count": 24,
   "metadata": {
    "collapsed": false
   },
   "outputs": [
    {
     "data": {
      "text/plain": [
       "(0, 6)"
      ]
     },
     "execution_count": 24,
     "metadata": {},
     "output_type": "execute_result"
    },
    {
     "data": {
      "image/png": "[encoded data removed]",
      "text/plain": [
       "<matplotlib.figure.Figure at 0x107421310>"
      ]
     },
     "metadata": {},
     "output_type": "display_data"
    }
   ],
   "source": [
    "# We want to evaluate the system on 30 linearly\n",
    "# spaced times between t=0 and t=3.\n",
    "t = np.linspace(0., 3., 30)\n",
    "# We simulate the system for different values of k.\n",
    "for k in np.linspace(0., 1., 5):\n",
    "# We simulate the system and evaluate $v$ on\n",
    "# the given times.\n",
    "    v = spi.odeint(f, v0, t, args=(k,))\n",
    "# We plot the particle's trajectory.\n",
    "    plt.plot(v[:,0], v[:,1], 'o-',mew=1, ms=8, mec='w',label='k={0:.1f}'.format(k))\n",
    "plt.legend()\n",
    "plt.xlim(0, 12)\n",
    "plt.ylim(0, 6)"
   ]
  },
  {
   "cell_type": "code",
   "execution_count": 26,
   "metadata": {
    "collapsed": false
   },
   "outputs": [
    {
     "name": "stdout",
     "output_type": "stream",
     "text": [
      "Help on RClass in module numpy.lib.index_tricks object:\n",
      "\n",
      "class RClass(AxisConcatenator)\n",
      " |  Translates slice objects to concatenation along the first axis.\n",
      " |  \n",
      " |  This is a simple way to build up arrays quickly. There are two use cases.\n",
      " |  \n",
      " |  1. If the index expression contains comma separated arrays, then stack\n",
      " |     them along their first axis.\n",
      " |  2. If the index expression contains slice notation or scalars then create\n",
      " |     a 1-D array with a range indicated by the slice notation.\n",
      " |  \n",
      " |  If slice notation is used, the syntax ``start:stop:step`` is equivalent\n",
      " |  to ``np.arange(start, stop, step)`` inside of the brackets. However, if\n",
      " |  ``step`` is an imaginary number (i.e. 100j) then its integer portion is\n",
      " |  interpreted as a number-of-points desired and the start and stop are\n",
      " |  inclusive. In other words ``start:stop:stepj`` is interpreted as\n",
      " |  ``np.linspace(start, stop, step, endpoint=1)`` inside of the brackets.\n",
      " |  After expansion of slice notation, all comma separated sequences are\n",
      " |  concatenated together.\n",
      " |  \n",
      " |  Optional character strings placed as the first element of the index\n",
      " |  expression can be used to change the output. The strings 'r' or 'c' result\n",
      " |  in matrix output. If the result is 1-D and 'r' is specified a 1 x N (row)\n",
      " |  matrix is produced. If the result is 1-D and 'c' is specified, then a N x 1\n",
      " |  (column) matrix is produced. If the result is 2-D then both provide the\n",
      " |  same matrix result.\n",
      " |  \n",
      " |  A string integer specifies which axis to stack multiple comma separated\n",
      " |  arrays along. A string of two comma-separated integers allows indication\n",
      " |  of the minimum number of dimensions to force each entry into as the\n",
      " |  second integer (the axis to concatenate along is still the first integer).\n",
      " |  \n",
      " |  A string with three comma-separated integers allows specification of the\n",
      " |  axis to concatenate along, the minimum number of dimensions to force the\n",
      " |  entries to, and which axis should contain the start of the arrays which\n",
      " |  are less than the specified number of dimensions. In other words the third\n",
      " |  integer allows you to specify where the 1's should be placed in the shape\n",
      " |  of the arrays that have their shapes upgraded. By default, they are placed\n",
      " |  in the front of the shape tuple. The third argument allows you to specify\n",
      " |  where the start of the array should be instead. Thus, a third argument of\n",
      " |  '0' would place the 1's at the end of the array shape. Negative integers\n",
      " |  specify where in the new shape tuple the last dimension of upgraded arrays\n",
      " |  should be placed, so the default is '-1'.\n",
      " |  \n",
      " |  Parameters\n",
      " |  ----------\n",
      " |  Not a function, so takes no parameters\n",
      " |  \n",
      " |  \n",
      " |  Returns\n",
      " |  -------\n",
      " |  A concatenated ndarray or matrix.\n",
      " |  \n",
      " |  See Also\n",
      " |  --------\n",
      " |  concatenate : Join a sequence of arrays together.\n",
      " |  c_ : Translates slice objects to concatenation along the second axis.\n",
      " |  \n",
      " |  Examples\n",
      " |  --------\n",
      " |  >>> np.r_[np.array([1,2,3]), 0, 0, np.array([4,5,6])]\n",
      " |  array([1, 2, 3, 0, 0, 4, 5, 6])\n",
      " |  >>> np.r_[-1:1:6j, [0]*3, 5, 6]\n",
      " |  array([-1. , -0.6, -0.2,  0.2,  0.6,  1. ,  0. ,  0. ,  0. ,  5. ,  6. ])\n",
      " |  \n",
      " |  String integers specify the axis to concatenate along or the minimum\n",
      " |  number of dimensions to force entries into.\n",
      " |  \n",
      " |  >>> a = np.array([[0, 1, 2], [3, 4, 5]])\n",
      " |  >>> np.r_['-1', a, a] # concatenate along last axis\n",
      " |  array([[0, 1, 2, 0, 1, 2],\n",
      " |         [3, 4, 5, 3, 4, 5]])\n",
      " |  >>> np.r_['0,2', [1,2,3], [4,5,6]] # concatenate along first axis, dim>=2\n",
      " |  array([[1, 2, 3],\n",
      " |         [4, 5, 6]])\n",
      " |  \n",
      " |  >>> np.r_['0,2,0', [1,2,3], [4,5,6]]\n",
      " |  array([[1],\n",
      " |         [2],\n",
      " |         [3],\n",
      " |         [4],\n",
      " |         [5],\n",
      " |         [6]])\n",
      " |  >>> np.r_['1,2,0', [1,2,3], [4,5,6]]\n",
      " |  array([[1, 4],\n",
      " |         [2, 5],\n",
      " |         [3, 6]])\n",
      " |  \n",
      " |  Using 'r' or 'c' as a first string argument creates a matrix.\n",
      " |  \n",
      " |  >>> np.r_['r',[1,2,3], [4,5,6]]\n",
      " |  matrix([[1, 2, 3, 4, 5, 6]])\n",
      " |  \n",
      " |  Method resolution order:\n",
      " |      RClass\n",
      " |      AxisConcatenator\n",
      " |      __builtin__.object\n",
      " |  \n",
      " |  Methods defined here:\n",
      " |  \n",
      " |  __init__(self)\n",
      " |  \n",
      " |  ----------------------------------------------------------------------\n",
      " |  Methods inherited from AxisConcatenator:\n",
      " |  \n",
      " |  __getitem__(self, key)\n",
      " |  \n",
      " |  __getslice__(self, i, j)\n",
      " |  \n",
      " |  __len__(self)\n",
      " |  \n",
      " |  ----------------------------------------------------------------------\n",
      " |  Data descriptors inherited from AxisConcatenator:\n",
      " |  \n",
      " |  __dict__\n",
      " |      dictionary for instance variables (if defined)\n",
      " |  \n",
      " |  __weakref__\n",
      " |      list of weak references to the object (if defined)\n",
      "\n"
     ]
    }
   ],
   "source": [
    "help(np.r_)"
   ]
  },
  {
   "cell_type": "code",
   "execution_count": 13,
   "metadata": {
    "collapsed": true
   },
   "outputs": [],
   "source": [
    "def diode(x):\n",
    "    return -6*min(x,0)"
   ]
  },
  {
   "cell_type": "code",
   "execution_count": 14,
   "metadata": {
    "collapsed": false
   },
   "outputs": [
    {
     "data": {
      "text/plain": [
       "0"
      ]
     },
     "execution_count": 14,
     "metadata": {},
     "output_type": "execute_result"
    }
   ],
   "source": [
    "diode(1)"
   ]
  },
  {
   "cell_type": "code",
   "execution_count": 16,
   "metadata": {
    "collapsed": false
   },
   "outputs": [
    {
     "data": {
      "text/plain": [
       "0.6000000000000001"
      ]
     },
     "execution_count": 16,
     "metadata": {},
     "output_type": "execute_result"
    }
   ],
   "source": [
    "diode(-.1)"
   ]
  },
  {
   "cell_type": "code",
   "execution_count": null,
   "metadata": {
    "collapsed": true
   },
   "outputs": [],
   "source": []
  }
 ],
 "metadata": {
  "kernelspec": {
   "display_name": "Python 2",
   "language": "python",
   "name": "python2"
  },
  "language_info": {
   "codemirror_mode": {
    "name": "ipython",
    "version": 2
   },
   "file_extension": ".py",
   "mimetype": "text/x-python",
   "name": "python",
   "nbconvert_exporter": "python",
   "pygments_lexer": "ipython2",
   "version": "2.7.11"
  }
 },
 "nbformat": 4,
 "nbformat_minor": 0
}
