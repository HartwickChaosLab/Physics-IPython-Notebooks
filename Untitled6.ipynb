{
 "cells": [
  {
   "cell_type": "code",
   "execution_count": 38,
   "metadata": {
    "collapsed": false
   },
   "outputs": [
    {
     "name": "stdout",
     "output_type": "stream",
     "text": [
      "b'0.00,225\\r\\n'\n",
      "b'264.00,225\\r\\n'\n",
      "b'528.00,225\\r\\n'\n",
      "b'793.00,225\\r\\n'\n",
      "b'1057.00,225\\r\\n'\n",
      "b'1321.00,225\\r\\n'\n",
      "b'1587.00,225\\r\\n'\n",
      "b'1851.00,225\\r\\n'\n",
      "b'2116.00,225\\r\\n'\n",
      "b'2380.00,225\\r\\n'\n",
      "b'2644.00,25\\r\\n'\n",
      "b'2897.00,33\\r\\n'\n",
      "b'3151.00,31\\r\\n'\n",
      "b'3404.00,26\\r\\n'\n",
      "b'3657.00,19\\r\\n'\n",
      "b'3910.00,14\\r\\n'\n",
      "b'4162.00,11\\r\\n'\n",
      "b'4414.00,17\\r\\n'\n",
      "b'4667.00,33\\r\\n'\n",
      "b'4920.00,234\\r\\n'\n",
      "b'5185.00,234\\r\\n'\n",
      "b'5450.00,234\\r\\n'\n",
      "b'5715.00,234\\r\\n'\n",
      "b'5981.00,234\\r\\n'\n",
      "b'6246.00,234\\r\\n'\n",
      "b'6511.00,234\\r\\n'\n",
      "b'6776.00,38\\r\\n'\n",
      "b'7030.00,33\\r\\n'\n",
      "b'7283.00,30\\r\\n'\n",
      "b'7537.00,29\\r\\n'\n",
      "b'7790.00,27\\r\\n'\n",
      "b'8043.00,24\\r\\n'\n",
      "b'8296.00,225\\r\\n'\n",
      "b'8560.00,225\\r\\n'\n",
      "b'8825.00,225\\r\\n'\n"
     ]
    },
    {
     "ename": "KeyboardInterrupt",
     "evalue": "",
     "output_type": "error",
     "traceback": [
      "\u001b[1;31m---------------------------------------------------------------------------\u001b[0m",
      "\u001b[1;31mKeyboardInterrupt\u001b[0m                         Traceback (most recent call last)",
      "\u001b[1;32m<ipython-input-38-98445bd3bfc7>\u001b[0m in \u001b[0;36m<module>\u001b[1;34m()\u001b[0m\n\u001b[0;32m      5\u001b[0m \u001b[1;33m\u001b[0m\u001b[0m\n\u001b[0;32m      6\u001b[0m \u001b[1;32mwhile\u001b[0m \u001b[1;33m(\u001b[0m\u001b[1;36m1\u001b[0m\u001b[1;33m==\u001b[0m\u001b[1;36m1\u001b[0m\u001b[1;33m)\u001b[0m\u001b[1;33m:\u001b[0m\u001b[1;33m\u001b[0m\u001b[0m\n\u001b[1;32m----> 7\u001b[1;33m     \u001b[1;32mif\u001b[0m \u001b[1;33m(\u001b[0m\u001b[0marduinoSerialData\u001b[0m\u001b[1;33m.\u001b[0m\u001b[0minWaiting\u001b[0m\u001b[1;33m(\u001b[0m\u001b[1;33m)\u001b[0m\u001b[1;33m>\u001b[0m\u001b[1;36m0\u001b[0m\u001b[1;33m)\u001b[0m\u001b[1;33m:\u001b[0m\u001b[1;33m\u001b[0m\u001b[0m\n\u001b[0m\u001b[0;32m      8\u001b[0m         \u001b[0mmyData\u001b[0m \u001b[1;33m=\u001b[0m \u001b[0marduinoSerialData\u001b[0m\u001b[1;33m.\u001b[0m\u001b[0mreadline\u001b[0m\u001b[1;33m(\u001b[0m\u001b[1;33m)\u001b[0m\u001b[1;33m\u001b[0m\u001b[0m\n\u001b[0;32m      9\u001b[0m         \u001b[0mprint\u001b[0m\u001b[1;33m(\u001b[0m\u001b[0mmyData\u001b[0m\u001b[1;33m)\u001b[0m\u001b[1;33m\u001b[0m\u001b[0m\n",
      "\u001b[1;32mC:\\Anaconda3\\lib\\site-packages\\serial\\serialwin32.py\u001b[0m in \u001b[0;36minWaiting\u001b[1;34m(self)\u001b[0m\n\u001b[0;32m    236\u001b[0m         \u001b[0mflags\u001b[0m \u001b[1;33m=\u001b[0m \u001b[0mwin32\u001b[0m\u001b[1;33m.\u001b[0m\u001b[0mDWORD\u001b[0m\u001b[1;33m(\u001b[0m\u001b[1;33m)\u001b[0m\u001b[1;33m\u001b[0m\u001b[0m\n\u001b[0;32m    237\u001b[0m         \u001b[0mcomstat\u001b[0m \u001b[1;33m=\u001b[0m \u001b[0mwin32\u001b[0m\u001b[1;33m.\u001b[0m\u001b[0mCOMSTAT\u001b[0m\u001b[1;33m(\u001b[0m\u001b[1;33m)\u001b[0m\u001b[1;33m\u001b[0m\u001b[0m\n\u001b[1;32m--> 238\u001b[1;33m         \u001b[1;32mif\u001b[0m \u001b[1;32mnot\u001b[0m \u001b[0mwin32\u001b[0m\u001b[1;33m.\u001b[0m\u001b[0mClearCommError\u001b[0m\u001b[1;33m(\u001b[0m\u001b[0mself\u001b[0m\u001b[1;33m.\u001b[0m\u001b[0mhComPort\u001b[0m\u001b[1;33m,\u001b[0m \u001b[0mctypes\u001b[0m\u001b[1;33m.\u001b[0m\u001b[0mbyref\u001b[0m\u001b[1;33m(\u001b[0m\u001b[0mflags\u001b[0m\u001b[1;33m)\u001b[0m\u001b[1;33m,\u001b[0m \u001b[0mctypes\u001b[0m\u001b[1;33m.\u001b[0m\u001b[0mbyref\u001b[0m\u001b[1;33m(\u001b[0m\u001b[0mcomstat\u001b[0m\u001b[1;33m)\u001b[0m\u001b[1;33m)\u001b[0m\u001b[1;33m:\u001b[0m\u001b[1;33m\u001b[0m\u001b[0m\n\u001b[0m\u001b[0;32m    239\u001b[0m             \u001b[1;32mraise\u001b[0m \u001b[0mSerialException\u001b[0m\u001b[1;33m(\u001b[0m\u001b[1;34m'call to ClearCommError failed'\u001b[0m\u001b[1;33m)\u001b[0m\u001b[1;33m\u001b[0m\u001b[0m\n\u001b[0;32m    240\u001b[0m         \u001b[1;32mreturn\u001b[0m \u001b[0mcomstat\u001b[0m\u001b[1;33m.\u001b[0m\u001b[0mcbInQue\u001b[0m\u001b[1;33m\u001b[0m\u001b[0m\n",
      "\u001b[1;31mKeyboardInterrupt\u001b[0m: "
     ]
    }
   ],
   "source": [
    "import serial #Import Serial Library\n",
    " \n",
    "arduinoSerialData = serial.Serial('com3',9600) #Create Serial port object called arduinoSerialData\n",
    " \n",
    " \n",
    "while (1==1):\n",
    "    if (arduinoSerialData.inWaiting()>0):\n",
    "        myData = arduinoSerialData.readline()\n",
    "        print(myData)\n"
   ]
  },
  {
   "cell_type": "code",
   "execution_count": 39,
   "metadata": {
    "collapsed": false
   },
   "outputs": [],
   "source": [
    "arduinoSerialData.close()"
   ]
  },
  {
   "cell_type": "code",
   "execution_count": 40,
   "metadata": {
    "collapsed": true
   },
   "outputs": [],
   "source": [
    "from drawnow import *"
   ]
  },
  {
   "cell_type": "code",
   "execution_count": 54,
   "metadata": {
    "collapsed": false,
    "scrolled": false
   },
   "outputs": [
    {
     "name": "stderr",
     "output_type": "stream",
     "text": [
      "C:\\Anaconda3\\lib\\site-packages\\matplotlib\\backend_bases.py:2437: MatplotlibDeprecationWarning: Using default event loop until function specific to this GUI is implemented\n",
      "  warnings.warn(str, mplDeprecation)\n"
     ]
    }
   ],
   "source": [
    "\n",
    "import serial # import Serial Library\n",
    "import numpy  # Import numpy\n",
    "import matplotlib.pyplot as plt #import matplotlib library\n",
    "from drawnow import *\n",
    "#%pylab inline --no-import-all\n",
    " \n",
    "tempF= []\n",
    "pressure=[]\n",
    "arduinoData = serial.Serial('com3', 74880) #Creating our serial object named arduinoData\n",
    "plt.ion() #Tell matplotlib you want interactive mode to plot live data\n",
    "cnt=0\n",
    " \n",
    "def makeFig(): #Create a function that makes our desired plot\n",
    "    #plt.ylim(80,90)                                 #Set y min and max values\n",
    "    plt.title('My Live Streaming Sensor Data')      #Plot the title\n",
    "    plt.grid(True)                                  #Turn the grid on\n",
    "    plt.ylabel('Temp F')                            #Set ylabels\n",
    "    plt.plot(tempF,pressure, 'ro-', label='Degrees F')       #plot the temperature\n",
    "    plt.legend(loc='upper left')                    #plot the legend\n",
    "    #plt2=plt.twinx()                                #Create a second y axis\n",
    "    #plt.ylim(93450,93525)                           #Set limits of second y axis- adjust to readings you are getting\n",
    "    #plt2.plot(pressure, 'b^-', label='Pressure (Pa)') #plot pressure data\n",
    "    #plt2.set_ylabel('Pressrue (Pa)')                    #label second y axis\n",
    "    #plt2.ticklabel_format(useOffset=True)           #Force matplotlib to NOT autoscale y axis\n",
    "    plt.legend(loc='upper right')                  #plot the legend\n",
    "    \n",
    "\n",
    "    \n",
    "while cnt<100: # While loop that loops forever\n",
    "    while (arduinoData.inWaiting()==0): #Wait here until there is data\n",
    "        pass #do nothing\n",
    "    arduinoString = arduinoData.readline() #read the line of text from the serial port\n",
    "    dataArray = arduinoString.decode().split(\",\")   #Split it into an array called dataArray\n",
    "    temp = float( dataArray[0])/1000.            #Convert first element to floating number and put in temp\n",
    "    P =    float( dataArray[1])/29/2            #Convert second element to floating number and put in P\n",
    "    tempF.append(temp)                     #Build our tempF array by appending temp readings\n",
    "    pressure.append(P)                     #Building our pressure array by appending P readings\n",
    "    drawnow(makeFig)                       #Call drawnow to update our live graph\n",
    "    plt.pause(.000001)                     #Pause Briefly. Important to keep drawnow from crashing\n",
    "    cnt=cnt+1\n",
    "    \"\"\"if(cnt>50):                            #If you have 50 or more points, delete the first one from the array\n",
    "        tempF.pop(0)                       #This allows us to just see the last 50 data points\n",
    "        pressure.pop(0)\"\"\"\n",
    "\n",
    "arduinoData.close()"
   ]
  },
  {
   "cell_type": "code",
   "execution_count": 52,
   "metadata": {
    "collapsed": true
   },
   "outputs": [],
   "source": [
    "arduinoData.close()"
   ]
  },
  {
   "cell_type": "code",
   "execution_count": null,
   "metadata": {
    "collapsed": true
   },
   "outputs": [],
   "source": []
  },
  {
   "cell_type": "code",
   "execution_count": 42,
   "metadata": {
    "collapsed": false
   },
   "outputs": [
    {
     "data": {
      "text/plain": [
       "['47901.00', '225\\r\\n']"
      ]
     },
     "execution_count": 42,
     "metadata": {},
     "output_type": "execute_result"
    }
   ],
   "source": [
    "dataArray"
   ]
  },
  {
   "cell_type": "code",
   "execution_count": 44,
   "metadata": {
    "collapsed": false
   },
   "outputs": [
    {
     "data": {
      "text/plain": [
       "['47901.00', '225\\r\\n']"
      ]
     },
     "execution_count": 44,
     "metadata": {},
     "output_type": "execute_result"
    }
   ],
   "source": [
    "arduinoString.decode().split(',')"
   ]
  },
  {
   "cell_type": "code",
   "execution_count": 46,
   "metadata": {
    "collapsed": false
   },
   "outputs": [
    {
     "data": {
      "text/plain": [
       "[225.0,\n",
       " 225.0,\n",
       " 225.0,\n",
       " 225.0,\n",
       " 225.0,\n",
       " 225.0,\n",
       " 225.0,\n",
       " 225.0,\n",
       " 225.0,\n",
       " 225.0,\n",
       " 225.0,\n",
       " 225.0,\n",
       " 225.0,\n",
       " 225.0,\n",
       " 225.0,\n",
       " 225.0,\n",
       " 225.0,\n",
       " 225.0,\n",
       " 225.0,\n",
       " 225.0,\n",
       " 225.0,\n",
       " 225.0,\n",
       " 225.0,\n",
       " 225.0,\n",
       " 225.0,\n",
       " 225.0,\n",
       " 225.0,\n",
       " 225.0,\n",
       " 225.0,\n",
       " 225.0,\n",
       " 225.0,\n",
       " 225.0,\n",
       " 225.0,\n",
       " 225.0,\n",
       " 225.0,\n",
       " 225.0,\n",
       " 225.0,\n",
       " 225.0,\n",
       " 225.0,\n",
       " 225.0,\n",
       " 225.0,\n",
       " 225.0,\n",
       " 225.0,\n",
       " 224.0,\n",
       " 225.0,\n",
       " 225.0,\n",
       " 225.0,\n",
       " 225.0,\n",
       " 225.0,\n",
       " 225.0,\n",
       " 225.0]"
      ]
     },
     "execution_count": 46,
     "metadata": {},
     "output_type": "execute_result"
    }
   ],
   "source": [
    "pressure"
   ]
  },
  {
   "cell_type": "code",
   "execution_count": null,
   "metadata": {
    "collapsed": true
   },
   "outputs": [],
   "source": []
  }
 ],
 "metadata": {
  "kernelspec": {
   "display_name": "Python 3",
   "language": "python",
   "name": "python3"
  },
  "language_info": {
   "codemirror_mode": {
    "name": "ipython",
    "version": 3
   },
   "file_extension": ".py",
   "mimetype": "text/x-python",
   "name": "python",
   "nbconvert_exporter": "python",
   "pygments_lexer": "ipython3",
   "version": "3.5.1"
  }
 },
 "nbformat": 4,
 "nbformat_minor": 0
}
