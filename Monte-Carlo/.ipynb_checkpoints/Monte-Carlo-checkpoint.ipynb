{
 "cells": [
  {
   "cell_type": "code",
   "execution_count": 1,
   "metadata": {
    "collapsed": false
   },
   "outputs": [
    {
     "name": "stdout",
     "output_type": "stream",
     "text": [
      "Populating the interactive namespace from numpy and matplotlib\n"
     ]
    },
    {
     "name": "stderr",
     "output_type": "stream",
     "text": [
      ":0: FutureWarning: IPython widgets are experimental and may change in the future.\n"
     ]
    }
   ],
   "source": [
    "import numpy as np\n",
    "import scipy as sp\n",
    "import matplotlib.pyplot as plt\n",
    "from IPython.display import Latex\n",
    "from IPython.html.widgets import interactive\n",
    "%pylab inline --no-import-all"
   ]
  },
  {
   "cell_type": "code",
   "execution_count": 13,
   "metadata": {
    "collapsed": false
   },
   "outputs": [],
   "source": [
    "r=sp.rand()\n",
    "re=2.82e-15 #classical radius of elecron in m\n",
    "n=1.48e28 #NaI number density in inverse cubic meters\n",
    "Zeff=11+53 #total Z of material, in this case NaI"
   ]
  },
  {
   "cell_type": "code",
   "execution_count": 14,
   "metadata": {
    "collapsed": false
   },
   "outputs": [],
   "source": [
    "def phi(r):\n",
    "    return 2*np.pi*r"
   ]
  },
  {
   "cell_type": "code",
   "execution_count": 15,
   "metadata": {
    "collapsed": false
   },
   "outputs": [],
   "source": [
    "def sigma_kn(E): #klein nishina in m^2\n",
    "    gamma=E/.511\n",
    "    sigmakn= 2*np.pi*re**2*((1+gamma)/gamma**2*(2*(1+gamma)/(1+2*gamma)-np.log(1+2*gamma)/gamma)+np.log(1+2*gamma)/(2*gamma)-(1+3*gamma)/(1+2*gamma)**2)\n",
    "    return sigmakn"
   ]
  },
  {
   "cell_type": "code",
   "execution_count": 16,
   "metadata": {
    "collapsed": true
   },
   "outputs": [],
   "source": [
    "def sigma_PE(Eng):\n",
    "    if Eng<0.033:\n",
    "        s_PE=.1079*Eng**(-2.752)\n",
    "    if Eng>0.033:\n",
    "         s_PE=0.5883*Eng**(-2.78) #typo in paper, use Xcom data and simple fit in OfficeCalc\n",
    "        \n",
    "    return s_PE*1e-28 #m^2"
   ]
  },
  {
   "cell_type": "code",
   "execution_count": 17,
   "metadata": {
    "collapsed": false
   },
   "outputs": [],
   "source": [
    "def sigma_PE_plot(Eng): #photoelectric total cross section for NaI, with E in MeV for plotting\n",
    "    s_PE=np.zeros(len(Eng))\n",
    "    for i in range(len(Eng)-1):\n",
    "        if Eng[i]<0.033:\n",
    "            s_PE[i]=.1079*Eng[i]**(-2.752)\n",
    "        if Eng[i]>0.033:\n",
    "            s_PE[i]=0.5883*Eng[i]**(-2.78) #typo in paper, use Xcom data and simple fit in OfficeCalc\n",
    "        \n",
    "    return s_PE*1e-28 #m^2"
   ]
  },
  {
   "cell_type": "code",
   "execution_count": 18,
   "metadata": {
    "collapsed": false
   },
   "outputs": [
    {
     "ename": "ValueError",
     "evalue": "The truth value of an array with more than one element is ambiguous. Use a.any() or a.all()",
     "output_type": "error",
     "traceback": [
      "\u001b[0;31m---------------------------------------------------------------------------\u001b[0m",
      "\u001b[0;31mValueError\u001b[0m                                Traceback (most recent call last)",
      "\u001b[0;32m<ipython-input-18-26d4072a8cd3>\u001b[0m in \u001b[0;36m<module>\u001b[0;34m()\u001b[0m\n\u001b[1;32m      2\u001b[0m \u001b[0mfig\u001b[0m\u001b[0;34m,\u001b[0m \u001b[0maxes\u001b[0m \u001b[0;34m=\u001b[0m\u001b[0mplt\u001b[0m\u001b[0;34m.\u001b[0m\u001b[0msubplots\u001b[0m\u001b[0;34m(\u001b[0m\u001b[0;34m)\u001b[0m\u001b[0;34m\u001b[0m\u001b[0m\n\u001b[1;32m      3\u001b[0m \u001b[0maxes\u001b[0m\u001b[0;34m.\u001b[0m\u001b[0mloglog\u001b[0m\u001b[0;34m(\u001b[0m\u001b[0mEng\u001b[0m\u001b[0;34m,\u001b[0m\u001b[0mZeff\u001b[0m\u001b[0;34m*\u001b[0m\u001b[0msigma_kn\u001b[0m\u001b[0;34m(\u001b[0m\u001b[0mEng\u001b[0m\u001b[0;34m)\u001b[0m\u001b[0;34m/\u001b[0m\u001b[0;36m1e-28\u001b[0m\u001b[0;34m)\u001b[0m\u001b[0;34m\u001b[0m\u001b[0m\n\u001b[0;32m----> 4\u001b[0;31m \u001b[0maxes\u001b[0m\u001b[0;34m.\u001b[0m\u001b[0mloglog\u001b[0m\u001b[0;34m(\u001b[0m\u001b[0mEng\u001b[0m\u001b[0;34m,\u001b[0m\u001b[0msigma_PE\u001b[0m\u001b[0;34m(\u001b[0m\u001b[0mEng\u001b[0m\u001b[0;34m)\u001b[0m\u001b[0;34m/\u001b[0m\u001b[0;36m1e-28\u001b[0m\u001b[0;34m)\u001b[0m\u001b[0;34m\u001b[0m\u001b[0m\n\u001b[0m\u001b[1;32m      5\u001b[0m \u001b[0mplt\u001b[0m\u001b[0;34m.\u001b[0m\u001b[0mylim\u001b[0m\u001b[0;34m(\u001b[0m\u001b[0;36m1\u001b[0m\u001b[0;34m,\u001b[0m\u001b[0;36m40000\u001b[0m\u001b[0;34m)\u001b[0m\u001b[0;34m\u001b[0m\u001b[0m\n",
      "\u001b[0;32m<ipython-input-16-64f7f18cf472>\u001b[0m in \u001b[0;36msigma_PE\u001b[0;34m(Eng)\u001b[0m\n\u001b[1;32m      1\u001b[0m \u001b[0;32mdef\u001b[0m \u001b[0msigma_PE\u001b[0m\u001b[0;34m(\u001b[0m\u001b[0mEng\u001b[0m\u001b[0;34m)\u001b[0m\u001b[0;34m:\u001b[0m\u001b[0;34m\u001b[0m\u001b[0m\n\u001b[0;32m----> 2\u001b[0;31m     \u001b[0;32mif\u001b[0m \u001b[0mEng\u001b[0m\u001b[0;34m<\u001b[0m\u001b[0;36m0.033\u001b[0m\u001b[0;34m:\u001b[0m\u001b[0;34m\u001b[0m\u001b[0m\n\u001b[0m\u001b[1;32m      3\u001b[0m         \u001b[0ms_PE\u001b[0m\u001b[0;34m=\u001b[0m\u001b[0;36m.1079\u001b[0m\u001b[0;34m*\u001b[0m\u001b[0mEng\u001b[0m\u001b[0;34m**\u001b[0m\u001b[0;34m(\u001b[0m\u001b[0;34m-\u001b[0m\u001b[0;36m2.752\u001b[0m\u001b[0;34m)\u001b[0m\u001b[0;34m\u001b[0m\u001b[0m\n\u001b[1;32m      4\u001b[0m     \u001b[0;32mif\u001b[0m \u001b[0mEng\u001b[0m\u001b[0;34m>\u001b[0m\u001b[0;36m0.033\u001b[0m\u001b[0;34m:\u001b[0m\u001b[0;34m\u001b[0m\u001b[0m\n\u001b[1;32m      5\u001b[0m          \u001b[0ms_PE\u001b[0m\u001b[0;34m=\u001b[0m\u001b[0;36m0.5883\u001b[0m\u001b[0;34m*\u001b[0m\u001b[0mEng\u001b[0m\u001b[0;34m**\u001b[0m\u001b[0;34m(\u001b[0m\u001b[0;34m-\u001b[0m\u001b[0;36m2.78\u001b[0m\u001b[0;34m)\u001b[0m \u001b[0;31m#typo in paper, use Xcom data and simple fit in OfficeCalc\u001b[0m\u001b[0;34m\u001b[0m\u001b[0m\n",
      "\u001b[0;31mValueError\u001b[0m: The truth value of an array with more than one element is ambiguous. Use a.any() or a.all()"
     ]
    },
    {
     "data": {
      "image/png": "[encoded data removed]",
      "text/plain": [
       "<matplotlib.figure.Figure at 0x10583ec90>"
      ]
     },
     "metadata": {},
     "output_type": "display_data"
    }
   ],
   "source": [
    "Eng=np.linspace(0.01,5,1000)\n",
    "fig, axes =plt.subplots()\n",
    "axes.loglog(Eng,Zeff*sigma_kn(Eng)/1e-28)\n",
    "axes.loglog(Eng,sigma_PE(Eng)/1e-28)\n",
    "plt.ylim(1,40000)\n"
   ]
  },
  {
   "cell_type": "code",
   "execution_count": null,
   "metadata": {
    "collapsed": false
   },
   "outputs": [],
   "source": []
  },
  {
   "cell_type": "code",
   "execution_count": null,
   "metadata": {
    "collapsed": false
   },
   "outputs": [],
   "source": []
  },
  {
   "cell_type": "code",
   "execution_count": 19,
   "metadata": {
    "collapsed": false
   },
   "outputs": [],
   "source": [
    "def ptheta(Eng, theta):\n",
    "    gamma=Eng/.511\n",
    "    dkn_domega=(re**2)/2*(1/(1+gamma*(1-np.cos(theta))**2))*(1+np.cos(theta)**2+((gamma**2*(1-np.cos(theta))**2))/((1+gamma*(1-np.cos(theta)))))\n",
    "    return dkn_domega*2*np.pi*np.sin(theta)/1e-24"
   ]
  },
  {
   "cell_type": "code",
   "execution_count": 20,
   "metadata": {
    "collapsed": false
   },
   "outputs": [],
   "source": [
    "def plotdiff(Energy=2):\n",
    "    theta=np.linspace(0,np.pi,100)\n",
    "    \n",
    "    p=ptheta(Energy,theta)/(sigma_kn(np.array([Energy])))\n",
    "\n",
    "    \n",
    "    fig, axes = plt.subplots()\n",
    "    \n",
    "    axes.plot(theta,ptheta(Energy,theta))"
   ]
  },
  {
   "cell_type": "code",
   "execution_count": 21,
   "metadata": {
    "collapsed": false
   },
   "outputs": [
    {
     "data": {
      "image/png": "[encoded data removed]",
      "text/plain": [
       "<matplotlib.figure.Figure at 0x105e44890>"
      ]
     },
     "metadata": {},
     "output_type": "display_data"
    }
   ],
   "source": [
    "x=interactive(plotdiff,Energy=(.001,10.))\n",
    "display(x)"
   ]
  },
  {
   "cell_type": "code",
   "execution_count": 22,
   "metadata": {
    "collapsed": false
   },
   "outputs": [],
   "source": [
    "def rand_theta(E):\n",
    "    Ku=5e-5\n",
    "\n",
    "    x1=sp.rand()*np.pi\n",
    "    x2=sp.rand()*Ku\n",
    "    temp=ptheta(E,x1)\n",
    "    if x2<temp:\n",
    "        return x1\n",
    "    elif x2>temp:\n",
    "        return -1"
   ]
  },
  {
   "cell_type": "code",
   "execution_count": 23,
   "metadata": {
    "collapsed": false
   },
   "outputs": [
    {
     "data": {
      "text/plain": [
       "(array([  29.,   46.,   76.,  108.,  168.,  156.,  214.,  245.,  283.,\n",
       "         297.,  290.,  348.,  365.,  379.,  393.,  440.,  432.,  443.,\n",
       "         453.,  476.,  518.,  496.,  523.,  508.,  524.,  503.,  533.,\n",
       "         540.,  566.,  563.,  566.,  532.,  535.,  506.,  494.,  549.,\n",
       "         543.,  544.,  504.,  475.,  495.,  532.,  492.,  481.,  473.,\n",
       "         505.,  502.,  487.,  549.,  501.,  476.,  494.,  537.,  551.,\n",
       "         561.,  485.,  553.,  538.,  523.,  527.,  505.,  537.,  535.,\n",
       "         522.,  542.,  518.,  561.,  520.,  518.,  521.,  529.,  567.,\n",
       "         520.,  554.,  537.,  540.,  533.,  508.,  540.,  480.,  460.,\n",
       "         400.,  431.,  406.,  389.,  375.,  394.,  393.,  318.,  332.,\n",
       "         322.,  287.,  238.,  166.,  167.,  156.,  120.,   90.,   49.,   20.]),\n",
       " array([ 0.00425071,  0.03560416,  0.06695761,  0.09831106,  0.12966451,\n",
       "         0.16101796,  0.19237141,  0.22372486,  0.25507831,  0.28643176,\n",
       "         0.31778522,  0.34913867,  0.38049212,  0.41184557,  0.44319902,\n",
       "         0.47455247,  0.50590592,  0.53725937,  0.56861282,  0.59996627,\n",
       "         0.63131972,  0.66267318,  0.69402663,  0.72538008,  0.75673353,\n",
       "         0.78808698,  0.81944043,  0.85079388,  0.88214733,  0.91350078,\n",
       "         0.94485423,  0.97620769,  1.00756114,  1.03891459,  1.07026804,\n",
       "         1.10162149,  1.13297494,  1.16432839,  1.19568184,  1.22703529,\n",
       "         1.25838874,  1.28974219,  1.32109565,  1.3524491 ,  1.38380255,\n",
       "         1.415156  ,  1.44650945,  1.4778629 ,  1.50921635,  1.5405698 ,\n",
       "         1.57192325,  1.6032767 ,  1.63463015,  1.66598361,  1.69733706,\n",
       "         1.72869051,  1.76004396,  1.79139741,  1.82275086,  1.85410431,\n",
       "         1.88545776,  1.91681121,  1.94816466,  1.97951812,  2.01087157,\n",
       "         2.04222502,  2.07357847,  2.10493192,  2.13628537,  2.16763882,\n",
       "         2.19899227,  2.23034572,  2.26169917,  2.29305262,  2.32440608,\n",
       "         2.35575953,  2.38711298,  2.41846643,  2.44981988,  2.48117333,\n",
       "         2.51252678,  2.54388023,  2.57523368,  2.60658713,  2.63794058,\n",
       "         2.66929404,  2.70064749,  2.73200094,  2.76335439,  2.79470784,\n",
       "         2.82606129,  2.85741474,  2.88876819,  2.92012164,  2.95147509,\n",
       "         2.98282855,  3.014182  ,  3.04553545,  3.0768889 ,  3.10824235,\n",
       "         3.1395958 ]),\n",
       " <a list of 100 Patch objects>)"
      ]
     },
     "execution_count": 23,
     "metadata": {},
     "output_type": "execute_result"
    },
    {
     "data": {
      "image/png": "[encoded data removed]",
      "text/plain": [
       "<matplotlib.figure.Figure at 0x105eaf690>"
      ]
     },
     "metadata": {},
     "output_type": "display_data"
    }
   ],
   "source": [
    "x=np.array([],dtype=float)\n",
    "for i in range(1,100000):\n",
    "    temp= rand_theta(0.001)\n",
    "    if temp!=-1:\n",
    "        x=np.append(x,temp)\n",
    "fig, axes = plt.subplots(1, 1)\n",
    "    #t=trapz(x,f)\n",
    "\n",
    "axes.hist(x,100)\n"
   ]
  },
  {
   "cell_type": "code",
   "execution_count": 24,
   "metadata": {
    "collapsed": true
   },
   "outputs": [],
   "source": [
    "def Total_Cross(Energy):\n",
    "    return sigma_kn(Energy)+sigma_PE(Energy)"
   ]
  },
  {
   "cell_type": "code",
   "execution_count": 26,
   "metadata": {
    "collapsed": false
   },
   "outputs": [
    {
     "data": {
      "text/plain": [
       "7.9981695879021893e-29"
      ]
     },
     "execution_count": 26,
     "metadata": {},
     "output_type": "execute_result"
    }
   ],
   "source": [
    "Total_Cross(1)"
   ]
  },
  {
   "cell_type": "code",
   "execution_count": 29,
   "metadata": {
    "collapsed": true
   },
   "outputs": [],
   "source": [
    "def path_length(Energy): #meters\n",
    "    return -np.log(sp.rand())/n/Total_Cross(Energy)"
   ]
  },
  {
   "cell_type": "code",
   "execution_count": 30,
   "metadata": {
    "collapsed": false
   },
   "outputs": [],
   "source": [
    "Energy=1.\n",
    "interaction=np.array([],dtype=int)\n",
    "trials=10\n",
    "s=path_length(Energy)\n",
    "choice=sp.rand()\n",
    "if choice<.5:\n",
    "    Deposited=Energy\n",
    "    "
   ]
  },
  {
   "cell_type": "code",
   "execution_count": 31,
   "metadata": {
    "collapsed": false
   },
   "outputs": [
    {
     "data": {
      "text/plain": [
       "0.50301107547808566"
      ]
     },
     "execution_count": 31,
     "metadata": {},
     "output_type": "execute_result"
    }
   ],
   "source": [
    "path_length(1)"
   ]
  },
  {
   "cell_type": "code",
   "execution_count": null,
   "metadata": {
    "collapsed": true
   },
   "outputs": [],
   "source": []
  }
 ],
 "metadata": {
  "kernelspec": {
   "display_name": "Python 2",
   "language": "python",
   "name": "python2"
  },
  "language_info": {
   "codemirror_mode": {
    "name": "ipython",
    "version": 2
   },
   "file_extension": ".py",
   "mimetype": "text/x-python",
   "name": "python",
   "nbconvert_exporter": "python",
   "pygments_lexer": "ipython2",
   "version": "2.7.11"
  }
 },
 "nbformat": 4,
 "nbformat_minor": 0
}
