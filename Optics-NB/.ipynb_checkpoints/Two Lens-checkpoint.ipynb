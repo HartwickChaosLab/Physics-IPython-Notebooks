{
 "metadata": {
  "name": "",
  "signature": "sha256:dc7c2fdf479a4e8030478de9e1cbd43236a058efe03146f4877c1049455191f7"
 },
 "nbformat": 3,
 "nbformat_minor": 0,
 "worksheets": []
}