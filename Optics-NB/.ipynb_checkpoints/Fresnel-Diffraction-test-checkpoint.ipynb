{
 "cells": [
  {
   "cell_type": "code",
   "execution_count": 162,
   "metadata": {
    "collapsed": false
   },
   "outputs": [],
   "source": [
    "from scipy import signal\n",
    "from numpy import pi, sqrt, linspace\n",
    "from scipy.special import fresnel\n",
    "from scipy.fftpack import fft, ifft"
   ]
  },
  {
   "cell_type": "code",
   "execution_count": 157,
   "metadata": {
    "collapsed": false
   },
   "outputs": [
    {
     "name": "stdout",
     "output_type": "stream",
     "text": [
      "Populating the interactive namespace from numpy and matplotlib\n"
     ]
    }
   ],
   "source": [
    "# Import graphing routines\n",
    "\n",
    "import matplotlib.pyplot as plt\n",
    "#make pretty comments\n",
    "from IPython.display import Latex \n",
    "#in case we want interactivity\n",
    "#from IPython.html.widgets import interactive \n",
    "from ipywidgets import interactive\n",
    "#Make plots show up in notebook\n",
    "%pylab inline --no-import-all "
   ]
  },
  {
   "cell_type": "markdown",
   "metadata": {},
   "source": [
    "http://www.photonics.intec.ugent.be/download/ocs130.pdf"
   ]
  },
  {
   "cell_type": "code",
   "execution_count": 29,
   "metadata": {
    "collapsed": true
   },
   "outputs": [],
   "source": [
    "def fresnel1d(aperture):\n",
    "    N=len(aperture,dx,z,wavelength)\n",
    "    du = 1./(N*dx0);\n",
    "    u = np.linspace[-N/2-1,N/2*du;\n",
    "    H = exp(-i*2*pi^2*u.^2*z/k);\n",
    "    f1 = ifft( fft(f0) .* H );\n",
    "    dx1 = dx0;\n",
    "    x1 = [-N/2:N/2-1]*dx1;"
   ]
  },
  {
   "cell_type": "code",
   "execution_count": 46,
   "metadata": {
    "collapsed": false
   },
   "outputs": [],
   "source": [
    "\n",
    "wavelength=500e-9\n",
    "k = 2*np.pi/wavelength\n",
    "deltax=1e-6\n",
    "sig = np.repeat([0., 1., 0.], 100)\n"
   ]
  },
  {
   "cell_type": "code",
   "execution_count": 71,
   "metadata": {
    "collapsed": false
   },
   "outputs": [
    {
     "data": {
      "image/png": "[encoded data removed]",
      "text/plain": [
       "<matplotlib.figure.Figure at 0x109787890>"
      ]
     },
     "metadata": {},
     "output_type": "display_data"
    }
   ],
   "source": [
    "fig, (ax_orig, ax_win, ax_filt) = plt.subplots(3, 1, sharex=True)\n",
    "ax_orig.plot(sig)\n",
    "ax_orig.set_title('Original pulse')\n",
    "ax_orig.margins(0, 0.1)\n",
    "ax_win.plot(win)\n",
    "ax_win.set_title('Filter impulse response')\n",
    "ax_win.margins(0, 0.1)\n",
    "ax_filt.plot(filtered)\n",
    "ax_filt.set_title('Filtered signal')\n",
    "ax_filt.margins(0, 0.1)\n",
    "fig.tight_layout()\n",
    "\n"
   ]
  },
  {
   "cell_type": "code",
   "execution_count": 145,
   "metadata": {
    "collapsed": false
   },
   "outputs": [],
   "source": [
    "a=np.linspace(-len(sig)/2,len(sig/2),.000001)"
   ]
  },
  {
   "cell_type": "code",
   "execution_count": 152,
   "metadata": {
    "collapsed": false
   },
   "outputs": [],
   "source": [
    "x=np.linspace(-len(sig)/2,len(sig)/2,len(sig))\n",
    "z=10000\n",
    "wavelength=1\n",
    "fx=-x/(wavelength*z)\n",
    "H=np.exp(-1j*k*z)*np.exp(1j*np.pi*z*wavelength*z*fx**2)"
   ]
  },
  {
   "cell_type": "code",
   "execution_count": 153,
   "metadata": {
    "collapsed": false
   },
   "outputs": [],
   "source": [
    "diff=ifft(fft(sig)*H)"
   ]
  },
  {
   "cell_type": "code",
   "execution_count": 154,
   "metadata": {
    "collapsed": false
   },
   "outputs": [
    {
     "data": {
      "text/plain": [
       "[<matplotlib.lines.Line2D at 0x10b096e10>]"
      ]
     },
     "execution_count": 154,
     "metadata": {},
     "output_type": "execute_result"
    },
    {
     "data": {
      "image/png": "[encoded data removed]",
      "text/plain": [
       "<matplotlib.figure.Figure at 0x10aca77d0>"
      ]
     },
     "metadata": {},
     "output_type": "display_data"
    }
   ],
   "source": [
    "plt.plot(x,diff*diff.conj())"
   ]
  },
  {
   "cell_type": "code",
   "execution_count": 140,
   "metadata": {
    "collapsed": false
   },
   "outputs": [
    {
     "data": {
      "text/plain": [
       "array([ 0.1875    ,  0.18624582,  0.18499164,  0.18373746,  0.18248328,\n",
       "        0.1812291 ,  0.17997492,  0.17872074,  0.17746656,  0.17621237,\n",
       "        0.17495819,  0.17370401,  0.17244983,  0.17119565,  0.16994147,\n",
       "        0.16868729,  0.16743311,  0.16617893,  0.16492475,  0.16367057,\n",
       "        0.16241639,  0.16116221,  0.15990803,  0.15865385,  0.15739967,\n",
       "        0.15614548,  0.1548913 ,  0.15363712,  0.15238294,  0.15112876,\n",
       "        0.14987458,  0.1486204 ,  0.14736622,  0.14611204,  0.14485786,\n",
       "        0.14360368,  0.1423495 ,  0.14109532,  0.13984114,  0.13858696,\n",
       "        0.13733278,  0.1360786 ,  0.13482441,  0.13357023,  0.13231605,\n",
       "        0.13106187,  0.12980769,  0.12855351,  0.12729933,  0.12604515,\n",
       "        0.12479097,  0.12353679,  0.12228261,  0.12102843,  0.11977425,\n",
       "        0.11852007,  0.11726589,  0.11601171,  0.11475753,  0.11350334,\n",
       "        0.11224916,  0.11099498,  0.1097408 ,  0.10848662,  0.10723244,\n",
       "        0.10597826,  0.10472408,  0.1034699 ,  0.10221572,  0.10096154,\n",
       "        0.09970736,  0.09845318,  0.097199  ,  0.09594482,  0.09469064,\n",
       "        0.09343645,  0.09218227,  0.09092809,  0.08967391,  0.08841973,\n",
       "        0.08716555,  0.08591137,  0.08465719,  0.08340301,  0.08214883,\n",
       "        0.08089465,  0.07964047,  0.07838629,  0.07713211,  0.07587793,\n",
       "        0.07462375,  0.07336957,  0.07211538,  0.0708612 ,  0.06960702,\n",
       "        0.06835284,  0.06709866,  0.06584448,  0.0645903 ,  0.06333612,\n",
       "        0.06208194,  0.06082776,  0.05957358,  0.0583194 ,  0.05706522,\n",
       "        0.05581104,  0.05455686,  0.05330268,  0.05204849,  0.05079431,\n",
       "        0.04954013,  0.04828595,  0.04703177,  0.04577759,  0.04452341,\n",
       "        0.04326923,  0.04201505,  0.04076087,  0.03950669,  0.03825251,\n",
       "        0.03699833,  0.03574415,  0.03448997,  0.03323579,  0.03198161,\n",
       "        0.03072742,  0.02947324,  0.02821906,  0.02696488,  0.0257107 ,\n",
       "        0.02445652,  0.02320234,  0.02194816,  0.02069398,  0.0194398 ,\n",
       "        0.01818562,  0.01693144,  0.01567726,  0.01442308,  0.0131689 ,\n",
       "        0.01191472,  0.01066054,  0.00940635,  0.00815217,  0.00689799,\n",
       "        0.00564381,  0.00438963,  0.00313545,  0.00188127,  0.00062709,\n",
       "       -0.00062709, -0.00188127, -0.00313545, -0.00438963, -0.00564381,\n",
       "       -0.00689799, -0.00815217, -0.00940635, -0.01066054, -0.01191472,\n",
       "       -0.0131689 , -0.01442308, -0.01567726, -0.01693144, -0.01818562,\n",
       "       -0.0194398 , -0.02069398, -0.02194816, -0.02320234, -0.02445652,\n",
       "       -0.0257107 , -0.02696488, -0.02821906, -0.02947324, -0.03072742,\n",
       "       -0.03198161, -0.03323579, -0.03448997, -0.03574415, -0.03699833,\n",
       "       -0.03825251, -0.03950669, -0.04076087, -0.04201505, -0.04326923,\n",
       "       -0.04452341, -0.04577759, -0.04703177, -0.04828595, -0.04954013,\n",
       "       -0.05079431, -0.05204849, -0.05330268, -0.05455686, -0.05581104,\n",
       "       -0.05706522, -0.0583194 , -0.05957358, -0.06082776, -0.06208194,\n",
       "       -0.06333612, -0.0645903 , -0.06584448, -0.06709866, -0.06835284,\n",
       "       -0.06960702, -0.0708612 , -0.07211538, -0.07336957, -0.07462375,\n",
       "       -0.07587793, -0.07713211, -0.07838629, -0.07964047, -0.08089465,\n",
       "       -0.08214883, -0.08340301, -0.08465719, -0.08591137, -0.08716555,\n",
       "       -0.08841973, -0.08967391, -0.09092809, -0.09218227, -0.09343645,\n",
       "       -0.09469064, -0.09594482, -0.097199  , -0.09845318, -0.09970736,\n",
       "       -0.10096154, -0.10221572, -0.1034699 , -0.10472408, -0.10597826,\n",
       "       -0.10723244, -0.10848662, -0.1097408 , -0.11099498, -0.11224916,\n",
       "       -0.11350334, -0.11475753, -0.11601171, -0.11726589, -0.11852007,\n",
       "       -0.11977425, -0.12102843, -0.12228261, -0.12353679, -0.12479097,\n",
       "       -0.12604515, -0.12729933, -0.12855351, -0.12980769, -0.13106187,\n",
       "       -0.13231605, -0.13357023, -0.13482441, -0.1360786 , -0.13733278,\n",
       "       -0.13858696, -0.13984114, -0.14109532, -0.1423495 , -0.14360368,\n",
       "       -0.14485786, -0.14611204, -0.14736622, -0.1486204 , -0.14987458,\n",
       "       -0.15112876, -0.15238294, -0.15363712, -0.1548913 , -0.15614548,\n",
       "       -0.15739967, -0.15865385, -0.15990803, -0.16116221, -0.16241639,\n",
       "       -0.16367057, -0.16492475, -0.16617893, -0.16743311, -0.16868729,\n",
       "       -0.16994147, -0.17119565, -0.17244983, -0.17370401, -0.17495819,\n",
       "       -0.17621237, -0.17746656, -0.17872074, -0.17997492, -0.1812291 ,\n",
       "       -0.18248328, -0.18373746, -0.18499164, -0.18624582, -0.1875    ])"
      ]
     },
     "execution_count": 140,
     "metadata": {},
     "output_type": "execute_result"
    }
   ],
   "source": [
    "fx"
   ]
  },
  {
   "cell_type": "code",
   "execution_count": 222,
   "metadata": {
    "collapsed": true
   },
   "outputs": [],
   "source": [
    "l=50e-6\n",
    "z=.5\n",
    "u1=sqrt(k/np.pi)\n"
   ]
  },
  {
   "cell_type": "code",
   "execution_count": 223,
   "metadata": {
    "collapsed": false
   },
   "outputs": [
    {
     "data": {
      "text/plain": [
       "(0.34341567836369824, 0.48825340607534073)"
      ]
     },
     "execution_count": 223,
     "metadata": {},
     "output_type": "execute_result"
    }
   ],
   "source": [
    "fresnel(2)"
   ]
  },
  {
   "cell_type": "code",
   "execution_count": 224,
   "metadata": {
    "collapsed": false
   },
   "outputs": [
    {
     "data": {
      "text/plain": [
       "array([ -2.50000000e-04,  -2.44949495e-04,  -2.39898990e-04,\n",
       "        -2.34848485e-04,  -2.29797980e-04,  -2.24747475e-04,\n",
       "        -2.19696970e-04,  -2.14646465e-04,  -2.09595960e-04,\n",
       "        -2.04545455e-04,  -1.99494949e-04,  -1.94444444e-04,\n",
       "        -1.89393939e-04,  -1.84343434e-04,  -1.79292929e-04,\n",
       "        -1.74242424e-04,  -1.69191919e-04,  -1.64141414e-04,\n",
       "        -1.59090909e-04,  -1.54040404e-04,  -1.48989899e-04,\n",
       "        -1.43939394e-04,  -1.38888889e-04,  -1.33838384e-04,\n",
       "        -1.28787879e-04,  -1.23737374e-04,  -1.18686869e-04,\n",
       "        -1.13636364e-04,  -1.08585859e-04,  -1.03535354e-04,\n",
       "        -9.84848485e-05,  -9.34343434e-05,  -8.83838384e-05,\n",
       "        -8.33333333e-05,  -7.82828283e-05,  -7.32323232e-05,\n",
       "        -6.81818182e-05,  -6.31313131e-05,  -5.80808081e-05,\n",
       "        -5.30303030e-05,  -4.79797980e-05,  -4.29292929e-05,\n",
       "        -3.78787879e-05,  -3.28282828e-05,  -2.77777778e-05,\n",
       "        -2.27272727e-05,  -1.76767677e-05,  -1.26262626e-05,\n",
       "        -7.57575758e-06,  -2.52525253e-06,   2.52525253e-06,\n",
       "         7.57575758e-06,   1.26262626e-05,   1.76767677e-05,\n",
       "         2.27272727e-05,   2.77777778e-05,   3.28282828e-05,\n",
       "         3.78787879e-05,   4.29292929e-05,   4.79797980e-05,\n",
       "         5.30303030e-05,   5.80808081e-05,   6.31313131e-05,\n",
       "         6.81818182e-05,   7.32323232e-05,   7.82828283e-05,\n",
       "         8.33333333e-05,   8.83838384e-05,   9.34343434e-05,\n",
       "         9.84848485e-05,   1.03535354e-04,   1.08585859e-04,\n",
       "         1.13636364e-04,   1.18686869e-04,   1.23737374e-04,\n",
       "         1.28787879e-04,   1.33838384e-04,   1.38888889e-04,\n",
       "         1.43939394e-04,   1.48989899e-04,   1.54040404e-04,\n",
       "         1.59090909e-04,   1.64141414e-04,   1.69191919e-04,\n",
       "         1.74242424e-04,   1.79292929e-04,   1.84343434e-04,\n",
       "         1.89393939e-04,   1.94444444e-04,   1.99494949e-04,\n",
       "         2.04545455e-04,   2.09595960e-04,   2.14646465e-04,\n",
       "         2.19696970e-04,   2.24747475e-04,   2.29797980e-04,\n",
       "         2.34848485e-04,   2.39898990e-04,   2.44949495e-04,\n",
       "         2.50000000e-04])"
      ]
     },
     "execution_count": 224,
     "metadata": {},
     "output_type": "execute_result"
    }
   ],
   "source": [
    "x=linspace(-l/2,l/2,100)*10."
   ]
  },
  {
   "cell_type": "code",
   "execution_count": 225,
   "metadata": {
    "collapsed": false
   },
   "outputs": [],
   "source": [
    "u1=sqrt(k/pi)*(-l/2-x)\n",
    "u2=sqrt(k/pi)*(l/2-x)"
   ]
  },
  {
   "cell_type": "code",
   "execution_count": 226,
   "metadata": {
    "collapsed": true
   },
   "outputs": [],
   "source": [
    "cfu1,sfu1=fresnel(u1)\n",
    "cfu2,sfu2=fresnel(u2)"
   ]
  },
  {
   "cell_type": "code",
   "execution_count": 227,
   "metadata": {
    "collapsed": false
   },
   "outputs": [],
   "source": [
    "Intensity=1/4.*((cfu2-cfu1)**2+(sfu2-sfu1)**2)\n"
   ]
  },
  {
   "cell_type": "code",
   "execution_count": 228,
   "metadata": {
    "collapsed": false
   },
   "outputs": [
    {
     "data": {
      "text/plain": [
       "[<matplotlib.lines.Line2D at 0x10bedd050>]"
      ]
     },
     "execution_count": 228,
     "metadata": {},
     "output_type": "execute_result"
    },
    {
     "data": {
      "image/png": "[encoded data removed]",
      "text/plain": [
       "<matplotlib.figure.Figure at 0x10bcca250>"
      ]
     },
     "metadata": {},
     "output_type": "display_data"
    }
   ],
   "source": [
    "plt.plot(x,Intensity)"
   ]
  },
  {
   "cell_type": "code",
   "execution_count": null,
   "metadata": {
    "collapsed": true
   },
   "outputs": [],
   "source": []
  },
  {
   "cell_type": "code",
   "execution_count": null,
   "metadata": {
    "collapsed": true
   },
   "outputs": [],
   "source": []
  }
 ],
 "metadata": {
  "kernelspec": {
   "display_name": "Python 2",
   "language": "python",
   "name": "python2"
  }
 },
 "nbformat": 4,
 "nbformat_minor": 0
}
