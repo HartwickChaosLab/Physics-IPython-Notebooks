{
 "cells": [
  {
   "cell_type": "code",
   "execution_count": 1,
   "metadata": {
    "collapsed": true
   },
   "outputs": [],
   "source": [
    "import numpy as np\n",
    "import matplotlib.pyplot as plt\n",
    "import matplotlib.patches as patches\n",
    "x, y = np.random.rand(2, 200)\n",
    "\n",
    "fig, ax = plt.subplots()\n",
    "circ = patches.Circle( (0.5, 0.5), 0.25, alpha=0.8, fc='yellow')\n",
    "ax.add_patch(circ)\n",
    "\n",
    "\n",
    "ax.plot(x, y, alpha=0.2)\n",
    "line, = ax.plot(x, y, alpha=1.0, clip_path=circ)\n",
    "\n",
    "class EventHandler:\n",
    "   def __init__(self):\n",
    "       fig.canvas.mpl_connect('button_press_event', self.onpress)\n",
    "       fig.canvas.mpl_connect('button_release_event', self.onrelease)\n",
    "       fig.canvas.mpl_connect('motion_notify_event', self.onmove)\n",
    "       self.x0, self.y0 = circ.center\n",
    "       self.pressevent = None\n",
    "\n",
    "   def onpress(self, event):\n",
    "      if event.inaxes!=ax:\n",
    "         return\n",
    "\n",
    "      if not circ.contains(event)[0]:\n",
    "         return\n",
    "\n",
    "      self.pressevent = event\n",
    "\n",
    "   def onrelease(self, event):\n",
    "      self.pressevent = None\n",
    "      self.x0, self.y0 = circ.center\n",
    "\n",
    "   def onmove(self, event):\n",
    "      if self.pressevent is None or event.inaxes!=self.pressevent.inaxes:\n",
    "         return\n",
    "\n",
    "      dx = event.xdata - self.pressevent.xdata\n",
    "      dy = event.ydata - self.pressevent.ydata\n",
    "      circ.center = self.x0 + dx, self.y0 + dy\n",
    "      line.set_clip_path(circ)\n",
    "      fig.canvas.draw()\n",
    "\n",
    "handler = EventHandler()\n",
    "plt.show()"
   ]
  },
  {
   "cell_type": "code",
   "execution_count": null,
   "metadata": {
    "collapsed": true
   },
   "outputs": [],
   "source": []
  }
 ],
 "metadata": {
  "kernelspec": {
   "display_name": "Python 2",
   "language": "python",
   "name": "python2"
  },
  "language_info": {
   "codemirror_mode": {
    "name": "ipython",
    "version": 2
   },
   "file_extension": ".py",
   "mimetype": "text/x-python",
   "name": "python",
   "nbconvert_exporter": "python",
   "pygments_lexer": "ipython2",
   "version": "2.7.12"
  }
 },
 "nbformat": 4,
 "nbformat_minor": 0
}
