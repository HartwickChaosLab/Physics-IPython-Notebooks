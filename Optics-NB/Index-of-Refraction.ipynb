{
 "metadata": {
  "name": "",
  "signature": "sha256:ac08fcb89bc1b4b7feb9dbc24d83a01badb360aade0a64bcc615df22a433342f"
 },
 "nbformat": 3,
 "nbformat_minor": 0,
 "worksheets": [
  {
   "cells": [
    {
     "cell_type": "code",
     "collapsed": false,
     "input": [
      "import matplotlib.pyplot as plt\n",
      "from IPython.display import Latex\n",
      "from IPython.html.widgets import interactive\n",
      "%pylab inline --no-import-all\n"
     ],
     "language": "python",
     "metadata": {},
     "outputs": [
      {
       "output_type": "stream",
       "stream": "stdout",
       "text": [
        "Populating the interactive namespace from numpy and matplotlib\n"
       ]
      }
     ],
     "prompt_number": 15
    },
    {
     "cell_type": "code",
     "collapsed": false,
     "input": [
      "from scipy.integrate import odeint, ode\n",
      "from scipy import sqrt, linspace, cos, sin"
     ],
     "language": "python",
     "metadata": {},
     "outputs": [],
     "prompt_number": 2
    },
    {
     "cell_type": "heading",
     "level": 1,
     "metadata": {},
     "source": [
      "Introduction"
     ]
    },
    {
     "cell_type": "markdown",
     "metadata": {},
     "source": [
      "In what follows we will generate some code that allows us to interactively change parameters that control the behavior of light in a material."
     ]
    },
    {
     "cell_type": "heading",
     "level": 2,
     "metadata": {},
     "source": [
      "Theory"
     ]
    },
    {
     "cell_type": "markdown",
     "metadata": {},
     "source": [
      "We will follow the presentation in chapter two of (Peatross and Ware 2013)  http://optics.byu.edu/textbook.aspx in what follows.\n",
      "\n",
      "When light passes through a medium the electric field of the light field interacts with the electrons in medium. This is clled polarization. We can think of the electrons being bound to the nucleus by little springs. The \"spring constant\" determines how effectively the electic field of the light wave moves the electrons around. Thus, the different frequencies of light effect the electrons to different degrees. If the light wave is oscillating at a natural frequency of the electron, then the light will get strongly absorbed and will be attenuated as it passes through the medium. If the light is not absorbed there will still be a phase difference between the polarization of the medium and light field that causes a frequency-dependent velocity.\n"
     ]
    },
    {
     "cell_type": "heading",
     "level": 3,
     "metadata": {},
     "source": [
      "Math"
     ]
    },
    {
     "cell_type": "markdown",
     "metadata": {},
     "source": [
      "We take the wave equation in a homogeneous, isotropic, non-conducting material to be\n",
      "\n",
      "$$\\nabla^2\\mathbf{E}-\\frac{1}{c^2}\\frac{\\partial^2 \\mathbf{E}}{\\partial t^2}=\\mu_0\\frac{\\partial^2\\mathbf{P}}{\\partial t^2}$$\n",
      "\n",
      "If we assume that the material and intensity of the light is such that everything behaves linearly, we can take our solutions to be plane waves of the form:\n",
      "\n",
      "\n",
      "$$\n",
      "\\begin{align}\n",
      "\\mathbf{E}&=\\mathbf{E_0}e^{i\\mathbf{k}\\cdot\\mathbf{r}-\\omega t}\\\\\n",
      "\\mathbf{P}&=\\mathbf{P_0}e^{i\\mathbf{k}\\cdot\\mathbf{r}-\\omega t}\n",
      "\\end{align}\n",
      "$$\n",
      "\n",
      "Before proceeding we need the so-called consitutive relation between $\\mathbf{E}\\textrm{ and }\\mathbf{P}$:\n",
      "\n",
      "$$\\mathbf{P}_0=\\epsilon_0\\chi(\\omega)\\mathbf{E}_0(\\omega)$$\n",
      "\n",
      "$\\chi(\\omega)$ is a proportionality constant called the susceptibility and is medium dependent.\n",
      "\n",
      "Pluggin these solutions potential solutions into the wave equation we arrive at the dispersion relationship.\n",
      "\n",
      "$$k=\\frac{\\omega}{c}\\sqrt{1+\\chi(\\omega)}$$\n",
      "\n",
      "At this point we recognize that $\\chi(\\omega)$ may be complex, we define a complex index of refraction:\n",
      "\n",
      "$$\\mathcal{N}(\\omega)=n(\\omega)+i\\kappa(\\omega)=\\sqrt{1+\\chi(\\omega)}$$\n",
      "\n",
      "and $k=\\frac{\\mathcal{N}\\omega}{c}=\\frac{(n+i\\kappa)\\omega}{c}$. Plugging this complex $k$ into our solutions for $\\mathbf{E}$ and $\\mathbf{P}$ we identify $n$ with the usual definition of phase velocity and $\\kappa$ with an attenuation factor.\n",
      "\n",
      "We need to do one more thing before we do our calculations and that is to derive an expression for $\\chi(\\omega)$. "
     ]
    },
    {
     "cell_type": "markdown",
     "metadata": {},
     "source": [
      "Remember when we said that we can pretend electrons are attached to atoms by springs? Well now we are going to take advantage of this. What we are really doing is approximating the force that the electron sits in by a Taylor expansion and only keeping the first order term, which looks like a restoring force, and so we pretend that we have a spring. This breaks down, if the driving light field moves the electron very far away from its equilibrium point and higher order terms of the expansion are needed to agree with experiment. This is a really amazing regime to be in and one we are ignoring for now.\n",
      "\n",
      "So modeling our electron as a damped, driven harmonic oscillator we get the following differential equation.\n",
      "\n",
      "$$m_e\\ddot{\\mathbf{r}}=q_e\\mathbf{E}-m_e\\gamma\\dot{\\mathbf{r}}-k_{\\textrm{hooke}}\\mathbf{r}$$\n",
      "\n",
      "rearranging...\n",
      "\n",
      "$$\\ddot{\\mathbf{r}}+\\gamma\\dot{\\mathbf{r}}+\\omega_0^2\\mathbf{r}=\\frac{q_E}{m_e}\\mathbf{E}e^{i\\omega t},$$\n",
      "\n",
      "where $\\omega_0=\\sqrt{k_{\\textrm{hooke}}/m_e}$ is the resonant frequency of the system, and we dropped the $k\\cdot r$ term of the oscillating field, since an atom is so much smaller than optical light.\n",
      "\n",
      "The inhomogeneous solution is given by \n",
      "\n",
      "$$\\mathbf{r}=\\left(\\frac{q_e}{m_e} \\right)\\frac{\\mathbf{E}_0 e^{i\\omega t}}{\\omega_0^2-i\\omega\\gamma-\\omega^2}$$"
     ]
    },
    {
     "cell_type": "heading",
     "level": 3,
     "metadata": {},
     "source": [
      "Solving the SHO equation"
     ]
    },
    {
     "cell_type": "markdown",
     "metadata": {},
     "source": [
      "First rewrite the second-order ODE as two first-order ODE"
     ]
    },
    {
     "cell_type": "code",
     "collapsed": false,
     "input": [
      "def dy(y,t,gamma,omega_o,omega,amp):\n",
      "    x,p=y[0],y[1]\n",
      "    dx=p\n",
      "    dp=-gamma*omega_o*p-omega_o**2*x+amp*cos(omega*t)\n",
      "    return[dx,dp]"
     ],
     "language": "python",
     "metadata": {},
     "outputs": [],
     "prompt_number": 3
    },
    {
     "cell_type": "markdown",
     "metadata": {},
     "source": [
      "Now define the intial conditions and create an array of time values"
     ]
    },
    {
     "cell_type": "code",
     "collapsed": false,
     "input": [
      "y0=[1.0,0.0]\n",
      "t=linspace(0.,20,1000)"
     ],
     "language": "python",
     "metadata": {},
     "outputs": [],
     "prompt_number": 4
    },
    {
     "cell_type": "markdown",
     "metadata": {},
     "source": [
      "Call scipy's ODE solver"
     ]
    },
    {
     "cell_type": "code",
     "collapsed": false,
     "input": [
      "def solve_ODE(omega_o,gamma, omega, amp):\n",
      "    y=odeint(dy,y0,t,args=(gamma,omega_o,omega,amp))\n",
      "    field=[]\n",
      "    field=amp*cos(omega*t)\n",
      "    rcdef = plt.rcParams.copy()\n",
      "    newparams = {'axes.labelsize': 14, 'axes.linewidth': 1, 'savefig.dpi': 300, \n",
      "             'lines.linewidth': 1.5, 'figure.figsize': (8, 4),\n",
      "             'figure.subplot.wspace': 0.4,\n",
      "             'ytick.labelsize': 12, 'xtick.labelsize': 12,\n",
      "             'ytick.major.pad': 5, 'xtick.major.pad': 5,\n",
      "             'legend.fontsize': 12, 'legend.frameon': False, \n",
      "             'legend.handlelength': 1.5}\n",
      "    # Update the global rcParams dictionary with the new parameter choices\n",
      "# Before doing this, we reset rcParams to its default again, just in case\n",
      "    plt.rcParams.update(rcdef)\n",
      "    plt.rcParams.update(newparams)\n",
      "   \n",
      "    \n",
      "    fig,ax1 =plt.subplots()\n",
      "    ax1.plot(t,y[:,0],'b-',label='r')\n",
      "    ax1.set_xlabel('time (s)')\n",
      "\n",
      "    for tl in ax1.get_yticklabels():\n",
      "        tl.set_color('b')\n",
      "    ax2=ax1.twinx()\n",
      "    ax1.set_ylabel('displacement (m)')\n",
      "    ax2.set_ylabel('field (V/m)')\n",
      "    ax2.plot(t,field,'r-',label='driving field')\n",
      "    for tl in ax2.get_yticklabels():\n",
      "        tl.set_color('r')\n",
      "       \n",
      "    plt.rcParams.update(rcdef)"
     ],
     "language": "python",
     "metadata": {},
     "outputs": [],
     "prompt_number": 17
    },
    {
     "cell_type": "code",
     "collapsed": false,
     "input": [
      "w=interactive(solve_ODE,omega_o=(1.,10.),gamma=(0.,10.),omega=(0.,20.),amp=(0.,10.))\n",
      "display(w)"
     ],
     "language": "python",
     "metadata": {},
     "outputs": [
      {
       "metadata": {},
       "output_type": "display_data",
       "png": "[encoded data removed]",
       "text": [
        "<matplotlib.figure.Figure at 0x1069b0a10>"
       ]
      }
     ],
     "prompt_number": 18
    },
    {
     "cell_type": "heading",
     "level": 3,
     "metadata": {},
     "source": [
      "Getting to the complex index"
     ]
    },
    {
     "cell_type": "markdown",
     "metadata": {},
     "source": [
      "We now define the total polarization of the medium as \n",
      "\n",
      "$\\mathbf{P}=N q_e r$, where $N$ is the electron density. Plugging in our solution to $\\mathbf{r}$ into our equation for the net polarization\n",
      "\n",
      "$\\mathbf{P}=\\epsilon_0\\left(\\frac{\\omega_p^2}{\\omega_0^2-i\\omega\\gamma-\\omega^2} \\right)\\mathbf{E_0}e^{iwt},$ where $\\omega_p=\\sqrt{\\frac{Nq_e^2}{\\epsilon_0 m_e}}$ is calle the plasma frequency. The plasma frequency is an important parameter for metals.\n",
      "\n",
      "The complex part of $\\mathbf{P}$ tells us that there is a phase relationship between the driving field and the polarization. When the driving field is on resonance the two are in phase and the oscillating electrons contribute a light field that constructively intereferes with the driving field. If there was no damping term, the resulting light field would grow without limit.\n",
      "\n",
      "Comparing our result for the polarization with our definition of the susceptability we see that\n",
      "\n",
      "$\\chi(\\omega)=\\frac{\\omega_p^2}{\\omega_0^2-i\\omega\\gamma-\\omega^2}$\n",
      "\n",
      "Putting all of it together we have $(n+i\\kappa)^2=1+\\chi(\\omega)=1+\\frac{\\omega_p^2}{\\omega_0^2-i\\omega\\gamma-\\omega^2}$. \n",
      "\n",
      "The cell below defines the complex index of refraction and plots $n$ and $\\kappa$ as a function o frequency for arbitrary parameters."
     ]
    },
    {
     "cell_type": "code",
     "collapsed": false,
     "input": [
      "def complex_index(omega_o=10., gamma=1., omega_p=1):\n",
      "    #create the \"x-axis\"\n",
      "    omega=linspace(0,30,1000) \n",
      "    \n",
      "    #Equation \n",
      "    nk=sqrt(1+(pow(omega_p,2))/(pow(omega_o,2)-omega*gamma*1.j-pow(omega,2)))\n",
      "    n=nk.real\n",
      "    kappa=nk.imag\n",
      "    \n",
      "    rcdef = plt.rcParams.copy()\n",
      "    newparams = {'axes.labelsize': 14, 'axes.linewidth': 1, 'savefig.dpi': 300, \n",
      "             'lines.linewidth': 1.5, 'figure.figsize': (16, 6),\n",
      "             'figure.subplot.wspace': 0.4,\n",
      "             'ytick.labelsize': 12, 'xtick.labelsize': 12,\n",
      "             'ytick.major.pad': 5, 'xtick.major.pad': 5,\n",
      "             'legend.fontsize': 12, 'legend.frameon': False, \n",
      "             'legend.handlelength': 1.5}\n",
      "\n",
      "    # Update the global rcParams dictionary with the new parameter choices\n",
      "    # Before doing this, we reset rcParams to its default again, just in case\n",
      "    plt.rcParams.update(rcdef)\n",
      "    plt.rcParams.update(newparams)\n",
      "\n",
      "    # Make the new figure with new formatting\n",
      "    fig, axes = plt.subplots(1, 2)\n",
      "\n",
      "    axes[0].plot(omega, n, label ='index of refraction, n')\n",
      "    axes[1].plot(omega, kappa, label='attenuation, \\kappa')\n",
      "\n",
      "    axes[0].legend()\n",
      "    axes[1].legend()\n",
      "    \n",
      "    axes[0].set_xlabel('omega')\n",
      "\n",
      "    axes[1].set_xlabel('omega')\n",
      "\n",
      "    plt.rcParams.update(rcdef)"
     ],
     "language": "python",
     "metadata": {},
     "outputs": [],
     "prompt_number": 7
    },
    {
     "cell_type": "code",
     "collapsed": false,
     "input": [
      "w=interactive(complex_index,omega_o=(1.,50.), gamma=(0,5.), omega_p=(1.,10.))\n",
      "display(w)"
     ],
     "language": "python",
     "metadata": {},
     "outputs": [
      {
       "ename": "NameError",
       "evalue": "name 'interactive' is not defined",
       "output_type": "pyerr",
       "traceback": [
        "\u001b[0;31m---------------------------------------------------------------------------\u001b[0m\n\u001b[0;31mNameError\u001b[0m                                 Traceback (most recent call last)",
        "\u001b[0;32m<ipython-input-8-ac3b5996d0cf>\u001b[0m in \u001b[0;36m<module>\u001b[0;34m()\u001b[0m\n\u001b[0;32m----> 1\u001b[0;31m \u001b[0mw\u001b[0m\u001b[0;34m=\u001b[0m\u001b[0minteractive\u001b[0m\u001b[0;34m(\u001b[0m\u001b[0mcomplex_index\u001b[0m\u001b[0;34m,\u001b[0m\u001b[0momega_o\u001b[0m\u001b[0;34m=\u001b[0m\u001b[0;34m(\u001b[0m\u001b[0;36m1.\u001b[0m\u001b[0;34m,\u001b[0m\u001b[0;36m50.\u001b[0m\u001b[0;34m)\u001b[0m\u001b[0;34m,\u001b[0m \u001b[0mgamma\u001b[0m\u001b[0;34m=\u001b[0m\u001b[0;34m(\u001b[0m\u001b[0;36m0\u001b[0m\u001b[0;34m,\u001b[0m\u001b[0;36m5.\u001b[0m\u001b[0;34m)\u001b[0m\u001b[0;34m,\u001b[0m \u001b[0momega_p\u001b[0m\u001b[0;34m=\u001b[0m\u001b[0;34m(\u001b[0m\u001b[0;36m1.\u001b[0m\u001b[0;34m,\u001b[0m\u001b[0;36m10.\u001b[0m\u001b[0;34m)\u001b[0m\u001b[0;34m)\u001b[0m\u001b[0;34m\u001b[0m\u001b[0m\n\u001b[0m\u001b[1;32m      2\u001b[0m \u001b[0mdisplay\u001b[0m\u001b[0;34m(\u001b[0m\u001b[0mw\u001b[0m\u001b[0;34m)\u001b[0m\u001b[0;34m\u001b[0m\u001b[0m\n",
        "\u001b[0;31mNameError\u001b[0m: name 'interactive' is not defined"
       ]
      }
     ],
     "prompt_number": 8
    },
    {
     "cell_type": "markdown",
     "metadata": {},
     "source": [
      "Last Update 2/12/15 by K. D. Schultz\n"
     ]
    },
    {
     "cell_type": "code",
     "collapsed": false,
     "input": [],
     "language": "python",
     "metadata": {},
     "outputs": []
    }
   ],
   "metadata": {}
  }
 ]
}