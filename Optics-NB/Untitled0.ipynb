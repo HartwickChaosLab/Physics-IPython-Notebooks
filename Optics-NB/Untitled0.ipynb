{
 "cells": [
  {
   "cell_type": "code",
   "execution_count": 1,
   "metadata": {
    "collapsed": false
   },
   "outputs": [],
   "source": [
    "from sympy import *\n",
    "init_printing()"
   ]
  },
  {
   "cell_type": "code",
   "execution_count": 9,
   "metadata": {
    "collapsed": false
   },
   "outputs": [],
   "source": [
    "f1,f2,d, di,do, f,a,b,c,d = symbols('f1,f2,d di do f a b c d')"
   ]
  },
  {
   "cell_type": "code",
   "execution_count": 3,
   "metadata": {
    "collapsed": false
   },
   "outputs": [],
   "source": [
    "ImageM=Matrix([[1 ,di],[0,1]])\n",
    "ObjM=Matrix([[1,do],[0,1]])\n",
    "Lens1M=Matrix([[1,0],[-1/f1,1]])\n",
    "Lens2M=Matrix([[1,0],[-1/f2,1]])\n",
    "DistM=Matrix([[1,d],[0,1]])"
   ]
  },
  {
   "cell_type": "code",
   "execution_count": 4,
   "metadata": {
    "collapsed": false
   },
   "outputs": [],
   "source": [
    "M=Lens2M*DistM*Lens1M\n"
   ]
  },
  {
   "cell_type": "code",
   "execution_count": 5,
   "metadata": {
    "collapsed": false
   },
   "outputs": [
    {
     "data": {
      "image/png": "[encoded data removed]",
      "text/latex": [
       "$$\\left[\\begin{matrix}- \\frac{d}{f_{1}} + 1 & d\\\\- \\frac{1}{f_{2}} - \\frac{1}{f_{1}} \\left(- \\frac{d}{f_{2}} + 1\\right) & - \\frac{d}{f_{2}} + 1\\end{matrix}\\right]$$"
      ],
      "text/plain": [
       "⎡     d                   ⎤\n",
       "⎢   - ── + 1         d    ⎥\n",
       "⎢     f₁                  ⎥\n",
       "⎢                         ⎥\n",
       "⎢         d               ⎥\n",
       "⎢       - ── + 1          ⎥\n",
       "⎢  1      f₂        d     ⎥\n",
       "⎢- ── - ────────  - ── + 1⎥\n",
       "⎣  f₂      f₁       f₂    ⎦"
      ]
     },
     "execution_count": 5,
     "metadata": {},
     "output_type": "execute_result"
    }
   ],
   "source": [
    "M"
   ]
  },
  {
   "cell_type": "code",
   "execution_count": 8,
   "metadata": {
    "collapsed": false
   },
   "outputs": [],
   "source": [
    "A=M[0,0]\n",
    "B=M[0,1]\n",
    "C=M[1,0]\n",
    "D=M[1,1]"
   ]
  },
  {
   "cell_type": "code",
   "execution_count": 9,
   "metadata": {
    "collapsed": false
   },
   "outputs": [
    {
     "data": {
      "image/png": "[encoded data removed]",
      "text/latex": [
       "$$\\frac{f_{1} f_{2}}{- d + f_{1} + f_{2}}$$"
      ],
      "text/plain": [
       "   f₁⋅f₂    \n",
       "────────────\n",
       "-d + f₁ + f₂"
      ]
     },
     "execution_count": 9,
     "metadata": {},
     "output_type": "execute_result"
    }
   ],
   "source": [
    "Feff=-1/C\n",
    "simplify(Feff)"
   ]
  },
  {
   "cell_type": "code",
   "execution_count": 10,
   "metadata": {
    "collapsed": false
   },
   "outputs": [
    {
     "data": {
      "image/png": "[encoded data removed]",
      "text/latex": [
       "$$\\frac{d f_{1}}{d - f_{1} - f_{2}}$$"
      ],
      "text/plain": [
       "    d⋅f₁   \n",
       "───────────\n",
       "d - f₁ - f₂"
      ]
     },
     "execution_count": 10,
     "metadata": {},
     "output_type": "execute_result"
    }
   ],
   "source": [
    "P1=(1-D)/C\n",
    "simplify(P1)"
   ]
  },
  {
   "cell_type": "code",
   "execution_count": 11,
   "metadata": {
    "collapsed": false
   },
   "outputs": [
    {
     "data": {
      "image/png": "[encoded data removed]",
      "text/latex": [
       "$$\\frac{d f_{2}}{d - f_{1} - f_{2}}$$"
      ],
      "text/plain": [
       "    d⋅f₂   \n",
       "───────────\n",
       "d - f₁ - f₂"
      ]
     },
     "execution_count": 11,
     "metadata": {},
     "output_type": "execute_result"
    }
   ],
   "source": [
    "P2=(1-A)/C\n",
    "simplify(P2)"
   ]
  },
  {
   "cell_type": "code",
   "execution_count": 12,
   "metadata": {
    "collapsed": false
   },
   "outputs": [
    {
     "data": {
      "image/png": "[encoded data removed]",
      "text/latex": [
       "$$\\frac{100}{41}$$"
      ],
      "text/plain": [
       "100\n",
       "───\n",
       " 41"
      ]
     },
     "execution_count": 12,
     "metadata": {},
     "output_type": "execute_result"
    }
   ],
   "source": [
    "Feff.subs([[f1,20],[f2,-25],[d,200]])"
   ]
  },
  {
   "cell_type": "code",
   "execution_count": 17,
   "metadata": {
    "collapsed": false
   },
   "outputs": [
    {
     "data": {
      "image/png": "[encoded data removed]",
      "text/latex": [
       "$$\\frac{800}{41}$$"
      ],
      "text/plain": [
       "800\n",
       "───\n",
       " 41"
      ]
     },
     "execution_count": 17,
     "metadata": {},
     "output_type": "execute_result"
    }
   ],
   "source": [
    "P1.subs([[f1,20],[f2,-25],[d,200]])"
   ]
  },
  {
   "cell_type": "code",
   "execution_count": 18,
   "metadata": {
    "collapsed": false
   },
   "outputs": [
    {
     "data": {
      "image/png": "[encoded data removed]",
      "text/latex": [
       "$$\\begin{bmatrix}\\end{bmatrix}$$"
      ],
      "text/plain": [
       "[]"
      ]
     },
     "execution_count": 18,
     "metadata": {},
     "output_type": "execute_result"
    }
   ],
   "source": [
    "solve(B.subs([[f1,20],[f2,-25],[d,200],[do,40]]),di)"
   ]
  },
  {
   "cell_type": "code",
   "execution_count": 19,
   "metadata": {
    "collapsed": false
   },
   "outputs": [
    {
     "data": {
      "image/png": "[encoded data removed]",
      "text/latex": [
       "$$-9$$"
      ],
      "text/plain": [
       "-9"
      ]
     },
     "execution_count": 19,
     "metadata": {},
     "output_type": "execute_result"
    }
   ],
   "source": [
    "A.subs([[f1,20],[f2,-25],[d,200],[do,40],[di,100]])"
   ]
  },
  {
   "cell_type": "code",
   "execution_count": 11,
   "metadata": {
    "collapsed": false
   },
   "outputs": [
    {
     "data": {
      "image/png": "[encoded data removed]",
      "text/latex": [
       "$$\\left[\\begin{matrix}-1 & 20\\\\- \\frac{3}{10} & 5\\end{matrix}\\right]$$"
      ],
      "text/plain": [
       "⎡ -1    20⎤\n",
       "⎢         ⎥\n",
       "⎣-3/10  5 ⎦"
      ]
     },
     "execution_count": 11,
     "metadata": {},
     "output_type": "execute_result"
    }
   ],
   "source": [
    "M.subs([[f1,10],[f2,-5],[d,20]])"
   ]
  },
  {
   "cell_type": "code",
   "execution_count": 12,
   "metadata": {
    "collapsed": false
   },
   "outputs": [],
   "source": [
    "G=ImageM*M*ObjM"
   ]
  },
  {
   "cell_type": "code",
   "execution_count": 14,
   "metadata": {
    "collapsed": false
   },
   "outputs": [
    {
     "data": {
      "image/png": "[encoded data removed]",
      "text/latex": [
       "$$\\left[\\begin{matrix}- \\frac{3 di}{10} - 1 & - 10 di - 30\\\\- \\frac{3}{10} & -10\\end{matrix}\\right]$$"
      ],
      "text/plain": [
       "⎡  3⋅di                 ⎤\n",
       "⎢- ──── - 1  -10⋅di - 30⎥\n",
       "⎢   10                  ⎥\n",
       "⎢                       ⎥\n",
       "⎣  -3/10         -10    ⎦"
      ]
     },
     "execution_count": 14,
     "metadata": {},
     "output_type": "execute_result"
    }
   ],
   "source": [
    "G.subs([[f1,10],[f2,-5],[d,20],[do,50]])"
   ]
  },
  {
   "cell_type": "code",
   "execution_count": 13,
   "metadata": {
    "collapsed": false
   },
   "outputs": [
    {
     "data": {
      "image/png": "[encoded data removed]",
      "text/latex": [
       "$$\\left[\\begin{matrix}- \\frac{d}{f_{1}} + di \\left(- \\frac{1}{f_{2}} - \\frac{1}{f_{1}} \\left(- \\frac{d}{f_{2}} + 1\\right)\\right) + 1 & d + di \\left(- \\frac{d}{f_{2}} + 1\\right) + do \\left(- \\frac{d}{f_{1}} + di \\left(- \\frac{1}{f_{2}} - \\frac{1}{f_{1}} \\left(- \\frac{d}{f_{2}} + 1\\right)\\right) + 1\\right)\\\\- \\frac{1}{f_{2}} - \\frac{1}{f_{1}} \\left(- \\frac{d}{f_{2}} + 1\\right) & - \\frac{d}{f_{2}} + do \\left(- \\frac{1}{f_{2}} - \\frac{1}{f_{1}} \\left(- \\frac{d}{f_{2}} + 1\\right)\\right) + 1\\end{matrix}\\right]$$"
      ],
      "text/plain": [
       "⎡          ⎛         d     ⎞                             ⎛          ⎛         \n",
       "⎢          ⎜       - ── + 1⎟                             ⎜          ⎜       - \n",
       "⎢  d       ⎜  1      f₂    ⎟             ⎛  d     ⎞      ⎜  d       ⎜  1      \n",
       "⎢- ── + di⋅⎜- ── - ────────⎟ + 1  d + di⋅⎜- ── + 1⎟ + do⋅⎜- ── + di⋅⎜- ── - ──\n",
       "⎢  f₁      ⎝  f₂      f₁   ⎠             ⎝  f₂    ⎠      ⎝  f₁      ⎝  f₂     \n",
       "⎢                                                                             \n",
       "⎢                 d                                     ⎛         d     ⎞     \n",
       "⎢               - ── + 1                                ⎜       - ── + 1⎟     \n",
       "⎢          1      f₂                            d       ⎜  1      f₂    ⎟     \n",
       "⎢        - ── - ────────                      - ── + do⋅⎜- ── - ────────⎟ + 1 \n",
       "⎣          f₂      f₁                           f₂      ⎝  f₂      f₁   ⎠     \n",
       "\n",
       "d     ⎞    ⎞⎤\n",
       "── + 1⎟    ⎟⎥\n",
       "f₂    ⎟    ⎟⎥\n",
       "──────⎟ + 1⎟⎥\n",
       " f₁   ⎠    ⎠⎥\n",
       "            ⎥\n",
       "            ⎥\n",
       "            ⎥\n",
       "            ⎥\n",
       "            ⎥\n",
       "            ⎦"
      ]
     },
     "execution_count": 13,
     "metadata": {},
     "output_type": "execute_result"
    }
   ],
   "source": [
    "G"
   ]
  },
  {
   "cell_type": "code",
   "execution_count": null,
   "metadata": {
    "collapsed": false
   },
   "outputs": [],
   "source": []
  }
 ],
 "metadata": {
  "kernelspec": {
   "display_name": "Python 2",
   "language": "python",
   "name": "python2"
  },
  "language_info": {
   "codemirror_mode": {
    "name": "ipython",
    "version": 2
   },
   "file_extension": ".py",
   "mimetype": "text/x-python",
   "name": "python",
   "nbconvert_exporter": "python",
   "pygments_lexer": "ipython2",
   "version": "2.7.9"
  }
 },
 "nbformat": 4,
 "nbformat_minor": 0
}
