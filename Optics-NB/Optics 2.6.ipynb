{
 "cells": [
  {
   "cell_type": "code",
   "execution_count": 1,
   "metadata": {
    "collapsed": false
   },
   "outputs": [],
   "source": [
    "from sympy import *\n",
    "from sympy.physics.units import *\n",
    "init_printing()\n"
   ]
  },
  {
   "cell_type": "code",
   "execution_count": 2,
   "metadata": {
    "collapsed": false
   },
   "outputs": [],
   "source": [
    "#Set symbols and tell Ipython they are real\n",
    "w = Symbol('omega' ,real=True)\n",
    "wp =Symbol('omega_p', real=True)\n",
    "g =Symbol('gamma', real=True)\n",
    "N= Symbol('N', real=True)"
   ]
  },
  {
   "cell_type": "code",
   "execution_count": 3,
   "metadata": {
    "collapsed": false
   },
   "outputs": [
    {
     "ename": "NameError",
     "evalue": "name 'wp' is not defined",
     "output_type": "error",
     "traceback": [
      "\u001b[0;31m---------------------------------------------------------------------------\u001b[0m",
      "\u001b[0;31mNameError\u001b[0m                                 Traceback (most recent call last)",
      "\u001b[0;32m<ipython-input-3-7c5b0a8a87a4>\u001b[0m in \u001b[0;36m<module>\u001b[0;34m()\u001b[0m\n\u001b[1;32m      1\u001b[0m \u001b[0;31m#check\u001b[0m\u001b[0;34m\u001b[0m\u001b[0;34m\u001b[0m\u001b[0m\n\u001b[0;32m----> 2\u001b[0;31m \u001b[0mwp\u001b[0m\u001b[0;34m.\u001b[0m\u001b[0mis_real\u001b[0m\u001b[0;34m\u001b[0m\u001b[0m\n\u001b[0m",
      "\u001b[0;31mNameError\u001b[0m: name 'wp' is not defined"
     ]
    }
   ],
   "source": [
    "#check\n",
    "wp.is_real"
   ]
  },
  {
   "cell_type": "code",
   "execution_count": 3,
   "metadata": {
    "collapsed": false
   },
   "outputs": [
    {
     "name": "stdout",
     "output_type": "stream",
     "text": [
      "\\chi = -omega_p**2/(I*gamma*omega + omega**2)\n"
     ]
    }
   ],
   "source": [
    "chi=1-wp**2/(I*g*w+w**2)-1\n",
    "print(\"\\chi = %s\") %chi\n",
    "n=sqrt((1+re(chi)+sqrt((1+re(chi))**2+im(chi)**2))/2)\n",
    "kappa=im(chi)/(2*n)"
   ]
  },
  {
   "cell_type": "code",
   "execution_count": 4,
   "metadata": {
    "collapsed": false
   },
   "outputs": [
    {
     "data": {
      "image/png": "[encoded data removed]",
      "text/latex": [
       "$$\\frac{\\gamma \\omega \\omega_{p}^{2}}{2 \\left(\\gamma^{2} \\omega^{2} + \\omega^{4}\\right) \\sqrt{- \\frac{\\omega^{2} \\omega_{p}^{2}}{2 \\gamma^{2} \\omega^{2} + 2 \\omega^{4}} + \\frac{1}{2} \\sqrt{\\frac{\\gamma^{2} \\omega^{2} \\omega_{p}^{4}}{\\left(\\gamma^{2} \\omega^{2} + \\omega^{4}\\right)^{2}} + \\left(- \\frac{\\omega^{2} \\omega_{p}^{2}}{\\gamma^{2} \\omega^{2} + \\omega^{4}} + 1\\right)^{2}} + \\frac{1}{2}}}$$"
      ],
      "text/plain": [
       "                                                    2                         \n",
       "                                             γ⋅ω⋅ω_p                          \n",
       "──────────────────────────────────────────────────────────────────────────────\n",
       "                           ___________________________________________________\n",
       "                          ╱                            _______________________\n",
       "                         ╱                            ╱                       \n",
       "                        ╱                            ╱     2  2    4    ⎛    2\n",
       "                       ╱                            ╱     γ ⋅ω ⋅ω_p     ⎜   ω \n",
       "                      ╱                            ╱    ───────────── + ⎜- ───\n",
       "                     ╱                            ╱                 2   ⎜   2 \n",
       "                    ╱             2    2         ╱      ⎛ 2  2    4⎞    ⎝  γ ⋅\n",
       "  ⎛ 2  2    4⎞     ╱             ω ⋅ω_p        ╲╱       ⎝γ ⋅ω  + ω ⎠          \n",
       "2⋅⎝γ ⋅ω  + ω ⎠⋅   ╱         - ────────────── + ───────────────────────────────\n",
       "                 ╱              ⎛ 2  2    4⎞                         2        \n",
       "               ╲╱             2⋅⎝γ ⋅ω  + ω ⎠                                  \n",
       "\n",
       "                   \n",
       "                   \n",
       "───────────────────\n",
       "___________________\n",
       "______________     \n",
       "            2      \n",
       "    2      ⎞       \n",
       "⋅ω_p       ⎟       \n",
       "─────── + 1⎟       \n",
       " 2    4    ⎟       \n",
       "ω  + ω     ⎠       \n",
       "                 1 \n",
       "────────────── + ─ \n",
       "                 2 \n",
       "                   "
      ]
     },
     "execution_count": 4,
     "metadata": {},
     "output_type": "execute_result"
    }
   ],
   "source": [
    "kappa"
   ]
  },
  {
   "cell_type": "code",
   "execution_count": 62,
   "metadata": {
    "collapsed": false
   },
   "outputs": [],
   "source": []
  },
  {
   "cell_type": "code",
   "execution_count": 98,
   "metadata": {
    "collapsed": false
   },
   "outputs": [
    {
     "data": {
      "image/png": "[encoded data removed]",
      "text/latex": [
       "$$1.51265258750462$$"
      ],
      "text/plain": [
       "1.51265258750462"
      ]
     },
     "execution_count": 98,
     "metadata": {},
     "output_type": "execute_result"
    }
   ],
   "source": [
    "kappa.subs([(g,4e13/seconds),(w,7.5e15/seconds),(wp,1.36e16/seconds)])"
   ]
  },
  {
   "cell_type": "code",
   "execution_count": 99,
   "metadata": {
    "collapsed": false
   },
   "outputs": [
    {
     "data": {
      "image/png": "[encoded data removed]",
      "text/latex": [
       "$$0.0057965885486365$$"
      ],
      "text/plain": [
       "0.00579658854863650"
      ]
     },
     "execution_count": 99,
     "metadata": {},
     "output_type": "execute_result"
    }
   ],
   "source": [
    "n.subs([(g,4e13/seconds),(w,7.5e15/seconds),(wp,1.36e16/seconds)])"
   ]
  },
  {
   "cell_type": "code",
   "execution_count": 91,
   "metadata": {
    "collapsed": false
   },
   "outputs": [
    {
     "data": {
      "image/png": "[encoded data removed]",
      "text/latex": [
       "$$\\frac{\\sqrt{2}}{2 \\sqrt{\\gamma^{2} + \\omega^{2}} \\left\\lvert{\\omega}\\right\\rvert} \\sqrt{\\gamma^{2} \\omega^{2} + \\omega^{4} - \\omega^{2} \\omega_{p}^{2} + \\sqrt{\\gamma^{2} \\omega_{p}^{4} + \\omega^{2} \\left(- \\gamma^{2} - \\omega^{2} + \\omega_{p}^{2}\\right)^{2}} \\left\\lvert{\\omega}\\right\\rvert}$$"
      ],
      "text/plain": [
       "           ___________________________________________________________________\n",
       "          ╱                            __________________________________     \n",
       "         ╱                            ╱                                2      \n",
       "  ___   ╱    2  2    4    2    2     ╱   2    4    2 ⎛   2    2      2⎞       \n",
       "╲╱ 2 ⋅╲╱    γ ⋅ω  + ω  - ω ⋅ω_p  + ╲╱   γ ⋅ω_p  + ω ⋅⎝- γ  - ω  + ω_p ⎠  ⋅│ω│ \n",
       "──────────────────────────────────────────────────────────────────────────────\n",
       "                                   _________                                  \n",
       "                                  ╱  2    2                                   \n",
       "                              2⋅╲╱  γ  + ω  ⋅│ω│                              "
      ]
     },
     "execution_count": 91,
     "metadata": {},
     "output_type": "execute_result"
    }
   ],
   "source": [
    "simplify(n)"
   ]
  },
  {
   "cell_type": "code",
   "execution_count": 95,
   "metadata": {
    "collapsed": false
   },
   "outputs": [
    {
     "data": {
      "image/png": "[encoded data removed]",
      "text/latex": [
       "$$- \\frac{2.1316 \\cdot 10^{32}}{s^{2} \\left(\\frac{1}{s^{2}} 8.8804 \\cdot 10^{30} + \\frac{i}{s^{2}} 1.01022 \\cdot 10^{29}\\right)}$$"
      ],
      "text/plain": [
       "          -2.1316e+32          \n",
       "───────────────────────────────\n",
       " 2 ⎛8.8804e+30   1.01022e+29⋅ⅈ⎞\n",
       "s ⋅⎜────────── + ─────────────⎟\n",
       "   ⎜     2              2     ⎟\n",
       "   ⎝    s              s      ⎠"
      ]
     },
     "execution_count": 95,
     "metadata": {},
     "output_type": "execute_result"
    }
   ],
   "source": [
    "chi.subs([(g,3.39e13/seconds),(w,2.98e15/seconds),(wp,1.46e16/seconds)])"
   ]
  },
  {
   "cell_type": "code",
   "execution_count": 102,
   "metadata": {
    "collapsed": false
   },
   "outputs": [
    {
     "data": {
      "image/png": "[encoded data removed]",
      "text/latex": [
       "$$-3.288084250048$$"
      ],
      "text/plain": [
       "-3.28808425004800"
      ]
     },
     "execution_count": 102,
     "metadata": {},
     "output_type": "execute_result"
    }
   ],
   "source": [
    "re(chi.subs([(g,4e13/seconds),(w,7.5e15/seconds),(wp,1.36e16/seconds)]))"
   ]
  },
  {
   "cell_type": "code",
   "execution_count": null,
   "metadata": {
    "collapsed": false
   },
   "outputs": [],
   "source": []
  }
 ],
 "metadata": {
  "anaconda-cloud": {},
  "kernelspec": {
   "display_name": "Python 2",
   "language": "python",
   "name": "python2"
  },
  "language_info": {
   "codemirror_mode": {
    "name": "ipython",
    "version": 2
   },
   "file_extension": ".py",
   "mimetype": "text/x-python",
   "name": "python",
   "nbconvert_exporter": "python",
   "pygments_lexer": "ipython2",
   "version": "2.7.12"
  }
 },
 "nbformat": 4,
 "nbformat_minor": 0
}
