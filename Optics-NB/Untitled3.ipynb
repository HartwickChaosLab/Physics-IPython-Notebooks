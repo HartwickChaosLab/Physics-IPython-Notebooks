{
 "cells": [
  {
   "cell_type": "code",
   "execution_count": 1,
   "metadata": {
    "collapsed": false
   },
   "outputs": [
    {
     "name": "stdout",
     "output_type": "stream",
     "text": [
      "Populating the interactive namespace from numpy and matplotlib\n"
     ]
    },
    {
     "name": "stderr",
     "output_type": "stream",
     "text": [
      ":0: FutureWarning: IPython widgets are experimental and may change in the future.\n"
     ]
    }
   ],
   "source": [
    "import matplotlib.pyplot as plt\n",
    "#make pretty comments\n",
    "from IPython.display import Latex \n",
    "#in case we want interactivity\n",
    "from IPython.html.widgets import interactive \n",
    "#Make plots show up in notebook\n",
    "%pylab inline --no-import-all \n"
   ]
  },
  {
   "cell_type": "code",
   "execution_count": 3,
   "metadata": {
    "collapsed": true
   },
   "outputs": [],
   "source": [
    "#Import various things for later\n",
    "from scipy import linspace,sqrt, exp,log #linspace allows us to generate linear array between start and stop points\n",
    "import scipy.optimize as optimization #curve fitting\n",
    "from numpy import array\n",
    "#testing goodness of fit\n",
    "from scipy.stats import chi2 \n",
    "from scipy.stats import chisqprob \n",
    "from scipy.special import erf"
   ]
  },
  {
   "cell_type": "code",
   "execution_count": 21,
   "metadata": {
    "collapsed": true
   },
   "outputs": [],
   "source": [
    "position=array([375,360,345,330,315,300,285,270,255,240,225,210,195,180,165,150,135,120,105,90,75])\n",
    "power=array([0.454,0.454,0.454,0.44,0.374,0.284,0.252,0.227,0.206,0.194,0.178,0.155,0.132,0.096,0.075,0.059,0.04,0.013,0.0,-0.007,-0.011])\n",
    "s=10*array([0.001,0.001,0.001,0.001,0.001,0.001,0.001,0.001,0.001,0.001,0.001,0.001,0.001,0.001,0.001,0.001,0.001,0.001,0.001,0.001,0.001])"
   ]
  },
  {
   "cell_type": "code",
   "execution_count": 23,
   "metadata": {
    "collapsed": true
   },
   "outputs": [],
   "source": [
    "#define the fitting function.\n",
    "def func(x,a,b,xo,w):\n",
    "    return a+b/2*(1-erf(-sqrt(2)*(x-xo)/w))"
   ]
  },
  {
   "cell_type": "code",
   "execution_count": 20,
   "metadata": {
    "collapsed": false
   },
   "outputs": [
    {
     "data": {
      "image/png": "[encoded data removed]",
      "text/plain": [
       "<matplotlib.figure.Figure at 0x10843c5d0>"
      ]
     },
     "metadata": {},
     "output_type": "display_data"
    }
   ],
   "source": [
    "def fit_guess(a=1.,b=1,xo=100,w=100):\n",
    "    plt.plot(position,func(position,a,b,xo,w))\n",
    "    plt.plot(position,power,'rx')\n",
    "    \n",
    "w=interactive(fit_guess,a=(-10.,50.,.1), b=(0,20.,.01), x0=(0.01,400.,1),w=(0,500,1))\n",
    "display(w)"
   ]
  },
  {
   "cell_type": "code",
   "execution_count": 25,
   "metadata": {
    "collapsed": false
   },
   "outputs": [
    {
     "name": "stdout",
     "output_type": "stream",
     "text": [
      "a= -0.064175 +/- 0.065295 \n",
      "b= 0.933148 +/- 0.547034 \n",
      "x0= 336.898241 +/- 96.626094 \n",
      "w= 326.511011 +/- 160.198016 \n"
     ]
    },
    {
     "data": {
      "image/png": "[encoded data removed]",
      "text/plain": [
       "<matplotlib.figure.Figure at 0x107ec4ad0>"
      ]
     },
     "metadata": {},
     "output_type": "display_data"
    },
    {
     "name": "stdout",
     "output_type": "stream",
     "text": [
      "Reduced Chi Square=0.000000\n",
      "Probability to obtain a higher Chi Square=1.000000\n"
     ]
    },
    {
     "ename": "NameError",
     "evalue": "name 'py' is not defined",
     "output_type": "error",
     "traceback": [
      "\u001b[0;31m---------------------------------------------------------------------------\u001b[0m",
      "\u001b[0;31mNameError\u001b[0m                                 Traceback (most recent call last)",
      "\u001b[0;32m<ipython-input-25-bdf283521981>\u001b[0m in \u001b[0;36m<module>\u001b[0;34m()\u001b[0m\n\u001b[1;32m     21\u001b[0m \u001b[0;32mprint\u001b[0m \u001b[0;34m\"Probability to obtain a higher Chi Square=%f\"\u001b[0m\u001b[0;34m%\u001b[0m\u001b[0;34m(\u001b[0m\u001b[0mGOF\u001b[0m\u001b[0;34m)\u001b[0m\u001b[0;34m\u001b[0m\u001b[0m\n\u001b[1;32m     22\u001b[0m \u001b[0mfig\u001b[0m \u001b[0;34m=\u001b[0m \u001b[0mplt\u001b[0m\u001b[0;34m.\u001b[0m\u001b[0mgcf\u001b[0m\u001b[0;34m(\u001b[0m\u001b[0;34m)\u001b[0m\u001b[0;34m\u001b[0m\u001b[0m\n\u001b[0;32m---> 23\u001b[0;31m \u001b[0mpy\u001b[0m\u001b[0;34m.\u001b[0m\u001b[0miplot_mpl\u001b[0m\u001b[0;34m(\u001b[0m\u001b[0mfig\u001b[0m\u001b[0;34m)\u001b[0m\u001b[0;34m\u001b[0m\u001b[0m\n\u001b[0m\u001b[1;32m     24\u001b[0m \u001b[0;34m\u001b[0m\u001b[0m\n",
      "\u001b[0;31mNameError\u001b[0m: name 'py' is not defined"
     ]
    },
    {
     "data": {
      "text/plain": [
       "<matplotlib.figure.Figure at 0x108108a10>"
      ]
     },
     "metadata": {},
     "output_type": "display_data"
    }
   ],
   "source": [
    "x0=array([0,0.2,250,173]) #Enter your intial guess here x0={a,b,c}\n",
    "#calls the solver and puts the solution into the array solution, the uncertainties are put into the\n",
    "#array covar. \n",
    "solution,covar= optimization.curve_fit(func,position,power,x0,s)\n",
    "#Fit parameters and uncertainties\n",
    "print \"a= %f +/- %f \" % (solution[0],sqrt(covar[0,0]))\n",
    "print \"b= %f +/- %f \" % (solution[1],sqrt(covar[1,1]))\n",
    "print \"x0= %f +/- %f \" % (solution[2],sqrt(covar[2,2]))\n",
    "print \"w= %f +/- %f \" % (solution[3],sqrt(covar[3,3]))\n",
    "plt.xlabel('position (micrometers)')\n",
    "plt.ylabel('Power (Arb. Units)')\n",
    "plt.errorbar(position, power, fmt = 'rx', yerr =s,label='Data') \n",
    "plt.plot(position,func(position,solution[0],solution[1],solution[2],solution[3]),label='Fit')\n",
    "plt.legend(loc='upper right')\n",
    "plt.show()\n",
    "#Calculate Goodness of fit.\n",
    "chisqr=numpy.sum((power-func(position,solution[0],solution[1],solution[2],solution[3]))/s)**2\n",
    "dof=len(power)-len(x0)\n",
    "GOF = 1. - chi2.cdf(chisqr,dof)\n",
    "print \"Reduced Chi Square=%f\"%(chisqr/dof)\n",
    "print \"Probability to obtain a higher Chi Square=%f\"%(GOF)\n",
    "fig = plt.gcf()\n",
    "py.iplot_mpl(fig)\n",
    "\n"
   ]
  },
  {
   "cell_type": "code",
   "execution_count": null,
   "metadata": {
    "collapsed": true
   },
   "outputs": [],
   "source": []
  }
 ],
 "metadata": {
  "kernelspec": {
   "display_name": "Python 2",
   "language": "python",
   "name": "python2"
  },
  "language_info": {
   "codemirror_mode": {
    "name": "ipython",
    "version": 2
   },
   "file_extension": ".py",
   "mimetype": "text/x-python",
   "name": "python",
   "nbconvert_exporter": "python",
   "pygments_lexer": "ipython2",
   "version": "2.7.9"
  }
 },
 "nbformat": 4,
 "nbformat_minor": 0
}
