{
 "cells": [
  {
   "cell_type": "code",
   "execution_count": null,
   "metadata": {
    "collapsed": false
   },
   "outputs": [],
   "source": [
    "from sympy import *\n",
    "from IPython.display import Latex\n",
    "init_printing()"
   ]
  },
  {
   "cell_type": "markdown",
   "metadata": {},
   "source": [
    "We will look at a two lens system using symbolic python (it's kind of like Mathematica). First define our symbols"
   ]
  },
  {
   "cell_type": "code",
   "execution_count": 2,
   "metadata": {
    "collapsed": false
   },
   "outputs": [],
   "source": [
    "f1,f2,d, di,do, f,a,b,c,d = symbols('f1,f2,d di do f a b c d')"
   ]
  },
  {
   "cell_type": "markdown",
   "metadata": {},
   "source": [
    "Now we are going to define our _ABCD_ matrices. _ImageM_ is the matrix from the image to the last lens. _ObjM_ is the matrix from the object to the first lens. _Lens1M, Lens2M_ describe the thin lenses and _DistM_ is the matrix for the distance d between the matrices."
   ]
  },
  {
   "cell_type": "code",
   "execution_count": 3,
   "metadata": {
    "collapsed": false
   },
   "outputs": [],
   "source": [
    "ImageM=Matrix([[1 ,di],[0,1]])\n",
    "ObjM=Matrix([[1,do],[0,1]])\n",
    "Lens1M=Matrix([[1,0],[-1/f1,1]])\n",
    "Lens2M=Matrix([[1,0],[-1/f2,1]])\n",
    "DistM=Matrix([[1,d],[0,1]])"
   ]
  },
  {
   "cell_type": "markdown",
   "metadata": {},
   "source": [
    "Let's propagate the matrices for the lens system, remembering to order them from last to first seen."
   ]
  },
  {
   "cell_type": "code",
   "execution_count": 8,
   "metadata": {
    "collapsed": false
   },
   "outputs": [
    {
     "data": {
      "image/png": "[encoded data removed]",
      "text/latex": [
       "$$\\left[\\begin{matrix}- \\frac{d}{f_{1}} + 1 & d\\\\- \\frac{1}{f_{2}} - \\frac{1}{f_{1}} \\left(- \\frac{d}{f_{2}} + 1\\right) & - \\frac{d}{f_{2}} + 1\\end{matrix}\\right]$$"
      ],
      "text/plain": [
       "⎡     d                   ⎤\n",
       "⎢   - ── + 1         d    ⎥\n",
       "⎢     f₁                  ⎥\n",
       "⎢                         ⎥\n",
       "⎢         d               ⎥\n",
       "⎢       - ── + 1          ⎥\n",
       "⎢  1      f₂        d     ⎥\n",
       "⎢- ── - ────────  - ── + 1⎥\n",
       "⎣  f₂      f₁       f₂    ⎦"
      ]
     },
     "execution_count": 8,
     "metadata": {},
     "output_type": "execute_result"
    }
   ],
   "source": [
    "M=Lens2M*DistM*Lens1M\n",
    "M"
   ]
  },
  {
   "cell_type": "markdown",
   "metadata": {},
   "source": [
    "Defining the _A,B,C,D_ components of this matrix for later use."
   ]
  },
  {
   "cell_type": "code",
   "execution_count": 9,
   "metadata": {
    "collapsed": false
   },
   "outputs": [],
   "source": [
    "A=M[0,0]\n",
    "B=M[0,1]\n",
    "C=M[1,0]\n",
    "D=M[1,1]"
   ]
  },
  {
   "cell_type": "markdown",
   "metadata": {},
   "source": [
    "Below we find the effective focal length and simplify the answer"
   ]
  },
  {
   "cell_type": "code",
   "execution_count": 11,
   "metadata": {
    "collapsed": false
   },
   "outputs": [
    {
     "data": {
      "image/png": "[encoded data removed]",
      "text/latex": [
       "$$\\frac{f_{1} f_{2}}{- d + f_{1} + f_{2}}$$"
      ],
      "text/plain": [
       "   f₁⋅f₂    \n",
       "────────────\n",
       "-d + f₁ + f₂"
      ]
     },
     "execution_count": 11,
     "metadata": {},
     "output_type": "execute_result"
    }
   ],
   "source": [
    "Feff=-1/C\n",
    "simplify(Feff)"
   ]
  },
  {
   "cell_type": "markdown",
   "metadata": {},
   "source": [
    "And now the principal planes of the system _p1 and p2_"
   ]
  },
  {
   "cell_type": "code",
   "execution_count": 12,
   "metadata": {
    "collapsed": false
   },
   "outputs": [
    {
     "data": {
      "image/png": "[encoded data removed]",
      "text/latex": [
       "$$\\frac{d f_{1}}{d - f_{1} - f_{2}}$$"
      ],
      "text/plain": [
       "    d⋅f₁   \n",
       "───────────\n",
       "d - f₁ - f₂"
      ]
     },
     "execution_count": 12,
     "metadata": {},
     "output_type": "execute_result"
    }
   ],
   "source": [
    "P1=(1-D)/C\n",
    "simplify(P1)"
   ]
  },
  {
   "cell_type": "code",
   "execution_count": 13,
   "metadata": {
    "collapsed": false
   },
   "outputs": [
    {
     "data": {
      "image/png": "[encoded data removed]",
      "text/latex": [
       "$$\\frac{d f_{2}}{d - f_{1} - f_{2}}$$"
      ],
      "text/plain": [
       "    d⋅f₂   \n",
       "───────────\n",
       "d - f₁ - f₂"
      ]
     },
     "execution_count": 13,
     "metadata": {},
     "output_type": "execute_result"
    }
   ],
   "source": [
    "P2=(1-A)/C\n",
    "simplify(P2)"
   ]
  },
  {
   "cell_type": "markdown",
   "metadata": {
    "collapsed": false
   },
   "source": [
    "Now let's make create the combined _ABCD_ matrix that includes the object and image distances, so we can calculate where the image is, _B=0_, and the magnification _A_"
   ]
  },
  {
   "cell_type": "code",
   "execution_count": 14,
   "metadata": {
    "collapsed": false
   },
   "outputs": [
    {
     "data": {
      "image/png": "[encoded data removed]",
      "text/latex": [
       "$$\\left[\\begin{matrix}- \\frac{d}{f_{1}} + di \\left(- \\frac{1}{f_{2}} - \\frac{1}{f_{1}} \\left(- \\frac{d}{f_{2}} + 1\\right)\\right) + 1 & d + di \\left(- \\frac{d}{f_{2}} + 1\\right) + do \\left(- \\frac{d}{f_{1}} + di \\left(- \\frac{1}{f_{2}} - \\frac{1}{f_{1}} \\left(- \\frac{d}{f_{2}} + 1\\right)\\right) + 1\\right)\\\\- \\frac{1}{f_{2}} - \\frac{1}{f_{1}} \\left(- \\frac{d}{f_{2}} + 1\\right) & - \\frac{d}{f_{2}} + do \\left(- \\frac{1}{f_{2}} - \\frac{1}{f_{1}} \\left(- \\frac{d}{f_{2}} + 1\\right)\\right) + 1\\end{matrix}\\right]$$"
      ],
      "text/plain": [
       "⎡          ⎛         d     ⎞                             ⎛          ⎛         \n",
       "⎢          ⎜       - ── + 1⎟                             ⎜          ⎜       - \n",
       "⎢  d       ⎜  1      f₂    ⎟             ⎛  d     ⎞      ⎜  d       ⎜  1      \n",
       "⎢- ── + di⋅⎜- ── - ────────⎟ + 1  d + di⋅⎜- ── + 1⎟ + do⋅⎜- ── + di⋅⎜- ── - ──\n",
       "⎢  f₁      ⎝  f₂      f₁   ⎠             ⎝  f₂    ⎠      ⎝  f₁      ⎝  f₂     \n",
       "⎢                                                                             \n",
       "⎢                 d                                     ⎛         d     ⎞     \n",
       "⎢               - ── + 1                                ⎜       - ── + 1⎟     \n",
       "⎢          1      f₂                            d       ⎜  1      f₂    ⎟     \n",
       "⎢        - ── - ────────                      - ── + do⋅⎜- ── - ────────⎟ + 1 \n",
       "⎣          f₂      f₁                           f₂      ⎝  f₂      f₁   ⎠     \n",
       "\n",
       "d     ⎞    ⎞⎤\n",
       "── + 1⎟    ⎟⎥\n",
       "f₂    ⎟    ⎟⎥\n",
       "──────⎟ + 1⎟⎥\n",
       " f₁   ⎠    ⎠⎥\n",
       "            ⎥\n",
       "            ⎥\n",
       "            ⎥\n",
       "            ⎥\n",
       "            ⎥\n",
       "            ⎦"
      ]
     },
     "execution_count": 14,
     "metadata": {},
     "output_type": "execute_result"
    }
   ],
   "source": [
    "G=ImageM*M*ObjM\n",
    "G"
   ]
  },
  {
   "cell_type": "markdown",
   "metadata": {},
   "source": [
    "OK that's ugly, so we can use the simplify command."
   ]
  },
  {
   "cell_type": "code",
   "execution_count": 20,
   "metadata": {
    "collapsed": false
   },
   "outputs": [
    {
     "data": {
      "image/png": "[encoded data removed]",
      "text/latex": [
       "$$\\left[\\begin{matrix}\\frac{1}{f_{1} f_{2}} \\left(- d f_{2} - di \\left(- d + f_{1} + f_{2}\\right) + f_{1} f_{2}\\right) & \\frac{1}{f_{1} f_{2}} \\left(d f_{1} f_{2} - di f_{1} \\left(d - f_{2}\\right) - do \\left(d f_{2} + di \\left(- d + f_{1} + f_{2}\\right) - f_{1} f_{2}\\right)\\right)\\\\\\frac{1}{f_{1} f_{2}} \\left(d - f_{1} - f_{2}\\right) & \\frac{1}{f_{1} f_{2}} \\left(- d f_{1} - do \\left(- d + f_{1} + f_{2}\\right) + f_{1} f_{2}\\right)\\end{matrix}\\right]$$"
      ],
      "text/plain": [
       "⎡-d⋅f₂ - di⋅(-d + f₁ + f₂) + f₁⋅f₂  d⋅f₁⋅f₂ - di⋅f₁⋅(d - f₂) - do⋅(d⋅f₂ + di⋅(\n",
       "⎢─────────────────────────────────  ──────────────────────────────────────────\n",
       "⎢              f₁⋅f₂                                             f₁⋅f₂        \n",
       "⎢                                                                             \n",
       "⎢           d - f₁ - f₂                            -d⋅f₁ - do⋅(-d + f₁ + f₂) +\n",
       "⎢           ───────────                            ───────────────────────────\n",
       "⎣              f₁⋅f₂                                             f₁⋅f₂        \n",
       "\n",
       "-d + f₁ + f₂) - f₁⋅f₂)⎤\n",
       "──────────────────────⎥\n",
       "                      ⎥\n",
       "                      ⎥\n",
       " f₁⋅f₂                ⎥\n",
       "──────                ⎥\n",
       "                      ⎦"
      ]
     },
     "execution_count": 20,
     "metadata": {},
     "output_type": "execute_result"
    }
   ],
   "source": [
    "simplify(G)"
   ]
  },
  {
   "cell_type": "markdown",
   "metadata": {},
   "source": [
    "To find the image location, requires the bit of the matrix corresponding to _B_ to equal zero. Below we display the _B_ component, otherwise known as _G[0,1]_, with the substitutions $f_1=10, f_2=-5$cm, and $d=5$cm"
   ]
  },
  {
   "cell_type": "code",
   "execution_count": 29,
   "metadata": {
    "collapsed": false
   },
   "outputs": [
    {
     "data": {
      "image/png": "[encoded data removed]",
      "text/latex": [
       "$$2 di + 30$$"
      ],
      "text/plain": [
       "2⋅di + 30"
      ]
     },
     "execution_count": 29,
     "metadata": {},
     "output_type": "execute_result"
    }
   ],
   "source": [
    "G[0,1].subs([[f1,10],[f2,-5],[d,5],[do,50]])"
   ]
  },
  {
   "cell_type": "markdown",
   "metadata": {},
   "source": [
    "It's obvious that $d_i=-15$cm, but I'll show you how to use the `solve` command to find a solution to an equation $f(x)=0$."
   ]
  },
  {
   "cell_type": "code",
   "execution_count": 31,
   "metadata": {
    "collapsed": false
   },
   "outputs": [
    {
     "data": {
      "image/png": "[encoded data removed]",
      "text/latex": [
       "$$\\left [ -15\\right ]$$"
      ],
      "text/plain": [
       "[-15]"
      ]
     },
     "execution_count": 31,
     "metadata": {},
     "output_type": "execute_result"
    }
   ],
   "source": [
    "solve(G[0,1].subs([[f1,10],[f2,-5],[d,5],[do,50]]),di)"
   ]
  },
  {
   "cell_type": "markdown",
   "metadata": {},
   "source": [
    "The magnification is just given by _A_ in the above matrix. So... getting the _A_ component and substituting our values for the focal lengths and other distances."
   ]
  },
  {
   "cell_type": "code",
   "execution_count": 40,
   "metadata": {
    "collapsed": false
   },
   "outputs": [
    {
     "data": {
      "image/png": "[encoded data removed]",
      "text/latex": [
       "$$\\frac{1}{2}$$"
      ],
      "text/plain": [
       "1/2"
      ]
     },
     "execution_count": 40,
     "metadata": {},
     "output_type": "execute_result"
    }
   ],
   "source": [
    "G[0,0].subs([[f1,10],[f2,-5],[d,5],[di,-15]])"
   ]
  },
  {
   "cell_type": "markdown",
   "metadata": {},
   "source": [
    "So, everything is consistent. A negative image distance implies a virtual image, which means we should expect an upright image. BTW if you don't want fractions in python, just put a decimal point after one of the numbers above. For instance, writing $f1=10$."
   ]
  },
  {
   "cell_type": "code",
   "execution_count": 41,
   "metadata": {
    "collapsed": false
   },
   "outputs": [
    {
     "data": {
      "image/png": "[encoded data removed]",
      "text/latex": [
       "$$0.5$$"
      ],
      "text/plain": [
       "0.500000000000000"
      ]
     },
     "execution_count": 41,
     "metadata": {},
     "output_type": "execute_result"
    }
   ],
   "source": [
    "G[0,0].subs([[f1,10.],[f2,-5],[d,5],[di,-15]])"
   ]
  },
  {
   "cell_type": "code",
   "execution_count": null,
   "metadata": {
    "collapsed": true
   },
   "outputs": [],
   "source": []
  }
 ],
 "metadata": {
  "kernelspec": {
   "display_name": "Python 2",
   "language": "python",
   "name": "python2"
  },
  "language_info": {
   "codemirror_mode": {
    "name": "ipython",
    "version": 2
   },
   "file_extension": ".py",
   "mimetype": "text/x-python",
   "name": "python",
   "nbconvert_exporter": "python",
   "pygments_lexer": "ipython2",
   "version": "2.7.12"
  }
 },
 "nbformat": 4,
 "nbformat_minor": 0
}
