{
 "cells": [
  {
   "cell_type": "code",
   "execution_count": 1,
   "metadata": {
    "collapsed": false
   },
   "outputs": [
    {
     "name": "stderr",
     "output_type": "stream",
     "text": [
      "/Users/schultzk/anaconda/lib/python2.7/site-packages/IPython/html.py:14: ShimWarning: The `IPython.html` package has been deprecated. You should import from `notebook` instead. `IPython.html.widgets` has moved to `ipywidgets`.\n",
      "  \"`IPython.html.widgets` has moved to `ipywidgets`.\", ShimWarning)\n",
      "WARNING: "
     ]
    },
    {
     "name": "stdout",
     "output_type": "stream",
     "text": [
      "Populating the interactive namespace from numpy and matplotlib\n"
     ]
    },
    {
     "name": "stderr",
     "output_type": "stream",
     "text": [
      "pylab import has clobbered these variables: ['plt']\n",
      "`%matplotlib` prevents importing * from pylab and numpy\n"
     ]
    }
   ],
   "source": [
    "import sympy as sy\n",
    "import matplotlib as plt\n",
    "from numpy import array, arange, append,linspace,zeros,sign,polyfit,flipud,diff,histogram,exp,pi\n",
    "from IPython.display import Latex \n",
    "#in case we want interactivity\n",
    "from IPython.html.widgets import interactive \n",
    "%pylab inline --no-import-all "
   ]
  },
  {
   "cell_type": "code",
   "execution_count": 2,
   "metadata": {
    "collapsed": false
   },
   "outputs": [
    {
     "data": {
      "text/plain": [
       "(AB, AC, AD, BC, BD, CD, k)"
      ]
     },
     "execution_count": 2,
     "metadata": {},
     "output_type": "execute_result"
    }
   ],
   "source": [
    "#Declare bond lengths. In this case a fully connected 6 bond graph with no loops. And the wave number k \n",
    "# All of this follows the following paper: http://arxiv.org/abs/nlin/0207049\n",
    "\n",
    "sy.var('AB AC AD BC BD CD k')"
   ]
  },
  {
   "cell_type": "code",
   "execution_count": 3,
   "metadata": {
    "collapsed": false
   },
   "outputs": [],
   "source": [
    "\n",
    "C=sy.Matrix([[0,2,2,2],[2,0,2,2],[2,2,0,2],[2,0,2,0]]) #Define the Connectivity Matrix\n",
    "L=sy.Matrix([[0,AB,AC,AD],[AB,0,BC,BD],[AC,BC,0,CD],[AD,BD,CD,0]]) #Define the Metric Matrix"
   ]
  },
  {
   "cell_type": "code",
   "execution_count": 4,
   "metadata": {
    "collapsed": false
   },
   "outputs": [
    {
     "data": {
      "text/plain": [
       "Matrix([\n",
       "[0, 2, 2, 2],\n",
       "[2, 0, 2, 2],\n",
       "[2, 2, 0, 2],\n",
       "[2, 0, 2, 0]])"
      ]
     },
     "execution_count": 4,
     "metadata": {},
     "output_type": "execute_result"
    }
   ],
   "source": [
    "C"
   ]
  },
  {
   "cell_type": "code",
   "execution_count": 5,
   "metadata": {
    "collapsed": false
   },
   "outputs": [],
   "source": [
    "lengths=[(AB,100.8),(AC,88.3),(AD,89.1),(BC,128.3),(BD,66.55),(CD,59.3)] #Define the actual lengths"
   ]
  },
  {
   "cell_type": "code",
   "execution_count": 6,
   "metadata": {
    "collapsed": false
   },
   "outputs": [],
   "source": [
    "#Create the solution matrix. Taking the determinent of this and setting it equal to zero will give us our\n",
    "#Eigenenergies\n",
    "h=sy.zeros(4,4)\n",
    "\n",
    "for i in range(4):\n",
    "    for j in range(4):\n",
    "        if i==j:\n",
    "            for l in range(4):\n",
    "                if l!=i:\n",
    "                    if L[i,l]!=0:\n",
    "                        h[i,j]=h[i,j]-C[i,l]/sy.tan(k*L[i,l])     \n",
    "        else:\n",
    "            if L[i,j]==0:\n",
    "                h[i,j]=0\n",
    "            else:\n",
    "                h[i,j]=C[i,j]/sy.sin(k*L[i,j])"
   ]
  },
  {
   "cell_type": "code",
   "execution_count": 7,
   "metadata": {
    "collapsed": false
   },
   "outputs": [
    {
     "data": {
      "text/plain": [
       "Matrix([\n",
       "[-2/tan(AD*k) - 2/tan(AC*k) - 2/tan(AB*k),                              2/sin(AB*k),                              2/sin(AC*k),                2/sin(AD*k)],\n",
       "[                             2/sin(AB*k), -2/tan(BD*k) - 2/tan(BC*k) - 2/tan(AB*k),                              2/sin(BC*k),                2/sin(BD*k)],\n",
       "[                             2/sin(AC*k),                              2/sin(BC*k), -2/tan(CD*k) - 2/tan(BC*k) - 2/tan(AC*k),                2/sin(CD*k)],\n",
       "[                             2/sin(AD*k),                                        0,                              2/sin(CD*k), -2/tan(CD*k) - 2/tan(AD*k)]])"
      ]
     },
     "execution_count": 7,
     "metadata": {},
     "output_type": "execute_result"
    }
   ],
   "source": [
    "h"
   ]
  },
  {
   "cell_type": "code",
   "execution_count": 8,
   "metadata": {
    "collapsed": false
   },
   "outputs": [
    {
     "name": "stdout",
     "output_type": "stream",
     "text": [
      "16/(tan(AD*k)*tan(BD*k)*tan(CD*k)**2) + 16/(tan(AD*k)*tan(BC*k)*tan(CD*k)**2) + 16/(tan(AD*k)*tan(BC*k)*tan(BD*k)*tan(CD*k)) + 16/(tan(AD*k)*tan(BC*k)**2*tan(CD*k)) + 16/(tan(AD*k)**2*tan(BD*k)*tan(CD*k)) + 16/(tan(AD*k)**2*tan(BC*k)*tan(CD*k)) + 16/(tan(AD*k)**2*tan(BC*k)*tan(BD*k)) + 16/(tan(AD*k)**2*tan(BC*k)**2) + 16/(tan(AC*k)*tan(BD*k)*tan(CD*k)**2) + 16/(tan(AC*k)*tan(BC*k)*tan(CD*k)**2) + 16/(tan(AC*k)*tan(BC*k)*tan(BD*k)*tan(CD*k)) + 16/(tan(AC*k)*tan(BC*k)**2*tan(CD*k)) + 32/(tan(AC*k)*tan(AD*k)*tan(BD*k)*tan(CD*k)) + 32/(tan(AC*k)*tan(AD*k)*tan(BC*k)*tan(CD*k)) + 16/(tan(AC*k)*tan(AD*k)*tan(BC*k)*tan(BD*k)) + 16/(tan(AC*k)*tan(AD*k)*tan(BC*k)**2) + 16/(tan(AC*k)*tan(AD*k)**2*tan(BD*k)) + 16/(tan(AC*k)*tan(AD*k)**2*tan(BC*k)) + 16/(tan(AC*k)**2*tan(BD*k)*tan(CD*k)) + 16/(tan(AC*k)**2*tan(BC*k)*tan(CD*k)) + 16/(tan(AC*k)**2*tan(AD*k)*tan(BD*k)) + 16/(tan(AC*k)**2*tan(AD*k)*tan(BC*k)) + 16/(tan(AB*k)*tan(BD*k)*tan(CD*k)**2) + 16/(tan(AB*k)*tan(BC*k)*tan(CD*k)**2) + 16/(tan(AB*k)*tan(BC*k)*tan(BD*k)*tan(CD*k)) + 16/(tan(AB*k)*tan(BC*k)**2*tan(CD*k)) + 16/(tan(AB*k)*tan(AD*k)*tan(CD*k)**2) + 16/(tan(AB*k)*tan(AD*k)*tan(BD*k)*tan(CD*k)) + 32/(tan(AB*k)*tan(AD*k)*tan(BC*k)*tan(CD*k)) + 16/(tan(AB*k)*tan(AD*k)*tan(BC*k)*tan(BD*k)) + 16/(tan(AB*k)*tan(AD*k)*tan(BC*k)**2) + 16/(tan(AB*k)*tan(AD*k)**2*tan(CD*k)) + 16/(tan(AB*k)*tan(AD*k)**2*tan(BC*k)) + 16/(tan(AB*k)*tan(AC*k)*tan(CD*k)**2) + 16/(tan(AB*k)*tan(AC*k)*tan(BD*k)*tan(CD*k)) + 32/(tan(AB*k)*tan(AC*k)*tan(BC*k)*tan(CD*k)) + 32/(tan(AB*k)*tan(AC*k)*tan(AD*k)*tan(CD*k)) + 16/(tan(AB*k)*tan(AC*k)*tan(AD*k)*tan(BD*k)) + 32/(tan(AB*k)*tan(AC*k)*tan(AD*k)*tan(BC*k)) + 16/(tan(AB*k)*tan(AC*k)*tan(AD*k)**2) + 16/(tan(AB*k)*tan(AC*k)**2*tan(CD*k)) + 16/(tan(AB*k)*tan(AC*k)**2*tan(AD*k)) + 16/(tan(AB*k)**2*tan(CD*k)**2) + 16/(tan(AB*k)**2*tan(BC*k)*tan(CD*k)) + 16/(tan(AB*k)**2*tan(AD*k)*tan(CD*k)) + 16/(tan(AB*k)**2*tan(AD*k)*tan(BC*k)) + 16/(tan(AB*k)**2*tan(AC*k)*tan(CD*k)) + 16/(tan(AB*k)**2*tan(AC*k)*tan(AD*k)) - 16/(sin(CD*k)**2*tan(AD*k)*tan(BD*k)) - 16/(sin(CD*k)**2*tan(AD*k)*tan(BC*k)) - 16/(sin(CD*k)**2*tan(AC*k)*tan(BD*k)) - 16/(sin(CD*k)**2*tan(AC*k)*tan(BC*k)) - 16/(sin(CD*k)**2*tan(AB*k)*tan(BD*k)) - 16/(sin(CD*k)**2*tan(AB*k)*tan(BC*k)) - 16/(sin(CD*k)**2*tan(AB*k)*tan(AD*k)) - 16/(sin(CD*k)**2*tan(AB*k)*tan(AC*k)) - 16/(sin(CD*k)**2*tan(AB*k)**2) - 16/(sin(BC*k)*sin(BD*k)*sin(CD*k)*tan(AD*k)) - 16/(sin(BC*k)*sin(BD*k)*sin(CD*k)*tan(AC*k)) - 16/(sin(BC*k)*sin(BD*k)*sin(CD*k)*tan(AB*k)) - 16/(sin(BC*k)**2*tan(AD*k)*tan(CD*k)) - 16/(sin(BC*k)**2*tan(AD*k)**2) - 16/(sin(BC*k)**2*tan(AC*k)*tan(CD*k)) - 16/(sin(BC*k)**2*tan(AC*k)*tan(AD*k)) - 16/(sin(BC*k)**2*tan(AB*k)*tan(CD*k)) - 16/(sin(BC*k)**2*tan(AB*k)*tan(AD*k)) - 16/(sin(AD*k)**2*tan(BD*k)*tan(CD*k)) - 16/(sin(AD*k)**2*tan(BC*k)*tan(CD*k)) - 16/(sin(AD*k)**2*tan(BC*k)*tan(BD*k)) - 16/(sin(AD*k)**2*tan(BC*k)**2) - 16/(sin(AD*k)**2*tan(AC*k)*tan(BD*k)) - 16/(sin(AD*k)**2*tan(AC*k)*tan(BC*k)) - 16/(sin(AD*k)**2*tan(AB*k)*tan(CD*k)) - 16/(sin(AD*k)**2*tan(AB*k)*tan(BC*k)) - 16/(sin(AD*k)**2*tan(AB*k)*tan(AC*k)) + 16/(sin(AD*k)**2*sin(BC*k)**2) - 32/(sin(AC*k)*sin(AD*k)*sin(CD*k)*tan(BD*k)) - 32/(sin(AC*k)*sin(AD*k)*sin(CD*k)*tan(BC*k)) - 32/(sin(AC*k)*sin(AD*k)*sin(CD*k)*tan(AB*k)) - 16/(sin(AC*k)*sin(AD*k)*sin(BC*k)*sin(BD*k)) - 16/(sin(AC*k)**2*tan(BD*k)*tan(CD*k)) - 16/(sin(AC*k)**2*tan(BC*k)*tan(CD*k)) - 16/(sin(AC*k)**2*tan(AD*k)*tan(BD*k)) - 16/(sin(AC*k)**2*tan(AD*k)*tan(BC*k)) - 16/(sin(AC*k)**2*tan(AB*k)*tan(CD*k)) - 16/(sin(AC*k)**2*tan(AB*k)*tan(AD*k)) - 16/(sin(AB*k)*sin(AD*k)*sin(BD*k)*tan(CD*k)) - 16/(sin(AB*k)*sin(AD*k)*sin(BD*k)*tan(BC*k)) - 16/(sin(AB*k)*sin(AD*k)*sin(BD*k)*tan(AC*k)) - 32/(sin(AB*k)*sin(AD*k)*sin(BC*k)*sin(CD*k)) - 16/(sin(AB*k)*sin(AC*k)*sin(BD*k)*sin(CD*k)) - 32/(sin(AB*k)*sin(AC*k)*sin(BC*k)*tan(CD*k)) - 32/(sin(AB*k)*sin(AC*k)*sin(BC*k)*tan(AD*k)) - 16/(sin(AB*k)**2*tan(CD*k)**2) - 16/(sin(AB*k)**2*tan(BC*k)*tan(CD*k)) - 16/(sin(AB*k)**2*tan(AD*k)*tan(CD*k)) - 16/(sin(AB*k)**2*tan(AD*k)*tan(BC*k)) - 16/(sin(AB*k)**2*tan(AC*k)*tan(CD*k)) - 16/(sin(AB*k)**2*tan(AC*k)*tan(AD*k)) + 16/(sin(AB*k)**2*sin(CD*k)**2)\n"
     ]
    }
   ],
   "source": [
    "p=sy.det(h) #take the determinant and see what it looks like\n",
    "print p"
   ]
  },
  {
   "cell_type": "code",
   "execution_count": 9,
   "metadata": {
    "collapsed": false
   },
   "outputs": [
    {
     "name": "stderr",
     "output_type": "stream",
     "text": [
      "/Users/schultzk/anaconda/lib/python2.7/site-packages/matplotlib/collections.py:590: FutureWarning: elementwise comparison failed; returning scalar instead, but in the future will perform elementwise comparison\n",
      "  if self._edgecolors == str('face'):\n"
     ]
    },
    {
     "data": {
      "image/png": "[encoded data removed]",
      "text/plain": [
       "<matplotlib.figure.Figure at 0x1073b38d0>"
      ]
     },
     "metadata": {},
     "output_type": "display_data"
    },
    {
     "data": {
      "text/plain": [
       "<sympy.plotting.plot.Plot at 0x1073b3a10>"
      ]
     },
     "execution_count": 9,
     "metadata": {},
     "output_type": "execute_result"
    }
   ],
   "source": [
    "# plot to find where first eigenvalue is. \n",
    "sy.plotting.plot(p.subs(lengths),k,(k,1,2),ylim=(-10,10))"
   ]
  },
  {
   "cell_type": "code",
   "execution_count": 10,
   "metadata": {
    "collapsed": false
   },
   "outputs": [],
   "source": [
    "def find_roots(start,stop,step,p):\n",
    "    \"\"\"\n",
    "    start is start of search\n",
    "    stop is stop of search\n",
    "    step is step size of search\n",
    "    p is the determinat of h(k)\n",
    "    \n",
    "    We will localize the zeros by looking for intervals where there is a sign change\n",
    "    \"\"\"\n",
    "    Lp=sy.lambdify(k, p) #make p into an \"array-like\" thing\n",
    "    root=array([],dtype=float) #array to store even solutions \n",
    "    exception=0 #keep track of exceptions, which in this case are poles\n",
    "    inc=arange(start,stop,step) #array of \"x\"s to find solutions\n",
    "\n",
    "            \n",
    "    for i in range(len(inc)-1):\n",
    "   \n",
    "            if Lp(inc[i])*Lp(inc[i+1])<0: #have we bracketed a zero?\n",
    "                \n",
    "                #yes? then find it. I\n",
    "                print inc[i],inc[i+1] #just to keep an eye on things as we go along\n",
    "                try:\n",
    "                    #sy.mpmath.findroot uses an mpf data-type, this is not easily converted as an array\n",
    "                    #so convert to float as we go, so we can use numpy routines later.\n",
    "                    root=append(root,float(sy.mpmath.findroot(Lp, (inc[i], inc[i+1]),tol=0.0000001, solver='anderson')) ) \n",
    "                except ValueError:\n",
    "                    #ValueErrors in this application tend to be places where det(h(k)) blows up. Using the\n",
    "                    #try-except formalism allows us to skip over the poles and go back to finding zeros.\n",
    "                    #\n",
    "                    exception=exception+1\n",
    "                    \n",
    "    print \"nummber of poles %d \" %exception\n",
    "    print \"number of roots %d \"%len(root)\n",
    "    return root\n",
    "                "
   ]
  },
  {
   "cell_type": "code",
   "execution_count": null,
   "metadata": {
    "collapsed": false
   },
   "outputs": [
    {
     "name": "stdout",
     "output_type": "stream",
     "text": [
      "0.0190463 0.0190464\n",
      "0.0208314 0.0208315\n",
      "0.0244862999999 0.0244863999999\n",
      "0.0249347999999"
     ]
    }
   ],
   "source": [
    "sy.dps=30\n",
    "roots=find_roots(.013,10,.0000001,p.subs(lengths)) #this can take a loooong time!"
   ]
  },
  {
   "cell_type": "code",
   "execution_count": 147,
   "metadata": {
    "collapsed": false
   },
   "outputs": [],
   "source": [
    "def RMT_Staircase(eigs):\n",
    "    \"\"\"Takes eigs currently gotten from Quantum Graph Spectrum Generator.ipyn for Quantum Graph Stuff and creates\n",
    "    %staircase. Returns cuml (staircase) and Energy which is used to create\n",
    "    %cuml\n",
    "    %Changed on 3/28/14 to only need eigs, if this doesn't work replace num_eng\n",
    "    %in function and send length(eigs)\n",
    "    \"\"\"\n",
    "    min_eig=min(eigs)\n",
    "    num_eng=len(eigs)\n",
    "    max_eig=max(eigs)\n",
    "    Energy=linspace(min_eig,max_eig,num_eng)\n",
    "    cuml=zeros(len(Energy))\n",
    "    for idx in range(len(Energy)):\n",
    "        for j in range(len(eigs)):\n",
    "            cuml[idx]=cuml[idx]+0.5*(sign(Energy[idx]-eigs[j])+1)\n",
    "\n",
    "    plt.step(Energy,cuml,label='Integrated Density of States')\n",
    "    plt.xlabel('Energy (cm-1)')\n",
    "    plt.legend()\n",
    "    return (Energy, cuml)"
   ]
  },
  {
   "cell_type": "code",
   "execution_count": 148,
   "metadata": {
    "collapsed": false
   },
   "outputs": [
    {
     "data": {
      "image/png": "[encoded data removed]",
      "text/plain": [
       "<matplotlib.figure.Figure at 0x10c542550>"
      ]
     },
     "metadata": {},
     "output_type": "display_data"
    }
   ],
   "source": [
    "Energy, cuml=RMT_Staircase(roots)"
   ]
  },
  {
   "cell_type": "code",
   "execution_count": 149,
   "metadata": {
    "collapsed": false
   },
   "outputs": [
    {
     "name": "stdout",
     "output_type": "stream",
     "text": [
      "[ 142.42116954   -2.0938873 ]\n"
     ]
    }
   ],
   "source": [
    "coeff=polyfit(Energy,cuml,1)\n",
    "print coeff"
   ]
  },
  {
   "cell_type": "code",
   "execution_count": 150,
   "metadata": {
    "collapsed": false
   },
   "outputs": [],
   "source": [
    "def Smooth(coeff,Energy,cuml):\n",
    "    \"\"\"%set up variables dNdE and smooth\n",
    "    %Smooth is an array with the smooth part of staircase function gotten from\n",
    "    %running RMT_Staircase_func.m and fitting to a third order polynomial. \n",
    "    %dNdE is the derivative of the smooth part of staircase and is used in\n",
    "    %unfolding in RMY_NNS.m\n",
    "    \"\"\"\n",
    "\n",
    "    dNdE=zeros(len(Energy))  \n",
    "    smooth=zeros(len(Energy));\n",
    "    order=len(coeff) #get order of fit polynomial should be first, but just in case\n",
    "    coeff=flipud(coeff) #reverse coeff to make it easier to create smooth\n",
    "    for idx in range(len(Energy)):\n",
    "        for jdx in range(len(coeff)):\n",
    "            power=jdx\n",
    "           \n",
    "            smooth[idx]=smooth[idx]+coeff[jdx]*pow(Energy[idx],power)   \n",
    "        \n",
    "    plt.plot(Energy,smooth,label='smooth Integrated Density of states')\n",
    "    plt.plot(Energy,cuml,label='Integrated Density of States')\n",
    "    plt.xlabel('Energy (cm-1)')\n",
    "    plt.legend()\n",
    "    dE=Energy[2]-Energy[1];\n",
    "    dNdE=diff(smooth)/dE\n",
    "    return (dNdE,smooth)"
   ]
  },
  {
   "cell_type": "code",
   "execution_count": 151,
   "metadata": {
    "collapsed": false
   },
   "outputs": [
    {
     "data": {
      "image/png": "[encoded data removed]",
      "text/plain": [
       "<matplotlib.figure.Figure at 0x10c9a9690>"
      ]
     },
     "metadata": {},
     "output_type": "display_data"
    }
   ],
   "source": [
    "dNdE,smooth=Smooth(coeff,Energy,cuml)"
   ]
  },
  {
   "cell_type": "code",
   "execution_count": 152,
   "metadata": {
    "collapsed": false
   },
   "outputs": [],
   "source": [
    "def RMT_NNS(dNdE,eigs,bins):\n",
    "    diffs=zeros(len(eigs))\n",
    "     \n",
    "\n",
    "    diffs=diff(eigs)*dNdE #see Vaa paper\n",
    "\n",
    "    \n",
    "    f,x=histogram(diffs,bins,density=True)\n",
    "    fig, axes = plt.subplots(1, 1)\n",
    "    #t=trapz(x,f)\n",
    "    axes.hist(diffs,bins,normed=1,label=\"Number of states: %d\"%len(eigs)) #%normalize histogram\n",
    "    \n",
    "    axes.plot(x,exp(-x),'r',label=\"Poisson\") #%Poisson stats\n",
    "    axes.plot(x,pi/2.*x*exp(-pi/4*x**2),label=\"GOE\") #%GOE stats\n",
    "    axes.set_xlabel(\"scaled spacing\")\n",
    "    axes.legend()"
   ]
  },
  {
   "cell_type": "code",
   "execution_count": 154,
   "metadata": {
    "collapsed": false
   },
   "outputs": [
    {
     "data": {
      "image/png": "[encoded data removed]",
      "text/plain": [
       "<matplotlib.figure.Figure at 0x10d835c90>"
      ]
     },
     "metadata": {},
     "output_type": "display_data"
    }
   ],
   "source": [
    "RMT_NNS(dNdE,roots,50)"
   ]
  },
  {
   "cell_type": "code",
   "execution_count": 122,
   "metadata": {
    "collapsed": true
   },
   "outputs": [],
   "source": [
    "freqs=roots*343/2/pi"
   ]
  },
  {
   "cell_type": "code",
   "execution_count": 128,
   "metadata": {
    "collapsed": false
   },
   "outputs": [],
   "source": [
    "from numpy import ones"
   ]
  },
  {
   "cell_type": "code",
   "execution_count": 133,
   "metadata": {
    "collapsed": false
   },
   "outputs": [
    {
     "data": {
      "text/plain": [
       "<Container object of 713 artists>"
      ]
     },
     "execution_count": 133,
     "metadata": {},
     "output_type": "execute_result"
    },
    {
     "data": {
      "image/png": "[encoded data removed]",
      "text/plain": [
       "<matplotlib.figure.Figure at 0x10acee190>"
      ]
     },
     "metadata": {},
     "output_type": "display_data"
    }
   ],
   "source": [
    "plt.bar(freqs,roots)"
   ]
  },
  {
   "cell_type": "code",
   "execution_count": 134,
   "metadata": {
    "collapsed": false
   },
   "outputs": [
    {
     "data": {
      "text/plain": [
       "272.87646751040518"
      ]
     },
     "execution_count": 134,
     "metadata": {},
     "output_type": "execute_result"
    }
   ],
   "source": [
    "freqs[-1]"
   ]
  },
  {
   "cell_type": "code",
   "execution_count": 135,
   "metadata": {
    "collapsed": false
   },
   "outputs": [
    {
     "data": {
      "text/plain": [
       "1.0397407188320176"
      ]
     },
     "execution_count": 135,
     "metadata": {},
     "output_type": "execute_result"
    }
   ],
   "source": [
    "freqs[0]"
   ]
  },
  {
   "cell_type": "code",
   "execution_count": 136,
   "metadata": {
    "collapsed": false
   },
   "outputs": [
    {
     "data": {
      "text/plain": [
       "713"
      ]
     },
     "execution_count": 136,
     "metadata": {},
     "output_type": "execute_result"
    }
   ],
   "source": [
    "len(freqs)"
   ]
  },
  {
   "cell_type": "code",
   "execution_count": 144,
   "metadata": {
    "collapsed": false
   },
   "outputs": [],
   "source": [
    "matchingVals = filter(lambda x : x>12 and x<115, freqs)"
   ]
  },
  {
   "cell_type": "code",
   "execution_count": 145,
   "metadata": {
    "collapsed": false
   },
   "outputs": [
    {
     "data": {
      "text/plain": [
       "267"
      ]
     },
     "execution_count": 145,
     "metadata": {},
     "output_type": "execute_result"
    }
   ],
   "source": [
    "len(matchingVals)"
   ]
  },
  {
   "cell_type": "code",
   "execution_count": null,
   "metadata": {
    "collapsed": true
   },
   "outputs": [],
   "source": []
  }
 ],
 "metadata": {
  "kernelspec": {
   "display_name": "Python 2",
   "language": "python",
   "name": "python2"
  },
  "language_info": {
   "codemirror_mode": {
    "name": "ipython",
    "version": 2
   },
   "file_extension": ".py",
   "mimetype": "text/x-python",
   "name": "python",
   "nbconvert_exporter": "python",
   "pygments_lexer": "ipython2",
   "version": "2.7.12"
  }
 },
 "nbformat": 4,
 "nbformat_minor": 0
}
