{
 "cells": [
  {
   "cell_type": "code",
   "execution_count": 1,
   "metadata": {
    "collapsed": false
   },
   "outputs": [
    {
     "name": "stdout",
     "output_type": "stream",
     "text": [
      "Populating the interactive namespace from numpy and matplotlib\n"
     ]
    },
    {
     "name": "stderr",
     "output_type": "stream",
     "text": [
      ":0: FutureWarning: IPython widgets are experimental and may change in the future.\n"
     ]
    }
   ],
   "source": [
    "\n",
    "from numpy import loadtxt, array, sign,zeros,sort, random,polyfit,flipud,diff, histogram, trapz,pi\n",
    "from scipy import linspace,sqrt, exp,log #linspace allows us to generate linear array between start and stop points\n",
    "import scipy.optimize as optimization #curve fitting\n",
    "import matplotlib.pyplot as plt\n",
    "#testing goodness of fit\n",
    "#make pretty comments\n",
    "from IPython.display import Latex \n",
    "#in case we want interactivity\n",
    "from IPython.html.widgets import interactive \n",
    "%pylab inline --no-import-all "
   ]
  },
  {
   "cell_type": "code",
   "execution_count": 2,
   "metadata": {
    "collapsed": false
   },
   "outputs": [],
   "source": [
    "#Make your own eigenvalues with your own statistics\n",
    "eigs=sort(random.uniform(.01,1,1000))"
   ]
  },
  {
   "cell_type": "code",
   "execution_count": 4,
   "metadata": {
    "collapsed": false
   },
   "outputs": [],
   "source": [
    "#Or import them from a file...\n",
    "eigs=sort(numpy.loadtxt('DataAnalysis.csv', dtype= 'float', delimiter=','))"
   ]
  },
  {
   "cell_type": "code",
   "execution_count": 3,
   "metadata": {
    "collapsed": false
   },
   "outputs": [],
   "source": [
    "def RMT_Staircase(eigs):\n",
    "    \"\"\"Takes eigs currently gotten from SAGE for Quantum Graph Stuff and creates\n",
    "    %staircase. Returns cuml (staircase) and Energy which is used to create\n",
    "    %cuml\n",
    "    %Changed on 3/28/14 to only need eigs, if this doesn't work replace num_eng\n",
    "    %in function and send length(eigs)\n",
    "    \"\"\"\n",
    "    min_eig=min(eigs)\n",
    "    num_eng=len(eigs)\n",
    "    max_eig=max(eigs)\n",
    "    Energy=linspace(min_eig,max_eig,num_eng)\n",
    "    cuml=zeros(len(Energy))\n",
    "    for idx in range(len(Energy)):\n",
    "        for j in range(len(eigs)):\n",
    "            cuml[idx]=cuml[idx]+0.5*(sign(Energy[idx]-eigs[j])+1)\n",
    "\n",
    "    plt.step(Energy,cuml)\n",
    "    return (Energy, cuml)"
   ]
  },
  {
   "cell_type": "code",
   "execution_count": 6,
   "metadata": {
    "collapsed": false
   },
   "outputs": [
    {
     "data": {
      "image/png": "[encoded data removed]",
      "text/plain": [
       "<matplotlib.figure.Figure at 0x1071e4c50>"
      ]
     },
     "metadata": {},
     "output_type": "display_data"
    }
   ],
   "source": [
    "Energy,cuml =RMT_Staircase(eigs)"
   ]
  },
  {
   "cell_type": "code",
   "execution_count": 7,
   "metadata": {
    "collapsed": false
   },
   "outputs": [
    {
     "name": "stdout",
     "output_type": "stream",
     "text": [
      "[ 1038.09855566   -20.05088817]\n",
      "[  -20.05088817  1038.09855566]\n"
     ]
    }
   ],
   "source": [
    "coeff=polyfit(Energy,cuml,1)\n",
    "print coeff\n"
   ]
  },
  {
   "cell_type": "code",
   "execution_count": 8,
   "metadata": {
    "collapsed": false
   },
   "outputs": [],
   "source": [
    "def Smooth(coeff,Energy,cuml):\n",
    "    \"\"\"%set up variables dNdE and smooth\n",
    "    %Smooth is an array with the smooth part of staircase function gotten from\n",
    "    %running RMT_Staircase_func.m and fitting to a third order polynomial. \n",
    "    %dNdE is the derivative of the smooth part of staircase and is used in\n",
    "    %unfolding in RMY_NNS.m\n",
    "    \"\"\"\n",
    "\n",
    "    dNdE=zeros(len(Energy))  \n",
    "    smooth=zeros(len(Energy));\n",
    "    order=len(coeff) #get order of fit polynomial should be first, but just in case\n",
    "    coeff=flipud(coeff) #reverse coeff to make it easier to create smooth\n",
    "    for idx in range(len(Energy)):\n",
    "        for jdx in range(len(coeff)):\n",
    "            power=jdx\n",
    "           \n",
    "            smooth[idx]=smooth[idx]+coeff[jdx]*pow(Energy[idx],power)   \n",
    "        \n",
    "    plt.plot(Energy,smooth)\n",
    "    plt.plot(Energy,cuml)\n",
    "\n",
    "    dE=Energy[2]-Energy[1]; #Energy(2) will give the step size\n",
    "    dNdE=diff(smooth)/dE\n",
    "    return (dNdE,smooth)"
   ]
  },
  {
   "cell_type": "code",
   "execution_count": 9,
   "metadata": {
    "collapsed": false
   },
   "outputs": [
    {
     "data": {
      "image/png": "[encoded data removed]",
      "text/plain": [
       "<matplotlib.figure.Figure at 0x10720c290>"
      ]
     },
     "metadata": {},
     "output_type": "display_data"
    }
   ],
   "source": [
    "dNdE,smooth=Smooth(coeff,Energy,cuml)"
   ]
  },
  {
   "cell_type": "code",
   "execution_count": 10,
   "metadata": {
    "collapsed": false
   },
   "outputs": [],
   "source": [
    "def RMT_NNS(dNdE,eigs,bins):\n",
    "    diffs=zeros(len(eigs))\n",
    "     \n",
    "\n",
    "    diffs=diff(eigs)*dNdE #see Vaa paper\n",
    "\n",
    "    \n",
    "    f,x=histogram(diffs,bins,density=True)\n",
    "    #t=trapz(x,f)\n",
    "    plt.hist(diffs,bins,normed=1) #%normalize histogram\n",
    "   \n",
    "    plt.plot(x,exp(-x),'r') #%Poisson stats\n",
    "    plt.plot(x,pi/2.*x*exp(-pi/4*x**2)) #%GOE stats\n",
    "    \n",
    "  \n"
   ]
  },
  {
   "cell_type": "code",
   "execution_count": 11,
   "metadata": {
    "collapsed": false
   },
   "outputs": [
    {
     "data": {
      "image/png": "[encoded data removed]",
      "text/plain": [
       "<matplotlib.figure.Figure at 0x1042ce550>"
      ]
     },
     "metadata": {},
     "output_type": "display_data"
    }
   ],
   "source": [
    "RMT_NNS(dNdE,eigs,50)"
   ]
  },
  {
   "cell_type": "code",
   "execution_count": null,
   "metadata": {
    "collapsed": true
   },
   "outputs": [],
   "source": []
  },
  {
   "cell_type": "code",
   "execution_count": null,
   "metadata": {
    "collapsed": true
   },
   "outputs": [],
   "source": []
  },
  {
   "cell_type": "code",
   "execution_count": 1,
   "metadata": {
    "collapsed": false
   },
   "outputs": [
    {
     "name": "stdout",
     "output_type": "stream",
     "text": [
      "Downloading mathjax source from https://github.com/mathjax/MathJax/archive/2.4.0.tar.gz\n",
      "Extracting to /Users/schultzk/.ipython/nbextensions/mathjax\n"
     ]
    },
    {
     "data": {
      "text/plain": [
       "0"
      ]
     },
     "execution_count": 1,
     "metadata": {},
     "output_type": "execute_result"
    }
   ],
   "source": [
    "from IPython.external import mathjax; mathjax.install_mathjax()"
   ]
  },
  {
   "cell_type": "code",
   "execution_count": null,
   "metadata": {
    "collapsed": true
   },
   "outputs": [],
   "source": []
  }
 ],
 "metadata": {
  "kernelspec": {
   "display_name": "Python 2",
   "language": "python",
   "name": "python2"
  },
  "language_info": {
   "codemirror_mode": {
    "name": "ipython",
    "version": 2
   },
   "file_extension": ".py",
   "mimetype": "text/x-python",
   "name": "python",
   "nbconvert_exporter": "python",
   "pygments_lexer": "ipython2",
   "version": "2.7.10"
  }
 },
 "nbformat": 4,
 "nbformat_minor": 0
}
