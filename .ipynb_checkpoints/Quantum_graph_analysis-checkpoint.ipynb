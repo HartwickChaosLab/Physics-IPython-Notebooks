{
 "cells": [
  {
   "cell_type": "code",
   "execution_count": 18,
   "metadata": {
    "collapsed": false
   },
   "outputs": [
    {
     "name": "stdout",
     "output_type": "stream",
     "text": [
      "Populating the interactive namespace from numpy and matplotlib\n"
     ]
    }
   ],
   "source": [
    "\n",
    "from numpy import array, sign,zeros\n",
    "from scipy import linspace,sqrt, exp,log #linspace allows us to generate linear array between start and stop points\n",
    "import scipy.optimize as optimization #curve fitting\n",
    "import matplotlib.pyplot as plt\n",
    "#testing goodness of fit\n",
    "#make pretty comments\n",
    "from IPython.display import Latex \n",
    "#in case we want interactivity\n",
    "from IPython.html.widgets import interactive \n",
    "%pylab inline --no-import-all "
   ]
  },
  {
   "cell_type": "code",
   "execution_count": 20,
   "metadata": {
    "collapsed": false
   },
   "outputs": [
    {
     "ename": "SyntaxError",
     "evalue": "can't assign to function call (<ipython-input-20-d206598db0e7>, line 15)",
     "output_type": "error",
     "traceback": [
      "\u001b[0;36m  File \u001b[0;32m\"<ipython-input-20-d206598db0e7>\"\u001b[0;36m, line \u001b[0;32m15\u001b[0m\n\u001b[0;31m    cuml(idx)=1\u001b[0m\n\u001b[0;31mSyntaxError\u001b[0m\u001b[0;31m:\u001b[0m can't assign to function call\n"
     ]
    }
   ],
   "source": [
    "def RMT_Staircase_func(eigs):\n",
    "    \"\"\"Takes eigs currently gotten from SAGE for Quantum Graph Stuff and creates\n",
    "    %staircase. Returns cuml (staircase) and Energy which is used to create\n",
    "    %cuml\n",
    "    %Changed on 3/28/14 to only need eigs, if this doesn't work replace num_eng\n",
    "    %in function and send length(eigs)\n",
    "    \"\"\"\n",
    "    min_eig=min(eigs);\n",
    "    num_eng=len(eigs);\n",
    "    max_eig=max(eigs);\n",
    "    Energy=linspace(min_eig,max_eig,num_eng);\n",
    "    cuml=zeros(len(Energy));\n",
    "    for idx in range(len(Energy)):\n",
    "        for j in range(len(eigs)):\n",
    "            cuml(idx)=1\n",
    "\n",
    "    plt.stairs(Energy,cuml)\n",
    "    return (Energy, cuml)"
   ]
  },
  {
   "cell_type": "code",
   "execution_count": 21,
   "metadata": {
    "collapsed": true
   },
   "outputs": [],
   "source": [
    "s=zeros(10)"
   ]
  },
  {
   "cell_type": "code",
   "execution_count": null,
   "metadata": {
    "collapsed": true
   },
   "outputs": [],
   "source": []
  }
 ],
 "metadata": {
  "kernelspec": {
   "display_name": "Python 2",
   "language": "python",
   "name": "python2"
  },
  "language_info": {
   "codemirror_mode": {
    "name": "ipython",
    "version": 2
   },
   "file_extension": ".py",
   "mimetype": "text/x-python",
   "name": "python",
   "nbconvert_exporter": "python",
   "pygments_lexer": "ipython2",
   "version": "2.7.10"
  }
 },
 "nbformat": 4,
 "nbformat_minor": 0
}
