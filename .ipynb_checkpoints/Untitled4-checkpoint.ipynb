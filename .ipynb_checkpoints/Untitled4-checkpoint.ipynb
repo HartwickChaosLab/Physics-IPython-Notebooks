{
 "cells": [
  {
   "cell_type": "code",
   "execution_count": 198,
   "metadata": {
    "collapsed": false
   },
   "outputs": [
    {
     "name": "stdout",
     "output_type": "stream",
     "text": [
      "Populating the interactive namespace from numpy and matplotlib\n"
     ]
    }
   ],
   "source": [
    "import numpy as np\n",
    "import random\n",
    "from scipy import signal\n",
    "from scipy.fftpack import fft\n",
    "from scipy import linspace,sqrt, exp,log #linspace allows us to generate linear array between start and stop points\n",
    "import scipy.optimize as optimization #curve fitting\n",
    "import matplotlib.pyplot as plt\n",
    "#testing goodness of fit\n",
    "from scipy.stats import chi2 \n",
    "from scipy.stats import chisqprob \n",
    "#make pretty comments\n",
    "from IPython.display import Latex \n",
    "#in case we want interactivity\n",
    "from IPython.html.widgets import interactive \n",
    "from IPython.html import widgets\n",
    "%pylab inline --no-import-all \n"
   ]
  },
  {
   "cell_type": "code",
   "execution_count": 424,
   "metadata": {
    "collapsed": false
   },
   "outputs": [],
   "source": [
    "def generate_data(N):\n",
    "    data=np.array([],dtype=float)\n",
    "    data=0.\n",
    "    freq=np.linspace(0,10,500)\n",
    "    width_choice=np.linspace(0.1,1.5)\n",
    "    center=np.random.choice(freq,N)\n",
    "    width=np.random.choice(width_choice,N)\n",
    "    amp=np.random.choice(10,N)\n",
    "    print center, ' ', width, amp\n",
    "    for i in range(N):\n",
    "            data=data+amp[i]*np.exp(-(freq-center[i])**2/width[i]**2)\n",
    "    return (freq,data)"
   ]
  },
  {
   "cell_type": "code",
   "execution_count": 425,
   "metadata": {
    "collapsed": false
   },
   "outputs": [],
   "source": [
    "def _smooth(x, window_len=11, window='hanning'):\n",
    "    \"\"\"\n",
    "    smooth the data using a window of the requested size.\n",
    "    \n",
    "    This method is based on the convolution of a scaled window on the signal.\n",
    "    The signal is prepared by introducing reflected copies of the signal \n",
    "    (with the window size) in both ends so that transient parts are minimized\n",
    "    in the begining and end part of the output signal.\n",
    "    \n",
    "    input:\n",
    "        x: the input signal \n",
    "        window_len: the dimension of the smoothing window; should be an odd \n",
    "            integer\n",
    "        window: the type of window from 'flat', 'hanning', 'hamming', \n",
    "            'bartlett', 'blackman'\n",
    "            flat window will produce a moving average smoothing.\n",
    "\n",
    "    output:\n",
    "        the smoothed signal\n",
    "        \n",
    "    example:\n",
    "\n",
    "    t = linspace(-2,2,0.1)\n",
    "    x = sin(t)+randn(len(t))*0.1\n",
    "    y = _smooth(x)\n",
    "    \n",
    "    see also: \n",
    "    \n",
    "    numpy.hanning, numpy.hamming, numpy.bartlett, numpy.blackman, \n",
    "    numpy.convolve, scipy.signal.lfilter\n",
    " \n",
    "    TODO: the window parameter could be the window itself if a list instead of\n",
    "    a string   \n",
    "    \"\"\"\n",
    "    if x.ndim != 1:\n",
    "        raise ValueError, \"smooth only accepts 1 dimension arrays.\"\n",
    " \n",
    "    if x.size < window_len:\n",
    "        raise ValueError, \"Input vector needs to be bigger than window size.\"\n",
    "    \n",
    "    if window_len<3:\n",
    "        return x\n",
    "    \n",
    "    if not window in ['flat', 'hanning', 'hamming', 'bartlett', 'blackman']:\n",
    "        raise(ValueError,\n",
    "            \"Window is not one of '{0}', '{1}', '{2}', '{3}', '{4}'\".format(\n",
    "            *('flat', 'hanning', 'hamming', 'bartlett', 'blackman')))\n",
    "    \n",
    "    s = np.r_[x[window_len-1:0:-1], x, x[-1:-window_len:-1]]\n",
    "    #print(len(s))\n",
    "    if window == 'flat': #moving average\n",
    "        w = np.ones(window_len,'d')\n",
    "    else:\n",
    "        w = eval('np.' + window + '(window_len)')\n",
    " \n",
    "    y = np.convolve(w / w.sum(), s, mode = 'valid')\n",
    "    return y\n",
    "    "
   ]
  },
  {
   "cell_type": "code",
   "execution_count": 426,
   "metadata": {
    "collapsed": false
   },
   "outputs": [
    {
     "name": "stdout",
     "output_type": "stream",
     "text": [
      "[ 2.4248497   9.81963928  5.39078156  5.65130261  5.41082164]   [ 0.15714286  0.18571429  1.38571429  0.98571429  0.52857143] [4 9 0 6 1]\n"
     ]
    }
   ],
   "source": [
    "freq,spectrum=generate_data(5)\n",
    "\n",
    "index=_smooth(spectrum,5)\n",
    "d=np.diff(index)\n",
    "dd=np.diff(d)\n",
    "v=np.sign(d[:len(freq)])\n",
    "\n",
    "resonances = freq[[np.where((v[:-1]!=v[1:])&(dd[:len(freq)-1]<0))][0]]"
   ]
  },
  {
   "cell_type": "code",
   "execution_count": 427,
   "metadata": {
    "collapsed": false
   },
   "outputs": [],
   "source": [
    "def scan_data(N):\n",
    "    \n",
    "    global freq,spectrum\n",
    "    freq, spectrum=generate_data(N)\n",
    "    index=_smooth(spectrum,5)\n",
    "    d=np.diff(index)\n",
    "    dd=np.diff(d)\n",
    "    v=np.sign(d[:len(freq)])\n",
    "    resonances = freq[[np.where((v[:-1]!=v[1:])&(dd[:len(freq)-1]<0))][0]]\n",
    "    \n",
    "    xmin_slider = widgets.FloatSlider(min=0, max=np.max(freq), step=.01, value=0)\n",
    "    xmax_slider = widgets.FloatSlider(min=0, max=np.max(freq), step=0.001, value=np.max(freq))\n",
    "    #save_slider = widgets.IntSlider(min=0, max=1, value=0)\n",
    "    \n",
    "    def fit_data(xmin,xmax):\n",
    "        print a\n",
    "        fig, axes = plt.subplots(1,1)\n",
    "        axes.plot(freq, index[:len(freq)])\n",
    "        axes.plot(freq,spectrum,'r')\n",
    "        axes.set_xlim(xmin,xmax)\n",
    "        x_index=np.abs(freq-xmin).argmin()\n",
    "        y_index=(np.abs(freq-xmax)).argmin()\n",
    "        fig.text(1, 0.65, 'xmin= %d,  xmax=%d'%( x_index,y_index))\n",
    "        fig.text(1,0.7,np.array_str(resonances))\n",
    "        #print resonances\n",
    "        for i in resonances:\n",
    "            axes.axvline(i)\n",
    "        \n",
    "    \n",
    "    display(interactive(fit_data,xmin=xmin_slider,xmax=xmax_slider))\n",
    "    return (resonances)\n",
    "    "
   ]
  },
  {
   "cell_type": "code",
   "execution_count": 438,
   "metadata": {
    "collapsed": false
   },
   "outputs": [
    {
     "name": "stdout",
     "output_type": "stream",
     "text": [
      "<IPython.html.widgets.widget_float.BoundedFloatText object at 0x10ad73510>\n"
     ]
    },
    {
     "data": {
      "image/png": "[encoded data removed]",
      "text/plain": [
       "<matplotlib.figure.Figure at 0x10bec1950>"
      ]
     },
     "metadata": {},
     "output_type": "display_data"
    }
   ],
   "source": [
    "res=scan_data(4)\n"
   ]
  },
  {
   "cell_type": "code",
   "execution_count": 437,
   "metadata": {
    "collapsed": true
   },
   "outputs": [],
   "source": [
    "def func(x,a,w,N,f):\n",
    "    data=np.array([],dtype=float)\n",
    "    data=0.\n",
    "    for i in range(N):\n",
    "        data=data+a*np.exp(-(x-f[i])**2/w**2)\n",
    "    return(data)"
   ]
  },
  {
   "cell_type": "code",
   "execution_count": 441,
   "metadata": {
    "collapsed": false
   },
   "outputs": [],
   "source": [
    "blah=func(freq,1,.25,4,np.append(res,5))"
   ]
  },
  {
   "cell_type": "code",
   "execution_count": 442,
   "metadata": {
    "collapsed": false
   },
   "outputs": [
    {
     "data": {
      "text/plain": [
       "[<matplotlib.lines.Line2D at 0x10cf15a90>]"
      ]
     },
     "execution_count": 442,
     "metadata": {},
     "output_type": "execute_result"
    },
    {
     "data": {
      "image/png": "[encoded data removed]",
      "text/plain": [
       "<matplotlib.figure.Figure at 0x10d0b6f10>"
      ]
     },
     "metadata": {},
     "output_type": "display_data"
    }
   ],
   "source": [
    "plt.plot(freq,blah)"
   ]
  },
  {
   "cell_type": "code",
   "execution_count": 385,
   "metadata": {
    "collapsed": false
   },
   "outputs": [
    {
     "ename": "NameError",
     "evalue": "name 'number_density' is not defined",
     "output_type": "error",
     "traceback": [
      "\u001b[0;31m---------------------------------------------------------------------------\u001b[0m",
      "\u001b[0;31mNameError\u001b[0m                                 Traceback (most recent call last)",
      "\u001b[0;32m<ipython-input-385-a33f332afc9f>\u001b[0m in \u001b[0;36m<module>\u001b[0;34m()\u001b[0m\n\u001b[1;32m      3\u001b[0m \u001b[0;31m#calls the solver and puts the solution into the array solution, the uncertainties are put into the\u001b[0m\u001b[0;34m\u001b[0m\u001b[0;34m\u001b[0m\u001b[0m\n\u001b[1;32m      4\u001b[0m \u001b[0;31m#array covar.\u001b[0m\u001b[0;34m\u001b[0m\u001b[0;34m\u001b[0m\u001b[0m\n\u001b[0;32m----> 5\u001b[0;31m \u001b[0msolution\u001b[0m\u001b[0;34m,\u001b[0m\u001b[0mcovar\u001b[0m\u001b[0;34m=\u001b[0m \u001b[0moptimization\u001b[0m\u001b[0;34m.\u001b[0m\u001b[0mcurve_fit\u001b[0m\u001b[0;34m(\u001b[0m\u001b[0mfunc\u001b[0m\u001b[0;34m,\u001b[0m\u001b[0mnumber_density\u001b[0m\u001b[0;34m,\u001b[0m\u001b[0mABS\u001b[0m\u001b[0;34m,\u001b[0m\u001b[0mx0\u001b[0m\u001b[0;34m,\u001b[0m\u001b[0ms\u001b[0m\u001b[0;34m)\u001b[0m\u001b[0;34m\u001b[0m\u001b[0m\n\u001b[0m\u001b[1;32m      6\u001b[0m \u001b[0;31m#Fit parameters and uncertainties\u001b[0m\u001b[0;34m\u001b[0m\u001b[0;34m\u001b[0m\u001b[0m\n\u001b[1;32m      7\u001b[0m \u001b[0;32mprint\u001b[0m \u001b[0;34m\"a= %f +/- %f \"\u001b[0m \u001b[0;34m%\u001b[0m \u001b[0;34m(\u001b[0m\u001b[0msolution\u001b[0m\u001b[0;34m[\u001b[0m\u001b[0;36m0\u001b[0m\u001b[0;34m]\u001b[0m\u001b[0;34m,\u001b[0m\u001b[0msqrt\u001b[0m\u001b[0;34m(\u001b[0m\u001b[0mcovar\u001b[0m\u001b[0;34m[\u001b[0m\u001b[0;36m0\u001b[0m\u001b[0;34m,\u001b[0m\u001b[0;36m0\u001b[0m\u001b[0;34m]\u001b[0m\u001b[0;34m)\u001b[0m\u001b[0;34m)\u001b[0m\u001b[0;34m\u001b[0m\u001b[0m\n",
      "\u001b[0;31mNameError\u001b[0m: name 'number_density' is not defined"
     ]
    }
   ],
   "source": [
    "x0=np.array([9.2,9.7,0.8])\n",
    "x0=np.append(x0,res)#Enter your intial guess here x0={a,b,c}\n",
    "#calls the solver and puts the solution into the array solution, the uncertainties are put into the\n",
    "#array covar. \n",
    "solution,covar= optimization.curve_fit(func,freq,ABS,x0,s)\n",
    "#Fit parameters and uncertainties\n",
    "print \"a= %f +/- %f \" % (solution[0],sqrt(covar[0,0]))\n",
    "print \"b= %f +/- %f \" % (solution[1],sqrt(covar[1,1]))\n",
    "print \"c= %f +/- %f \" % (solution[2],sqrt(covar[2,2]))\n",
    "\n",
    "plt.xlabel(r'Number density $10^16 (\\mathrm{m}^{-3})$')\n",
    "plt.ylabel('Absorption (Arb. Units)')\n",
    "plt.errorbar(number_density, ABS, fmt = 'rx', yerr =s,label='Data') \n",
    "plt.plot(number_density,func(number_density,solution[0],solution[1],solution[2]),label='Fit')\n",
    "plt.legend(loc='upper right')\n",
    "plt.show()"
   ]
  },
  {
   "cell_type": "code",
   "execution_count": null,
   "metadata": {
    "collapsed": true
   },
   "outputs": [],
   "source": []
  }
 ],
 "metadata": {
  "kernelspec": {
   "display_name": "Python 2",
   "language": "python",
   "name": "python2"
  },
  "language_info": {
   "codemirror_mode": {
    "name": "ipython",
    "version": 2
   },
   "file_extension": ".py",
   "mimetype": "text/x-python",
   "name": "python",
   "nbconvert_exporter": "python",
   "pygments_lexer": "ipython2",
   "version": "2.7.9"
  }
 },
 "nbformat": 4,
 "nbformat_minor": 0
}
