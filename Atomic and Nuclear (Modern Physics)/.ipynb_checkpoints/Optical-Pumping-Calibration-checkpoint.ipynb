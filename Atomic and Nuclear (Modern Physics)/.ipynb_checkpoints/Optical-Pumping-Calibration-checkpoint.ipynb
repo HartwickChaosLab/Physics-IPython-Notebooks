{
 "cells": [
  {
   "cell_type": "code",
   "execution_count": 1,
   "metadata": {
    "collapsed": false
   },
   "outputs": [
    {
     "name": "stdout",
     "output_type": "stream",
     "text": [
      "Populating the interactive namespace from numpy and matplotlib\n"
     ]
    }
   ],
   "source": [
    "import matplotlib.pyplot as plt\n",
    "#make pretty comments\n",
    "from IPython.display import Latex \n",
    "\n",
    "#Make plots show up in notebook\n",
    "%pylab inline --no-import-all "
   ]
  },
  {
   "cell_type": "code",
   "execution_count": 2,
   "metadata": {
    "collapsed": true
   },
   "outputs": [],
   "source": [
    "#Import various things for later\n",
    "from scipy import linspace,sqrt, exp,log #linspace allows us to generate linear array between start and stop points\n",
    "import scipy.optimize as optimization #curve fitting\n",
    "from numpy import array\n",
    "#testing goodness of fit\n",
    "from scipy.stats import chi2 \n",
    "from scipy.stats import chisqprob "
   ]
  },
  {
   "cell_type": "code",
   "execution_count": 45,
   "metadata": {
    "collapsed": true
   },
   "outputs": [],
   "source": [
    "freq_sweep85=array([.05,.1,.15,.2,.25,.3]) #frequency for sweep calibration\n",
    "I_sweep85=array([0.32683,0.44222,0.55979,0.674415,0.789305,0.90482])\n",
    "s_sweep85=array([0.0025,0.0012,0.0011,0.0015,0.0012,0.0011])\n",
    "freq_sweep87=array([0.05,.1,.15,.20])\n",
    "I_sweep87=array([0.38504,0.55861,0.73190,0.90486])\n",
    "s_sweep87=array([0.0011,0.0010,0.0011,0.0012])"
   ]
  },
  {
   "cell_type": "code",
   "execution_count": 46,
   "metadata": {
    "collapsed": false
   },
   "outputs": [],
   "source": [
    "muh=1.3996 #mu/h in units of MHz/gauss\n",
    "gf85=1./2.\n",
    "gf87=1./3.\n",
    "B_res85=freq_sweep85/gf85/muh\n",
    "B_res87=freq_sweep87/gf87/muh"
   ]
  },
  {
   "cell_type": "markdown",
   "metadata": {},
   "source": [
    "We want B(I), but uncertainties are in I, so solve for I=a+bB and invert so that cal_slope=1/b and cal_intercept=-a/b"
   ]
  },
  {
   "cell_type": "code",
   "execution_count": 47,
   "metadata": {
    "collapsed": true
   },
   "outputs": [],
   "source": [
    "def lin_fit(x, a, b):\n",
    "    return a+b*x #Our linear function."
   ]
  },
  {
   "cell_type": "code",
   "execution_count": 51,
   "metadata": {
    "collapsed": false
   },
   "outputs": [
    {
     "name": "stdout",
     "output_type": "stream",
     "text": [
      "cal_intercept85= -0.131223 +/- 0.000664 \n",
      "cal_slope85b= 0.618644 +/- 0.002025 \n"
     ]
    },
    {
     "data": {
      "image/png": "[encoded data removed]",
      "text/plain": [
       "<matplotlib.figure.Figure at 0x103d714d0>"
      ]
     },
     "metadata": {},
     "output_type": "display_data"
    },
    {
     "name": "stdout",
     "output_type": "stream",
     "text": [
      "Reduced Chi Square=0.009602\n",
      "Probability to obtain a higher Chi Square=0.999818\n"
     ]
    }
   ],
   "source": [
    "x0=array([-10.,1.]) #Intial guess\n",
    "\n",
    "#calls the solver and puts the solution into the array solution, the uncertainties are put into the\n",
    "#array covar. \n",
    "solution,covar= optimization.curve_fit(lin_fit, B_res85, I_sweep85, x0, s_sweep85)\n",
    "cal_slope85=1./solution[1]\n",
    "s_cal_slope85=sqrt((1./solution[1]**2)*covar[1,1])\n",
    "cal_intercept85=-solution[0]/solution[1]\n",
    "s_cal_intercept85= sqrt(((solution[0]/solution[1]**2)**2)*covar[1,1]+((1./solution[1]**2)*covar[0,0]))\n",
    "print \"cal_intercept85= %f +/- %f \" % (cal_intercept85,s_cal_intercept85)\n",
    "print \"cal_slope85b= %f +/- %f \" %(cal_slope85,s_cal_slope85)\n",
    "plt.xlabel('Magnetic field (gauss)')\n",
    "plt.ylabel('Current (amps)')\n",
    "plt.errorbar(B_res85, I_sweep85, fmt = 'rx', yerr =s_sweep85,label='Data') \n",
    "plt.plot(B_res85,lin_fit(B_res85,solution[0],solution[1]),label='Fit')\n",
    "plt.legend(loc='upper right')\n",
    "plt.show()\n",
    "chisqr=numpy.sum((I_sweep85-lin_fit(B_res85,solution[0],solution[1]))/s_sweep85)**2\n",
    "dof=len(I_sweep85)-len(x0)\n",
    "GOF = 1. - chi2.cdf(chisqr,dof)\n",
    "print \"Reduced Chi Square=%f\"%(chisqr/dof)\n",
    "print \"Probability to obtain a higher Chi Square=%f\"%(GOF)\n"
   ]
  },
  {
   "cell_type": "code",
   "execution_count": 53,
   "metadata": {
    "collapsed": false
   },
   "outputs": [
    {
     "name": "stdout",
     "output_type": "stream",
     "text": [
      "cal_intercept87= -0.131069 +/- 0.000180 \n",
      "cal_slope87b= 0.618496 +/- 0.000576 \n"
     ]
    },
    {
     "data": {
      "image/png": "[encoded data removed]",
      "text/plain": [
       "<matplotlib.figure.Figure at 0x106823f90>"
      ]
     },
     "metadata": {},
     "output_type": "display_data"
    },
    {
     "name": "stdout",
     "output_type": "stream",
     "text": [
      "Reduced Chi Square=0.000331\n",
      "Probability to obtain a higher Chi Square=0.999669\n"
     ]
    }
   ],
   "source": [
    "x0=array([-10.,1.]) #Intial guess\n",
    "\n",
    "#calls the solver and puts the solution into the array solution, the uncertainties are put into the\n",
    "#array covar. \n",
    "solution,covar= optimization.curve_fit(lin_fit, B_res87, I_sweep87, x0, s_sweep87)\n",
    "cal_intercept87=-solution[0]/solution[1]\n",
    "s_cal_intercept87= sqrt(((solution[0]/solution[1]**2)**2)*covar[1,1]+((1./solution[1]**2)*covar[0,0]))\n",
    "print \"cal_intercept87= %f +/- %f \" % (cal_intercept87,s_cal_intercept87)\n",
    "print \"cal_slope87b= %f +/- %f \" %(cal_slope87,s_cal_slope87)\n",
    "\n",
    "plt.xlabel('Magnetic field (gauss)')\n",
    "plt.ylabel('Current (amps)')\n",
    "plt.errorbar(B_res87, I_sweep87, fmt = 'rx', yerr =s_sweep87,label='Data') \n",
    "plt.plot(B_res87,lin_fit(B_res87,solution[0],solution[1]),label='Fit')\n",
    "plt.legend(loc='upper right')\n",
    "plt.show()\n",
    "chisqr=numpy.sum((I_sweep87-lin_fit(B_res87,solution[0],solution[1]))/s_sweep87)**2\n",
    "dof=len(I_sweep87)-len(x0)\n",
    "GOF = 1. - chi2.cdf(chisqr,dof)\n",
    "print \"Reduced Chi Square=%f\"%(chisqr/dof)\n",
    "print \"Probability to obtain a higher Chi Square=%f\"%(GOF)"
   ]
  },
  {
   "cell_type": "code",
   "execution_count": 59,
   "metadata": {
    "collapsed": false
   },
   "outputs": [],
   "source": [
    "Sweep_cal_intercept=(cal_intercept85+cal_intercept87)/2\n",
    "s_Sweep_cal_intercept=sqrt(s_cal_intercept85**2+s_cal_intercept87**2)\n",
    "Sweep_cal_slope=(cal_slope85+cal_slope87)/2\n",
    "s_Sweep_cal_slope=sqrt(s_cal_slope85**2+s_cal_slope87**2)"
   ]
  },
  {
   "cell_type": "code",
   "execution_count": 60,
   "metadata": {
    "collapsed": true
   },
   "outputs": [],
   "source": [
    "def B_cal(I,s_I):\n",
    "    B=lin_fit(I,Sweep_cal_intercept,Sweep_cal_slope)\n",
    "    s_B=sqrt(I**2*s_Sweep_cal_slope**2+Sweep_cal_slope**2*s_I**2+s_Sweep_cal_intercept**2)\n",
    "    return (B,s_B)"
   ]
  },
  {
   "cell_type": "code",
   "execution_count": 63,
   "metadata": {
    "collapsed": false
   },
   "outputs": [],
   "source": [
    "I_Sweep_Horz_Cal85=array([0.430115,0.24649,0.16479,0.10695,0.06498,0.032055,0.22337,0.055625])\n",
    "s_I_Sweep_Horz_Cal85=array([0.0012,0.0005,0.0011,0.0011,0.0014,0.0016,.002,0.0018])\n",
    "Sweep_B, s_Sweep_B=B_cal(I_Sweep_Horz_Cal85,s_I_Sweep_Horz_Cal85)"
   ]
  },
  {
   "cell_type": "code",
   "execution_count": 64,
   "metadata": {
    "collapsed": false
   },
   "outputs": [
    {
     "data": {
      "text/plain": [
       "array([ 0.13491026,  0.02132532, -0.02921185, -0.06498995, -0.09095133,\n",
       "       -0.11131775,  0.00702398, -0.09673806])"
      ]
     },
     "execution_count": 64,
     "metadata": {},
     "output_type": "execute_result"
    }
   ],
   "source": [
    "Sweep_B"
   ]
  },
  {
   "cell_type": "code",
   "execution_count": 66,
   "metadata": {
    "collapsed": false
   },
   "outputs": [
    {
     "data": {
      "text/plain": [
       "array([ 0.00135812,  0.00091575,  0.00102811,  0.00099366,  0.00111461,\n",
       "        0.00120739,  0.00149175,  0.0013142 ])"
      ]
     },
     "execution_count": 66,
     "metadata": {},
     "output_type": "execute_result"
    }
   ],
   "source": [
    "s_Sweep_B"
   ]
  },
  {
   "cell_type": "code",
   "execution_count": 68,
   "metadata": {
    "collapsed": false
   },
   "outputs": [],
   "source": [
    "I_Horz_Cal85=array([0.026572,0.047042,0.08556,0.10607,0.12552,0.14438,0.14759,0.17557])\n",
    "s_I_Horz_Cal85=array([2.8e-6,2.8e-6,2.8e-6,2.8e-6,2.8e-6,2.8e-6,2.8e-6,2.8e-6])\n",
    "freq_Horz_Cal85=array([.25,.3,.5,.6,.7,.8,.9,1.0])"
   ]
  },
  {
   "cell_type": "code",
   "execution_count": 70,
   "metadata": {
    "collapsed": false
   },
   "outputs": [],
   "source": [
    "B_res_Horz85=freq_Horz_Cal85/gf85/muh"
   ]
  },
  {
   "cell_type": "code",
   "execution_count": 71,
   "metadata": {
    "collapsed": true
   },
   "outputs": [],
   "source": [
    "B_Horz85=B_res_Horz85-Sweep_B"
   ]
  },
  {
   "cell_type": "code",
   "execution_count": 81,
   "metadata": {
    "collapsed": false
   },
   "outputs": [
    {
     "name": "stdout",
     "output_type": "stream",
     "text": [
      "cal_intercept85= -0.004037 +/- 0.002200 \n",
      "cal_slope85b= 8.719108 +/- 0.019896 \n"
     ]
    },
    {
     "data": {
      "image/png": "[encoded data removed]",
      "text/plain": [
       "<matplotlib.figure.Figure at 0x107354650>"
      ]
     },
     "metadata": {},
     "output_type": "display_data"
    },
    {
     "name": "stdout",
     "output_type": "stream",
     "text": [
      "Reduced Chi Square=0.742664\n",
      "Probability to obtain a higher Chi Square=0.615218\n"
     ]
    }
   ],
   "source": [
    "x0=array([-10.,1.]) #Intial guess\n",
    "\n",
    "#calls the solver and puts the solution into the array solution, the uncertainties are put into the\n",
    "#array covar. \n",
    "solution,covar= optimization.curve_fit(lin_fit, I_Horz_Cal85, B_Horz85, x0, s_Sweep_B)\n",
    "Horz_cal_slope85=solution[1]\n",
    "s_Horz_cal_slope85=sqrt(covar[1,1])\n",
    "Horz_cal_intercept85=solution[0]\n",
    "s_Horz_cal_intercept85= sqrt(covar[0,0])\n",
    "print \"cal_intercept85= %f +/- %f \" % (Horz_cal_intercept85,s_Horz_cal_intercept85)\n",
    "print \"cal_slope85b= %f +/- %f \" %(Horz_cal_slope85,s_Horz_cal_slope85)\n",
    "plt.ylabel('Magnetic field (gauss)')\n",
    "plt.xlabel('Current (amps)')\n",
    "plt.errorbar( I_Horz_Cal85, B_Horz85,fmt = 'rx', yerr =s_Sweep_B,label='Data') \n",
    "plt.plot(I_Horz_Cal85,lin_fit(I_Horz_Cal85,solution[0],solution[1]),label='Fit')\n",
    "plt.legend(loc='upper right')\n",
    "plt.show()\n",
    "chisqr=numpy.sum((B_Horz85-lin_fit(I_Horz_Cal85,solution[0],solution[1]))/s_Sweep_B)**2\n",
    "dof=len(I_Horz_Cal85)-len(x0)\n",
    "GOF = 1. - chi2.cdf(chisqr,dof)\n",
    "print \"Reduced Chi Square=%f\"%(chisqr/dof)\n",
    "print \"Probability to obtain a higher Chi Square=%f\"%(GOF)"
   ]
  },
  {
   "cell_type": "code",
   "execution_count": 82,
   "metadata": {
    "collapsed": true
   },
   "outputs": [],
   "source": [
    "def BR_eqn(S,L,F,J,I,m,B):\n",
    "    A=2.26435e-24 #hyperfine splitting for ground state of Rb87 Steck\n",
    "    Ehfs=A*(I+1./2.)\n",
    "    gJ=1+(J*(J+1)+S(S+1)-L(L+1))/(2*J*(J+1))\n",
    "    gF=gJ*(F*(F+1)-I(I+1)+J(J+1))/(2*F*(F+1))\n",
    "    gI=-0.000995141\n",
    "    x=(gJ-gI)*muB*B/Ehfs\n",
    "    if F-I>0:\n",
    "        Eng=-Ehfs/(2*(2*I+1))+gI*ub*m*B+Ehfs/2*sqrt(1+4*M*x/(2*I+1)+x**2)\n",
    "        "
   ]
  },
  {
   "cell_type": "code",
   "execution_count": 97,
   "metadata": {
    "collapsed": false
   },
   "outputs": [],
   "source": [
    "I=3./2\n",
    "J=1./2\n",
    "S=1./2\n",
    "L=0\n",
    "F=1\n",
    "B=7e-4\n",
    "muB=9.724e-24\n",
    "A=2.26435e-24 #hyperfine splitting for ground state of Rb87 Steck\n",
    "Ehfs=A*(I+1./2.)\n",
    "gJ=1+(J*(J+1)+S*(S+1)-L*(L+1))/(2*J*(J+1))\n",
    "gF=gJ*(F*(F+1)-I*(I+1)+J*(J+1))/(2*F*(F+1))\n",
    "gI=-0.000995141\n",
    "x=(gJ-gI)*muB*B/Ehfs"
   ]
  },
  {
   "cell_type": "code",
   "execution_count": 98,
   "metadata": {
    "collapsed": false
   },
   "outputs": [
    {
     "data": {
      "text/plain": [
       "0.0030075681157415595"
      ]
     },
     "execution_count": 98,
     "metadata": {},
     "output_type": "execute_result"
    }
   ],
   "source": [
    "x"
   ]
  },
  {
   "cell_type": "code",
   "execution_count": null,
   "metadata": {
    "collapsed": true
   },
   "outputs": [],
   "source": []
  }
 ],
 "metadata": {
  "kernelspec": {
   "display_name": "Python 2",
   "language": "python",
   "name": "python2"
  },
  "language_info": {
   "codemirror_mode": {
    "name": "ipython",
    "version": 2
   },
   "file_extension": ".py",
   "mimetype": "text/x-python",
   "name": "python",
   "nbconvert_exporter": "python",
   "pygments_lexer": "ipython2",
   "version": "2.7.10"
  }
 },
 "nbformat": 4,
 "nbformat_minor": 0
}
