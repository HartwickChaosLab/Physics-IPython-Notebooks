{
 "cells": [
  {
   "cell_type": "markdown",
   "metadata": {},
   "source": [
    "#The Finite Square Well Potential\n",
    "\n",
    "One of the most useful potentials to study is the finite square well. While it still has unphysical boundaries that change with infinite slope, its finite depth is a good approximation to many real-life physics problems such as: electrons trapped between layers of semi-conductors and nucleons in an atomic nucleus. We will explore this potential in what follows using, John C. Morrison's book \"[Modern Physics for Scientists and Engineers](http://store.elsevier.com/Modern-Physics/John-Morrison/isbn-9780128007341/)\" as a guide.\n",
    "\n"
   ]
  },
  {
   "cell_type": "markdown",
   "metadata": {},
   "source": [
    "Importing libraries for later use."
   ]
  },
  {
   "cell_type": "code",
   "execution_count": 1,
   "metadata": {
    "collapsed": false
   },
   "outputs": [
    {
     "name": "stdout",
     "output_type": "stream",
     "text": [
      "Populating the interactive namespace from numpy and matplotlib\n"
     ]
    },
    {
     "name": "stderr",
     "output_type": "stream",
     "text": [
      ":0: FutureWarning: IPython widgets are experimental and may change in the future.\n"
     ]
    }
   ],
   "source": [
    "from numpy import linspace, array,zeros,arange,append,nan\n",
    "from scipy import linalg, tan,sqrt, pi,cos,sin,exp\n",
    "from scipy import optimize\n",
    "import matplotlib.pyplot as plt\n",
    "from IPython.display import Latex\n",
    "from IPython.html.widgets import interactive\n",
    "from IPython.html.widgets import FloatSliderWidget, IntSliderWidget\n",
    "%pylab inline --no-import-all"
   ]
  },
  {
   "cell_type": "markdown",
   "metadata": {},
   "source": [
    "\n"
   ]
  },
  {
   "cell_type": "markdown",
   "metadata": {},
   "source": [
    "#Setting up the potential"
   ]
  },
  {
   "cell_type": "code",
   "execution_count": 2,
   "metadata": {
    "collapsed": false
   },
   "outputs": [],
   "source": [
    "def U_sq(x, args):\n",
    "    \"\"\"\n",
    "    finite square well potential\n",
    "    \"\"\"\n",
    "    u=zeros(len(x))\n",
    "    width = args['width']\n",
    "    depth = args['depth']\n",
    "    for i in range(len(x)):\n",
    "        if x[i]<=-width/2 or x[i]>=width/2:\n",
    "            u[i]=Vo\n",
    "        \n",
    "\n",
    "    return u"
   ]
  },
  {
   "cell_type": "markdown",
   "metadata": {},
   "source": [
    "##Filling in the physical parameters.\n",
    "Watch units!"
   ]
  },
  {
   "cell_type": "code",
   "execution_count": 3,
   "metadata": {
    "collapsed": false
   },
   "outputs": [],
   "source": [
    "L=10 #well width in nm\n",
    "Vo=1 #Well depth in eV\n",
    "m=.067 #mass in electron masses\n",
    "\n",
    "args = {'width': L, 'depth': Vo}\n",
    "x=linspace(-2*L/2, 2*L/2,400)\n",
    "U=U_sq(x,args)\n"
   ]
  },
  {
   "cell_type": "markdown",
   "metadata": {},
   "source": [
    "##Plotting the potential"
   ]
  },
  {
   "cell_type": "code",
   "execution_count": 4,
   "metadata": {
    "collapsed": false
   },
   "outputs": [
    {
     "data": {
      "image/png": "[encoded data removed]",
      "text/plain": [
       "<matplotlib.figure.Figure at 0x1070dd3d0>"
      ]
     },
     "metadata": {},
     "output_type": "display_data"
    }
   ],
   "source": [
    "fig, ax=plt.subplots()\n",
    "\n",
    "ax.plot(x,U)\n",
    "\n",
    "ax.set_ylim(-.1,Vo*1.2)\n",
    "ax.set_xlabel(r'$x$', fontsize=18)\n",
    "ax.set_ylabel(r'$U(x)$', fontsize=18);"
   ]
  },
  {
   "cell_type": "markdown",
   "metadata": {},
   "source": [
    "# Theory\n",
    "\n",
    "Above we see what the potential looks like. Pretty much like we promised--square and finite. As we will see, the depth and width of this potential will tell us how many solutions we can expect.\n",
    "\n",
    "As we do for potentials, we find solutions inside and outside the potential and we \"stitch\" the answers together via the boundary conditions.\n",
    "\n",
    "The Schrodinger Equation for inside of the well, where $V(x)=0$ is given by\n",
    "\n",
    "$$\n",
    "-\\frac{\\hbar^2}{2m}\\frac{d^2\\psi}{dx^2}=E\\psi \\text{ for } -L/2\\leq x\\leq L/2.\n",
    "$$\n",
    "\n",
    "We can simplify the notation by introducing the wavenumber $k=\\sqrt{\\frac{2mE}{\\hbar^2}}$ and Schrodinger's Equation becomes\n",
    "\n",
    "$$\n",
    "\\frac{d^2\\psi}{dx^2}+k^2\\psi=0\n",
    "$$\n",
    "\n",
    "Outside the well, where $V(x)=V_o$, we have:\n",
    "\n",
    "$$\n",
    "\\frac{\\hbar^2}{2m}\\frac{d^2\\psi}{dx^2}+V_o\\psi=E\\psi, \\text{ for } |x| \\geq L/2 \n",
    "$$\n",
    "\n",
    "We can once again make a simplification by introducing the decay constant (the reason for this identifcation will become clear later) $$\\kappa=\\left(\\frac{2m(V_o-E}{\\hbar^2}\\right)^{1/2}$$ In the range of $x$ we are considering in this part of the derivation, $V_o-E$ is always positive and $\\kappa$ is real. Schrodinger's Equation becomes\n",
    "$$ \\frac{d^2\\psi}{dx^2}-k^2\\psi=0$$\n",
    "\n",
    "For now we will only consider the bound solutions, so for the region inside of the well, we can see by inspection that the solutions separate into even and odd solutions. That is solutions that obey even and odd symmetry across $x=0$ (If we had shifted the well with respect to the origin, we would have gotten the same energies, but the solutions wouldn't be separated so nicely).\n",
    "\n",
    "##Even solutions\n",
    "\n",
    "By inspection we see that a bound solution to the Schrodinger Equation inside of the well is\n",
    "$$ \\psi(x)=A\\cos(kx), -L/2 \\leq x \\leq L/2$$\n",
    "\n",
    "and the solution outside of the well is\n",
    "\n",
    "$$\\psi(x)=B e^{\\mp\\kappa x}$$ where the minus sign is for $x>L/2$ and the plus sign is for $x<L/2$. These choices of sign will ensure we can normalize the final wavefunction.\n",
    "\n",
    "We now use the boundary conditions to get the energies of the bound states. \n",
    "\n",
    "The wavefunction needs to be continuous at $x=L/2$ which leads to:\n",
    "$$ A\\cos(kL/2)=Be^{-\\kappa L/2}$$\n",
    "\n",
    "The first derivative of the wavefunction also needs to be continuous at $x=L/2$\n",
    "$$ -Ak\\sin(kL/2)=-B\\kappa e^{-\\kappa L/2}$$\n",
    "\n",
    "Dividing these two equations will eliminate the constants and we get\n",
    "\n",
    "$$\\tan(kL/2)=\\frac{\\kappa}{k}$$\n",
    "\n",
    "Replacing $\\kappa$ on the RHS\n",
    "\n",
    "$$\\tan(kL/2)=\\sqrt{\\frac{2mV_o}{\\hbar^2 k^2}-\\frac{2mE}{\\hbar^2 k^2}}$$\n",
    "\n",
    "and now replacing $k$ on the RHS\n",
    "\n",
    "$$\\tan(kL/2)=\\sqrt{\\frac{2mV_o}{\\hbar^2 k^2}-1}$$\n",
    "\n",
    "We now want to solve for $k$ to get the energy, however, this is a trancedental equation and can't be solved explicitly! So let's make two changes of variable to make the notation simpler. $\\theta=kL/2$ and $\\theta_0=\\frac{mV_oL^2}{2\\hbar^2}$ With that the trancedental equation becomes:\n",
    "\n",
    "$$\\tan\\theta=\\sqrt{\\frac{\\theta_o^2}{\\theta^2}-1}$$\n",
    "\n",
    "We will solve this in two ways: 1) plotting the LHS of the above equation and the RHS of the equation as functions of $\\theta$. Where these cross are the solutions we are looking for.\n",
    "\n",
    "##Odd solutions\n",
    "Before continuing, let us state the odd solutions inside of the well.\n",
    "$$ \\psi(x)=A\\sin(kx), -L/2 \\leq x \\leq L/2$$\n",
    "The solutions outside of the well are similar and imposing the boundary conditions as before leads to the following trancedental equation:\n",
    "$$-\\cot\\theta=\\sqrt{\\frac{\\theta_o^2}{\\theta^2}-1}$$\n",
    "\n",
    "\n",
    "\n",
    "\n"
   ]
  },
  {
   "cell_type": "code",
   "execution_count": 5,
   "metadata": {
    "collapsed": true
   },
   "outputs": [],
   "source": [
    "#Given our physical parameters above, calculate theta_o\n",
    "theta0=sqrt(m*9.31e-31*Vo*L*L/(2*(6.58e-16)**2*1e18*1.6e-19))"
   ]
  },
  {
   "cell_type": "markdown",
   "metadata": {},
   "source": [
    "#Graphical Method\n",
    "\n",
    "As was written above, a fairly quick way on a computer to solve for $\\theta$ is to plot the LHS and the RHS of the solutions on the same graph. Where the graphs intersect are solutions to the problem. By zooming in on the graph, it is easy to get a fairly quick and accurate set of solutions."
   ]
  },
  {
   "cell_type": "code",
   "execution_count": 6,
   "metadata": {
    "collapsed": false
   },
   "outputs": [],
   "source": [
    "def squareWellGraphicalSolution(t0=theta0):\n",
    "    \"\"\"\n",
    "    \n",
    "    \"\"\"\n",
    "    utol=10        #utol and ltol are upper and lower limits to avoid the discontinuities\n",
    "    ltol=-10       #of tan and cot\n",
    "    \n",
    "    theta=linspace(0.001,1.05*t0,400)\n",
    "    \n",
    "    fig, axes = plt.subplots(1, 1)\n",
    "    y1=tan(theta)\n",
    "    y2=-1/tan(theta)\n",
    "   \n",
    "    y=sqrt((t0/theta)**2-1)\n",
    "    #replace all numbers greater or less than utol and ltol with NotANumber(nan) so \n",
    "    #they don't show up in the graph\n",
    "    y2[y2>utol] = nan\n",
    "    y2[y2<ltol] = -nan\n",
    "    y1[y1>utol] = nan\n",
    "    y1[y1<ltol] = -nan\n",
    "    y[y>utol] = nan\n",
    "    y[y<ltol] = -nan\n",
    "    \n",
    "    axes.plot(theta,y,label=r'$\\sqrt{\\frac{\\theta_0^2}{\\theta^2}-1}$')\n",
    "    axes.axvline(t0)\n",
    "    axes.plot(theta,y1,label='Even')\n",
    "    axes.plot(theta,y2,label='Odd')\n",
    "    axes.legend()\n",
    "    axes.set_ylim(-1,10)\n",
    "    return theta0"
   ]
  },
  {
   "cell_type": "markdown",
   "metadata": {},
   "source": [
    "Below you can change the slider to different values of $\\theta_o$. One thing to notice is that no matter how small $\\theta_o$ there is always one even, bound solution. There does not have to be an odd solution as well. What does it mean to decrease $\\theta_o$? $\\theta_o$ gets smaller when the well gets shallower ($V_o$ decreases) or narrower ($L$ decreases). As $\\theta_o$ gets smaller fewer and fewer states exist, but as we wrote, there is always one that remains no matter how small $\\theta_o$ gets."
   ]
  },
  {
   "cell_type": "code",
   "execution_count": 7,
   "metadata": {
    "collapsed": false
   },
   "outputs": [
    {
     "name": "stderr",
     "output_type": "stream",
     "text": [
      "/anaconda/lib/python2.7/site-packages/IPython/kernel/__main__.py:18: RuntimeWarning: invalid value encountered in less\n",
      "/anaconda/lib/python2.7/site-packages/IPython/kernel/__main__.py:20: RuntimeWarning: invalid value encountered in less\n",
      "//anaconda/lib/python2.7/site-packages/numpy/core/numeric.py:462: ComplexWarning: Casting complex values to real discards the imaginary part\n",
      "  return array(a, dtype, copy=False, order=order)\n"
     ]
    },
    {
     "data": {
      "image/png": "[encoded data removed]",
      "text/plain": [
       "<matplotlib.figure.Figure at 0x1071e4c50>"
      ]
     },
     "metadata": {},
     "output_type": "display_data"
    }
   ],
   "source": [
    "y=interactive(squareWellGraphicalSolution,theta0=(.01,10))\n",
    "display(y)\n"
   ]
  },
  {
   "cell_type": "markdown",
   "metadata": {},
   "source": [
    "#Numerical Solution\n",
    "\n",
    "The graphical method has a lot going for it, but since we are using a computer already to plot solutions, we may as well use the computer to find numerical solutions. The procedure is as follows: define two functions that correspond to the even and odd solutions as follows.\n",
    "\n",
    "$$y(\\theta)=\\tan(kL/2)-\\sqrt{\\frac{2mV_o}{\\hbar^2 k^2}-1}=0$$\n",
    "\n",
    "where we brought everything over to one side. The goal is to now find where the zero crossings fo this function are and those are our solutions. Scipy as a lot of built in routines for doing this, so we do not need to reinvent the wheel. We will be using the [optimize.brentq](http://docs.scipy.org/doc/scipy-0.15.1/reference/generated/scipy.optimize.brentq.html) algorithm which is a stable and accurate algorithm for finding zeros. The only problem that we have is that we need to know roughly where the zeros are. The function requires two values that bracket the zero. But we don't know where the zeros are! We get around this problem by picking a $\\theta$ and calculating $y(\\theta)$, then increase $\\theta$ by a little and calculate $y(\\theta+step)$. Multiply these two together. If the product is positive, then the two $\\theta$s are on the same side of the zero. If their product is negative, then we know we have bracketed the zero and we can send $\\theta$ and $\\theta+step$ to the brentq algorithm."
   ]
  },
  {
   "cell_type": "code",
   "execution_count": 8,
   "metadata": {
    "collapsed": false
   },
   "outputs": [],
   "source": [
    "#define our difference equations for the even and odd solutions\n",
    "def even_sol(x,theta0):\n",
    "    #theta0=5.71\n",
    "    y1=tan(x)   \n",
    "    \n",
    "    y=sqrt((theta0/x)**2-1)\n",
    "    return(y-y1)\n",
    "def odd_sol(x,theta0):\n",
    "    #theta0=5.71 \n",
    "    y2=-1/tan(x)\n",
    "    y=sqrt((theta0/x)**2-1)\n",
    "    return(y-y2)"
   ]
  },
  {
   "cell_type": "code",
   "execution_count": 9,
   "metadata": {
    "collapsed": false
   },
   "outputs": [],
   "source": [
    "def sqWellSol(theta0,step):\n",
    "    \n",
    "    esol=array([],dtype=float) #array to store even solutions \n",
    "    osol=array([],dtype=float)  #array to store odd solutions\n",
    "    inc=arange(step,theta0,step) #array of \"x\"s to find solutions\n",
    "    \n",
    "    even=True #We know even and odd solutions alternate starting with the evens so switch even \n",
    "                #flag to False after an even solution is found so routine knows to next search\n",
    "                #for odd solutions, then repeat.\n",
    "            \n",
    "    for i in range(len(inc)-1):\n",
    "        if even==True:\n",
    "            if even_sol(inc[i],theta0)*even_sol(inc[i+1],theta0)<0: #have we bracketed a zero?\n",
    "                \n",
    "                #yes? then find it. Important! optimize.brentq expects the function it is finding\n",
    "                #the zero of to only take \"x\" values, anything else, like theta0 gets sent in\n",
    "                #as args.\n",
    "                                                                            \n",
    "                esol=append(esol,optimize.brentq(even_sol,inc[i],inc[i+1],args=theta0) ) \n",
    "                even=False\n",
    "        if even==False:\n",
    "            if odd_sol(inc[i],theta0)*odd_sol(inc[i+1],theta0)<0:\n",
    "                \n",
    "                \n",
    "                osol=append(osol,optimize.brentq(odd_sol,inc[i],inc[i+1],args=theta0))\n",
    "                \n",
    "                even=True\n",
    "    \n",
    "\n",
    "    return esol,osol\n",
    "\n"
   ]
  },
  {
   "cell_type": "markdown",
   "metadata": {},
   "source": [
    "#Wave functions\n",
    "\n",
    "Now that we have the energy solutions we can stitch together the wave function solutions. We are not going to normalize the solutions for our purposes, but we will use the boundary conditions to correctly stitch the solutions together.\n"
   ]
  },
  {
   "cell_type": "code",
   "execution_count": 10,
   "metadata": {
    "collapsed": false
   },
   "outputs": [],
   "source": [
    "etheta,otheta=sqWellSol(theta0,.1) #calling the zeros with a step size of 0.1, which is adequate \n",
    "                                    # for most theta0, perhaps a deep or broad well would\n",
    "                                    #have so many states a finer step size would be required\n",
    "\n",
    "#Converting theta solutions into wavenumbers, decay constants, and Energies\n",
    "\n",
    "ek=etheta*2./L # even k in nm^-1 \n",
    "ok=otheta*2/L #odd k in nm^-1\n",
    "ekap=2*etheta/L*tan(etheta) #even kappa in nm^-1\n",
    "okap=abs(2*otheta/L*tan(otheta)) #odd kappa in nm^-1\n",
    "e_eng=2*(1.05457173e-34)**2*etheta**2/(m*9.31e-31*(L*1e-9)**2)/1.6e-19 #even energy in eV\n",
    "o_eng=2*(1.05457173e-34)**2*otheta**2/(m*9.31e-31*(L*1e-9)**2)/1.6e-19 #odd energy in eV\n"
   ]
  },
  {
   "cell_type": "code",
   "execution_count": 11,
   "metadata": {
    "collapsed": false
   },
   "outputs": [],
   "source": [
    "#stitching the wave functions together\n",
    "\n",
    "def even_wave(x,Vo,ek,ekap,L):\n",
    "    A=Vo/20. #arbitrary value of integration constant A to make fit on the graph\n",
    "    B=A*(cos(ek*L/2))/exp(-ekap*L/2) #Getting the right B to make the solutions join up\n",
    "    \n",
    "    wave=zeros(len(x))\n",
    "    for i in range(len(x)):\n",
    "        if x[i]<=-L/2:\n",
    "            wave[i]=B*exp(ekap*x[i])\n",
    "        elif x[i]>=L/2:\n",
    "            wave[i]=B*exp(-ekap*x[i])\n",
    "        else:\n",
    "            wave[i]=A*cos(ek*x[i])\n",
    "    return wave\n",
    "\n",
    "def odd_wave(x,Vo,ok,okap,L):\n",
    "    A=Vo/20. #arbitrary value of integration constant A to make fit on the graph\n",
    "    B=A*(sin(ok*L/2))/exp(-okap*L/2) #Getting the right B to make the solutions join up\n",
    "    \n",
    "    wave=zeros(len(x))\n",
    "    for i in range(len(x)):\n",
    "        if x[i]<=-L/2:\n",
    "            wave[i]=B*exp(okap*x[i])\n",
    "        elif x[i]>=L/2:\n",
    "            wave[i]=-B*exp(-okap*x[i])\n",
    "        else:\n",
    "            wave[i]=-A*sin(ok*x[i])\n",
    "    return wave"
   ]
  },
  {
   "cell_type": "markdown",
   "metadata": {},
   "source": [
    "#Plotting it all\n",
    "Below we plot the wavefunctions offset by their energy, so we can see how the wavefunctions change as a function of energy. As in the infinite square well and all bound states, the higher the energy the more oscillitory the wavefunction. We also can see why we called $\\kappa$ the decay constant. Classically a particle can't exist in regions where $E-V_o<0$, however a wave can, but the probability has to decay away pretty quickly. This behavior is analogous to evanescent waves in optics http://nbviewer.ipython.org/github/HartwickChaosLab/Physics-IPython-Notebooks/blob/master/Optics-NB/Fresnel-Relations.ipynb\n",
    "\n",
    "The higher the energy of the particle the more it can penetrate into the \"forbidden\" region. Also as in optics, if we placed another quantum well close to the first, the possibility of tunneling occurs and a particle can get across the forbidden energy barrier. Applications of this using a finite square well include [multiple quantum well lasers](http://www.tf.uni-kiel.de/matwis/amat/semi_en/kap_5/backbone/r5_4_1.html) and in the [Kroenig-Penny Model](https://en.wikipedia.org/wiki/Particle_in_a_one-dimensional_lattice#Kronig.E2.80.93Penney_model) of conduction in metals. [Tunneling](https://en.wikipedia.org/wiki/Quantum_tunnelling) is also important in [Scanning Tunneling Microscopes](https://en.wikipedia.org/wiki/Scanning_tunneling_microscope), [in radioactive decay](https://en.wikipedia.org/wiki/Radioactive_decay) and [tunnel diodes](https://en.wikipedia.org/wiki/Tunnel_diode) to name just a few."
   ]
  },
  {
   "cell_type": "code",
   "execution_count": 12,
   "metadata": {
    "collapsed": false
   },
   "outputs": [
    {
     "data": {
      "image/png": "[encoded data removed]",
      "text/plain": [
       "<matplotlib.figure.Figure at 0x1071f9710>"
      ]
     },
     "metadata": {},
     "output_type": "display_data"
    }
   ],
   "source": [
    "fig, ax=plt.subplots()\n",
    "\n",
    "ax.plot(x,U)\n",
    "for i in range(len(ek)):\n",
    "    ax.plot(x,e_eng[i]+even_wave(x,Vo,ek[i],ekap[i],L))\n",
    "    ax.axhline(y=e_eng[i],xmin=.1666, xmax=.8333)\n",
    "    ax.annotate('E= %3.2f eV'%e_eng[i], xy=(x[-1],e_eng[i] ),  xycoords='data')\n",
    "for i in range(len(ok)):\n",
    "    ax.plot(x,o_eng[i]+odd_wave(x,Vo,ok[i],okap[i],L))\n",
    "    ax.axhline(y=o_eng[i],xmin=.1666, xmax=.8333)\n",
    "    ax.annotate('E= %3.2f eV'%o_eng[i], xy=(x[-1],o_eng[i] ),  xycoords='data')\n",
    "    \n",
    "ax.set_ylim(-.1*Vo,Vo*1.2)\n",
    "ax.set_xlim(-3*L/2,3*L/2)\n",
    "ax.set_xlabel(r'$x$ nm', fontsize=18)\n",
    "ax.set_ylabel(r'$V(x) eV $', fontsize=18);"
   ]
  }
 ],
 "metadata": {
  "kernelspec": {
   "display_name": "Python 2",
   "language": "python",
   "name": "python2"
  },
  "language_info": {
   "codemirror_mode": {
    "name": "ipython",
    "version": 2
   },
   "file_extension": ".py",
   "mimetype": "text/x-python",
   "name": "python",
   "nbconvert_exporter": "python",
   "pygments_lexer": "ipython2",
   "version": "2.7.10"
  }
 },
 "nbformat": 4,
 "nbformat_minor": 0
}
