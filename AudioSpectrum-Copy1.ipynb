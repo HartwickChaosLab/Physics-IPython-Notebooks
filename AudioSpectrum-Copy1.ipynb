{
 "cells": [
  {
   "cell_type": "code",
   "execution_count": 1,
   "metadata": {
    "collapsed": false
   },
   "outputs": [
    {
     "name": "stdout",
     "output_type": "stream",
     "text": [
      "Populating the interactive namespace from numpy and matplotlib\n"
     ]
    }
   ],
   "source": [
    "import u6\n",
    "from time import sleep\n",
    "from datetime import datetime\n",
    "\n",
    "import numpy as np\n",
    "\n",
    "import matplotlib.pyplot as plt\n",
    "\n",
    "%pylab inline --no-import-all \n",
    "import scipy as sp"
   ]
  },
  {
   "cell_type": "code",
   "execution_count": 2,
   "metadata": {
    "collapsed": false
   },
   "outputs": [
    {
     "name": "stdout",
     "output_type": "stream",
     "text": [
      "configuring U6 stream\n"
     ]
    }
   ],
   "source": [
    "# MAX_REQUESTS is the number of packets to be read.\n",
    "MAX_REQUESTS = 32\n",
    "#SCAN_FREQ=32768\n",
    "SCAN_FREQ=16,384\n",
    "# the number of samples will be MAX_REQUESTS times 48 (packets per request) times 25 (samples per packet).\n",
    "d = u6.U6()\n",
    "\n",
    "# Set up U6\n",
    "d.configU6()\n",
    "\"\"\n",
    "# For applying the proper calibration to readings.\n",
    "d.getCalibrationData()\n",
    "\n",
    "# Set the FIO0 to Analog\n",
    "d.configIO()\n",
    "\n",
    "print \"configuring U6 stream\"\n",
    "d.streamConfig( NumChannels = 2, ChannelNumbers=[0,1], ChannelOptions=[0,0],SamplesPerPacket=25, \n",
    "              InternalStreamClockFrequency= 0,ScanInterval=1)\n"
   ]
  },
  {
   "cell_type": "code",
   "execution_count": 3,
   "metadata": {
    "collapsed": false
   },
   "outputs": [],
   "source": [
    "def getData():\n",
    "    data=np.array([],dtype=float)\n",
    "    try:\n",
    "       # print \"start stream\",\n",
    "        d.streamStart()\n",
    "        start = datetime.now()\n",
    "        #print start\n",
    "        \n",
    "        missed = 0\n",
    "        dataCount = 0\n",
    "        packetCount = 0\n",
    "    \n",
    "        for r in d.streamData():\n",
    "            if r is not None:\n",
    "                # Our stop condition\n",
    "                if dataCount >= MAX_REQUESTS:\n",
    "                    break\n",
    "                \n",
    "                if r['errors'] != 0:\n",
    "                    print \"Error: %s ; \" % r['errors'], datetime.now()\n",
    "    \n",
    "                if r['numPackets'] != d.packetsPerRequest:\n",
    "                    print \"----- UNDERFLOW : %s : \" % r['numPackets'], datetime.now()\n",
    "    \n",
    "                if r['missed'] != 0:\n",
    "                    missed += r['missed']\n",
    "                    print \"+++ Missed \", r['missed']\n",
    "               \n",
    "                data1=np.append(data,r['AIN0'])\n",
    "                data2=np.append(data,r['AIN1'])\n",
    "               \n",
    "                dataCount += 1\n",
    "                packetCount += r['numPackets']\n",
    "            else:\n",
    "                # Got no data back from our read.\n",
    "                # This only happens if your stream isn't faster than the \n",
    "                # the USB read timeout, ~1 sec.\n",
    "                print \"No data\", datetime.now()\n",
    "    except:\n",
    "        print \"\".join(i for i in traceback.format_exc())\n",
    "    finally:\n",
    "        stop = datetime.now()\n",
    "        d.streamStop()\n",
    "       \n",
    "    return(data1,data2)"
   ]
  },
  {
   "cell_type": "code",
   "execution_count": 3,
   "metadata": {
    "collapsed": false
   },
   "outputs": [
    {
     "ename": "NameError",
     "evalue": "name 'd' is not defined",
     "output_type": "error",
     "traceback": [
      "\u001b[0;31m---------------------------------------------------------------------------\u001b[0m",
      "\u001b[0;31mNameError\u001b[0m                                 Traceback (most recent call last)",
      "\u001b[0;32m<ipython-input-3-ef507f445a30>\u001b[0m in \u001b[0;36m<module>\u001b[0;34m()\u001b[0m\n\u001b[0;32m----> 1\u001b[0;31m \u001b[0md\u001b[0m\u001b[0;34m.\u001b[0m\u001b[0mclose\u001b[0m\u001b[0;34m(\u001b[0m\u001b[0;34m)\u001b[0m\u001b[0;34m\u001b[0m\u001b[0m\n\u001b[0m",
      "\u001b[0;31mNameError\u001b[0m: name 'd' is not defined"
     ]
    }
   ],
   "source": [
    "d.close()"
   ]
  },
  {
   "cell_type": "code",
   "execution_count": 4,
   "metadata": {
    "collapsed": false
   },
   "outputs": [],
   "source": [
    "# setDAC takes a voltage value, converts to 16 bit value, then puts\n",
    "# outputs voltage to channel 0\n",
    "def setDAC(Volts):\n",
    "    bVolts=d.voltageToDACBits(Volts,dacNumber=0,is16Bits=True)\n",
    "    d.getFeedback(u6.DAC16( 0,  bVolts))\n",
    "    return"
   ]
  },
  {
   "cell_type": "code",
   "execution_count": 5,
   "metadata": {
    "collapsed": false
   },
   "outputs": [],
   "source": [
    "# cycleData creates a table of voltages to output to DAC,\n",
    "# wait for voltage to settle, and store rms value found at input\n",
    "# variable rms stores the spectrum and is what is returned\n",
    "\n",
    "def cycleData(lowV, HighV, numV):\n",
    "    volts=np.linspace(lowV,HighV,numV)    \n",
    "    rms=np.array([],dtype=float)\n",
    "    freq=np.array([],dtype=float)\n",
    "    for i in volts:\n",
    "        setDAC(i)\n",
    "        sleep(.2)\n",
    "        temp_rms,temp_freq=getData()\n",
    "        print np.std(temp_rms)\n",
    "        print np.std(temp_freq)\n",
    "        rms=np.append(rms,np.std(temp_rms))\n",
    "        freq=np.append(freq,getFreq(temp_freq,SCAN_FREQ))\n",
    "        \n",
    "    return (rms,freq)"
   ]
  },
  {
   "cell_type": "code",
   "execution_count": 6,
   "metadata": {
    "collapsed": false
   },
   "outputs": [],
   "source": [
    "# getFreq is used to get start and stop frequency of run,\n",
    "# since we are not driving an oscillator directly, rather we \n",
    "# use a freq. gen. that has a VCO setting, so we need to know what\n",
    "# frequencies are start and stop voltages correspond to\n",
    "# later we assume this is linear. Of course this depends on the \n",
    "# freq. gen. and ought to be tested.\n",
    "    \n",
    "def getFreq(y,Fs):\n",
    "    \n",
    "    n = len(y) # length of the signal\n",
    "\n",
    "    k = np.arange(n)\n",
    "\n",
    "    T = 1.*n/Fs\n",
    "\n",
    "    #print T\n",
    "    frq = k/T # two sides frequency range\n",
    "    frq = frq[range(n/2)] # one side frequency range\n",
    "   \n",
    "    Y = sp.fft(y)*10. # fft computing and normalization\n",
    "   \n",
    "    fig, axes=plt.subplots()\n",
    "    axes.plot(y)\n",
    "    return frq[np.argmax(Y[1:n/2])]"
   ]
  },
  {
   "cell_type": "code",
   "execution_count": 7,
   "metadata": {
    "collapsed": false
   },
   "outputs": [],
   "source": [
    "def plotData(freq, power):\n",
    "    fig, axes = plt.subplots(1,1)\n",
    "    axes.plot(freq, power, label ='Rs')\n",
    "    axes.set_xlabel('frequency (Hz)')\n",
    "    axes.set_ylabel('rms voltage (V)')\n",
    "    axes.legend()"
   ]
  },
  {
   "cell_type": "code",
   "execution_count": 8,
   "metadata": {
    "collapsed": false
   },
   "outputs": [],
   "source": [
    "LowV=1.\n",
    "HighV=4.\n",
    "numberData=100\n"
   ]
  },
  {
   "cell_type": "code",
   "execution_count": 9,
   "metadata": {
    "collapsed": false
   },
   "outputs": [
    {
     "name": "stdout",
     "output_type": "stream",
     "text": [
      "No data 2015-06-13 08:40:26.144546\n",
      "No data 2015-06-13 08:40:28.148791\n",
      "No data 2015-06-13 08:40:30.148728\n",
      "No data 2015-06-13 08:40:32.150632\n"
     ]
    },
    {
     "ename": "IndexError",
     "evalue": "list index out of range",
     "output_type": "error",
     "traceback": [
      "\u001b[0;31m---------------------------------------------------------------------------\u001b[0m",
      "\u001b[0;31mIndexError\u001b[0m                                Traceback (most recent call last)",
      "\u001b[0;32m<ipython-input-9-f04f41d07143>\u001b[0m in \u001b[0;36m<module>\u001b[0;34m()\u001b[0m\n\u001b[1;32m      1\u001b[0m \u001b[0msetDAC\u001b[0m\u001b[0;34m(\u001b[0m\u001b[0mLowV\u001b[0m\u001b[0;34m)\u001b[0m\u001b[0;34m\u001b[0m\u001b[0m\n\u001b[0;32m----> 2\u001b[0;31m \u001b[0mstart_FREQ\u001b[0m\u001b[0;34m=\u001b[0m\u001b[0mgetFreq\u001b[0m\u001b[0;34m(\u001b[0m\u001b[0mgetData\u001b[0m\u001b[0;34m(\u001b[0m\u001b[0;34m)\u001b[0m\u001b[0;34m,\u001b[0m\u001b[0mSCAN_FREQ\u001b[0m\u001b[0;34m)\u001b[0m\u001b[0;34m\u001b[0m\u001b[0m\n\u001b[0m\u001b[1;32m      3\u001b[0m \u001b[0;32mprint\u001b[0m\u001b[0;34m(\u001b[0m\u001b[0mstart_FREQ\u001b[0m\u001b[0;34m)\u001b[0m\u001b[0;34m\u001b[0m\u001b[0m\n",
      "\u001b[0;32m<ipython-input-3-e45e4061dad2>\u001b[0m in \u001b[0;36mgetData\u001b[0;34m()\u001b[0m\n\u001b[1;32m     41\u001b[0m     \u001b[0;32mfinally\u001b[0m\u001b[0;34m:\u001b[0m\u001b[0;34m\u001b[0m\u001b[0m\n\u001b[1;32m     42\u001b[0m         \u001b[0mstop\u001b[0m \u001b[0;34m=\u001b[0m \u001b[0mdatetime\u001b[0m\u001b[0;34m.\u001b[0m\u001b[0mnow\u001b[0m\u001b[0;34m(\u001b[0m\u001b[0;34m)\u001b[0m\u001b[0;34m\u001b[0m\u001b[0m\n\u001b[0;32m---> 43\u001b[0;31m         \u001b[0md\u001b[0m\u001b[0;34m.\u001b[0m\u001b[0mstreamStop\u001b[0m\u001b[0;34m(\u001b[0m\u001b[0;34m)\u001b[0m\u001b[0;34m\u001b[0m\u001b[0m\n\u001b[0m\u001b[1;32m     44\u001b[0m \u001b[0;34m\u001b[0m\u001b[0m\n\u001b[1;32m     45\u001b[0m     \u001b[0;32mreturn\u001b[0m\u001b[0;34m(\u001b[0m\u001b[0mdata1\u001b[0m\u001b[0;34m,\u001b[0m\u001b[0mdata2\u001b[0m\u001b[0;34m)\u001b[0m\u001b[0;34m\u001b[0m\u001b[0m\n",
      "\u001b[0;32m//anaconda/lib/python2.7/site-packages/LabJackPython.pyc\u001b[0m in \u001b[0;36mstreamStop\u001b[0;34m(self)\u001b[0m\n\u001b[1;32m    814\u001b[0m         \u001b[0mresults\u001b[0m \u001b[0;34m=\u001b[0m \u001b[0mself\u001b[0m\u001b[0;34m.\u001b[0m\u001b[0m_writeRead\u001b[0m\u001b[0;34m(\u001b[0m\u001b[0mcommand\u001b[0m\u001b[0;34m,\u001b[0m \u001b[0;36m4\u001b[0m\u001b[0;34m,\u001b[0m \u001b[0;34m[\u001b[0m\u001b[0;34m]\u001b[0m\u001b[0;34m,\u001b[0m \u001b[0mFalse\u001b[0m\u001b[0;34m,\u001b[0m \u001b[0mFalse\u001b[0m\u001b[0;34m,\u001b[0m \u001b[0mFalse\u001b[0m\u001b[0;34m)\u001b[0m\u001b[0;34m\u001b[0m\u001b[0m\n\u001b[1;32m    815\u001b[0m \u001b[0;34m\u001b[0m\u001b[0m\n\u001b[0;32m--> 816\u001b[0;31m         \u001b[0;32mif\u001b[0m \u001b[0mresults\u001b[0m\u001b[0;34m[\u001b[0m\u001b[0;36m2\u001b[0m\u001b[0;34m]\u001b[0m \u001b[0;34m!=\u001b[0m \u001b[0;36m0\u001b[0m\u001b[0;34m:\u001b[0m\u001b[0;34m\u001b[0m\u001b[0m\n\u001b[0m\u001b[1;32m    817\u001b[0m             \u001b[0;32mraise\u001b[0m \u001b[0mLowlevelErrorException\u001b[0m\u001b[0;34m(\u001b[0m\u001b[0mresults\u001b[0m\u001b[0;34m[\u001b[0m\u001b[0;36m2\u001b[0m\u001b[0;34m]\u001b[0m\u001b[0;34m,\u001b[0m \u001b[0;34m\"StreamStop returned an error:\\n    %s\"\u001b[0m \u001b[0;34m%\u001b[0m \u001b[0mlowlevelErrorToString\u001b[0m\u001b[0;34m(\u001b[0m\u001b[0mresults\u001b[0m\u001b[0;34m[\u001b[0m\u001b[0;36m2\u001b[0m\u001b[0;34m]\u001b[0m\u001b[0;34m)\u001b[0m \u001b[0;34m)\u001b[0m\u001b[0;34m\u001b[0m\u001b[0m\n\u001b[1;32m    818\u001b[0m \u001b[0;34m\u001b[0m\u001b[0m\n",
      "\u001b[0;31mIndexError\u001b[0m: list index out of range"
     ]
    }
   ],
   "source": [
    "setDAC(LowV)\n",
    "start_FREQ=getFreq(getData(),SCAN_FREQ)\n",
    "print(start_FREQ)"
   ]
  },
  {
   "cell_type": "code",
   "execution_count": 5,
   "metadata": {
    "collapsed": false
   },
   "outputs": [
    {
     "ename": "NameError",
     "evalue": "name 'setDAC' is not defined",
     "output_type": "error",
     "traceback": [
      "\u001b[0;31m---------------------------------------------------------------------------\u001b[0m",
      "\u001b[0;31mNameError\u001b[0m                                 Traceback (most recent call last)",
      "\u001b[0;32m<ipython-input-5-03a394f7f793>\u001b[0m in \u001b[0;36m<module>\u001b[0;34m()\u001b[0m\n\u001b[0;32m----> 1\u001b[0;31m \u001b[0msetDAC\u001b[0m\u001b[0;34m(\u001b[0m\u001b[0mHighV\u001b[0m\u001b[0;34m)\u001b[0m\u001b[0;34m\u001b[0m\u001b[0m\n\u001b[0m\u001b[1;32m      2\u001b[0m \u001b[0mend_FREQ\u001b[0m\u001b[0;34m=\u001b[0m\u001b[0mgetFreq\u001b[0m\u001b[0;34m(\u001b[0m\u001b[0mgetData\u001b[0m\u001b[0;34m(\u001b[0m\u001b[0;36m1\u001b[0m\u001b[0;34m)\u001b[0m\u001b[0;34m,\u001b[0m\u001b[0mSCAN_FREQ\u001b[0m\u001b[0;34m)\u001b[0m\u001b[0;34m\u001b[0m\u001b[0m\n\u001b[1;32m      3\u001b[0m \u001b[0mend_FREQ\u001b[0m\u001b[0;34m\u001b[0m\u001b[0m\n",
      "\u001b[0;31mNameError\u001b[0m: name 'setDAC' is not defined"
     ]
    }
   ],
   "source": [
    "setDAC(HighV)\n",
    "end_FREQ=getFreq(getData(1),SCAN_FREQ)\n",
    "end_FREQ"
   ]
  },
  {
   "cell_type": "code",
   "execution_count": 45,
   "metadata": {
    "collapsed": false
   },
   "outputs": [
    {
     "name": "stdout",
     "output_type": "stream",
     "text": [
      "Error: 1 ;  2015-04-15 13:23:09.034690\n",
      "Error: 1 ;  2015-04-15 13:23:09.035437\n",
      "Error: 1 ;  2015-04-15 13:23:09.035927\n",
      "Error: 1 ;  2015-04-15 13:23:09.036467\n",
      "Error: 1 ;  2015-04-15 13:23:09.037226\n",
      "Error: 1 ;  2015-04-15 13:23:09.037785\n",
      "Error: 1 ;  2015-04-15 13:23:09.038715\n",
      "Error: 1 ;  2015-04-15 13:23:09.039338\n",
      "Error: 1 ;  2015-04-15 13:23:09.039964\n",
      "Error: 1 ;  2015-04-15 13:23:09.040851\n",
      "Error: 1 ;  2015-04-15 13:23:09.041489\n",
      "Error: 1 ;  2015-04-15 13:23:09.042112\n",
      "Error: 1 ;  2015-04-15 13:23:09.043004\n",
      "Error: 1 ;  2015-04-15 13:23:09.043952\n",
      "Error: 1 ;  2015-04-15 13:23:09.044541\n",
      "Error: 1 ;  2015-04-15 13:23:09.045055\n",
      "Error: 1 ;  2015-04-15 13:23:09.045721\n",
      "Error: 1 ;  2015-04-15 13:23:09.046439\n",
      "Error: 1 ;  2015-04-15 13:23:09.047114\n",
      "Error: 1 ;  2015-04-15 13:23:09.047881\n",
      "Error: 1 ;  2015-04-15 13:23:09.048476\n",
      "Error: 1 ;  2015-04-15 13:23:09.049186\n",
      "Error: 1 ;  2015-04-15 13:23:09.049968\n",
      "Error: 1 ;  2015-04-15 13:23:09.050671\n",
      "Error: 1 ;  2015-04-15 13:23:09.051424\n",
      "Error: 1 ;  2015-04-15 13:23:09.052038\n",
      "Error: 1 ;  2015-04-15 13:23:09.052791\n",
      "Error: 1 ;  2015-04-15 13:23:09.053449\n",
      "Error: 1 ;  2015-04-15 13:23:09.054359\n",
      "Error: 1 ;  2015-04-15 13:23:09.055072\n",
      "Error: 1 ;  2015-04-15 13:23:09.055733\n",
      "Error: 1 ;  2015-04-15 13:23:09.056452\n"
     ]
    },
    {
     "ename": "ValueError",
     "evalue": "attempt to get argmax of an empty sequence",
     "output_type": "error",
     "traceback": [
      "\u001b[0;31m---------------------------------------------------------------------------\u001b[0m",
      "\u001b[0;31mValueError\u001b[0m                                Traceback (most recent call last)",
      "\u001b[0;32m<ipython-input-45-be26ca7f09c8>\u001b[0m in \u001b[0;36m<module>\u001b[0;34m()\u001b[0m\n\u001b[0;32m----> 1\u001b[0;31m \u001b[0mgetFreq\u001b[0m\u001b[0;34m(\u001b[0m\u001b[0mgetData\u001b[0m\u001b[0;34m(\u001b[0m\u001b[0;34m)\u001b[0m\u001b[0;34m,\u001b[0m\u001b[0mSCAN_FREQ\u001b[0m\u001b[0;34m)\u001b[0m\u001b[0;34m\u001b[0m\u001b[0m\n\u001b[0m",
      "\u001b[0;32m<ipython-input-33-913cadb6ec09>\u001b[0m in \u001b[0;36mgetFreq\u001b[0;34m(y, Fs)\u001b[0m\n\u001b[1;32m     22\u001b[0m     \u001b[0mfig\u001b[0m\u001b[0;34m,\u001b[0m \u001b[0maxes\u001b[0m\u001b[0;34m=\u001b[0m\u001b[0mplt\u001b[0m\u001b[0;34m.\u001b[0m\u001b[0msubplots\u001b[0m\u001b[0;34m(\u001b[0m\u001b[0;34m)\u001b[0m\u001b[0;34m\u001b[0m\u001b[0m\n\u001b[1;32m     23\u001b[0m     \u001b[0maxes\u001b[0m\u001b[0;34m.\u001b[0m\u001b[0mplot\u001b[0m\u001b[0;34m(\u001b[0m\u001b[0my\u001b[0m\u001b[0;34m)\u001b[0m\u001b[0;34m\u001b[0m\u001b[0m\n\u001b[0;32m---> 24\u001b[0;31m     \u001b[0;32mreturn\u001b[0m \u001b[0mfrq\u001b[0m\u001b[0;34m[\u001b[0m\u001b[0mnp\u001b[0m\u001b[0;34m.\u001b[0m\u001b[0margmax\u001b[0m\u001b[0;34m(\u001b[0m\u001b[0mY\u001b[0m\u001b[0;34m[\u001b[0m\u001b[0;36m1\u001b[0m\u001b[0;34m:\u001b[0m\u001b[0mn\u001b[0m\u001b[0;34m/\u001b[0m\u001b[0;36m2\u001b[0m\u001b[0;34m]\u001b[0m\u001b[0;34m)\u001b[0m\u001b[0;34m]\u001b[0m\u001b[0;34m\u001b[0m\u001b[0m\n\u001b[0m",
      "\u001b[0;32m//anaconda/lib/python2.7/site-packages/numpy/core/fromnumeric.pyc\u001b[0m in \u001b[0;36margmax\u001b[0;34m(a, axis)\u001b[0m\n\u001b[1;32m    941\u001b[0m     \u001b[0;32mexcept\u001b[0m \u001b[0mAttributeError\u001b[0m\u001b[0;34m:\u001b[0m\u001b[0;34m\u001b[0m\u001b[0m\n\u001b[1;32m    942\u001b[0m         \u001b[0;32mreturn\u001b[0m \u001b[0m_wrapit\u001b[0m\u001b[0;34m(\u001b[0m\u001b[0ma\u001b[0m\u001b[0;34m,\u001b[0m \u001b[0;34m'argmax'\u001b[0m\u001b[0;34m,\u001b[0m \u001b[0maxis\u001b[0m\u001b[0;34m)\u001b[0m\u001b[0;34m\u001b[0m\u001b[0m\n\u001b[0;32m--> 943\u001b[0;31m     \u001b[0;32mreturn\u001b[0m \u001b[0margmax\u001b[0m\u001b[0;34m(\u001b[0m\u001b[0maxis\u001b[0m\u001b[0;34m)\u001b[0m\u001b[0;34m\u001b[0m\u001b[0m\n\u001b[0m\u001b[1;32m    944\u001b[0m \u001b[0;34m\u001b[0m\u001b[0m\n\u001b[1;32m    945\u001b[0m \u001b[0;34m\u001b[0m\u001b[0m\n",
      "\u001b[0;31mValueError\u001b[0m: attempt to get argmax of an empty sequence"
     ]
    },
    {
     "data": {
      "image/png": "[encoded data removed]",
      "text/plain": [
       "<matplotlib.figure.Figure at 0x1070f5d50>"
      ]
     },
     "metadata": {},
     "output_type": "display_data"
    }
   ],
   "source": [
    "getFreq(getData(),SCAN_FREQ)\n"
   ]
  },
  {
   "cell_type": "code",
   "execution_count": 40,
   "metadata": {
    "collapsed": false
   },
   "outputs": [
    {
     "name": "stdout",
     "output_type": "stream",
     "text": [
      "Error: 1 ;  2015-04-15 13:22:07.387527\n",
      "Error: 1 ;  2015-04-15 13:22:07.388568\n",
      "Error: 1 ;  2015-04-15 13:22:07.389425\n",
      "Error: 1 ;  2015-04-15 13:22:07.390322\n",
      "Error: 1 ;  2015-04-15 13:22:07.391232\n",
      "Error: 1 ;  2015-04-15 13:22:07.392260\n",
      "Error: 1 ;  2015-04-15 13:22:07.393030\n",
      "Error: 1 ;  2015-04-15 13:22:07.393817\n",
      "Error: 1 ;  2015-04-15 13:22:07.394590\n",
      "Error: 1 ;  2015-04-15 13:22:07.395327\n",
      "Error: 1 ;  2015-04-15 13:22:07.395948\n",
      "Error: 1 ;  2015-04-15 13:22:07.396667\n",
      "Error: 1 ;  2015-04-15 13:22:07.397429\n",
      "Error: 1 ;  2015-04-15 13:22:07.398154\n",
      "Error: 1 ;  2015-04-15 13:22:07.398901\n",
      "Error: 1 ;  2015-04-15 13:22:07.399653\n",
      "Error: 1 ;  2015-04-15 13:22:07.400321\n",
      "Error: 1 ;  2015-04-15 13:22:07.401008\n",
      "Error: 1 ;  2015-04-15 13:22:07.402020\n",
      "Error: 1 ;  2015-04-15 13:22:07.402608\n",
      "Error: 1 ;  2015-04-15 13:22:07.403518\n",
      "Error: 1 ;  2015-04-15 13:22:07.404072\n",
      "Error: 1 ;  2015-04-15 13:22:07.404975\n",
      "Error: 1 ;  2015-04-15 13:22:07.405537\n",
      "Error: 1 ;  2015-04-15 13:22:07.406663\n",
      "Error: 1 ;  2015-04-15 13:22:07.407248\n",
      "Error: 1 ;  2015-04-15 13:22:07.407762\n",
      "Error: 1 ;  2015-04-15 13:22:07.408586\n",
      "Error: 1 ;  2015-04-15 13:22:07.409144\n",
      "Error: 1 ;  2015-04-15 13:22:07.409848\n",
      "Error: 1 ;  2015-04-15 13:22:07.410585\n",
      "0.00112140759652\n",
      "0.211121853917\n",
      "Error: 1 ;  2015-04-15 13:22:07.672393\n",
      "Error: 1 ;  2015-04-15 13:22:07.673220\n",
      "Error: 1 ;  2015-04-15 13:22:07.674041\n",
      "Error: 1 ;  2015-04-15 13:22:07.675326\n",
      "Error: 1 ;  2015-04-15 13:22:07.675888\n",
      "Error: 1 ;  2015-04-15 13:22:07.676527\n",
      "Error: 1 ;  2015-04-15 13:22:07.677190\n",
      "Error: 1 ;  2015-04-15 13:22:07.677927\n",
      "Error: 1 ;  2015-04-15 13:22:07.678514\n",
      "Error: 1 ;  2015-04-15 13:22:07.679123\n",
      "Error: 1 ;  2015-04-15 13:22:07.679738\n",
      "Error: 1 ;  2015-04-15 13:22:07.680501\n",
      "Error: 1 ;  2015-04-15 13:22:07.681194\n",
      "Error: 1 ;  2015-04-15 13:22:07.681816\n",
      "Error: 1 ;  2015-04-15 13:22:07.682566\n",
      "Error: 1 ;  2015-04-15 13:22:07.683294\n",
      "Error: 1 ;  2015-04-15 13:22:07.683937\n",
      "Error: 1 ;  2015-04-15 13:22:07.684601\n",
      "Error: 1 ;  2015-04-15 13:22:07.685605\n",
      "Error: 1 ;  2015-04-15 13:22:07.686072\n",
      "Error: 1 ;  2015-04-15 13:22:07.686839\n",
      "Error: 1 ;  2015-04-15 13:22:07.687736\n",
      "Error: 1 ;  2015-04-15 13:22:07.688627\n",
      "Error: 1 ;  2015-04-15 13:22:07.689295\n",
      "Error: 1 ;  2015-04-15 13:22:07.689842\n",
      "Error: 1 ;  2015-04-15 13:22:07.690326\n",
      "Error: 1 ;  2015-04-15 13:22:07.691173\n",
      "Error: 1 ;  2015-04-15 13:22:07.691870\n",
      "Error: 1 ;  2015-04-15 13:22:07.692543\n",
      "Error: 1 ;  2015-04-15 13:22:07.693178\n",
      "Error: 1 ;  2015-04-15 13:22:07.694113\n",
      "0.000953149454688\n",
      "0.418371874012\n",
      "Error: 1 ;  2015-04-15 13:22:07.954756\n",
      "Error: 1 ;  2015-04-15 13:22:07.955365\n",
      "Error: 1 ;  2015-04-15 13:22:07.955918\n",
      "Error: 1 ;  2015-04-15 13:22:07.956662\n",
      "Error: 1 ;  2015-04-15 13:22:07.957221\n",
      "Error: 1 ;  2015-04-15 13:22:07.957724\n",
      "Error: 1 ;  2015-04-15 13:22:07.958228\n",
      "Error: 1 ;  2015-04-15 13:22:07.959110\n",
      "Error: 1 ;  2015-04-15 13:22:07.959757\n",
      "Error: 1 ;  2015-04-15 13:22:07.960477\n",
      "Error: 1 ;  2015-04-15 13:22:07.961396\n",
      "Error: 1 ;  2015-04-15 13:22:07.961961\n",
      "Error: 1 ;  2015-04-15 13:22:07.962534\n",
      "Error: 1 ;  2015-04-15 13:22:07.963371\n",
      "Error: 1 ;  2015-04-15 13:22:07.963983\n",
      "Error: 1 ;  2015-04-15 13:22:07.965083\n",
      "Error: 1 ;  2015-04-15 13:22:07.965686\n",
      "Error: 1 ;  2015-04-15 13:22:07.966323\n",
      "Error: 1 ;  2015-04-15 13:22:07.967130\n",
      "Error: 1 ;  2015-04-15 13:22:07.967832\n",
      "Error: 1 ;  2015-04-15 13:22:07.968637\n",
      "Error: 1 ;  2015-04-15 13:22:07.969339\n",
      "Error: 1 ;  2015-04-15 13:22:07.970129\n",
      "Error: 1 ;  2015-04-15 13:22:07.970716\n",
      "Error: 1 ;  2015-04-15 13:22:07.971295\n",
      "Error: 1 ;  2015-04-15 13:22:07.972321\n",
      "Error: 1 ;  2015-04-15 13:22:07.973743\n",
      "Error: 1 ;  2015-04-15 13:22:07.974360\n",
      "Error: 1 ;  2015-04-15 13:22:07.974842\n",
      "Error: 1 ;  2015-04-15 13:22:07.975877\n",
      "Error: 1 ;  2015-04-15 13:22:07.976661\n",
      "0.00133050310392\n",
      "0.784073969474\n",
      "Error: 1 ;  2015-04-15 13:22:08.252154\n",
      "Error: 1 ;  2015-04-15 13:22:08.253267\n",
      "Error: 1 ;  2015-04-15 13:22:08.254375\n",
      "Error: 1 ;  2015-04-15 13:22:08.255158\n",
      "Error: 1 ;  2015-04-15 13:22:08.255842\n",
      "Error: 1 ;  2015-04-15 13:22:08.256646\n",
      "Error: 1 ;  2015-04-15 13:22:08.257240\n",
      "Error: 1 ;  2015-04-15 13:22:08.257742\n",
      "Error: 1 ;  2015-04-15 13:22:08.258243\n",
      "Error: 1 ;  2015-04-15 13:22:08.258745\n",
      "Error: 1 ;  2015-04-15 13:22:08.259484\n",
      "Error: 1 ;  2015-04-15 13:22:08.260109\n",
      "Error: 1 ;  2015-04-15 13:22:08.260818\n",
      "Error: 1 ;  2015-04-15 13:22:08.261437\n",
      "Error: 1 ;  2015-04-15 13:22:08.262188\n",
      "Error: 1 ;  2015-04-15 13:22:08.262980\n",
      "Error: 1 ;  2015-04-15 13:22:08.263559\n",
      "Error: 1 ;  2015-04-15 13:22:08.264644\n",
      "Error: 1 ;  2015-04-15 13:22:08.265323\n",
      "Error: 1 ;  2015-04-15 13:22:08.266073\n",
      "Error: 1 ;  2015-04-15 13:22:08.266594\n",
      "Error: 1 ;  2015-04-15 13:22:08.267250\n",
      "Error: 1 ;  2015-04-15 13:22:08.267945\n",
      "Error: 1 ;  2015-04-15 13:22:08.268836\n",
      "Error: 1 ;  2015-04-15 13:22:08.269535\n",
      "Error: 1 ;  2015-04-15 13:22:08.270171\n",
      "Error: 1 ;  2015-04-15 13:22:08.270779\n",
      "Error: 1 ;  2015-04-15 13:22:08.271688\n",
      "Error: 1 ;  2015-04-15 13:22:08.272585\n",
      "Error: 1 ;  2015-04-15 13:22:08.273221\n",
      "Error: 1 ;  2015-04-15 13:22:08.273755\n",
      "Error: 1 ;  2015-04-15 13:22:08.274266\n",
      "0.00130209051117\n",
      "0.654362904822\n",
      "Error: 1 ;  2015-04-15 13:22:08.538882\n",
      "Error: 1 ;  2015-04-15 13:22:08.539817\n",
      "Error: 1 ;  2015-04-15 13:22:08.540630\n",
      "Error: 1 ;  2015-04-15 13:22:08.541357\n",
      "Error: 1 ;  2015-04-15 13:22:08.542146\n",
      "Error: 1 ;  2015-04-15 13:22:08.542848\n",
      "Error: 1 ;  2015-04-15 13:22:08.543635\n",
      "Error: 1 ;  2015-04-15 13:22:08.544305\n",
      "Error: 1 ;  2015-04-15 13:22:08.544874\n",
      "Error: 1 ;  2015-04-15 13:22:08.545372\n",
      "Error: 1 ;  2015-04-15 13:22:08.545866\n",
      "Error: 1 ;  2015-04-15 13:22:08.546355\n",
      "Error: 1 ;  2015-04-15 13:22:08.547226\n",
      "Error: 1 ;  2015-04-15 13:22:08.547886\n",
      "Error: 1 ;  2015-04-15 13:22:08.548640\n",
      "Error: 1 ;  2015-04-15 13:22:08.549378\n",
      "Error: 1 ;  2015-04-15 13:22:08.550014\n",
      "Error: 1 ;  2015-04-15 13:22:08.550717\n",
      "Error: 1 ;  2015-04-15 13:22:08.551481\n",
      "Error: 1 ;  2015-04-15 13:22:08.552094\n",
      "Error: 1 ;  2015-04-15 13:22:08.552852\n",
      "Error: 1 ;  2015-04-15 13:22:08.553755\n",
      "Error: 1 ;  2015-04-15 13:22:08.554235\n",
      "Error: 1 ;  2015-04-15 13:22:08.555116\n",
      "Error: 1 ;  2015-04-15 13:22:08.555660\n",
      "Error: 1 ;  2015-04-15 13:22:08.556411\n",
      "Error: 1 ;  2015-04-15 13:22:08.556901\n",
      "Error: 1 ;  2015-04-15 13:22:08.557663\n",
      "Error: 1 ;  2015-04-15 13:22:08.558498\n",
      "Error: 1 ;  2015-04-15 13:22:08.559160\n",
      "Error: 1 ;  2015-04-15 13:22:08.559852\n",
      "Error: 1 ;  2015-04-15 13:22:08.560693\n",
      "0.00231932772688\n",
      "0.819280755838\n",
      "Error: 1 ;  2015-04-15 13:22:08.826017\n",
      "Error: 1 ;  2015-04-15 13:22:08.826804\n",
      "Error: 1 ;  2015-04-15 13:22:08.827648\n",
      "Error: 1 ;  2015-04-15 13:22:08.828423\n",
      "Error: 1 ;  2015-04-15 13:22:08.829088\n",
      "Error: 1 ;  2015-04-15 13:22:08.829612\n",
      "Error: 1 ;  2015-04-15 13:22:08.830115\n",
      "Error: 1 ;  2015-04-15 13:22:08.830603\n",
      "Error: 1 ;  2015-04-15 13:22:08.831099\n",
      "Error: 1 ;  2015-04-15 13:22:08.831872\n",
      "Error: 1 ;  2015-04-15 13:22:08.832567\n",
      "Error: 1 ;  2015-04-15 13:22:08.833275\n",
      "Error: 1 ;  2015-04-15 13:22:08.834089\n",
      "Error: 1 ;  2015-04-15 13:22:08.834988\n",
      "Error: 1 ;  2015-04-15 13:22:08.835726\n",
      "Error: 1 ;  2015-04-15 13:22:08.836418\n",
      "Error: 1 ;  2015-04-15 13:22:08.836984\n",
      "Error: 1 ;  2015-04-15 13:22:08.837830\n",
      "Error: 1 ;  2015-04-15 13:22:08.838460\n",
      "Error: 1 ;  2015-04-15 13:22:08.839061\n",
      "Error: 1 ;  2015-04-15 13:22:08.839808\n",
      "Error: 1 ;  2015-04-15 13:22:08.840404\n",
      "Error: 1 ;  2015-04-15 13:22:08.841034\n",
      "Error: 1 ;  2015-04-15 13:22:08.841899\n",
      "Error: 1 ;  2015-04-15 13:22:08.842579\n",
      "Error: 1 ;  2015-04-15 13:22:08.843127\n",
      "Error: 1 ;  2015-04-15 13:22:08.843872\n",
      "Error: 1 ;  2015-04-15 13:22:08.844712\n",
      "Error: 1 ;  2015-04-15 13:22:08.845294\n",
      "Error: 1 ;  2015-04-15 13:22:08.846002\n",
      "Error: 1 ;  2015-04-15 13:22:08.846959\n",
      "Error: 1 ;  2015-04-15 13:22:08.847562\n",
      "0.00184439354758\n",
      "0.927875551461\n",
      "Error: 1 ;  2015-04-15 13:22:09.102563\n",
      "Error: 1 ;  2015-04-15 13:22:09.103256\n",
      "Error: 1 ;  2015-04-15 13:22:09.103797\n",
      "Error: 1 ;  2015-04-15 13:22:09.104370\n",
      "Error: 1 ;  2015-04-15 13:22:09.104908\n",
      "Error: 1 ;  2015-04-15 13:22:09.105897\n",
      "Error: 1 ;  2015-04-15 13:22:09.106698\n",
      "Error: 1 ;  2015-04-15 13:22:09.107259\n",
      "Error: 1 ;  2015-04-15 13:22:09.107722\n",
      "Error: 1 ;  2015-04-15 13:22:09.108089\n",
      "Error: 1 ;  2015-04-15 13:22:09.108981\n",
      "Error: 1 ;  2015-04-15 13:22:09.109611\n",
      "Error: 1 ;  2015-04-15 13:22:09.110412\n",
      "Error: 1 ;  2015-04-15 13:22:09.111159\n",
      "Error: 1 ;  2015-04-15 13:22:09.111790\n",
      "Error: 1 ;  2015-04-15 13:22:09.112615\n",
      "Error: 1 ;  2015-04-15 13:22:09.113109\n",
      "Error: 1 ;  2015-04-15 13:22:09.114038\n",
      "Error: 1 ;  2015-04-15 13:22:09.114533\n",
      "Error: 1 ;  2015-04-15 13:22:09.115410\n",
      "Error: 1 ;  2015-04-15 13:22:09.116155\n",
      "Error: 1 ;  2015-04-15 13:22:09.116768\n",
      "Error: 1 ;  2015-04-15 13:22:09.117664\n",
      "Error: 1 ;  2015-04-15 13:22:09.118274\n",
      "Error: 1 ;  2015-04-15 13:22:09.119111\n",
      "Error: 1 ;  2015-04-15 13:22:09.119888\n",
      "Error: 1 ;  2015-04-15 13:22:09.120442\n",
      "Error: 1 ;  2015-04-15 13:22:09.121321\n",
      "Error: 1 ;  2015-04-15 13:22:09.122045\n",
      "Error: 1 ;  2015-04-15 13:22:09.122521\n",
      "Error: 1 ;  2015-04-15 13:22:09.123340\n",
      "Error: 1 ;  2015-04-15 13:22:09.124344\n",
      "0.0165182334122\n",
      "0.803858407089\n",
      "Error: 1 ;  2015-04-15 13:22:09.453759\n",
      "Error: 1 ;  2015-04-15 13:22:09.454608\n",
      "Error: 1 ;  2015-04-15 13:22:09.455295\n",
      "Error: 1 ;  2015-04-15 13:22:09.455967\n",
      "Error: 1 ;  2015-04-15 13:22:09.456490\n",
      "Error: 1 ;  2015-04-15 13:22:09.456995\n",
      "Error: 1 ;  2015-04-15 13:22:09.457468\n",
      "Error: 1 ;  2015-04-15 13:22:09.457957\n",
      "Error: 1 ;  2015-04-15 13:22:09.458737\n",
      "Error: 1 ;  2015-04-15 13:22:09.459352\n",
      "Error: 1 ;  2015-04-15 13:22:09.460295\n",
      "Error: 1 ;  2015-04-15 13:22:09.460855\n",
      "Error: 1 ;  2015-04-15 13:22:09.461608\n",
      "Error: 1 ;  2015-04-15 13:22:09.462491\n",
      "Error: 1 ;  2015-04-15 13:22:09.463116\n",
      "Error: 1 ;  2015-04-15 13:22:09.463830\n",
      "Error: 1 ;  2015-04-15 13:22:09.464542\n",
      "Error: 1 ;  2015-04-15 13:22:09.465257\n",
      "Error: 1 ;  2015-04-15 13:22:09.465728\n",
      "Error: 1 ;  2015-04-15 13:22:09.466618\n",
      "Error: 1 ;  2015-04-15 13:22:09.467228\n",
      "Error: 1 ;  2015-04-15 13:22:09.468026\n",
      "Error: 1 ;  2015-04-15 13:22:09.468780\n",
      "Error: 1 ;  2015-04-15 13:22:09.469395\n",
      "Error: 1 ;  2015-04-15 13:22:09.470033\n",
      "Error: 1 ;  2015-04-15 13:22:09.470838\n",
      "Error: 1 ;  2015-04-15 13:22:09.472342\n",
      "Error: 1 ;  2015-04-15 13:22:09.473147\n",
      "Error: 1 ;  2015-04-15 13:22:09.473901\n",
      "Error: 1 ;  2015-04-15 13:22:09.474494\n",
      "Error: 1 ;  2015-04-15 13:22:09.475702\n",
      "Error: 1 ;  2015-04-15 13:22:09.476287\n",
      "0.00127304394622\n",
      "0.53227515148\n",
      "Error: 1 ;  2015-04-15 13:22:09.752870\n",
      "Error: 1 ;  2015-04-15 13:22:09.753702\n",
      "Error: 1 ;  2015-04-15 13:22:09.754472\n",
      "Error: 1 ;  2015-04-15 13:22:09.755050\n",
      "Error: 1 ;  2015-04-15 13:22:09.755510\n",
      "Error: 1 ;  2015-04-15 13:22:09.756021\n",
      "Error: 1 ;  2015-04-15 13:22:09.756513\n",
      "Error: 1 ;  2015-04-15 13:22:09.757579\n",
      "Error: 1 ;  2015-04-15 13:22:09.758400\n",
      "Error: 1 ;  2015-04-15 13:22:09.758925\n",
      "Error: 1 ;  2015-04-15 13:22:09.759364\n",
      "Error: 1 ;  2015-04-15 13:22:09.760131\n",
      "Error: 1 ;  2015-04-15 13:22:09.760731\n",
      "Error: 1 ;  2015-04-15 13:22:09.761629\n",
      "Error: 1 ;  2015-04-15 13:22:09.762387\n",
      "Error: 1 ;  2015-04-15 13:22:09.762856\n",
      "Error: 1 ;  2015-04-15 13:22:09.763609\n",
      "Error: 1 ;  2015-04-15 13:22:09.764579\n",
      "Error: 1 ;  2015-04-15 13:22:09.765160\n",
      "Error: 1 ;  2015-04-15 13:22:09.765781\n",
      "Error: 1 ;  2015-04-15 13:22:09.766522\n",
      "Error: 1 ;  2015-04-15 13:22:09.767158\n",
      "Error: 1 ;  2015-04-15 13:22:09.767898\n",
      "Error: 1 ;  2015-04-15 13:22:09.768648\n",
      "Error: 1 ;  2015-04-15 13:22:09.769276\n",
      "Error: 1 ;  2015-04-15 13:22:09.770184\n",
      "Error: 1 ;  2015-04-15 13:22:09.770847\n",
      "Error: 1 ;  2015-04-15 13:22:09.771694\n",
      "Error: 1 ;  2015-04-15 13:22:09.772242\n",
      "Error: 1 ;  2015-04-15 13:22:09.773030\n",
      "Error: 1 ;  2015-04-15 13:22:09.773927\n",
      "Error: 1 ;  2015-04-15 13:22:09.774846\n",
      "0.00229229501175\n",
      "0.610270184178\n",
      "Error: 1 ;  2015-04-15 13:22:10.054315\n",
      "Error: 1 ;  2015-04-15 13:22:10.054909\n",
      "Error: 1 ;  2015-04-15 13:22:10.055367\n",
      "Error: 1 ;  2015-04-15 13:22:10.055861\n",
      "Error: 1 ;  2015-04-15 13:22:10.056417\n",
      "Error: 1 ;  2015-04-15 13:22:10.057141\n",
      "Error: 1 ;  2015-04-15 13:22:10.058773\n",
      "Error: 1 ;  2015-04-15 13:22:10.059422\n",
      "Error: 1 ;  2015-04-15 13:22:10.060041\n",
      "Error: 1 ;  2015-04-15 13:22:10.060475\n",
      "Error: 1 ;  2015-04-15 13:22:10.060853\n",
      "Error: 1 ;  2015-04-15 13:22:10.061495\n",
      "Error: 1 ;  2015-04-15 13:22:10.062227\n",
      "Error: 1 ;  2015-04-15 13:22:10.062975\n",
      "Error: 1 ;  2015-04-15 13:22:10.063768\n",
      "Error: 1 ;  2015-04-15 13:22:10.064393\n",
      "Error: 1 ;  2015-04-15 13:22:10.065192\n",
      "Error: 1 ;  2015-04-15 13:22:10.065897\n",
      "Error: 1 ;  2015-04-15 13:22:10.066368\n",
      "Error: 1 ;  2015-04-15 13:22:10.067272\n",
      "Error: 1 ;  2015-04-15 13:22:10.067905\n",
      "Error: 1 ;  2015-04-15 13:22:10.068722\n",
      "Error: 1 ;  2015-04-15 13:22:10.069333\n",
      "Error: 1 ;  2015-04-15 13:22:10.069966\n",
      "Error: 1 ;  2015-04-15 13:22:10.070904\n",
      "Error: 1 ;  2015-04-15 13:22:10.071527\n",
      "Error: 1 ;  2015-04-15 13:22:10.072227\n",
      "Error: 1 ;  2015-04-15 13:22:10.073104\n",
      "Error: 1 ;  2015-04-15 13:22:10.073938\n",
      "Error: 1 ;  2015-04-15 13:22:10.075071\n",
      "Error: 1 ;  2015-04-15 13:22:10.076407\n",
      "Error: 1 ;  2015-04-15 13:22:10.077045\n",
      "0.00655244359688\n",
      "0.907225156993\n"
     ]
    },
    {
     "data": {
      "text/plain": [
       "array([    0.,     0.,  4096.,  4096.,  4096.,  4096.,  8192.,     0.,\n",
       "           0.,  8192.])"
      ]
     },
     "execution_count": 40,
     "metadata": {},
     "output_type": "execute_result"
    },
    {
     "data": {
      "image/png": "[encoded data removed]",
      "text/plain": [
       "<matplotlib.figure.Figure at 0x1075fec10>"
      ]
     },
     "metadata": {},
     "output_type": "display_data"
    },
    {
     "data": {
      "image/png": "[encoded data removed]",
      "text/plain": [
       "<matplotlib.figure.Figure at 0x107fe4fd0>"
      ]
     },
     "metadata": {},
     "output_type": "display_data"
    },
    {
     "data": {
      "image/png": "[encoded data removed]",
      "text/plain": [
       "<matplotlib.figure.Figure at 0x108074e10>"
      ]
     },
     "metadata": {},
     "output_type": "display_data"
    },
    {
     "data": {
      "image/png": "[encoded data removed]",
      "text/plain": [
       "<matplotlib.figure.Figure at 0x1080e5e10>"
      ]
     },
     "metadata": {},
     "output_type": "display_data"
    },
    {
     "data": {
      "image/png": "[encoded data removed]",
      "text/plain": [
       "<matplotlib.figure.Figure at 0x108178c50>"
      ]
     },
     "metadata": {},
     "output_type": "display_data"
    },
    {
     "data": {
      "image/png": "[encoded data removed]",
      "text/plain": [
       "<matplotlib.figure.Figure at 0x1081f3d10>"
      ]
     },
     "metadata": {},
     "output_type": "display_data"
    },
    {
     "data": {
      "image/png": "[encoded data removed]",
      "text/plain": [
       "<matplotlib.figure.Figure at 0x10828f750>"
      ]
     },
     "metadata": {},
     "output_type": "display_data"
    },
    {
     "data": {
      "image/png": "[encoded data removed]",
      "text/plain": [
       "<matplotlib.figure.Figure at 0x1076b5390>"
      ]
     },
     "metadata": {},
     "output_type": "display_data"
    },
    {
     "data": {
      "image/png": "[encoded data removed]",
      "text/plain": [
       "<matplotlib.figure.Figure at 0x107effb10>"
      ]
     },
     "metadata": {},
     "output_type": "display_data"
    },
    {
     "data": {
      "image/png": "[encoded data removed]",
      "text/plain": [
       "<matplotlib.figure.Figure at 0x106e7b510>"
      ]
     },
     "metadata": {},
     "output_type": "display_data"
    },
    {
     "data": {
      "image/png": "[encoded data removed]",
      "text/plain": [
       "<matplotlib.figure.Figure at 0x107edbd50>"
      ]
     },
     "metadata": {},
     "output_type": "display_data"
    }
   ],
   "source": [
    "#take spectrum\n",
    "spectrum,freq=cycleData(LowV, HighV, 10)\n",
    "plotData(freq,spectrum)\n",
    "freq\n"
   ]
  },
  {
   "cell_type": "raw",
   "metadata": {
    "collapsed": false
   },
   "source": [
    "freq=np.linspace(start_FREQ,end_FREQ,numberData)\n",
    "plotData(freq,spectrum)\n"
   ]
  },
  {
   "cell_type": "code",
   "execution_count": 68,
   "metadata": {
    "collapsed": false
   },
   "outputs": [
    {
     "ename": "NameError",
     "evalue": "name 'freq' is not defined",
     "output_type": "error",
     "traceback": [
      "\u001b[0;31m---------------------------------------------------------------------------\u001b[0m",
      "\u001b[0;31mNameError\u001b[0m                                 Traceback (most recent call last)",
      "\u001b[0;32m<ipython-input-68-20761df40973>\u001b[0m in \u001b[0;36m<module>\u001b[0;34m()\u001b[0m\n\u001b[0;32m----> 1\u001b[0;31m \u001b[0mdata_out\u001b[0m\u001b[0;34m=\u001b[0m\u001b[0mnp\u001b[0m\u001b[0;34m.\u001b[0m\u001b[0mcolumn_stack\u001b[0m\u001b[0;34m(\u001b[0m\u001b[0;34m(\u001b[0m\u001b[0mfreq\u001b[0m\u001b[0;34m[\u001b[0m\u001b[0;34m:\u001b[0m\u001b[0;34m,\u001b[0m\u001b[0mnp\u001b[0m\u001b[0;34m.\u001b[0m\u001b[0mnewaxis\u001b[0m\u001b[0;34m]\u001b[0m\u001b[0;34m,\u001b[0m\u001b[0mspectrum\u001b[0m\u001b[0;34m[\u001b[0m\u001b[0;34m:\u001b[0m\u001b[0;34m,\u001b[0m\u001b[0mnp\u001b[0m\u001b[0;34m.\u001b[0m\u001b[0mnewaxis\u001b[0m\u001b[0;34m]\u001b[0m\u001b[0;34m)\u001b[0m\u001b[0;34m)\u001b[0m\u001b[0;34m\u001b[0m\u001b[0m\n\u001b[0m\u001b[1;32m      2\u001b[0m \u001b[0mnp\u001b[0m\u001b[0;34m.\u001b[0m\u001b[0msavetxt\u001b[0m\u001b[0;34m(\u001b[0m\u001b[0;34m'test.out'\u001b[0m\u001b[0;34m,\u001b[0m \u001b[0mdata_out\u001b[0m\u001b[0;34m,\u001b[0m \u001b[0mdelimiter\u001b[0m\u001b[0;34m=\u001b[0m\u001b[0;34m','\u001b[0m\u001b[0;34m)\u001b[0m\u001b[0;34m\u001b[0m\u001b[0m\n",
      "\u001b[0;31mNameError\u001b[0m: name 'freq' is not defined"
     ]
    }
   ],
   "source": [
    "data_out=np.column_stack((freq[:,np.newaxis],spectrum[:,np.newaxis]))\n",
    "np.savetxt('test.out', data_out, delimiter=',')"
   ]
  },
  {
   "cell_type": "code",
   "execution_count": 10,
   "metadata": {
    "collapsed": true
   },
   "outputs": [],
   "source": [
    "d.close()\n"
   ]
  },
  {
   "cell_type": "code",
   "execution_count": 41,
   "metadata": {
    "collapsed": false
   },
   "outputs": [
    {
     "data": {
      "text/plain": [
       "array([    0.,     0.,  4096.,  4096.,  4096.,  4096.,  8192.,     0.,\n",
       "           0.,  8192.])"
      ]
     },
     "execution_count": 41,
     "metadata": {},
     "output_type": "execute_result"
    }
   ],
   "source": [
    "freq"
   ]
  },
  {
   "cell_type": "code",
   "execution_count": 42,
   "metadata": {
    "collapsed": false
   },
   "outputs": [
    {
     "data": {
      "text/plain": [
       "array([ 0.00112141,  0.00095315,  0.0013305 ,  0.00130209,  0.00231933,\n",
       "        0.00184439,  0.01651823,  0.00127304,  0.0022923 ,  0.00655244])"
      ]
     },
     "execution_count": 42,
     "metadata": {},
     "output_type": "execute_result"
    }
   ],
   "source": [
    "spectrum"
   ]
  },
  {
   "cell_type": "code",
   "execution_count": 43,
   "metadata": {
    "collapsed": false
   },
   "outputs": [
    {
     "data": {
      "text/plain": [
       "array([    0.,     0.,  4096.,  4096.,  4096.,  4096.,  8192.,     0.,\n",
       "           0.,  8192.])"
      ]
     },
     "execution_count": 43,
     "metadata": {},
     "output_type": "execute_result"
    }
   ],
   "source": [
    "freq"
   ]
  },
  {
   "cell_type": "code",
   "execution_count": 7,
   "metadata": {
    "collapsed": true
   },
   "outputs": [],
   "source": []
  },
  {
   "cell_type": "code",
   "execution_count": null,
   "metadata": {
    "collapsed": true
   },
   "outputs": [],
   "source": []
  }
 ],
 "metadata": {
  "kernelspec": {
   "display_name": "Python 2",
   "language": "python",
   "name": "python2"
  },
  "language_info": {
   "codemirror_mode": {
    "name": "ipython",
    "version": 2
   },
   "file_extension": ".py",
   "mimetype": "text/x-python",
   "name": "python",
   "nbconvert_exporter": "python",
   "pygments_lexer": "ipython2",
   "version": "2.7.9"
  }
 },
 "nbformat": 4,
 "nbformat_minor": 0
}
