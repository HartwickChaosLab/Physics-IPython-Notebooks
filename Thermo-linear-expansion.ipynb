{
 "cells": [
  {
   "cell_type": "code",
   "execution_count": 28,
   "metadata": {
    "collapsed": false
   },
   "outputs": [
    {
     "name": "stdout",
     "output_type": "stream",
     "text": [
      "Populating the interactive namespace from numpy and matplotlib\n"
     ]
    },
    {
     "name": "stderr",
     "output_type": "stream",
     "text": [
      "/Users/schultzk/anaconda/lib/python2.7/site-packages/IPython/html.py:14: ShimWarning: The `IPython.html` package has been deprecated. You should import from `notebook` instead. `IPython.html.widgets` has moved to `ipywidgets`.\n",
      "  \"`IPython.html.widgets` has moved to `ipywidgets`.\", ShimWarning)\n"
     ]
    }
   ],
   "source": [
    "import matplotlib.pyplot as plt\n",
    "#make pretty comments\n",
    "from IPython.display import Latex \n",
    "#in case we want interactivity\n",
    "from IPython.html.widgets import interactive \n",
    "#Make plots show up in notebook\n",
    "%pylab inline --no-import-all "
   ]
  },
  {
   "cell_type": "code",
   "execution_count": 59,
   "metadata": {
    "collapsed": true
   },
   "outputs": [],
   "source": [
    "import scipy as sp\n",
    "from scipy import optimize\n"
   ]
  },
  {
   "cell_type": "code",
   "execution_count": 60,
   "metadata": {
    "collapsed": false
   },
   "outputs": [
    {
     "data": {
      "text/plain": [
       "<module 'scipy.misc' from '/Users/schultzk/anaconda/lib/python2.7/site-packages/scipy/misc/__init__.pyc'>"
      ]
     },
     "execution_count": 60,
     "metadata": {},
     "output_type": "execute_result"
    }
   ],
   "source": [
    "sp.misc"
   ]
  },
  {
   "cell_type": "code",
   "execution_count": 47,
   "metadata": {
    "collapsed": false
   },
   "outputs": [],
   "source": [
    "h = 1\n",
    "h_ = h/(2*pi)\n",
    "e = 1.602e-19\n",
    "cf = 1          # if cf = h_, use units where h_ = 1\n",
    "\n",
    "a = 1          # minimum distance\n",
    "U0 = 2 * pi  # potential depth\n",
    "          \n",
    "\n",
    "args = {'min_d': a, 'depth': U0}\n",
    "\n",
    "\n",
    "\n",
    "x_min = 0.01\n",
    "x_max =  50\n",
    "N = 750 "
   ]
  },
  {
   "cell_type": "code",
   "execution_count": 48,
   "metadata": {
    "collapsed": true
   },
   "outputs": [],
   "source": [
    "\n",
    "def U_LJ(x, args):\n",
    "    \"\"\"\n",
    "   Lennard Jones potential\n",
    "    \"\"\"\n",
    "    \n",
    "    a = args['min_d']\n",
    "    U0     = args['depth']\n",
    "    \n",
    "    \n",
    "    u = U0 * ((a/x)**12-2*(a/x)**6)\n",
    "\n",
    "    return u"
   ]
  },
  {
   "cell_type": "code",
   "execution_count": 49,
   "metadata": {
    "collapsed": false
   },
   "outputs": [
    {
     "data": {
      "text/plain": [
       "array([  1.00000000e-02,   7.67423231e-02,   1.43484646e-01,\n",
       "         2.10226969e-01,   2.76969292e-01,   3.43711615e-01,\n",
       "         4.10453939e-01,   4.77196262e-01,   5.43938585e-01,\n",
       "         6.10680908e-01,   6.77423231e-01,   7.44165554e-01,\n",
       "         8.10907877e-01,   8.77650200e-01,   9.44392523e-01,\n",
       "         1.01113485e+00,   1.07787717e+00,   1.14461949e+00,\n",
       "         1.21136182e+00,   1.27810414e+00,   1.34484646e+00,\n",
       "         1.41158879e+00,   1.47833111e+00,   1.54507343e+00,\n",
       "         1.61181575e+00,   1.67855808e+00,   1.74530040e+00,\n",
       "         1.81204272e+00,   1.87878505e+00,   1.94552737e+00,\n",
       "         2.01226969e+00,   2.07901202e+00,   2.14575434e+00,\n",
       "         2.21249666e+00,   2.27923899e+00,   2.34598131e+00,\n",
       "         2.41272363e+00,   2.47946595e+00,   2.54620828e+00,\n",
       "         2.61295060e+00,   2.67969292e+00,   2.74643525e+00,\n",
       "         2.81317757e+00,   2.87991989e+00,   2.94666222e+00,\n",
       "         3.01340454e+00,   3.08014686e+00,   3.14688919e+00,\n",
       "         3.21363151e+00,   3.28037383e+00,   3.34711615e+00,\n",
       "         3.41385848e+00,   3.48060080e+00,   3.54734312e+00,\n",
       "         3.61408545e+00,   3.68082777e+00,   3.74757009e+00,\n",
       "         3.81431242e+00,   3.88105474e+00,   3.94779706e+00,\n",
       "         4.01453939e+00,   4.08128171e+00,   4.14802403e+00,\n",
       "         4.21476636e+00,   4.28150868e+00,   4.34825100e+00,\n",
       "         4.41499332e+00,   4.48173565e+00,   4.54847797e+00,\n",
       "         4.61522029e+00,   4.68196262e+00,   4.74870494e+00,\n",
       "         4.81544726e+00,   4.88218959e+00,   4.94893191e+00,\n",
       "         5.01567423e+00,   5.08241656e+00,   5.14915888e+00,\n",
       "         5.21590120e+00,   5.28264352e+00,   5.34938585e+00,\n",
       "         5.41612817e+00,   5.48287049e+00,   5.54961282e+00,\n",
       "         5.61635514e+00,   5.68309746e+00,   5.74983979e+00,\n",
       "         5.81658211e+00,   5.88332443e+00,   5.95006676e+00,\n",
       "         6.01680908e+00,   6.08355140e+00,   6.15029372e+00,\n",
       "         6.21703605e+00,   6.28377837e+00,   6.35052069e+00,\n",
       "         6.41726302e+00,   6.48400534e+00,   6.55074766e+00,\n",
       "         6.61748999e+00,   6.68423231e+00,   6.75097463e+00,\n",
       "         6.81771696e+00,   6.88445928e+00,   6.95120160e+00,\n",
       "         7.01794393e+00,   7.08468625e+00,   7.15142857e+00,\n",
       "         7.21817089e+00,   7.28491322e+00,   7.35165554e+00,\n",
       "         7.41839786e+00,   7.48514019e+00,   7.55188251e+00,\n",
       "         7.61862483e+00,   7.68536716e+00,   7.75210948e+00,\n",
       "         7.81885180e+00,   7.88559413e+00,   7.95233645e+00,\n",
       "         8.01907877e+00,   8.08582109e+00,   8.15256342e+00,\n",
       "         8.21930574e+00,   8.28604806e+00,   8.35279039e+00,\n",
       "         8.41953271e+00,   8.48627503e+00,   8.55301736e+00,\n",
       "         8.61975968e+00,   8.68650200e+00,   8.75324433e+00,\n",
       "         8.81998665e+00,   8.88672897e+00,   8.95347130e+00,\n",
       "         9.02021362e+00,   9.08695594e+00,   9.15369826e+00,\n",
       "         9.22044059e+00,   9.28718291e+00,   9.35392523e+00,\n",
       "         9.42066756e+00,   9.48740988e+00,   9.55415220e+00,\n",
       "         9.62089453e+00,   9.68763685e+00,   9.75437917e+00,\n",
       "         9.82112150e+00,   9.88786382e+00,   9.95460614e+00,\n",
       "         1.00213485e+01,   1.00880908e+01,   1.01548331e+01,\n",
       "         1.02215754e+01,   1.02883178e+01,   1.03550601e+01,\n",
       "         1.04218024e+01,   1.04885447e+01,   1.05552870e+01,\n",
       "         1.06220294e+01,   1.06887717e+01,   1.07555140e+01,\n",
       "         1.08222563e+01,   1.08889987e+01,   1.09557410e+01,\n",
       "         1.10224833e+01,   1.10892256e+01,   1.11559680e+01,\n",
       "         1.12227103e+01,   1.12894526e+01,   1.13561949e+01,\n",
       "         1.14229372e+01,   1.14896796e+01,   1.15564219e+01,\n",
       "         1.16231642e+01,   1.16899065e+01,   1.17566489e+01,\n",
       "         1.18233912e+01,   1.18901335e+01,   1.19568758e+01,\n",
       "         1.20236182e+01,   1.20903605e+01,   1.21571028e+01,\n",
       "         1.22238451e+01,   1.22905874e+01,   1.23573298e+01,\n",
       "         1.24240721e+01,   1.24908144e+01,   1.25575567e+01,\n",
       "         1.26242991e+01,   1.26910414e+01,   1.27577837e+01,\n",
       "         1.28245260e+01,   1.28912684e+01,   1.29580107e+01,\n",
       "         1.30247530e+01,   1.30914953e+01,   1.31582377e+01,\n",
       "         1.32249800e+01,   1.32917223e+01,   1.33584646e+01,\n",
       "         1.34252069e+01,   1.34919493e+01,   1.35586916e+01,\n",
       "         1.36254339e+01,   1.36921762e+01,   1.37589186e+01,\n",
       "         1.38256609e+01,   1.38924032e+01,   1.39591455e+01,\n",
       "         1.40258879e+01,   1.40926302e+01,   1.41593725e+01,\n",
       "         1.42261148e+01,   1.42928571e+01,   1.43595995e+01,\n",
       "         1.44263418e+01,   1.44930841e+01,   1.45598264e+01,\n",
       "         1.46265688e+01,   1.46933111e+01,   1.47600534e+01,\n",
       "         1.48267957e+01,   1.48935381e+01,   1.49602804e+01,\n",
       "         1.50270227e+01,   1.50937650e+01,   1.51605073e+01,\n",
       "         1.52272497e+01,   1.52939920e+01,   1.53607343e+01,\n",
       "         1.54274766e+01,   1.54942190e+01,   1.55609613e+01,\n",
       "         1.56277036e+01,   1.56944459e+01,   1.57611883e+01,\n",
       "         1.58279306e+01,   1.58946729e+01,   1.59614152e+01,\n",
       "         1.60281575e+01,   1.60948999e+01,   1.61616422e+01,\n",
       "         1.62283845e+01,   1.62951268e+01,   1.63618692e+01,\n",
       "         1.64286115e+01,   1.64953538e+01,   1.65620961e+01,\n",
       "         1.66288385e+01,   1.66955808e+01,   1.67623231e+01,\n",
       "         1.68290654e+01,   1.68958077e+01,   1.69625501e+01,\n",
       "         1.70292924e+01,   1.70960347e+01,   1.71627770e+01,\n",
       "         1.72295194e+01,   1.72962617e+01,   1.73630040e+01,\n",
       "         1.74297463e+01,   1.74964887e+01,   1.75632310e+01,\n",
       "         1.76299733e+01,   1.76967156e+01,   1.77634579e+01,\n",
       "         1.78302003e+01,   1.78969426e+01,   1.79636849e+01,\n",
       "         1.80304272e+01,   1.80971696e+01,   1.81639119e+01,\n",
       "         1.82306542e+01,   1.82973965e+01,   1.83641389e+01,\n",
       "         1.84308812e+01,   1.84976235e+01,   1.85643658e+01,\n",
       "         1.86311081e+01,   1.86978505e+01,   1.87645928e+01,\n",
       "         1.88313351e+01,   1.88980774e+01,   1.89648198e+01,\n",
       "         1.90315621e+01,   1.90983044e+01,   1.91650467e+01,\n",
       "         1.92317891e+01,   1.92985314e+01,   1.93652737e+01,\n",
       "         1.94320160e+01,   1.94987583e+01,   1.95655007e+01,\n",
       "         1.96322430e+01,   1.96989853e+01,   1.97657276e+01,\n",
       "         1.98324700e+01,   1.98992123e+01,   1.99659546e+01,\n",
       "         2.00326969e+01,   2.00994393e+01,   2.01661816e+01,\n",
       "         2.02329239e+01,   2.02996662e+01,   2.03664085e+01,\n",
       "         2.04331509e+01,   2.04998932e+01,   2.05666355e+01,\n",
       "         2.06333778e+01,   2.07001202e+01,   2.07668625e+01,\n",
       "         2.08336048e+01,   2.09003471e+01,   2.09670895e+01,\n",
       "         2.10338318e+01,   2.11005741e+01,   2.11673164e+01,\n",
       "         2.12340587e+01,   2.13008011e+01,   2.13675434e+01,\n",
       "         2.14342857e+01,   2.15010280e+01,   2.15677704e+01,\n",
       "         2.16345127e+01,   2.17012550e+01,   2.17679973e+01,\n",
       "         2.18347397e+01,   2.19014820e+01,   2.19682243e+01,\n",
       "         2.20349666e+01,   2.21017089e+01,   2.21684513e+01,\n",
       "         2.22351936e+01,   2.23019359e+01,   2.23686782e+01,\n",
       "         2.24354206e+01,   2.25021629e+01,   2.25689052e+01,\n",
       "         2.26356475e+01,   2.27023899e+01,   2.27691322e+01,\n",
       "         2.28358745e+01,   2.29026168e+01,   2.29693591e+01,\n",
       "         2.30361015e+01,   2.31028438e+01,   2.31695861e+01,\n",
       "         2.32363284e+01,   2.33030708e+01,   2.33698131e+01,\n",
       "         2.34365554e+01,   2.35032977e+01,   2.35700401e+01,\n",
       "         2.36367824e+01,   2.37035247e+01,   2.37702670e+01,\n",
       "         2.38370093e+01,   2.39037517e+01,   2.39704940e+01,\n",
       "         2.40372363e+01,   2.41039786e+01,   2.41707210e+01,\n",
       "         2.42374633e+01,   2.43042056e+01,   2.43709479e+01,\n",
       "         2.44376903e+01,   2.45044326e+01,   2.45711749e+01,\n",
       "         2.46379172e+01,   2.47046595e+01,   2.47714019e+01,\n",
       "         2.48381442e+01,   2.49048865e+01,   2.49716288e+01,\n",
       "         2.50383712e+01,   2.51051135e+01,   2.51718558e+01,\n",
       "         2.52385981e+01,   2.53053405e+01,   2.53720828e+01,\n",
       "         2.54388251e+01,   2.55055674e+01,   2.55723097e+01,\n",
       "         2.56390521e+01,   2.57057944e+01,   2.57725367e+01,\n",
       "         2.58392790e+01,   2.59060214e+01,   2.59727637e+01,\n",
       "         2.60395060e+01,   2.61062483e+01,   2.61729907e+01,\n",
       "         2.62397330e+01,   2.63064753e+01,   2.63732176e+01,\n",
       "         2.64399599e+01,   2.65067023e+01,   2.65734446e+01,\n",
       "         2.66401869e+01,   2.67069292e+01,   2.67736716e+01,\n",
       "         2.68404139e+01,   2.69071562e+01,   2.69738985e+01,\n",
       "         2.70406409e+01,   2.71073832e+01,   2.71741255e+01,\n",
       "         2.72408678e+01,   2.73076101e+01,   2.73743525e+01,\n",
       "         2.74410948e+01,   2.75078371e+01,   2.75745794e+01,\n",
       "         2.76413218e+01,   2.77080641e+01,   2.77748064e+01,\n",
       "         2.78415487e+01,   2.79082911e+01,   2.79750334e+01,\n",
       "         2.80417757e+01,   2.81085180e+01,   2.81752603e+01,\n",
       "         2.82420027e+01,   2.83087450e+01,   2.83754873e+01,\n",
       "         2.84422296e+01,   2.85089720e+01,   2.85757143e+01,\n",
       "         2.86424566e+01,   2.87091989e+01,   2.87759413e+01,\n",
       "         2.88426836e+01,   2.89094259e+01,   2.89761682e+01,\n",
       "         2.90429105e+01,   2.91096529e+01,   2.91763952e+01,\n",
       "         2.92431375e+01,   2.93098798e+01,   2.93766222e+01,\n",
       "         2.94433645e+01,   2.95101068e+01,   2.95768491e+01,\n",
       "         2.96435915e+01,   2.97103338e+01,   2.97770761e+01,\n",
       "         2.98438184e+01,   2.99105607e+01,   2.99773031e+01,\n",
       "         3.00440454e+01,   3.01107877e+01,   3.01775300e+01,\n",
       "         3.02442724e+01,   3.03110147e+01,   3.03777570e+01,\n",
       "         3.04444993e+01,   3.05112417e+01,   3.05779840e+01,\n",
       "         3.06447263e+01,   3.07114686e+01,   3.07782109e+01,\n",
       "         3.08449533e+01,   3.09116956e+01,   3.09784379e+01,\n",
       "         3.10451802e+01,   3.11119226e+01,   3.11786649e+01,\n",
       "         3.12454072e+01,   3.13121495e+01,   3.13788919e+01,\n",
       "         3.14456342e+01,   3.15123765e+01,   3.15791188e+01,\n",
       "         3.16458611e+01,   3.17126035e+01,   3.17793458e+01,\n",
       "         3.18460881e+01,   3.19128304e+01,   3.19795728e+01,\n",
       "         3.20463151e+01,   3.21130574e+01,   3.21797997e+01,\n",
       "         3.22465421e+01,   3.23132844e+01,   3.23800267e+01,\n",
       "         3.24467690e+01,   3.25135113e+01,   3.25802537e+01,\n",
       "         3.26469960e+01,   3.27137383e+01,   3.27804806e+01,\n",
       "         3.28472230e+01,   3.29139653e+01,   3.29807076e+01,\n",
       "         3.30474499e+01,   3.31141923e+01,   3.31809346e+01,\n",
       "         3.32476769e+01,   3.33144192e+01,   3.33811615e+01,\n",
       "         3.34479039e+01,   3.35146462e+01,   3.35813885e+01,\n",
       "         3.36481308e+01,   3.37148732e+01,   3.37816155e+01,\n",
       "         3.38483578e+01,   3.39151001e+01,   3.39818425e+01,\n",
       "         3.40485848e+01,   3.41153271e+01,   3.41820694e+01,\n",
       "         3.42488117e+01,   3.43155541e+01,   3.43822964e+01,\n",
       "         3.44490387e+01,   3.45157810e+01,   3.45825234e+01,\n",
       "         3.46492657e+01,   3.47160080e+01,   3.47827503e+01,\n",
       "         3.48494927e+01,   3.49162350e+01,   3.49829773e+01,\n",
       "         3.50497196e+01,   3.51164619e+01,   3.51832043e+01,\n",
       "         3.52499466e+01,   3.53166889e+01,   3.53834312e+01,\n",
       "         3.54501736e+01,   3.55169159e+01,   3.55836582e+01,\n",
       "         3.56504005e+01,   3.57171429e+01,   3.57838852e+01,\n",
       "         3.58506275e+01,   3.59173698e+01,   3.59841121e+01,\n",
       "         3.60508545e+01,   3.61175968e+01,   3.61843391e+01,\n",
       "         3.62510814e+01,   3.63178238e+01,   3.63845661e+01,\n",
       "         3.64513084e+01,   3.65180507e+01,   3.65847931e+01,\n",
       "         3.66515354e+01,   3.67182777e+01,   3.67850200e+01,\n",
       "         3.68517623e+01,   3.69185047e+01,   3.69852470e+01,\n",
       "         3.70519893e+01,   3.71187316e+01,   3.71854740e+01,\n",
       "         3.72522163e+01,   3.73189586e+01,   3.73857009e+01,\n",
       "         3.74524433e+01,   3.75191856e+01,   3.75859279e+01,\n",
       "         3.76526702e+01,   3.77194126e+01,   3.77861549e+01,\n",
       "         3.78528972e+01,   3.79196395e+01,   3.79863818e+01,\n",
       "         3.80531242e+01,   3.81198665e+01,   3.81866088e+01,\n",
       "         3.82533511e+01,   3.83200935e+01,   3.83868358e+01,\n",
       "         3.84535781e+01,   3.85203204e+01,   3.85870628e+01,\n",
       "         3.86538051e+01,   3.87205474e+01,   3.87872897e+01,\n",
       "         3.88540320e+01,   3.89207744e+01,   3.89875167e+01,\n",
       "         3.90542590e+01,   3.91210013e+01,   3.91877437e+01,\n",
       "         3.92544860e+01,   3.93212283e+01,   3.93879706e+01,\n",
       "         3.94547130e+01,   3.95214553e+01,   3.95881976e+01,\n",
       "         3.96549399e+01,   3.97216822e+01,   3.97884246e+01,\n",
       "         3.98551669e+01,   3.99219092e+01,   3.99886515e+01,\n",
       "         4.00553939e+01,   4.01221362e+01,   4.01888785e+01,\n",
       "         4.02556208e+01,   4.03223632e+01,   4.03891055e+01,\n",
       "         4.04558478e+01,   4.05225901e+01,   4.05893324e+01,\n",
       "         4.06560748e+01,   4.07228171e+01,   4.07895594e+01,\n",
       "         4.08563017e+01,   4.09230441e+01,   4.09897864e+01,\n",
       "         4.10565287e+01,   4.11232710e+01,   4.11900134e+01,\n",
       "         4.12567557e+01,   4.13234980e+01,   4.13902403e+01,\n",
       "         4.14569826e+01,   4.15237250e+01,   4.15904673e+01,\n",
       "         4.16572096e+01,   4.17239519e+01,   4.17906943e+01,\n",
       "         4.18574366e+01,   4.19241789e+01,   4.19909212e+01,\n",
       "         4.20576636e+01,   4.21244059e+01,   4.21911482e+01,\n",
       "         4.22578905e+01,   4.23246328e+01,   4.23913752e+01,\n",
       "         4.24581175e+01,   4.25248598e+01,   4.25916021e+01,\n",
       "         4.26583445e+01,   4.27250868e+01,   4.27918291e+01,\n",
       "         4.28585714e+01,   4.29253138e+01,   4.29920561e+01,\n",
       "         4.30587984e+01,   4.31255407e+01,   4.31922830e+01,\n",
       "         4.32590254e+01,   4.33257677e+01,   4.33925100e+01,\n",
       "         4.34592523e+01,   4.35259947e+01,   4.35927370e+01,\n",
       "         4.36594793e+01,   4.37262216e+01,   4.37929640e+01,\n",
       "         4.38597063e+01,   4.39264486e+01,   4.39931909e+01,\n",
       "         4.40599332e+01,   4.41266756e+01,   4.41934179e+01,\n",
       "         4.42601602e+01,   4.43269025e+01,   4.43936449e+01,\n",
       "         4.44603872e+01,   4.45271295e+01,   4.45938718e+01,\n",
       "         4.46606142e+01,   4.47273565e+01,   4.47940988e+01,\n",
       "         4.48608411e+01,   4.49275834e+01,   4.49943258e+01,\n",
       "         4.50610681e+01,   4.51278104e+01,   4.51945527e+01,\n",
       "         4.52612951e+01,   4.53280374e+01,   4.53947797e+01,\n",
       "         4.54615220e+01,   4.55282644e+01,   4.55950067e+01,\n",
       "         4.56617490e+01,   4.57284913e+01,   4.57952336e+01,\n",
       "         4.58619760e+01,   4.59287183e+01,   4.59954606e+01,\n",
       "         4.60622029e+01,   4.61289453e+01,   4.61956876e+01,\n",
       "         4.62624299e+01,   4.63291722e+01,   4.63959146e+01,\n",
       "         4.64626569e+01,   4.65293992e+01,   4.65961415e+01,\n",
       "         4.66628838e+01,   4.67296262e+01,   4.67963685e+01,\n",
       "         4.68631108e+01,   4.69298531e+01,   4.69965955e+01,\n",
       "         4.70633378e+01,   4.71300801e+01,   4.71968224e+01,\n",
       "         4.72635648e+01,   4.73303071e+01,   4.73970494e+01,\n",
       "         4.74637917e+01,   4.75305340e+01,   4.75972764e+01,\n",
       "         4.76640187e+01,   4.77307610e+01,   4.77975033e+01,\n",
       "         4.78642457e+01,   4.79309880e+01,   4.79977303e+01,\n",
       "         4.80644726e+01,   4.81312150e+01,   4.81979573e+01,\n",
       "         4.82646996e+01,   4.83314419e+01,   4.83981842e+01,\n",
       "         4.84649266e+01,   4.85316689e+01,   4.85984112e+01,\n",
       "         4.86651535e+01,   4.87318959e+01,   4.87986382e+01,\n",
       "         4.88653805e+01,   4.89321228e+01,   4.89988652e+01,\n",
       "         4.90656075e+01,   4.91323498e+01,   4.91990921e+01,\n",
       "         4.92658344e+01,   4.93325768e+01,   4.93993191e+01,\n",
       "         4.94660614e+01,   4.95328037e+01,   4.95995461e+01,\n",
       "         4.96662884e+01,   4.97330307e+01,   4.97997730e+01,\n",
       "         4.98665154e+01,   4.99332577e+01,   5.00000000e+01])"
      ]
     },
     "execution_count": 49,
     "metadata": {},
     "output_type": "execute_result"
    }
   ],
   "source": [
    "x = linspace(x_min, x_max, N)\n",
    "x"
   ]
  },
  {
   "cell_type": "code",
   "execution_count": 63,
   "metadata": {
    "collapsed": false
   },
   "outputs": [
    {
     "name": "stdout",
     "output_type": "stream",
     "text": [
      "Optimization terminated successfully.\n",
      "         Current function value: -6.283185\n",
      "         Iterations: 21\n",
      "         Function evaluations: 42\n"
     ]
    }
   ],
   "source": [
    "U = U_LJ(x, args);\n",
    "f=lambda x: U_LJ(x,args)\n",
    "d=sp.misc.derivative(f,x)\n",
    "x_opt_min = optimize.fmin(U_LJ, [0.1], (args,))"
   ]
  },
  {
   "cell_type": "code",
   "execution_count": 67,
   "metadata": {
    "collapsed": false
   },
   "outputs": [
    {
     "name": "stdout",
     "output_type": "stream",
     "text": [
      "Optimization terminated successfully.\n",
      "         Current function value: -13.000000\n",
      "         Iterations: 28\n",
      "         Function evaluations: 56\n",
      "[ 16.]\n"
     ]
    },
    {
     "name": "stderr",
     "output_type": "stream",
     "text": [
      "/Users/schultzk/anaconda/lib/python2.7/site-packages/ipykernel/__main__.py:11: RuntimeWarning: divide by zero encountered in divide\n",
      "/Users/schultzk/anaconda/lib/python2.7/site-packages/ipykernel/__main__.py:11: RuntimeWarning: invalid value encountered in subtract\n"
     ]
    },
    {
     "data": {
      "image/png": "[encoded data removed]",
      "text/plain": [
       "<matplotlib.figure.Figure at 0x10dd18d90>"
      ]
     },
     "metadata": {},
     "output_type": "display_data"
    }
   ],
   "source": [
    "def fit_guess(a=1,U0=10):\n",
    "    \n",
    "    args = {'min_d': a, 'depth': U0}\n",
    "    U = U_LJ(x, args);\n",
    "    f=lambda x: U_LJ(x,args)\n",
    "    diff=sp.misc.derivative(f,x,dx=.01,n=2)\n",
    "    x_opt_min = optimize.fmin(U_LJ, [0.1], (args,))\n",
    "    print x_opt_min\n",
    "    fig, ax = subplots()\n",
    "   \n",
    "    ax.plot(x, U)\n",
    "    ax.plot(x_opt_min, U_LJ(x_opt_min, args), 'o')\n",
    "    ax.plot(x,diff)\n",
    "    ax.set_ylim(-20, 20)\n",
    "    ax.set_xlabel(r'$x$', fontsize=18)\n",
    "    ax.set_ylabel(r'$U(x)$', fontsize=18);\n",
    "\n",
    "w=interactive(fit_guess,a=(0.,50.,1), U0=(0,20.,1))\n",
    "display(w)\n",
    "\n"
   ]
  },
  {
   "cell_type": "code",
   "execution_count": 55,
   "metadata": {
    "collapsed": false
   },
   "outputs": [
    {
     "ename": "NameError",
     "evalue": "name 'assemble_u_potential' is not defined",
     "output_type": "error",
     "traceback": [
      "\u001b[0;31m---------------------------------------------------------------------------\u001b[0m",
      "\u001b[0;31mNameError\u001b[0m                                 Traceback (most recent call last)",
      "\u001b[0;32m<ipython-input-55-bb28b1e779b2>\u001b[0m in \u001b[0;36m<module>\u001b[0;34m()\u001b[0m\n\u001b[0;32m----> 1\u001b[0;31m \u001b[0mu\u001b[0m \u001b[0;34m=\u001b[0m \u001b[0massemble_u_potential\u001b[0m\u001b[0;34m(\u001b[0m\u001b[0mN\u001b[0m\u001b[0;34m,\u001b[0m \u001b[0mU_ho\u001b[0m\u001b[0;34m,\u001b[0m \u001b[0mx\u001b[0m\u001b[0;34m,\u001b[0m \u001b[0margs\u001b[0m\u001b[0;34m)\u001b[0m\u001b[0;34m\u001b[0m\u001b[0m\n\u001b[0m\u001b[1;32m      2\u001b[0m \u001b[0;34m\u001b[0m\u001b[0m\n\u001b[1;32m      3\u001b[0m \u001b[0mK\u001b[0m \u001b[0;34m=\u001b[0m \u001b[0massemble_K\u001b[0m\u001b[0;34m(\u001b[0m\u001b[0mN\u001b[0m\u001b[0;34m,\u001b[0m \u001b[0mk\u001b[0m\u001b[0;34m,\u001b[0m \u001b[0mx_min\u001b[0m\u001b[0;34m,\u001b[0m \u001b[0mx_max\u001b[0m\u001b[0;34m)\u001b[0m\u001b[0;34m\u001b[0m\u001b[0m\n\u001b[1;32m      4\u001b[0m \u001b[0;34m\u001b[0m\u001b[0m\n\u001b[1;32m      5\u001b[0m \u001b[0mV\u001b[0m \u001b[0;34m=\u001b[0m \u001b[0massemble_V\u001b[0m\u001b[0;34m(\u001b[0m\u001b[0mN\u001b[0m\u001b[0;34m,\u001b[0m \u001b[0mu\u001b[0m\u001b[0;34m,\u001b[0m \u001b[0mx_min\u001b[0m\u001b[0;34m,\u001b[0m \u001b[0mx_max\u001b[0m\u001b[0;34m)\u001b[0m\u001b[0;34m\u001b[0m\u001b[0m\n",
      "\u001b[0;31mNameError\u001b[0m: name 'assemble_u_potential' is not defined"
     ]
    }
   ],
   "source": []
  },
  {
   "cell_type": "code",
   "execution_count": 102,
   "metadata": {
    "collapsed": false
   },
   "outputs": [
    {
     "data": {
      "image/png": "[encoded data removed]",
      "text/plain": [
       "<matplotlib.figure.Figure at 0x10e516b50>"
      ]
     },
     "metadata": {},
     "output_type": "display_data"
    }
   ],
   "source": [
    "fig, ax = subplots()\n",
    "   \n",
    "ax.plot(x, exp(-2*((x)/5)**2))\n",
    "ax.plot(x,exp(2*x/5))\n",
    "ax.plot(x,exp(-2*((x)/5)**2)*exp(2*x/5))\n",
    "ax.set_ylim(-0, 10)\n",
    "ax.set_xlabel(r'$x$', fontsize=18)\n",
    "ax.set_ylabel(r'$U(x)$', fontsize=18);"
   ]
  },
  {
   "cell_type": "code",
   "execution_count": 24,
   "metadata": {
    "collapsed": false
   },
   "outputs": [
    {
     "data": {
      "image/png": "[encoded data removed]",
      "text/plain": [
       "<matplotlib.figure.Figure at 0x10bc391d0>"
      ]
     },
     "metadata": {},
     "output_type": "display_data"
    }
   ],
   "source": [
    "fig, ax = subplots(figsize=(12,8))\n",
    "\n",
    "ax.plot(x, U, 'k')\n",
    "for n in range(10):\n",
    "    Y = evals[n] + evecs[n]\n",
    "\n",
    "    mask = where(Y > U)    \n",
    "    ax.plot(x[mask], evals[n].real * ones(shape(x))[mask], 'k--')\n",
    "\n",
    "    mask = where(Y > U-2.0)\n",
    "    ax.plot(x[mask], Y[mask].real)\n",
    "    \n",
    "ax.set_xlim(-1, 1)\n",
    "ax.set_ylim(0, 10)\n",
    "ax.set_xlabel(r'$x$', fontsize=18)\n",
    "ax.set_ylabel(r'$U(x)$', fontsize=18);"
   ]
  },
  {
   "cell_type": "code",
   "execution_count": 14,
   "metadata": {
    "collapsed": false
   },
   "outputs": [
    {
     "ename": "NameError",
     "evalue": "name 'boundidx' is not defined",
     "output_type": "error",
     "traceback": [
      "\u001b[0;31m---------------------------------------------------------------------------\u001b[0m",
      "\u001b[0;31mNameError\u001b[0m                                 Traceback (most recent call last)",
      "\u001b[0;32m<ipython-input-14-a2a1a0e7cca0>\u001b[0m in \u001b[0;36m<module>\u001b[0;34m()\u001b[0m\n\u001b[0;32m----> 1\u001b[0;31m \u001b[0minner_prod\u001b[0m \u001b[0;34m=\u001b[0m \u001b[0mzeros\u001b[0m\u001b[0;34m(\u001b[0m\u001b[0;34m(\u001b[0m\u001b[0mlen\u001b[0m\u001b[0;34m(\u001b[0m\u001b[0mboundidx\u001b[0m\u001b[0;34m)\u001b[0m\u001b[0;34m,\u001b[0m \u001b[0mlen\u001b[0m\u001b[0;34m(\u001b[0m\u001b[0mboundidx\u001b[0m\u001b[0;34m)\u001b[0m\u001b[0;34m)\u001b[0m\u001b[0;34m)\u001b[0m\u001b[0;34m.\u001b[0m\u001b[0mastype\u001b[0m\u001b[0;34m(\u001b[0m\u001b[0mnp\u001b[0m\u001b[0;34m.\u001b[0m\u001b[0mcomplex\u001b[0m\u001b[0;34m)\u001b[0m\u001b[0;34m\u001b[0m\u001b[0m\n\u001b[0m\u001b[1;32m      2\u001b[0m \u001b[0mexpect_pos\u001b[0m \u001b[0;34m=\u001b[0m \u001b[0mzeros\u001b[0m\u001b[0;34m(\u001b[0m\u001b[0;34m(\u001b[0m\u001b[0mlen\u001b[0m\u001b[0;34m(\u001b[0m\u001b[0mboundidx\u001b[0m\u001b[0;34m)\u001b[0m\u001b[0;34m,\u001b[0m \u001b[0mlen\u001b[0m\u001b[0;34m(\u001b[0m\u001b[0mboundidx\u001b[0m\u001b[0;34m)\u001b[0m\u001b[0;34m)\u001b[0m\u001b[0;34m)\u001b[0m\u001b[0;34m.\u001b[0m\u001b[0mastype\u001b[0m\u001b[0;34m(\u001b[0m\u001b[0mnp\u001b[0m\u001b[0;34m.\u001b[0m\u001b[0mcomplex\u001b[0m\u001b[0;34m)\u001b[0m\u001b[0;34m\u001b[0m\u001b[0m\n\u001b[1;32m      3\u001b[0m \u001b[0mexpect_kin\u001b[0m \u001b[0;34m=\u001b[0m \u001b[0mzeros\u001b[0m\u001b[0;34m(\u001b[0m\u001b[0;34m(\u001b[0m\u001b[0mlen\u001b[0m\u001b[0;34m(\u001b[0m\u001b[0mboundidx\u001b[0m\u001b[0;34m)\u001b[0m\u001b[0;34m,\u001b[0m \u001b[0mlen\u001b[0m\u001b[0;34m(\u001b[0m\u001b[0mboundidx\u001b[0m\u001b[0;34m)\u001b[0m\u001b[0;34m)\u001b[0m\u001b[0;34m)\u001b[0m\u001b[0;34m.\u001b[0m\u001b[0mastype\u001b[0m\u001b[0;34m(\u001b[0m\u001b[0mnp\u001b[0m\u001b[0;34m.\u001b[0m\u001b[0mcomplex\u001b[0m\u001b[0;34m)\u001b[0m\u001b[0;34m\u001b[0m\u001b[0m\n\u001b[1;32m      4\u001b[0m \u001b[0;34m\u001b[0m\u001b[0m\n\u001b[1;32m      5\u001b[0m \u001b[0;32mfor\u001b[0m \u001b[0mi\u001b[0m\u001b[0;34m,\u001b[0m \u001b[0ml\u001b[0m \u001b[0;32min\u001b[0m \u001b[0menumerate\u001b[0m\u001b[0;34m(\u001b[0m\u001b[0mboundidx\u001b[0m\u001b[0;34m)\u001b[0m\u001b[0;34m:\u001b[0m\u001b[0;34m\u001b[0m\u001b[0m\n",
      "\u001b[0;31mNameError\u001b[0m: name 'boundidx' is not defined"
     ]
    }
   ],
   "source": [
    "inner_prod = zeros((len(boundidx), len(boundidx))).astype(np.complex)\n",
    "expect_pos = zeros((len(boundidx), len(boundidx))).astype(np.complex)\n",
    "expect_kin = zeros((len(boundidx), len(boundidx))).astype(np.complex)\n",
    "\n",
    "for i, l in enumerate(boundidx):\n",
    "    for j, k in enumerate(boundidx):\n",
    "    \n",
    "        psi_l = wavefunction_normalize(x, evecs[l])\n",
    "        psi_k = wavefunction_normalize(x, evecs[k])\n",
    "    \n",
    "        inner_prod[i,j] = inner_product(x, psi_l, psi_k)                 # <psi_l|psi_k>\n",
    "        expect_pos[i,j] = inner_product(x, psi_l, x * psi_k)             # <psi_l|x|psi_k>\n",
    "        expect_kin[i,j] = inner_product(x, psi_l, derivative(x, psi_k))  # <psi_l|p|psi_k>"
   ]
  },
  {
   "cell_type": "code",
   "execution_count": 15,
   "metadata": {
    "collapsed": false
   },
   "outputs": [
    {
     "name": "stdout",
     "output_type": "stream",
     "text": [
      "Found bound states:  [0 1 2 3 4 5 6 7 8 9]\n"
     ]
    }
   ],
   "source": [
    "boundidx = arange(10)\n",
    "nbound = len(boundidx)\n",
    "            \n",
    "print \"Found bound states: \", boundidx"
   ]
  },
  {
   "cell_type": "code",
   "execution_count": 16,
   "metadata": {
    "collapsed": false
   },
   "outputs": [
    {
     "name": "stdout",
     "output_type": "stream",
     "text": [
      "eigenenergies = \n"
     ]
    },
    {
     "data": {
      "text/plain": [
       "array([-579.24177329, -551.74029645, -529.68159054, -510.52645987,\n",
       "       -493.29425735, -477.47489592, -462.75985171, -448.94431251,\n",
       "       -435.88338519, -423.46970162])"
      ]
     },
     "execution_count": 16,
     "metadata": {},
     "output_type": "execute_result"
    }
   ],
   "source": [
    "print \"eigenenergies = \" \n",
    "\n",
    "evals[0:nbound].real"
   ]
  },
  {
   "cell_type": "code",
   "execution_count": null,
   "metadata": {
    "collapsed": true
   },
   "outputs": [],
   "source": []
  }
 ],
 "metadata": {
  "kernelspec": {
   "display_name": "Python 2",
   "language": "python",
   "name": "python2"
  },
  "language_info": {
   "codemirror_mode": {
    "name": "ipython",
    "version": 2
   },
   "file_extension": ".py",
   "mimetype": "text/x-python",
   "name": "python",
   "nbconvert_exporter": "python",
   "pygments_lexer": "ipython2",
   "version": "2.7.11"
  }
 },
 "nbformat": 4,
 "nbformat_minor": 0
}
