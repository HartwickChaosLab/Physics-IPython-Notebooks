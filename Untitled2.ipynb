{
 "cells": [
  {
   "cell_type": "code",
   "execution_count": 2,
   "metadata": {
    "collapsed": false
   },
   "outputs": [
    {
     "name": "stdout",
     "output_type": "stream",
     "text": [
      "Populating the interactive namespace from numpy and matplotlib\n"
     ]
    },
    {
     "data": {
      "text/plain": [
       "{'Counter0Enabled': False,\n",
       " 'Counter1Enabled': False,\n",
       " 'NumberTimersEnabled': 0,\n",
       " 'TimerCounterPinOffset': 0}"
      ]
     },
     "execution_count": 2,
     "metadata": {},
     "output_type": "execute_result"
    }
   ],
   "source": [
    "import u6\n",
    "from time import sleep\n",
    "from datetime import datetime\n",
    "\n",
    "import numpy as np\n",
    "\n",
    "import matplotlib.pyplot as plt\n",
    "\n",
    "%pylab inline --no-import-all \n",
    "import scipy as sp\n",
    "d = u6.U6()\n",
    "\n",
    "# Set up U6\n",
    "d.configU6()\n",
    "\n",
    "# For applying the proper calibration to readings.\n",
    "d.getCalibrationData()\n",
    "\n",
    "# Set the FIO0 to Analog\n",
    "d.configIO()"
   ]
  },
  {
   "cell_type": "code",
   "execution_count": 53,
   "metadata": {
    "collapsed": false
   },
   "outputs": [
    {
     "name": "stdout",
     "output_type": "stream",
     "text": [
      "configuring U6 stream\n"
     ]
    }
   ],
   "source": [
    "# MAX_REQUESTS is the number of packets to be read.\n",
    "MAX_REQUESTS = 48\n",
    "\n",
    "# the number of samples will be MAX_REQUESTS times 48 (packets per request) times 25 (samples per packet).\n",
    "\n",
    "\n",
    "print \"configuring U6 stream\"\n",
    "#d.streamConfig( NumChannels = 1,SamplesPerPacket=25,InternalStreamClockFrequency=1,DivideClockBy256=True, ResolutionIndex = 0 )\n",
    "d.streamConfig( NumChannels = 2, ChannelNumbers = [ 0, 1 ], ChannelOptions = [ 0, 0 ], SettlingFactor = 1, ResolutionIndex = 1, ScanFrequency = 22000 )"
   ]
  },
  {
   "cell_type": "code",
   "execution_count": 4,
   "metadata": {
    "collapsed": false
   },
   "outputs": [
    {
     "name": "stdout",
     "output_type": "stream",
     "text": [
      "Help on method streamConfig in module u6:\n",
      "\n",
      "streamConfig(self, NumChannels=1, ResolutionIndex=0, SamplesPerPacket=25, SettlingFactor=0, InternalStreamClockFrequency=0, DivideClockBy256=False, ScanInterval=1, ChannelNumbers=[0], ChannelOptions=[0], ScanFrequency=None, SampleFrequency=None) method of u6.U6 instance\n",
      "    Name: U6.streamConfig(NumChannels = 1, ResolutionIndex = 0,\n",
      "                          SamplesPerPacket = 25, SettlingFactor = 0,\n",
      "                          InternalStreamClockFrequency = 0, DivideClockBy256 = False,\n",
      "                          ScanInterval = 1, ChannelNumbers = [0],\n",
      "                          ChannelOptions = [0], ScanFrequency = None,\n",
      "                          SampleFrequency = None )\n",
      "    Args: NumChannels, the number of channels to stream\n",
      "          ResolutionIndex, the resolution index of the samples (0-8)\n",
      "          SettlingFactor, the settling factor to be used\n",
      "          ChannelNumbers, a list of channel numbers to stream\n",
      "          ChannelOptions, a list of channel options bytes.\n",
      "                          ChannelOptions byte:  bit 7 = Differential,\n",
      "                                                bit 4-5 = GainIndex\n",
      "                            Set bit 7 for differential reading.\n",
      "                            GainIndex: 0(b00)=x1,  1(b01)=x10, 2(b10)=x100,\n",
      "                                       3(b11)=x1000\n",
      "          \n",
      "          Set Either:\n",
      "          \n",
      "          ScanFrequency, the frequency in Hz to scan the channel list (ChannelNumbers).\n",
      "                         sample rate (Hz) = ScanFrequency * NumChannels\n",
      "          \n",
      "          -- OR --\n",
      "          \n",
      "          SamplesPerPacket, how many samples make one packet\n",
      "          InternalStreamClockFrequency, 0 = 4 MHz, 1 = 48 MHz\n",
      "          DivideClockBy256, True = divide the clock by 256\n",
      "          ScanInterval, clock/ScanInterval = frequency.\n",
      "          \n",
      "          See Section 5.2.12 of the User's Guide for more details.\n",
      "          \n",
      "          Deprecated:\n",
      "          \n",
      "          SampleFrequency, the frequency in Hz to sample.  Use ScanFrequency\n",
      "                           since SampleFrequency has always set the scan\n",
      "                           frequency and the name is confusing.\n",
      "    \n",
      "    Desc: Configures streaming on the U6. On a decent machine, you can\n",
      "          expect to stream a range of 0.238 Hz to 15 Hz. Without the\n",
      "          conversion, you can get up to 55 Hz.\n",
      "\n"
     ]
    }
   ],
   "source": [
    "help(d.streamConfig)"
   ]
  },
  {
   "cell_type": "code",
   "execution_count": 64,
   "metadata": {
    "collapsed": true
   },
   "outputs": [],
   "source": [
    "def getData():\n",
    "    data1=np.array([],dtype=float)\n",
    "    data2=np.array([],dtype=float)\n",
    "    try:\n",
    "       # print \"start stream\",\n",
    "        d.streamStart()\n",
    "        start = datetime.now()\n",
    "        #print start\n",
    "        \n",
    "        missed = 0\n",
    "        dataCount = 0\n",
    "        packetCount = 0\n",
    "    \n",
    "        for r in d.streamData():\n",
    "            if r is not None:\n",
    "                # Our stop condition\n",
    "                if dataCount >= MAX_REQUESTS:\n",
    "                    break\n",
    "                \n",
    "                if r['errors'] != 0:\n",
    "                    print \"Error: %s ; \" % r['errors'], datetime.now()\n",
    "    \n",
    "                if r['numPackets'] != d.packetsPerRequest:\n",
    "                    print \"----- UNDERFLOW : %s : \" % r['numPackets'], datetime.now()\n",
    "    \n",
    "                if r['missed'] != 0:\n",
    "                    missed += r['missed']\n",
    "                    print \"+++ Missed \", r['missed']\n",
    "               \n",
    "                data1=np.append(data1,r['AIN0'])\n",
    "                data2=np.append(data2,r['AIN1'])\n",
    "                dataCount += 1\n",
    "                packetCount += r['numPackets']\n",
    "            else:\n",
    "                # Got no data back from our read.\n",
    "                # This only happens if your stream isn't faster than the \n",
    "                # the USB read timeout, ~1 sec.\n",
    "                print \"No data\", datetime.now()\n",
    "    except:\n",
    "        print \"\".join(i for i in traceback.format_exc())\n",
    "    finally:\n",
    "        stop = datetime.now()\n",
    "        d.streamStop()\n",
    "        \n",
    "    return(data1,data2)"
   ]
  },
  {
   "cell_type": "code",
   "execution_count": 11,
   "metadata": {
    "collapsed": true
   },
   "outputs": [],
   "source": [
    "import traceback"
   ]
  },
  {
   "cell_type": "code",
   "execution_count": 65,
   "metadata": {
    "collapsed": false
   },
   "outputs": [],
   "source": [
    "D1, D2=getData()\n"
   ]
  },
  {
   "cell_type": "code",
   "execution_count": 57,
   "metadata": {
    "collapsed": false
   },
   "outputs": [],
   "source": [
    "def getFreq(y,Fs):\n",
    "    \n",
    "    n = len(y) # length of the signal\n",
    "    w=sp.blackman(n)\n",
    "    k = np.arange(n)\n",
    "\n",
    "    T = 1.*n/Fs\n",
    "\n",
    "    #print T\n",
    "    frq = k/T # two sides frequency range\n",
    "    frq = frq[range(n/2)] # one side frequency range\n",
    "   \n",
    "    Y = np.abs(sp.fft(y*w)*10.) # fft computing and normalization\n",
    "   \n",
    "    fig, axes=plt.subplots()\n",
    "    axes.plot(frq,Y[0:n/2],'.')\n",
    "    return (frq[np.argmax(Y[1:n/2])])"
   ]
  },
  {
   "cell_type": "code",
   "execution_count": 67,
   "metadata": {
    "collapsed": false
   },
   "outputs": [
    {
     "data": {
      "text/plain": [
       "994.58333333333337"
      ]
     },
     "execution_count": 67,
     "metadata": {},
     "output_type": "execute_result"
    },
    {
     "data": {
      "image/png": "[encoded data removed]",
      "text/plain": [
       "<matplotlib.figure.Figure at 0x10b6a5390>"
      ]
     },
     "metadata": {},
     "output_type": "display_data"
    }
   ],
   "source": [
    "getFreq(D2,22000)"
   ]
  },
  {
   "cell_type": "code",
   "execution_count": 68,
   "metadata": {
    "collapsed": false
   },
   "outputs": [
    {
     "data": {
      "text/plain": [
       "994.58333333333337"
      ]
     },
     "execution_count": 68,
     "metadata": {},
     "output_type": "execute_result"
    },
    {
     "data": {
      "image/png": "[encoded data removed]",
      "text/plain": [
       "<matplotlib.figure.Figure at 0x10eee5a10>"
      ]
     },
     "metadata": {},
     "output_type": "display_data"
    }
   ],
   "source": [
    "getFreq(D1,22000)"
   ]
  },
  {
   "cell_type": "code",
   "execution_count": 29,
   "metadata": {
    "collapsed": false
   },
   "outputs": [
    {
     "data": {
      "text/plain": [
       "28800"
      ]
     },
     "execution_count": 29,
     "metadata": {},
     "output_type": "execute_result"
    }
   ],
   "source": [
    "len(D1)"
   ]
  },
  {
   "cell_type": "code",
   "execution_count": 30,
   "metadata": {
    "collapsed": false
   },
   "outputs": [
    {
     "name": "stdout",
     "output_type": "stream",
     "text": [
      "Help on function argmax in module numpy.core.fromnumeric:\n",
      "\n",
      "argmax(a, axis=None)\n",
      "    Indices of the maximum values along an axis.\n",
      "    \n",
      "    Parameters\n",
      "    ----------\n",
      "    a : array_like\n",
      "        Input array.\n",
      "    axis : int, optional\n",
      "        By default, the index is into the flattened array, otherwise\n",
      "        along the specified axis.\n",
      "    \n",
      "    Returns\n",
      "    -------\n",
      "    index_array : ndarray of ints\n",
      "        Array of indices into the array. It has the same shape as `a.shape`\n",
      "        with the dimension along `axis` removed.\n",
      "    \n",
      "    See Also\n",
      "    --------\n",
      "    ndarray.argmax, argmin\n",
      "    amax : The maximum value along a given axis.\n",
      "    unravel_index : Convert a flat index into an index tuple.\n",
      "    \n",
      "    Notes\n",
      "    -----\n",
      "    In case of multiple occurrences of the maximum values, the indices\n",
      "    corresponding to the first occurrence are returned.\n",
      "    \n",
      "    Examples\n",
      "    --------\n",
      "    >>> a = np.arange(6).reshape(2,3)\n",
      "    >>> a\n",
      "    array([[0, 1, 2],\n",
      "           [3, 4, 5]])\n",
      "    >>> np.argmax(a)\n",
      "    5\n",
      "    >>> np.argmax(a, axis=0)\n",
      "    array([1, 1, 1])\n",
      "    >>> np.argmax(a, axis=1)\n",
      "    array([2, 2])\n",
      "    \n",
      "    >>> b = np.arange(6)\n",
      "    >>> b[1] = 5\n",
      "    >>> b\n",
      "    array([0, 5, 2, 3, 4, 5])\n",
      "    >>> np.argmax(b) # Only the first occurrence is returned.\n",
      "    1\n",
      "\n"
     ]
    }
   ],
   "source": [
    "help(np.argmax)"
   ]
  },
  {
   "cell_type": "code",
   "execution_count": 61,
   "metadata": {
    "collapsed": false
   },
   "outputs": [
    {
     "ename": "ImportError",
     "evalue": "No module named pypi",
     "output_type": "error",
     "traceback": [
      "\u001b[0;31m---------------------------------------------------------------------------\u001b[0m",
      "\u001b[0;31mImportError\u001b[0m                               Traceback (most recent call last)",
      "\u001b[0;32m<ipython-input-61-18f6c01a8e7b>\u001b[0m in \u001b[0;36m<module>\u001b[0;34m()\u001b[0m\n\u001b[0;32m----> 1\u001b[0;31m \u001b[0;32mimport\u001b[0m \u001b[0mpypi\u001b[0m\u001b[0;34m\u001b[0m\u001b[0m\n\u001b[0m",
      "\u001b[0;31mImportError\u001b[0m: No module named pypi"
     ]
    }
   ],
   "source": [
    "import pypi\n"
   ]
  },
  {
   "cell_type": "code",
   "execution_count": 62,
   "metadata": {
    "collapsed": false
   },
   "outputs": [
    {
     "ename": "ImportError",
     "evalue": "No module named PyPi",
     "output_type": "error",
     "traceback": [
      "\u001b[0;31m---------------------------------------------------------------------------\u001b[0m",
      "\u001b[0;31mImportError\u001b[0m                               Traceback (most recent call last)",
      "\u001b[0;32m<ipython-input-62-799a69b6dfff>\u001b[0m in \u001b[0;36m<module>\u001b[0;34m()\u001b[0m\n\u001b[0;32m----> 1\u001b[0;31m \u001b[0;32mimport\u001b[0m \u001b[0mPyPi\u001b[0m\u001b[0;34m\u001b[0m\u001b[0m\n\u001b[0m",
      "\u001b[0;31mImportError\u001b[0m: No module named PyPi"
     ]
    }
   ],
   "source": [
    "import PyPi"
   ]
  },
  {
   "cell_type": "code",
   "execution_count": 63,
   "metadata": {
    "collapsed": false
   },
   "outputs": [
    {
     "ename": "SyntaxError",
     "evalue": "invalid syntax (<ipython-input-63-08a63e13bdf2>, line 1)",
     "output_type": "error",
     "traceback": [
      "\u001b[0;36m  File \u001b[0;32m\"<ipython-input-63-08a63e13bdf2>\"\u001b[0;36m, line \u001b[0;32m1\u001b[0m\n\u001b[0;31m    conda install peakUtils\u001b[0m\n\u001b[0m                ^\u001b[0m\n\u001b[0;31mSyntaxError\u001b[0m\u001b[0;31m:\u001b[0m invalid syntax\n"
     ]
    }
   ],
   "source": [
    "conda install peakUtils"
   ]
  },
  {
   "cell_type": "code",
   "execution_count": null,
   "metadata": {
    "collapsed": true
   },
   "outputs": [],
   "source": []
  }
 ],
 "metadata": {
  "kernelspec": {
   "display_name": "Python 2",
   "language": "python",
   "name": "python2"
  }
 },
 "nbformat": 4,
 "nbformat_minor": 0
}
