{
 "cells": [
  {
   "cell_type": "code",
   "execution_count": 1,
   "metadata": {
    "collapsed": true
   },
   "outputs": [],
   "source": [
    "from numpy import dot, array, empty, allclose,pi,linspace,arange,sin,shape,sqrt\n",
    "from numpy.linalg import solve,eigh,eigvalsh\n",
    "from pylab import plot,show"
   ]
  },
  {
   "cell_type": "markdown",
   "metadata": {},
   "source": [
    "# Exercise 6.1\n",
    "\n",
    "$-4V1- V2-V3-V4=5\\\\\n",
    "-V1+3V2-V4=0\\\\\n",
    "-V1+3V3-V4=5\\\\\n",
    "-V1-V2-V3+V4=0$"
   ]
  },
  {
   "cell_type": "code",
   "execution_count": 2,
   "metadata": {
    "collapsed": true
   },
   "outputs": [],
   "source": [
    "def gauss_elim(A,v):\n",
    "    N = len(v)\n",
    "\n",
    "# Gaussian elimination\n",
    "    for m in range(N):\n",
    "\n",
    "    # Divide by the diagonal element\n",
    "        div = A[m,m]\n",
    "        A[m,:] /= div\n",
    "        v[m] /= div\n",
    "\n",
    "    # Now subtract from the lower rows\n",
    "        for i in range(m+1,N):\n",
    "            mult = A[i,m]\n",
    "            A[i,:] -= mult*A[m,:]\n",
    "            v[i] -= mult*v[m]\n",
    "\n",
    "# Backsubstitution\n",
    "    x = empty(N,float)\n",
    "    for m in range(N-1,-1,-1):\n",
    "        x[m] = v[m]\n",
    "        for i in range(m+1,N):\n",
    "            x[m] -= A[m,i]*x[i]\n",
    "\n",
    "    print(x)"
   ]
  },
  {
   "cell_type": "code",
   "execution_count": 3,
   "metadata": {
    "collapsed": true
   },
   "outputs": [],
   "source": [
    "A=array([[4 , -1, -1, 1],\n",
    "         [-1, 3, 0, -1],\n",
    "         [-1, 0, 3, -1],\n",
    "         [-1, -1, -1, 4]],float)\n",
    "v=array([5,0,5,0],float)"
   ]
  },
  {
   "cell_type": "code",
   "execution_count": 4,
   "metadata": {},
   "outputs": [
    {
     "name": "stdout",
     "output_type": "stream",
     "text": [
      "[ 1.85714286  1.0952381   2.76190476  1.42857143]\n"
     ]
    }
   ],
   "source": [
    "gauss_elim(A,v)"
   ]
  },
  {
   "cell_type": "code",
   "execution_count": 5,
   "metadata": {},
   "outputs": [
    {
     "data": {
      "text/plain": [
       "array([ 1.85714286,  1.0952381 ,  2.76190476,  1.42857143])"
      ]
     },
     "execution_count": 5,
     "metadata": {},
     "output_type": "execute_result"
    }
   ],
   "source": [
    "solve(A,v)"
   ]
  },
  {
   "cell_type": "code",
   "execution_count": 6,
   "metadata": {
    "collapsed": true
   },
   "outputs": [],
   "source": [
    "def pivot(A,v):\n",
    "    N=len(v)\n",
    "    \n",
    "    for m in range(N):\n",
    "        index=m\n",
    "        test=A[m,m]\n",
    "        for i in range(m+1,N):\n",
    "            if abs(A[i,m])>test:\n",
    "                test=A[i,m]\n",
    "                \n",
    "                index=i\n",
    "                \n",
    "        for i in range(N):\n",
    "            A[m,i],A[index,i]=A[index,i],A[m,i]\n",
    "        v[m],v[index]=v[index],v[m]\n",
    "        print(A,v)\n",
    "    # Gaussian elimination\n",
    "\n",
    "\n",
    "    # Divide by the diagonal element\n",
    "        div = A[m,m]\n",
    "        A[m,:] /= div\n",
    "        v[m] /= div\n",
    "\n",
    "    # Now subtract from the lower rows\n",
    "        for i in range(m+1,N):\n",
    "            mult = A[i,m]\n",
    "            A[i,:] -= mult*A[m,:]\n",
    "            v[i] -= mult*v[m]\n",
    "\n",
    "# Backsubstitution\n",
    "    x = empty(N,float)\n",
    "    for m in range(N-1,-1,-1):\n",
    "        x[m] = v[m]\n",
    "        for i in range(m+1,N):\n",
    "            x[m] -= A[m,i]*x[i]\n",
    "\n",
    "    print(x)"
   ]
  },
  {
   "cell_type": "code",
   "execution_count": 7,
   "metadata": {
    "collapsed": true
   },
   "outputs": [],
   "source": [
    "A=array([[4 , -1, -1, 1],\n",
    "         [-1, 3, 0, -1],\n",
    "         [-1, 0, 3, -1],\n",
    "         [-1, -1, -1, 4]],float)\n",
    "v=array([5,0,5,0],float)"
   ]
  },
  {
   "cell_type": "code",
   "execution_count": 8,
   "metadata": {},
   "outputs": [
    {
     "name": "stdout",
     "output_type": "stream",
     "text": [
      "[[ 4. -1. -1.  1.]\n",
      " [-1.  3.  0. -1.]\n",
      " [-1.  0.  3. -1.]\n",
      " [-1. -1. -1.  4.]] [ 5.  0.  5.  0.]\n",
      "[[ 1.   -0.25 -0.25  0.25]\n",
      " [ 0.    2.75 -0.25 -0.75]\n",
      " [ 0.   -0.25  2.75 -0.75]\n",
      " [ 0.   -1.25 -1.25  4.25]] [ 1.25  1.25  6.25  1.25]\n",
      "[[ 1.         -0.25       -0.25        0.25      ]\n",
      " [ 0.          1.         -0.09090909 -0.27272727]\n",
      " [ 0.          0.          2.72727273 -0.81818182]\n",
      " [ 0.          0.         -1.36363636  3.90909091]] [ 1.25        0.45454545  6.36363636  1.81818182]\n",
      "[[ 1.         -0.25       -0.25        0.25      ]\n",
      " [ 0.          1.         -0.09090909 -0.27272727]\n",
      " [ 0.          0.          1.         -0.3       ]\n",
      " [ 0.          0.          0.          3.5       ]] [ 1.25        0.45454545  2.33333333  5.        ]\n",
      "[ 1.85714286  1.0952381   2.76190476  1.42857143]\n"
     ]
    }
   ],
   "source": [
    "pivot(A,v)"
   ]
  },
  {
   "cell_type": "code",
   "execution_count": 9,
   "metadata": {},
   "outputs": [
    {
     "data": {
      "text/plain": [
       "0.09090909090909091"
      ]
     },
     "execution_count": 9,
     "metadata": {},
     "output_type": "execute_result"
    }
   ],
   "source": [
    ".25/2.75"
   ]
  },
  {
   "cell_type": "code",
   "execution_count": 10,
   "metadata": {
    "collapsed": true
   },
   "outputs": [],
   "source": [
    "A = array([[ 2,  1,  4,  1 ],\n",
    "           [ 3,  4, -1, -1 ],\n",
    "           [ 1, -4,  1,  5 ],\n",
    "           [ 2, -2,  1,  3 ]], float)\n",
    "v = array([ -4, 3, 9, 7 ],float)\n"
   ]
  },
  {
   "cell_type": "code",
   "execution_count": 11,
   "metadata": {},
   "outputs": [
    {
     "name": "stdout",
     "output_type": "stream",
     "text": [
      "[ 2. -1. -2.  1.]\n"
     ]
    }
   ],
   "source": [
    "gauss_elim(A,v)"
   ]
  },
  {
   "cell_type": "code",
   "execution_count": 12,
   "metadata": {},
   "outputs": [
    {
     "name": "stdout",
     "output_type": "stream",
     "text": [
      "[[ 1.   0.5  2.   0.5]\n",
      " [ 0.   1.  -2.8 -1. ]\n",
      " [-0.  -0.   1.  -0. ]\n",
      " [-0.  -0.  -0.   1. ]] [-2.   3.6 -2.   1. ]\n",
      "[[ 1.   0.5  2.   0.5]\n",
      " [ 0.   1.  -2.8 -1. ]\n",
      " [ 0.   0.   1.   0. ]\n",
      " [ 0.   0.   0.   1. ]] [-2.   3.6 -2.   1. ]\n",
      "[[ 1.   0.5  2.   0.5]\n",
      " [ 0.   1.  -2.8 -1. ]\n",
      " [ 0.   0.   1.   0. ]\n",
      " [ 0.   0.   0.   1. ]] [-2.   3.6 -2.   1. ]\n",
      "[[ 1.   0.5  2.   0.5]\n",
      " [ 0.   1.  -2.8 -1. ]\n",
      " [ 0.   0.   1.   0. ]\n",
      " [ 0.   0.   0.   1. ]] [-2.   3.6 -2.   1. ]\n",
      "[ 2. -1. -2.  1.]\n"
     ]
    }
   ],
   "source": [
    "pivot(A,v)"
   ]
  },
  {
   "cell_type": "code",
   "execution_count": 13,
   "metadata": {
    "collapsed": true
   },
   "outputs": [],
   "source": [
    "A = array([[ 0,  1,  4,  1 ],\n",
    "           [ 3,  4, -1, -1 ],\n",
    "           [ 1, -4,  1,  5 ],\n",
    "           [ 2, -2,  1,  3 ]], float)\n",
    "v = array([ -4, 3, 9, 7 ],float)"
   ]
  },
  {
   "cell_type": "code",
   "execution_count": 14,
   "metadata": {},
   "outputs": [
    {
     "name": "stdout",
     "output_type": "stream",
     "text": [
      "[[ 3.  4. -1. -1.]\n",
      " [ 0.  1.  4.  1.]\n",
      " [ 1. -4.  1.  5.]\n",
      " [ 2. -2.  1.  3.]] [ 3. -4.  9.  7.]\n",
      "[[ 1.          1.33333333 -0.33333333 -0.33333333]\n",
      " [ 0.         -4.66666667  1.66666667  3.66666667]\n",
      " [ 0.         -5.33333333  1.33333333  5.33333333]\n",
      " [ 0.          1.          4.          1.        ]] [ 1.  5.  8. -4.]\n",
      "[[ 1.          1.33333333 -0.33333333 -0.33333333]\n",
      " [-0.          1.         -0.35714286 -0.78571429]\n",
      " [ 0.          0.          4.35714286  1.78571429]\n",
      " [ 0.          0.         -0.57142857  1.14285714]] [ 1.         -1.07142857 -2.92857143  2.28571429]\n",
      "[[ 1.          1.33333333 -0.33333333 -0.33333333]\n",
      " [-0.          1.         -0.35714286 -0.78571429]\n",
      " [ 0.          0.          1.          0.40983607]\n",
      " [ 0.          0.          0.          1.37704918]] [ 1.         -1.07142857 -0.67213115  1.90163934]\n",
      "[ 1.61904762 -0.42857143 -1.23809524  1.38095238]\n"
     ]
    }
   ],
   "source": [
    "pivot(A,v)"
   ]
  },
  {
   "cell_type": "code",
   "execution_count": 15,
   "metadata": {},
   "outputs": [
    {
     "data": {
      "text/plain": [
       "array([ 1.61904762, -0.42857143, -1.23809524,  1.38095238])"
      ]
     },
     "execution_count": 15,
     "metadata": {},
     "output_type": "execute_result"
    }
   ],
   "source": [
    "solve(A,v)"
   ]
  },
  {
   "cell_type": "code",
   "execution_count": 20,
   "metadata": {
    "collapsed": true
   },
   "outputs": [],
   "source": [
    "L=.5 #nm\n",
    "Eo=.511e6 #m=Eo/c^2\n",
    "charge=1.6022e-19\n",
    "a=10.\n",
    "\n",
    "hc=1240 #evnm\n",
    "N=4\n",
    "Hamiltonian=empty([N,N],float)"
   ]
  },
  {
   "cell_type": "code",
   "execution_count": null,
   "metadata": {
    "collapsed": true
   },
   "outputs": [],
   "source": []
  },
  {
   "cell_type": "code",
   "execution_count": 21,
   "metadata": {
    "collapsed": true
   },
   "outputs": [],
   "source": [
    "for m in range(0,N):\n",
    "    for n in range(0,N):\n",
    "        if m==n:\n",
    "            Hamiltonian[m,n]=(hc*(n+1))**2/(8*L**2*Eo)+a/2\n",
    "        elif (((m+1)%2==0 and (n+1)%2!=0)or((n+1)%2==0 and (m+1)%2!=0)):\n",
    "            Hamiltonian[m,n]=-8*a*(m+1)*(n+1)/(pi**2*((m+1)**2-(n+1)**2)**2)\n",
    "        else:\n",
    "            Hamiltonian[m,n]=0"
   ]
  },
  {
   "cell_type": "code",
   "execution_count": 22,
   "metadata": {
    "collapsed": true
   },
   "outputs": [],
   "source": [
    "evals,evecs=eigh(Hamiltonian)"
   ]
  },
  {
   "cell_type": "code",
   "execution_count": 23,
   "metadata": {},
   "outputs": [
    {
     "data": {
      "image/png": "[encoded data removed]",
      "text/plain": [
       "<matplotlib.figure.Figure at 0x117a65e80>"
      ]
     },
     "metadata": {},
     "output_type": "display_data"
    }
   ],
   "source": [
    "x=linspace(0,L,500)\n",
    "index=arange(0,N)\n",
    "y=0.\n",
    "for n in index:\n",
    "    y+=sin((n+1)*x*pi/L)*evecs[1,n]\n",
    "psi2=y/sqrt(sum(y**2))\n",
    "\n",
    "plot(x,psi2**2)\n",
    "show()"
   ]
  },
  {
   "cell_type": "code",
   "execution_count": 256,
   "metadata": {},
   "outputs": [
    {
     "data": {
      "text/plain": [
       "array([   5.83690345,   11.1825923 ,   18.66628199,   29.15025447,\n",
       "         42.66456076,   59.19888772,   78.7479375 ,  101.30918855,\n",
       "        126.88135575,  155.46373574])"
      ]
     },
     "execution_count": 256,
     "metadata": {},
     "output_type": "execute_result"
    }
   ],
   "source": [
    "eigvalsh(Hamiltonian)[0:10]"
   ]
  },
  {
   "cell_type": "code",
   "execution_count": 255,
   "metadata": {
    "collapsed": true
   },
   "outputs": [],
   "source": [
    "\n",
    "N=100\n",
    "Hamiltonian=empty([N,N],float)\n",
    "for m in range(0,N):\n",
    "    for n in range(0,N):\n",
    "        if m==n:\n",
    "            Hamiltonian[m,n]=(hc*(n+1))**2/(8*L**2*Eo)+a/2\n",
    "        elif (((m+1)%2==0 and (n+1)%2!=0)or((n+1)%2==0 and (m+1)%2!=0)):\n",
    "            Hamiltonian[m,n]=-8*a*(m+1)*(n+1)/(pi**2*((m+1)**2-(n+1)**2)**2)\n",
    "        else:\n",
    "            Hamiltonian[m,n]=0"
   ]
  },
  {
   "cell_type": "code",
   "execution_count": 24,
   "metadata": {},
   "outputs": [
    {
     "name": "stdout",
     "output_type": "stream",
     "text": [
      "[[  6.50450098  -1.80126549   0.          -0.14410124]\n",
      " [ -1.80126549  11.01800391  -1.94536673   0.        ]\n",
      " [  0.          -1.94536673  18.54050881  -1.98506809]\n",
      " [ -0.14410124   0.          -1.98506809  29.07201566]]\n"
     ]
    }
   ],
   "source": [
    "print(Hamiltonian)"
   ]
  },
  {
   "cell_type": "code",
   "execution_count": null,
   "metadata": {
    "collapsed": true
   },
   "outputs": [],
   "source": []
  }
 ],
 "metadata": {
  "kernelspec": {
   "display_name": "Python 3",
   "language": "python",
   "name": "python3"
  },
  "language_info": {
   "codemirror_mode": {
    "name": "ipython",
    "version": 3
   },
   "file_extension": ".py",
   "mimetype": "text/x-python",
   "name": "python",
   "nbconvert_exporter": "python",
   "pygments_lexer": "ipython3",
   "version": "3.6.3"
  }
 },
 "nbformat": 4,
 "nbformat_minor": 2
}
