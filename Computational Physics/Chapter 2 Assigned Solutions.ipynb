{
 "cells": [
  {
   "cell_type": "code",
   "execution_count": null,
   "metadata": {
    "collapsed": true
   },
   "outputs": [],
   "source": [
    "#import all the functions I wound up using at the top.\n",
    "from math import sqrt "
   ]
  },
  {
   "cell_type": "markdown",
   "metadata": {},
   "source": [
    "# Exercise 2.1\n",
    "\n",
    "Use $t=\\sqrt{\\frac{2h}{g}}$"
   ]
  },
  {
   "cell_type": "code",
   "execution_count": 1,
   "metadata": {},
   "outputs": [
    {
     "name": "stdout",
     "output_type": "stream",
     "text": [
      "Enter height of tower in meters: 100\n",
      "The time to fall  100.0  meters is  4.52  seconds.\n"
     ]
    }
   ],
   "source": [
    "g=9.81 #m/s\n",
    "# get height in meters from user and convert to float\n",
    "h=float(input(\"Enter height of tower in meters: \"))\n",
    "t=round(sqrt(2*h/g),2) #use round so we get a reasonable answer\n",
    "print(\"The time to fall \",h,\" meters is \",t,\" seconds.\")"
   ]
  },
  {
   "cell_type": "markdown",
   "metadata": {},
   "source": [
    "# Exercise 2.5\n",
    "Fairly easy just watch units. An easy check is that to within rounding T+R better equal 1"
   ]
  },
  {
   "cell_type": "code",
   "execution_count": 2,
   "metadata": {},
   "outputs": [
    {
     "name": "stdout",
     "output_type": "stream",
     "text": [
      "Enter Kinetic Energy of particle in eV:10\n",
      "Potential Barrier Energy in eV (please make less than KE)3\n",
      "the transmission is  0.99  and the reflection is  0.01\n"
     ]
    }
   ],
   "source": [
    "hbar=6.582119514e-16 #units of ev s\n",
    "m=511e3 #ev/c^2\n",
    "c=299792458 #m/s\n",
    "KE=float(input(\"Enter Kinetic Energy of particle in eV:\"))\n",
    "V=float(input(\"Potential Barrier Energy in eV (please make less than KE)\"))\n",
    "k1=sqrt(2*m*c**2*KE)/hbar\n",
    "k2=sqrt(2*m*c**2*(KE-V))/hbar\n",
    "T=4*k1*k2/(k1+k2)**2\n",
    "R=(k1-k2)**2/(k1+k2)**2\n",
    "print(\"the transmission is \",round(T,2),\" and the reflection is \",round(R,2))\n"
   ]
  },
  {
   "cell_type": "markdown",
   "metadata": {},
   "source": [
    "# Exercise 2.7"
   ]
  },
  {
   "cell_type": "code",
   "execution_count": 4,
   "metadata": {},
   "outputs": [
    {
     "name": "stdout",
     "output_type": "stream",
     "text": [
      "1\n",
      "1\n",
      "2\n",
      "5\n",
      "14\n",
      "42\n",
      "132\n",
      "429\n",
      "1430\n",
      "4862\n",
      "16796\n",
      "58786\n",
      "208012\n",
      "742900\n",
      "2674440\n",
      "9694845\n",
      "35357670\n",
      "129644790\n",
      "477638700\n"
     ]
    }
   ],
   "source": [
    "C=1 #initialize to print Catalan Numbers\n",
    "n=0\n",
    "while C<1e9:\n",
    "    print(C)\n",
    "   \n",
    "    C=int(C*(4*n+2)/(n+2))\n",
    "    n=n+1"
   ]
  },
  {
   "cell_type": "markdown",
   "metadata": {},
   "source": [
    "# bonus catalan solution with recursion"
   ]
  },
  {
   "cell_type": "code",
   "execution_count": 5,
   "metadata": {
    "collapsed": true
   },
   "outputs": [],
   "source": [
    "#recursive catalan\n",
    "def catalan(n):\n",
    "    if n==0:\n",
    "        return 1\n",
    "    else:\n",
    "        return (4*n-2)/(n+1)*catalan(n-1)"
   ]
  },
  {
   "cell_type": "code",
   "execution_count": 9,
   "metadata": {},
   "outputs": [
    {
     "name": "stdout",
     "output_type": "stream",
     "text": [
      "1\n",
      "1.0\n",
      "2.0\n",
      "5.0\n",
      "14.0\n",
      "42.0\n",
      "132.0\n",
      "429.0\n",
      "1430.0\n",
      "4862.0\n",
      "16796.0\n",
      "58786.0\n",
      "208012.0\n",
      "742900.0\n",
      "2674440.0\n",
      "9694845.0\n",
      "35357670.0\n",
      "129644790.0\n",
      "477638700.0\n",
      "1767263190.0\n",
      "6564120420.0\n",
      "24466267020.0\n",
      "91482563640.0\n",
      "343059613650.0\n",
      "1289904147324.0\n",
      "4861946401452.0\n",
      "18367353072152.0\n",
      "69533550916004.0\n",
      "263747951750360.0\n",
      "1002242216651368.0\n",
      "3814986502092304.0\n",
      "1.4544636039226908e+16\n",
      "5.55340648770482e+16\n",
      "2.1233613041224314e+17\n",
      "8.12944042149731e+17\n",
      "3.116285494907302e+18\n",
      "1.1959798385860456e+19\n",
      "4.5950804324621754e+19\n",
      "1.7673386278700676e+20\n",
      "6.804253717299761e+20\n",
      "2.6221270422764934e+21\n",
      "1.0113918591637903e+22\n",
      "3.904442991190447e+22\n",
      "1.5085347920508544e+23\n",
      "5.83300119592997e+23\n",
      "2.2571178540772493e+24\n",
      "8.740328711533179e+24\n",
      "3.386877375719107e+25\n",
      "1.3132789824216945e+26\n",
      "5.0955224517961745e+26\n"
     ]
    }
   ],
   "source": [
    "for i in range(0,50):\n",
    "    print(catalan(i))"
   ]
  },
  {
   "cell_type": "code",
   "execution_count": null,
   "metadata": {
    "collapsed": true
   },
   "outputs": [],
   "source": []
  }
 ],
 "metadata": {
  "kernelspec": {
   "display_name": "Python 3",
   "language": "python",
   "name": "python3"
  },
  "language_info": {
   "codemirror_mode": {
    "name": "ipython",
    "version": 3
   },
   "file_extension": ".py",
   "mimetype": "text/x-python",
   "name": "python",
   "nbconvert_exporter": "python",
   "pygments_lexer": "ipython3",
   "version": "3.6.3"
  }
 },
 "nbformat": 4,
 "nbformat_minor": 2
}
