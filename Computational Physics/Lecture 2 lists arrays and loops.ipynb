{
 "cells": [
  {
   "cell_type": "code",
   "execution_count": 73,
   "metadata": {},
   "outputs": [
    {
     "name": "stdout",
     "output_type": "stream",
     "text": [
      "[1, '1', 1.0]\n"
     ]
    }
   ],
   "source": [
    "#This is a list\n",
    "r=[1,\"1\",1.]\n",
    "print(r)"
   ]
  },
  {
   "cell_type": "code",
   "execution_count": 7,
   "metadata": {},
   "outputs": [
    {
     "data": {
      "text/plain": [
       "3"
      ]
     },
     "execution_count": 7,
     "metadata": {},
     "output_type": "execute_result"
    }
   ],
   "source": [
    "len(r)"
   ]
  },
  {
   "cell_type": "code",
   "execution_count": 8,
   "metadata": {},
   "outputs": [
    {
     "data": {
      "text/plain": [
       "int"
      ]
     },
     "execution_count": 8,
     "metadata": {},
     "output_type": "execute_result"
    }
   ],
   "source": [
    "type(r[0])"
   ]
  },
  {
   "cell_type": "code",
   "execution_count": 2,
   "metadata": {},
   "outputs": [
    {
     "name": "stdout",
     "output_type": "stream",
     "text": [
      "1.66666666667\n"
     ]
    }
   ],
   "source": [
    "#find the mean from a list using python functions\n",
    "from numpy import array\n",
    "r=array([0,2,3])\n",
    "mean=sum(r)/len(r)\n",
    "print(mean)"
   ]
  },
  {
   "cell_type": "code",
   "execution_count": 77,
   "metadata": {},
   "outputs": [
    {
     "name": "stdout",
     "output_type": "stream",
     "text": [
      "[0 0 0 0]\n",
      "[ 1.+0.j  1.+0.j  1.+0.j  1.+0.j  1.+0.j  1.+0.j  1.+0.j  1.+0.j  1.+0.j\n",
      "  1.+0.j]\n"
     ]
    }
   ],
   "source": [
    "from numpy import zeros,ones #creating arrays\n",
    "a=zeros(4,int)\n",
    "b=ones(10,complex)\n",
    "print(a)\n",
    "print(b)"
   ]
  },
  {
   "cell_type": "code",
   "execution_count": 80,
   "metadata": {},
   "outputs": [
    {
     "name": "stdout",
     "output_type": "stream",
     "text": [
      "[[ 0.  0.]\n",
      " [ 0.  0.]]\n"
     ]
    }
   ],
   "source": [
    "c=zeros([2,2],float) #more arrays\n",
    "print(c)"
   ]
  },
  {
   "cell_type": "code",
   "execution_count": 84,
   "metadata": {},
   "outputs": [
    {
     "name": "stdout",
     "output_type": "stream",
     "text": [
      "[]\n"
     ]
    }
   ],
   "source": [
    "a=array([],int) #empty arrays\n",
    "print(a)"
   ]
  },
  {
   "cell_type": "code",
   "execution_count": 26,
   "metadata": {
    "collapsed": true
   },
   "outputs": [],
   "source": []
  },
  {
   "cell_type": "code",
   "execution_count": 86,
   "metadata": {},
   "outputs": [
    {
     "ename": "IndexError",
     "evalue": "index 0 is out of bounds for axis 0 with size 0",
     "output_type": "error",
     "traceback": [
      "\u001b[0;31m---------------------------------------------------------------------------\u001b[0m",
      "\u001b[0;31mIndexError\u001b[0m                                Traceback (most recent call last)",
      "\u001b[0;32m<ipython-input-86-f9da761c742a>\u001b[0m in \u001b[0;36m<module>\u001b[0;34m()\u001b[0m\n\u001b[0;32m----> 1\u001b[0;31m \u001b[0ma\u001b[0m\u001b[0;34m[\u001b[0m\u001b[0;36m0\u001b[0m\u001b[0;34m]\u001b[0m\u001b[0;34m=\u001b[0m\u001b[0;36m1\u001b[0m\u001b[0;34m\u001b[0m\u001b[0m\n\u001b[0m",
      "\u001b[0;31mIndexError\u001b[0m: index 0 is out of bounds for axis 0 with size 0"
     ]
    }
   ],
   "source": []
  },
  {
   "cell_type": "code",
   "execution_count": 91,
   "metadata": {},
   "outputs": [
    {
     "name": "stdout",
     "output_type": "stream",
     "text": [
      "[[  5.00000000e-02   4.70870400e-01   6.40266667e-02  -7.15370963e-01]\n",
      " [  1.00000000e-01   4.75535200e-01   2.88120000e-02  -6.30078296e-01]\n",
      " [  1.50000000e-01   4.76358400e-01  -1.99397333e-02  -3.18608889e-01]\n",
      " [  2.00000000e-01   4.70047200e-01  -1.09760000e-02   1.19008296e-01]\n",
      " [  2.50000000e-01   4.74712000e-01   1.17382222e-02   2.07104247e-01]\n",
      " [  3.00000000e-01   4.72516800e-01   1.52444444e-02   1.31508741e-01]\n",
      " [  3.50000000e-01   4.74986400e-01   3.38426667e-02  -1.25681975e-01]\n",
      " [  4.00000000e-01   4.78553600e-01   4.26844444e-03  -3.64935062e-01]\n",
      " [  4.50000000e-01   4.75809600e-01  -2.78973333e-02  -1.47193580e-01]\n",
      " [  5.00000000e-01   4.73340000e-01  -1.95128889e-02   2.29682963e-01]\n",
      " [  5.50000000e-01   4.72516800e-01   1.47871111e-02   2.71351111e-01]\n",
      " [  6.00000000e-01   4.76632800e-01   2.14946667e-02   2.03259259e-02]\n",
      " [  6.50000000e-01   4.75260800e-01   1.14333333e-02  -1.78952840e-01]\n",
      " [  7.00000000e-01   4.77181600e-01   5.64044444e-03  -3.57143457e-01]\n",
      " [  7.50000000e-01   4.78279200e-01  -3.65866667e-02  -2.76601975e-01]\n",
      " [  8.00000000e-01   4.71693600e-01  -4.48186667e-02   1.68705185e-01]\n",
      " [  8.50000000e-01   4.70321600e-01   3.04888889e-03   2.21637284e-01]\n",
      " [  9.00000000e-01   4.74986400e-01   2.89644444e-03  -1.48972099e-01]\n",
      " [  9.50000000e-01   4.72791200e-01  -3.33853333e-02  -1.64385926e-01]\n",
      " [  1.00000000e+00   4.69498400e-01  -3.44524444e-02   1.84796543e-01]\n",
      " [  1.05000000e+00   4.67852000e-01  -7.92711111e-03   4.31502469e-01]\n",
      " [  1.10000000e+00   4.68400800e-01   2.83546667e-02   3.02178765e-01]\n",
      " [  1.15000000e+00   4.72516800e-01   3.01840000e-02  -3.31143210e-02]\n",
      " [  1.20000000e+00   4.71419200e-01   2.36288889e-02  -3.47403951e-01]\n",
      " [  1.25000000e+00   4.76084000e-01  -6.70755556e-03  -5.61757778e-01]\n",
      " [  1.30000000e+00   4.71968000e-01  -5.51848889e-02  -3.38341975e-01]\n",
      " [  1.35000000e+00   4.67577600e-01  -5.06115556e-02   8.19812346e-02]\n",
      " [  1.40000000e+00   4.66205600e-01  -3.10986667e-02   2.58139259e-01]\n",
      " [  1.45000000e+00   4.65382400e-01  -1.95128889e-02   3.27501481e-01]\n",
      " [  1.50000000e+00   4.64284800e-01  -7.16488889e-03   4.90193580e-01]\n",
      " [  1.55000000e+00   4.62912800e-01   3.39951111e-02   5.28389383e-01]\n",
      " [  1.60000000e+00   4.68126400e-01   6.50937778e-02   1.90809630e-01]\n",
      " [  1.65000000e+00   4.71144800e-01   6.15875556e-02  -3.24706667e-01]\n",
      " [  1.70000000e+00   4.75535200e-01   2.63728889e-02  -6.85915309e-01]\n",
      " [  1.75000000e+00   4.74712000e-01  -2.50008889e-02  -6.20872346e-01]\n",
      " [  1.80000000e+00   4.73065600e-01  -6.61608889e-02  -2.54074074e-03]\n",
      " [  1.85000000e+00   4.63461600e-01  -2.75924444e-02   6.26292593e-01]\n",
      " [  1.90000000e+00   4.68400800e-01   4.78675556e-02   3.42576543e-01]\n",
      " [  1.95000000e+00   4.74712000e-01   1.58542222e-02  -2.04699012e-01]\n",
      " [  2.00000000e+00   4.67852000e-01   4.87822222e-03  -3.88987407e-01]\n",
      " [  2.05000000e+00   4.75260800e-01  -1.25004444e-02  -6.04103457e-01]\n",
      " [  2.10000000e+00   4.71144800e-01  -9.29911111e-02  -1.02391852e-01]\n",
      " [  2.15000000e+00   4.59071200e-01  -5.00017778e-02   7.95760000e-01]\n",
      " [  2.20000000e+00   4.63187200e-01   3.88733333e-02   7.69844444e-01]\n",
      " [  2.25000000e+00   4.67028800e-01   6.70755556e-02  -1.35506173e-02]\n",
      " [  2.30000000e+00   4.74163200e-01   1.17382222e-02  -4.66056543e-01]\n",
      " [  2.35000000e+00   4.64559200e-01   5.33555556e-03  -6.25191605e-01]\n",
      " [  2.40000000e+00   4.76632800e-01  -3.91782222e-02  -8.42170864e-01]\n",
      " [  2.45000000e+00   4.62089600e-01  -9.90888889e-02  -6.05712593e-01]\n",
      " [  2.50000000e+00   4.65382400e-01  -1.29730222e-01   1.81154815e-01]\n",
      " [  2.55000000e+00   4.45076800e-01  -8.46066667e-02   1.07913728e+00]\n",
      " [  2.60000000e+00   4.55504000e-01   6.25022222e-03   1.39850840e+00]\n",
      " [  2.65000000e+00   4.47546400e-01   6.47888889e-02   1.29594716e+00]\n",
      " [  2.70000000e+00   4.56876000e-01   1.87811556e-01   1.92842222e-01]\n",
      " [  2.75000000e+00   4.76632800e-01   1.21040889e-01  -1.45415062e+00]\n",
      " [  2.80000000e+00   4.74986400e-01  -4.80200000e-02  -1.48523235e+00]\n",
      " [  2.85000000e+00   4.62912800e-01  -8.09480000e-02  -4.37600247e-01]\n",
      " [  2.90000000e+00   4.64284800e-01  -5.15262222e-02   1.29831852e-01]\n",
      " [  2.95000000e+00   4.62364000e-01  -7.27160000e-02   6.54156049e-01]\n",
      " [  3.00000000e+00   4.50290400e-01   1.29577778e-02   9.61839753e-01]\n",
      " [  3.05000000e+00   4.62912800e-01   9.77168889e-02  -3.04888889e-02]\n",
      " [  3.10000000e+00   4.70047200e-01   1.31102222e-02  -1.06423160e+00]\n",
      " [  3.15000000e+00   4.64010400e-01  -7.74417778e-02  -9.12295309e-01]\n",
      " [  3.20000000e+00   4.57424800e-01  -9.36008889e-02  -3.39188889e-01]\n",
      " [  3.25000000e+00   4.54680800e-01  -9.22288889e-02   7.62222222e-03]\n",
      " [  3.30000000e+00   4.49192800e-01  -9.89364444e-02   3.81873333e-01]\n",
      " [  3.35000000e+00   4.40960800e-01  -4.35991111e-02   5.38128889e-01]\n",
      " [  3.40000000e+00   4.47272000e-01  -2.66777778e-02   4.11600000e-01]\n",
      " [  3.45000000e+00   4.39863200e-01  -2.85071111e-02   7.08104444e-01]\n",
      " [  3.50000000e+00   4.40686400e-01   3.35377778e-02   1.10700074e+00]\n",
      " [  3.55000000e+00   4.42058400e-01   1.15400444e-01   8.16932840e-01]\n",
      " [  3.60000000e+00   4.53857600e-01   1.56712889e-01  -3.10563210e-01]\n",
      " [  3.65000000e+00   4.61815200e-01   1.03662222e-01  -1.70017901e+00]\n",
      " [  3.70000000e+00   4.70596000e-01  -6.12826667e-02  -2.05385012e+00]\n",
      " [  3.75000000e+00   4.54406400e-01  -1.97415556e-01  -5.90129383e-01]\n",
      " [  3.80000000e+00   4.39588800e-01  -1.26376444e-01   1.09480519e+00]\n",
      " [  3.85000000e+00   4.41235200e-01  -2.25617778e-02   1.61718148e+00]\n",
      " [  3.90000000e+00   4.39314400e-01   5.89960000e-02   1.52020988e+00]\n",
      " [  3.95000000e+00   4.46723200e-01   1.39791556e-01   1.04593827e+00]\n",
      " [  4.00000000e+00   4.55504000e-01   1.69670667e-01   3.85430370e-01]\n",
      " [  4.05000000e+00   4.63461600e-01   1.89640889e-01  -4.55046667e-01]\n",
      " [  4.10000000e+00   4.78828000e-01   1.23632444e-01  -1.19355531e+00]\n",
      " [  4.15000000e+00   4.77456000e-01   2.86595556e-02  -1.11724840e+00]\n",
      " [  4.20000000e+00   4.78553600e-01  -1.23480000e-02  -5.50239753e-01]\n",
      " [  4.25000000e+00   4.74163200e-01  -1.37200000e-02  -1.29408395e-01]\n",
      " [  4.30000000e+00   4.77456000e-01  -7.46977778e-03  -3.04041975e-02]\n",
      " [  4.35000000e+00   4.74986400e-01  -2.60680000e-02   1.44483457e-01]\n",
      " [  4.40000000e+00   4.71419200e-01   1.09760000e-02   2.19350617e-01]\n",
      " [  4.45000000e+00   4.78004800e-01   1.50920000e-02  -2.29513580e-02]\n",
      " [  4.50000000e+00   4.74437600e-01  -4.72577778e-03  -4.01437037e-02]\n",
      " [  4.55000000e+00   4.75809600e-01   2.43911111e-03   9.16360494e-02]\n",
      " [  4.60000000e+00   4.74986400e-01   7.01244444e-03   1.71584691e-01]\n",
      " [  4.65000000e+00   4.75535200e-01   2.74400000e-02   6.30103704e-02]\n",
      " [  4.70000000e+00   4.78279200e-01   3.32328889e-02  -4.38277778e-01]\n",
      " [  4.75000000e+00   4.81572000e-01  -1.49395556e-02  -9.79641877e-01]\n",
      " [  4.80000000e+00   4.76907200e-01  -7.51551111e-02  -1.27114106e+00]\n",
      " [  4.85000000e+00   4.75535200e-01  -1.58542222e-01  -1.15792565e+00]\n",
      " [  4.90000000e+00   4.60443200e-01  -2.22904267e-01  -4.60102741e-01]\n",
      " [  4.95000000e+00   4.48095200e-01  -1.99778444e-01   1.86007630e-01]\n",
      " [  5.00000000e+00   4.41509600e-01  -1.66774222e-01   5.07995704e-01]]\n"
     ]
    }
   ],
   "source": [
    "#importing data\n",
    "from numpy import loadtxt\n",
    "a=loadtxt(\"Untitled.txt\",float) \n",
    "print(a)"
   ]
  },
  {
   "cell_type": "code",
   "execution_count": 114,
   "metadata": {},
   "outputs": [
    {
     "name": "stdout",
     "output_type": "stream",
     "text": [
      "[[0 0]\n",
      " [0 0]]\n"
     ]
    }
   ],
   "source": [
    "#arrays as matricies\n",
    "a=zeros([2,2], int)\n",
    "print(a)"
   ]
  },
  {
   "cell_type": "code",
   "execution_count": 40,
   "metadata": {},
   "outputs": [
    {
     "name": "stdout",
     "output_type": "stream",
     "text": [
      "[[ 1  0]\n",
      " [ 0 -1]]\n"
     ]
    }
   ],
   "source": [
    "a[0,0]=1\n",
    "a[1,1]=-1\n",
    "print(a)"
   ]
  },
  {
   "cell_type": "code",
   "execution_count": 41,
   "metadata": {},
   "outputs": [
    {
     "data": {
      "text/plain": [
       "array([0, 2, 4, 6, 8])"
      ]
     },
     "execution_count": 41,
     "metadata": {},
     "output_type": "execute_result"
    }
   ],
   "source": [
    "#arrays as vectors\n",
    "a=array([0,1,2,3,4])\n",
    "2*a"
   ]
  },
  {
   "cell_type": "code",
   "execution_count": 42,
   "metadata": {},
   "outputs": [
    {
     "data": {
      "text/plain": [
       "array([-3, -2, -1,  0,  1])"
      ]
     },
     "execution_count": 42,
     "metadata": {},
     "output_type": "execute_result"
    }
   ],
   "source": [
    "a-3"
   ]
  },
  {
   "cell_type": "code",
   "execution_count": 43,
   "metadata": {},
   "outputs": [
    {
     "data": {
      "text/plain": [
       "array([0, 1, 2, 3, 4])"
      ]
     },
     "execution_count": 43,
     "metadata": {},
     "output_type": "execute_result"
    }
   ],
   "source": [
    "a"
   ]
  },
  {
   "cell_type": "code",
   "execution_count": 46,
   "metadata": {
    "collapsed": true
   },
   "outputs": [],
   "source": [
    "b=array([5,6,7,8,9])"
   ]
  },
  {
   "cell_type": "code",
   "execution_count": 49,
   "metadata": {},
   "outputs": [
    {
     "data": {
      "text/plain": [
       "array([ 0,  6, 14, 24, 36])"
      ]
     },
     "execution_count": 49,
     "metadata": {},
     "output_type": "execute_result"
    }
   ],
   "source": [
    "a*b"
   ]
  },
  {
   "cell_type": "code",
   "execution_count": 50,
   "metadata": {},
   "outputs": [
    {
     "data": {
      "text/plain": [
       "80"
      ]
     },
     "execution_count": 50,
     "metadata": {},
     "output_type": "execute_result"
    }
   ],
   "source": [
    "#dot product\n",
    "from numpy import dot\n",
    "dot(a,b)"
   ]
  },
  {
   "cell_type": "code",
   "execution_count": 118,
   "metadata": {},
   "outputs": [
    {
     "name": "stdout",
     "output_type": "stream",
     "text": [
      "[[0 1]\n",
      " [2 3]] [[0 3]\n",
      " [2 2]]\n"
     ]
    }
   ],
   "source": [
    "M=array([[0,1],[2,3]])\n",
    "N=array([[0,3],[2,2]])\n",
    "print(M,N)"
   ]
  },
  {
   "cell_type": "code",
   "execution_count": 53,
   "metadata": {},
   "outputs": [
    {
     "name": "stdout",
     "output_type": "stream",
     "text": [
      "[[ 2  2]\n",
      " [ 6 12]]\n"
     ]
    }
   ],
   "source": [
    "#matrix multiplication\n",
    "print(dot(M,N))"
   ]
  },
  {
   "cell_type": "code",
   "execution_count": 54,
   "metadata": {},
   "outputs": [
    {
     "name": "stdout",
     "output_type": "stream",
     "text": [
      "[[6 9]\n",
      " [4 8]]\n"
     ]
    }
   ],
   "source": [
    "print(dot(N,M))"
   ]
  },
  {
   "cell_type": "code",
   "execution_count": 55,
   "metadata": {},
   "outputs": [
    {
     "data": {
      "text/plain": [
       "array([0, 1, 2, 3, 4])"
      ]
     },
     "execution_count": 55,
     "metadata": {},
     "output_type": "execute_result"
    }
   ],
   "source": [
    "a"
   ]
  },
  {
   "cell_type": "code",
   "execution_count": 58,
   "metadata": {},
   "outputs": [
    {
     "name": "stdout",
     "output_type": "stream",
     "text": [
      "6.0\n"
     ]
    }
   ],
   "source": [
    "#do operations on whole array\n",
    "#find average\n",
    "average=sum(a*a)/len(a)\n",
    "print(average)"
   ]
  },
  {
   "cell_type": "code",
   "execution_count": 61,
   "metadata": {},
   "outputs": [
    {
     "name": "stderr",
     "output_type": "stream",
     "text": [
      "/anaconda3/lib/python3.6/site-packages/ipykernel_launcher.py:2: RuntimeWarning: divide by zero encountered in log\n",
      "  \n"
     ]
    },
    {
     "data": {
      "text/plain": [
       "array([       -inf,  0.        ,  0.69314718,  1.09861229,  1.38629436])"
      ]
     },
     "execution_count": 61,
     "metadata": {},
     "output_type": "execute_result"
    }
   ],
   "source": [
    "from numpy import log\n",
    "log(a)"
   ]
  },
  {
   "cell_type": "code",
   "execution_count": 3,
   "metadata": {},
   "outputs": [
    {
     "name": "stdout",
     "output_type": "stream",
     "text": [
      "2.99379516552\n"
     ]
    }
   ],
   "source": [
    "# this will cause an error if log is imported from math\n",
    "from numpy import log,exp\n",
    "values=array([1,2,3,4,5,6])\n",
    "logs=log(values)\n",
    "print(exp(sum(logs)/len(values)))\n"
   ]
  },
  {
   "cell_type": "code",
   "execution_count": 67,
   "metadata": {
    "collapsed": true
   },
   "outputs": [],
   "source": [
    "#length of a vector\n",
    "def length(x,y,z):\n",
    "    d=sqrt(x**2+y**2+z**2)\n",
    "    return d"
   ]
  },
  {
   "cell_type": "code",
   "execution_count": 71,
   "metadata": {
    "collapsed": true
   },
   "outputs": [],
   "source": [
    "d=length(2,2,2)"
   ]
  },
  {
   "cell_type": "code",
   "execution_count": 102,
   "metadata": {},
   "outputs": [
    {
     "name": "stdout",
     "output_type": "stream",
     "text": [
      "3.4641016151377544\n"
     ]
    }
   ],
   "source": [
    "print(d)"
   ]
  },
  {
   "cell_type": "code",
   "execution_count": 113,
   "metadata": {
    "collapsed": true
   },
   "outputs": [],
   "source": [
    "#another way to find length\n",
    "def length2(vector):\n",
    "    squares=vector**2\n",
    "    length=sqrt(sum(squares))\n",
    "    return length"
   ]
  },
  {
   "cell_type": "code",
   "execution_count": 112,
   "metadata": {},
   "outputs": [
    {
     "name": "stdout",
     "output_type": "stream",
     "text": [
      "[4 4 4]\n"
     ]
    },
    {
     "data": {
      "text/plain": [
       "3.4641016151377544"
      ]
     },
     "execution_count": 112,
     "metadata": {},
     "output_type": "execute_result"
    }
   ],
   "source": [
    "vec=array([2,2,2])\n",
    "length2(vec)"
   ]
  },
  {
   "cell_type": "code",
   "execution_count": 116,
   "metadata": {
    "collapsed": true
   },
   "outputs": [],
   "source": [
    "#another way\n",
    "def length3(vector):\n",
    "    length=sqrt(dot(vector,vector))\n",
    "    return length"
   ]
  },
  {
   "cell_type": "code",
   "execution_count": 117,
   "metadata": {},
   "outputs": [
    {
     "data": {
      "text/plain": [
       "3.4641016151377544"
      ]
     },
     "execution_count": 117,
     "metadata": {},
     "output_type": "execute_result"
    }
   ],
   "source": [
    "length3(vec)"
   ]
  },
  {
   "cell_type": "code",
   "execution_count": 121,
   "metadata": {},
   "outputs": [
    {
     "name": "stdout",
     "output_type": "stream",
     "text": [
      "0\n",
      "1\n",
      "2\n",
      "3\n",
      "4\n",
      "5\n"
     ]
    }
   ],
   "source": [
    "#in what follows play with for loops and range\n",
    "for r in range(6):\n",
    "    print(r)"
   ]
  },
  {
   "cell_type": "code",
   "execution_count": 122,
   "metadata": {},
   "outputs": [
    {
     "name": "stdout",
     "output_type": "stream",
     "text": [
      "0\n",
      "2\n",
      "4\n"
     ]
    }
   ],
   "source": [
    "for r in range(0,5,2):\n",
    "    print(r)"
   ]
  },
  {
   "cell_type": "code",
   "execution_count": 101,
   "metadata": {},
   "outputs": [
    {
     "name": "stdout",
     "output_type": "stream",
     "text": [
      "5\n",
      "4\n",
      "3\n",
      "2\n",
      "1\n"
     ]
    }
   ],
   "source": [
    "for r in range(5,0,-1):\n",
    "    print(r)"
   ]
  },
  {
   "cell_type": "code",
   "execution_count": 119,
   "metadata": {},
   "outputs": [
    {
     "data": {
      "text/plain": [
       "range(0, 5)"
      ]
     },
     "execution_count": 119,
     "metadata": {},
     "output_type": "execute_result"
    }
   ],
   "source": [
    "range(5)"
   ]
  },
  {
   "cell_type": "code",
   "execution_count": 125,
   "metadata": {},
   "outputs": [
    {
     "name": "stdout",
     "output_type": "stream",
     "text": [
      "0\n",
      "1\n",
      "25\n",
      "1225\n"
     ]
    }
   ],
   "source": [
    "numbers=array([0,1,5,35])\n",
    "for k in numbers:\n",
    "    print(k**2)"
   ]
  },
  {
   "cell_type": "code",
   "execution_count": 127,
   "metadata": {},
   "outputs": [
    {
     "name": "stdout",
     "output_type": "stream",
     "text": [
      "5.187377517639621\n"
     ]
    }
   ],
   "source": [
    "#list the sum of inverses \n",
    "sum=0.0\n",
    "for k in range(1,101):\n",
    "    sum+=1/k #sum=sum+1/k\n",
    "print(sum)\n"
   ]
  },
  {
   "cell_type": "code",
   "execution_count": null,
   "metadata": {
    "collapsed": true
   },
   "outputs": [],
   "source": []
  }
 ],
 "metadata": {
  "kernelspec": {
   "display_name": "Python 3",
   "language": "python",
   "name": "python3"
  },
  "language_info": {
   "codemirror_mode": {
    "name": "ipython",
    "version": 3
   },
   "file_extension": ".py",
   "mimetype": "text/x-python",
   "name": "python",
   "nbconvert_exporter": "python",
   "pygments_lexer": "ipython3",
   "version": "3.6.3"
  }
 },
 "nbformat": 4,
 "nbformat_minor": 2
}
