{
 "cells": [
  {
   "cell_type": "code",
   "execution_count": 23,
   "metadata": {},
   "outputs": [],
   "source": [
    "from numpy import sqrt, empty, concatenate, dot\n",
    "from pylab import scatter,plot, show"
   ]
  },
  {
   "cell_type": "code",
   "execution_count": 3,
   "metadata": {},
   "outputs": [],
   "source": [
    "G=1.\n",
    "m0=150\n",
    "m1=200\n",
    "m2=250\n",
    "h=1e-3\n",
    "delta=1e-3\n",
    "tmax=10.\n",
    "R=0.001\n",
    "C=.1\n",
    "hmax=1e-3"
   ]
  },
  {
   "cell_type": "code",
   "execution_count": 4,
   "metadata": {},
   "outputs": [],
   "source": [
    "def magsq(v):\n",
    "    return(dot(v,v))\n"
   ]
  },
  {
   "cell_type": "code",
   "execution_count": 5,
   "metadata": {},
   "outputs": [],
   "source": [
    "def f(rv):\n",
    "    r0=rv[0:2]\n",
    "    r1=rv[2:4]\n",
    "    r2=rv[4:6]\n",
    "    v0=rv[6:8]\n",
    "    v1=rv[8:10]\n",
    "    v2=rv[10:12]\n",
    "    \n",
    "    dr01 =magsq(r0-r1)**1.5\n",
    "    dr12=magsq(r1-r2)**1.5\n",
    "    dr20=magsq(r2-r0)**1.5\n",
    "    \n",
    "    fv0=G*(m1*(r1-r0)/dr01+m2*(r2-r0)/dr20)\n",
    "    fv1=G*(m0*(r0-r1)/dr01+m2*(r2-r1)/dr12)\n",
    "    fv2=G*(m0*(r0-r2)/dr20+m1*(r1-r2)/dr12)\n",
    "    \n",
    "    return concatenate([v0,v1,v2,fv0,fv1,fv2])\n",
    "\n",
    "    "
   ]
  },
  {
   "cell_type": "code",
   "execution_count": 18,
   "metadata": {},
   "outputs": [
    {
     "data": {
      "image/png": "[encoded data removed]",
      "text/plain": [
       "<Figure size 432x288 with 1 Axes>"
      ]
     },
     "metadata": {
      "needs_background": "light"
     },
     "output_type": "display_data"
    }
   ],
   "source": [
    "rv=empty(12,float)\n",
    "rv[0:2]=[1.,3.]\n",
    "rv[2:4]=[-2.0,-1.]\n",
    "rv[4:6]=[1.,-1.]\n",
    "\n",
    "rv[6:12]=0.0\n",
    "scatter(rv[2],rv[3])\n",
    "scatter(rv[0],rv[1])\n",
    "scatter(rv[4],rv[5])\n",
    "show()"
   ]
  },
  {
   "cell_type": "code",
   "execution_count": 24,
   "metadata": {},
   "outputs": [
    {
     "data": {
      "image/png": "[encoded data removed]",
      "text/plain": [
       "<Figure size 432x288 with 1 Axes>"
      ]
     },
     "metadata": {
      "needs_background": "light"
     },
     "output_type": "display_data"
    }
   ],
   "source": [
    "rv=empty(12,float)\n",
    "rv[0:2]=[1.,3.]\n",
    "rv[2:4]=[-2.0,-1.]\n",
    "rv[4:6]=[1.,-1.]\n",
    "\n",
    "rv[6:12]=0.0\n",
    "t=0.0\n",
    "counter=0\n",
    "while t<tmax:\n",
    "    k1=h*f(rv)\n",
    "    k2=h*f(rv+0.5*k1)\n",
    "    k3=h*f(rv+0.5*k2)\n",
    "    k4=h*f(rv+k3)\n",
    "    rv1=rv+(k1+2*k2+2*k3+k4)/6\n",
    "    \n",
    "    k1=h*f(rv1)\n",
    "    k2=h*f(rv1+0.5*k1)\n",
    "    k3=h*f(rv1+0.5*k2)\n",
    "    k4=h*f(rv1+k3)\n",
    "    rv1=rv1+(k1+2*k2+2*k3+k4)/6\n",
    "    \n",
    "    k1=2*h*f(rv)\n",
    "    k2=2*h*f(rv+0.5*k1)\n",
    "    k3=2*h*f(rv+0.5*k2)\n",
    "    k4=2*h*f(rv+k3)\n",
    "    rv2=rv+(k1+2*k2+2*k3+k4)/6\n",
    "    \n",
    "    e0=sqrt(magsq(rv1[0:2]-rv2[0:2]))/30\n",
    "    e1=sqrt(magsq(rv1[2:4]-rv2[2:4]))/30\n",
    "    e2=sqrt(magsq(rv1[4:6]-rv2[4:6]))/30\n",
    "    epsilon=max(e0,e1,e2)\n",
    "    rho=delta*h/epsilon\n",
    "    if rho>=1.0:\n",
    "        rv=rv1\n",
    "        t+=2*h\n",
    "        h=min(h*rho**0.25, 2*h, hmax)\n",
    "        if counter%10==0:\n",
    "            \n",
    "            plot(rv[0],rv[1])\n",
    "            #scatter(rv[2],rv[3])\n",
    "            #scatter(rv[4],rv[5])\n",
    "        counter=counter+1\n",
    "    else:\n",
    "        h=h*rho**0.25\n",
    "        \n",
    "show()"
   ]
  },
  {
   "cell_type": "code",
   "execution_count": 20,
   "metadata": {},
   "outputs": [
    {
     "data": {
      "image/png": "[encoded data removed]",
      "text/plain": [
       "<Figure size 432x288 with 1 Axes>"
      ]
     },
     "metadata": {
      "needs_background": "light"
     },
     "output_type": "display_data"
    }
   ],
   "source": [
    "scatter(rv[2],rv[3])\n",
    "scatter(rv[0],rv[1])\n",
    "scatter(rv[4],rv[5])\n",
    "show()"
   ]
  },
  {
   "cell_type": "code",
   "execution_count": null,
   "metadata": {},
   "outputs": [],
   "source": []
  }
 ],
 "metadata": {
  "kernelspec": {
   "display_name": "Python 3",
   "language": "python",
   "name": "python3"
  },
  "language_info": {
   "codemirror_mode": {
    "name": "ipython",
    "version": 3
   },
   "file_extension": ".py",
   "mimetype": "text/x-python",
   "name": "python",
   "nbconvert_exporter": "python",
   "pygments_lexer": "ipython3",
   "version": "3.6.6"
  }
 },
 "nbformat": 4,
 "nbformat_minor": 2
}
