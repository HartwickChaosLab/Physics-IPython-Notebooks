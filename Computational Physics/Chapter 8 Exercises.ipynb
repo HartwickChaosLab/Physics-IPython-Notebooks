{
 "cells": [
  {
   "cell_type": "code",
   "execution_count": 1,
   "metadata": {},
   "outputs": [],
   "source": [
    "from numpy import array, arange,sqrt,linspace,zeros\n",
    "from pylab import plot, show,xlim,ylim,legend"
   ]
  },
  {
   "cell_type": "markdown",
   "metadata": {},
   "source": [
    "# Exercise 8.14"
   ]
  },
  {
   "cell_type": "code",
   "execution_count": 118,
   "metadata": {
    "collapsed": true
   },
   "outputs": [],
   "source": [
    "m=9.1094e-31\n",
    "hbar=1.0546e-34\n",
    "e=1.6022e-19\n",
    "a=1e-11\n",
    "Vo=50*e\n",
    "w=10*a ##boundary for PDE\n",
    "N=1000\n",
    "h=2*w/N"
   ]
  },
  {
   "cell_type": "code",
   "execution_count": 135,
   "metadata": {
    "collapsed": true
   },
   "outputs": [],
   "source": [
    "def V(x):\n",
    "    return(Vo*(x/a)**2)"
   ]
  },
  {
   "cell_type": "code",
   "execution_count": 134,
   "metadata": {
    "collapsed": true
   },
   "outputs": [],
   "source": [
    "def V(x):\n",
    "    return(Vo*(x/a)**4)"
   ]
  },
  {
   "cell_type": "code",
   "execution_count": 136,
   "metadata": {
    "collapsed": true
   },
   "outputs": [],
   "source": [
    "def f(r,x,E):\n",
    "    psi=r[0]\n",
    "    phi=r[1]\n",
    "    dpsi=phi\n",
    "    dphi=(2*m/hbar**2)*(V(x)-E)*psi\n",
    "    return(array([dpsi,dphi],float))"
   ]
  },
  {
   "cell_type": "code",
   "execution_count": null,
   "metadata": {
    "collapsed": true
   },
   "outputs": [],
   "source": []
  },
  {
   "cell_type": "code",
   "execution_count": 137,
   "metadata": {
    "collapsed": true
   },
   "outputs": [],
   "source": [
    "def solve(E): #for when we get the whole function\n",
    "    psi=0.0\n",
    "    phi=1.0\n",
    "    r=array([psi,phi],float)\n",
    "    psipoints=[psi]\n",
    "    \n",
    "    for x in arange(-w,w,h):\n",
    "        k1 = h*f(r,x,E)\n",
    "        k2 = h*f(r+0.5*k1,x+0.5*h,E)\n",
    "        k3 = h*f(r+0.5*k2,x+0.5*h,E)\n",
    "        k4 = h*f(r+k3,x+h,E)\n",
    "        r += (k1+2*k2+2*k3+k4)/6\n",
    "        psipoints.append(r[0])\n",
    "    return(array(psipoints,float))"
   ]
  },
  {
   "cell_type": "code",
   "execution_count": 138,
   "metadata": {
    "collapsed": true
   },
   "outputs": [],
   "source": [
    "def boundary(E): #for the shooting method\n",
    "    psi=solve(E)\n",
    "    return(psi[N])#return the last point"
   ]
  },
  {
   "cell_type": "code",
   "execution_count": 139,
   "metadata": {
    "collapsed": true
   },
   "outputs": [],
   "source": [
    "def secant(E1,E2): \n",
    "    psi2=boundary(E1)\n",
    "    target=e/10000\n",
    "    while abs(E1-E2)>target:\n",
    "        psi1,psi2 = psi2,boundary(E2)\n",
    "        E1,E2 = E2,E2-psi2*(E2-E1)/(psi2-psi1)\n",
    "    return(E2)"
   ]
  },
  {
   "cell_type": "code",
   "execution_count": 140,
   "metadata": {
    "collapsed": true
   },
   "outputs": [],
   "source": [
    "def waveplot(E):\n",
    "    psi=solve(E)\n",
    "    halfpsi=psi[0:N//2+1]\n",
    "    \n",
    "    integral=2*h*(sum(halfpsi**2)-0.5*halfpsi[0]**2-0.5*halfpsi[N//2]**2)\n",
    "    psi/=integral\n",
    "    x=linspace(-w,w,N+1)\n",
    "    print(h*sum(psi*psi))\n",
    "    plot(x,psi)\n",
    "    "
   ]
  },
  {
   "cell_type": "code",
   "execution_count": 141,
   "metadata": {},
   "outputs": [
    {
     "name": "stdout",
     "output_type": "stream",
     "text": [
      "138.02397205978716\n",
      "3.2063928536523264e+18\n",
      "690.1198621105536\n",
      "7.252818071575163e+21\n",
      "966.1678095064755\n",
      "1.5484989344198557e+23\n"
     ]
    },
    {
     "data": {
      "image/png": "[encoded data removed]",
      "text/plain": [
       "<matplotlib.figure.Figure at 0x110241588>"
      ]
     },
     "metadata": {},
     "output_type": "display_data"
    }
   ],
   "source": [
    "E=secant(0*e,10*e)\n",
    "print(E/e)\n",
    "waveplot(E)\n",
    "E=secant(500*e,510*e)\n",
    "print(E/e)\n",
    "waveplot(E)\n",
    "E=secant(1000*e,1010*e)\n",
    "print(E/e)\n",
    "waveplot(E)\n",
    "xlim(-5*a,5*a)\n",
    "ylim(-1e4,1e4)\n",
    "show()"
   ]
  },
  {
   "cell_type": "code",
   "execution_count": 117,
   "metadata": {
    "collapsed": true
   },
   "outputs": [],
   "source": [
    "show()"
   ]
  },
  {
   "cell_type": "code",
   "execution_count": 2,
   "metadata": {},
   "outputs": [],
   "source": [
    "def rk4v4(r,tpoints,*argv):\n",
    "    N=len(tpoints)\n",
    "    ypoints=zeros(N,float)\n",
    "    xpoints=zeros(N,float)\n",
    "    xpoints[0]=r[0]\n",
    "    ypoints[0]=r[1]\n",
    "    \n",
    "   \n",
    "    h=tpoints[1]-tpoints[0]\n",
    "    \n",
    "   \n",
    "    for i,t in enumerate(tpoints[:-1]):\n",
    "        \n",
    "        k1=h*f2(r,t,*argv)\n",
    "        k2=h*f2(r+.5*k1,t+.5*h,*argv)\n",
    "        k3=h*f2(r+.5*k2,t+.5*h,*argv)\n",
    "        k4=h*f2(r+k3, t+h,*argv)\n",
    "        r+=(k1+2*k2+2*k3+k4)/6\n",
    "        \n",
    "        xpoints[i+1]=r[0]\n",
    "        ypoints[i+1]=r[1]\n",
    "    return array([xpoints,ypoints])"
   ]
  },
  {
   "cell_type": "code",
   "execution_count": 3,
   "metadata": {},
   "outputs": [],
   "source": [
    "def f2(r,t):\n",
    "    x=r[0]\n",
    "    y=r[1]\n",
    "    u=r[2]\n",
    "    v=r[3]\n",
    "    \n",
    "    rcube=(x*x+y*y)**1.5\n",
    "    dx=u\n",
    "    dy=v\n",
    "    du=-G*M*x/rcube\n",
    "    dv=-G*M*y/rcube\n",
    "   \n",
    "    return(array([dx,dy,du,dv]))"
   ]
  },
  {
   "cell_type": "code",
   "execution_count": 4,
   "metadata": {},
   "outputs": [],
   "source": [
    "G=6.674e-11\n",
    "M=1.989e30\n",
    "h=1e4\n",
    "tmax=2e9\n",
    "x=4e12\n",
    "y=0\n",
    "u=0\n",
    "v=500\n",
    "r=array([x,y,u,v])\n",
    "tpoints=arange(0,tmax,h)\n",
    "x,y=rk4v4(r,tpoints)"
   ]
  },
  {
   "cell_type": "code",
   "execution_count": 5,
   "metadata": {},
   "outputs": [
    {
     "data": {
      "image/png": "[encoded data removed]",
      "text/plain": [
       "<Figure size 432x288 with 1 Axes>"
      ]
     },
     "metadata": {
      "needs_background": "light"
     },
     "output_type": "display_data"
    }
   ],
   "source": [
    "plot(x[::50],y[::50],\"bx\")\n",
    "show()"
   ]
  },
  {
   "cell_type": "code",
   "execution_count": 42,
   "metadata": {},
   "outputs": [],
   "source": [
    "\n",
    "def rk4step(h,r,t):\n",
    "    k1=h*f2(r,t)\n",
    "    k2=h*f2(r+.5*k1,t+.5*h)\n",
    "    k3=h*f2(r+.5*k2,t+.5*h)\n",
    "    k4=h*f2(r+k3, t+h)\n",
    "    r=(k1+2*k2+2*k3+k4)/6\n",
    "    return(r)"
   ]
  },
  {
   "cell_type": "code",
   "execution_count": 6,
   "metadata": {},
   "outputs": [
    {
     "ename": "NameError",
     "evalue": "name 'rk4step' is not defined",
     "output_type": "error",
     "traceback": [
      "\u001b[0;31m---------------------------------------------------------------------------\u001b[0m",
      "\u001b[0;31mNameError\u001b[0m                                 Traceback (most recent call last)",
      "\u001b[0;32m<ipython-input-6-25f0bf762f2c>\u001b[0m in \u001b[0;36m<module>\u001b[0;34m\u001b[0m\n\u001b[1;32m     17\u001b[0m \u001b[0;34m\u001b[0m\u001b[0m\n\u001b[1;32m     18\u001b[0m \u001b[0;34m\u001b[0m\u001b[0m\n\u001b[0;32m---> 19\u001b[0;31m     \u001b[0mr1\u001b[0m\u001b[0;34m=\u001b[0m\u001b[0mr\u001b[0m\u001b[0;34m+\u001b[0m\u001b[0mrk4step\u001b[0m\u001b[0;34m(\u001b[0m\u001b[0mh\u001b[0m\u001b[0;34m,\u001b[0m\u001b[0mr\u001b[0m\u001b[0;34m,\u001b[0m\u001b[0mt\u001b[0m\u001b[0;34m)\u001b[0m\u001b[0;34m\u001b[0m\u001b[0m\n\u001b[0m\u001b[1;32m     20\u001b[0m     \u001b[0mr1\u001b[0m\u001b[0;34m+=\u001b[0m\u001b[0mrk4step\u001b[0m\u001b[0;34m(\u001b[0m\u001b[0mh\u001b[0m\u001b[0;34m,\u001b[0m\u001b[0mr1\u001b[0m\u001b[0;34m,\u001b[0m\u001b[0mt\u001b[0m\u001b[0;34m+\u001b[0m\u001b[0mh\u001b[0m\u001b[0;34m)\u001b[0m\u001b[0;34m\u001b[0m\u001b[0m\n\u001b[1;32m     21\u001b[0m     \u001b[0mr2\u001b[0m\u001b[0;34m=\u001b[0m\u001b[0mr\u001b[0m\u001b[0;34m+\u001b[0m\u001b[0mrk4step\u001b[0m\u001b[0;34m(\u001b[0m\u001b[0;36m2\u001b[0m\u001b[0;34m*\u001b[0m\u001b[0mh\u001b[0m\u001b[0;34m,\u001b[0m\u001b[0mr\u001b[0m\u001b[0;34m,\u001b[0m\u001b[0mt\u001b[0m\u001b[0;34m)\u001b[0m\u001b[0;34m\u001b[0m\u001b[0m\n",
      "\u001b[0;31mNameError\u001b[0m: name 'rk4step' is not defined"
     ]
    }
   ],
   "source": [
    "h=1e4\n",
    "tmax=2e9\n",
    "x=4e12\n",
    "y=0\n",
    "u=0\n",
    "v=500\n",
    "r=array([x,y,u,v])\n",
    "tpoints=[]\n",
    "tpoints.append(0)\n",
    "xpoints=[]\n",
    "ypoints=[]\n",
    "xpoints.append(x)\n",
    "ypoints.append(y)\n",
    "delta=1000/(365*3600)\n",
    "t=0\n",
    "while (t<tmax): \n",
    "    \n",
    "    \n",
    "    r1=r+rk4step(h,r,t)\n",
    "    r1+=rk4step(h,r1,t+h)\n",
    "    r2=r+rk4step(2*h,r,t)\n",
    "    errx=r1[0]-r2[0]\n",
    "    erry=r1[1]-r2[1]\n",
    "    rho=30.*h*delta/sqrt(errx**2+erry**2)\n",
    "    if rho>1:\n",
    "        tpoints.append(t+2*h)\n",
    "        xpoints.append(r1[0])\n",
    "        ypoints.append(r1[1])\n",
    "        \n",
    "        h=h*rho**.25\n",
    "        t=t+2*h\n",
    "       \n",
    "        r=r1\n",
    "        print(r)\n",
    "    else:\n",
    "        h=h*rho**.25\n",
    "       \n",
    "    "
   ]
  },
  {
   "cell_type": "code",
   "execution_count": null,
   "metadata": {},
   "outputs": [],
   "source": [
    "plot(xpoints,ypoints,\"rx\")\n",
    "show()"
   ]
  },
  {
   "cell_type": "code",
   "execution_count": null,
   "metadata": {},
   "outputs": [],
   "source": [
    "Mearth=5.9722e24\n",
    "x0=1.5120e11\n",
    "y0=0.0\n",
    "vx0=0.0\n",
    "vy0=2.9291e4\n",
    "t0=0\n",
    "tf=50e6\n",
    "h=3600"
   ]
  },
  {
   "cell_type": "code",
   "execution_count": null,
   "metadata": {},
   "outputs": [],
   "source": [
    "def rmag(r):\n",
    "    return(sqrt(sum(r*r)))"
   ]
  },
  {
   "cell_type": "code",
   "execution_count": null,
   "metadata": {},
   "outputs": [],
   "source": [
    "def f(r,t):\n",
    "    return -G*M*r/rmag(r)**3"
   ]
  },
  {
   "cell_type": "code",
   "execution_count": null,
   "metadata": {},
   "outputs": [],
   "source": [
    "def V(r):\n",
    "    return -G*M*Mearth/rmag(r)"
   ]
  },
  {
   "cell_type": "code",
   "execution_count": null,
   "metadata": {},
   "outputs": [],
   "source": [
    "def T(v):\n",
    "    return 0.5*Mearth*sum(v*v)"
   ]
  },
  {
   "cell_type": "code",
   "execution_count": null,
   "metadata": {},
   "outputs": [],
   "source": []
  },
  {
   "cell_type": "code",
   "execution_count": 43,
   "metadata": {},
   "outputs": [],
   "source": [
    "r=array([x0,y0])\n",
    "v=array([vx0,vy0])\n",
    "vhalf=v+0.5*h*f(r,t)\n",
    "tpoints=arange(t0,tf,h)\n",
    "xpoints=[]\n",
    "ypoints=[]\n",
    "Vpoints=[]\n",
    "Tpoints=[]\n",
    "Epoints=[]\n",
    "for t in arange(t0,tf,h):\n",
    "    xpoints.append(r[0])\n",
    "    ypoints.append(r[1])\n",
    "    Vpoints.append(V(r))\n",
    "    Tpoints.append(T(v))\n",
    "    Epoints.append(V(r)+T(v))\n",
    "    r+=h*vhalf\n",
    "    k=h*f(r,t)\n",
    "    v=vhalf+.5*k\n",
    "    vhalf+=k\n",
    "    "
   ]
  },
  {
   "cell_type": "code",
   "execution_count": 51,
   "metadata": {},
   "outputs": [
    {
     "data": {
      "image/png": "[encoded data removed]",
      "text/plain": [
       "<matplotlib.figure.Figure at 0x116349940>"
      ]
     },
     "metadata": {},
     "output_type": "display_data"
    }
   ],
   "source": [
    "plot(tpoints,Vpoints,label=\"PE\")\n",
    "plot(tpoints,Tpoints,label=\"KE\")\n",
    "plot(tpoints,Epoints,label=\"E\")\n",
    "legend()\n",
    "show()"
   ]
  },
  {
   "cell_type": "code",
   "execution_count": null,
   "metadata": {
    "collapsed": true
   },
   "outputs": [],
   "source": [
    "p"
   ]
  }
 ],
 "metadata": {
  "kernelspec": {
   "display_name": "Python 3",
   "language": "python",
   "name": "python3"
  },
  "language_info": {
   "codemirror_mode": {
    "name": "ipython",
    "version": 3
   },
   "file_extension": ".py",
   "mimetype": "text/x-python",
   "name": "python",
   "nbconvert_exporter": "python",
   "pygments_lexer": "ipython3",
   "version": "3.6.6"
  }
 },
 "nbformat": 4,
 "nbformat_minor": 2
}
