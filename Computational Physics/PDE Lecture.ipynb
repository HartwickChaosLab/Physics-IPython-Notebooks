{
 "cells": [
  {
   "cell_type": "code",
   "execution_count": null,
   "metadata": {},
   "outputs": [
    {
     "name": "stderr",
     "output_type": "stream",
     "text": [
      "/anaconda3/lib/python3.6/site-packages/ipykernel_launcher.py:27: RuntimeWarning: overflow encountered in double_scalars\n"
     ]
    }
   ],
   "source": [
    "from numpy import empty,zeros,max\n",
    "from pylab import imshow,gray,show\n",
    "\n",
    "# Constants\n",
    "M = 50        # Grid squares on a side\n",
    "V = 1.0         # Voltage at top wall\n",
    "target = 1e-4   # Target accuracy\n",
    "\n",
    "# Create arrays to hold potential values\n",
    "phi = zeros([M+1,M+1],float)\n",
    "phi[0,:] = V\n",
    "phi[M,:]=-V\n",
    "#phi[10:20,10:20]=20\n",
    "phiprime = empty([M+1,M+1],float)\n",
    "\n",
    "# Main loop\n",
    "delta = 1.0\n",
    "while delta>target:\n",
    "\n",
    "    # Calculate new values of the potential\n",
    "    for i in range(M+1):\n",
    "        for j in range(M+1):\n",
    "            if i==0 or i==M or j==0 or j==M:\n",
    "                phiprime[i,j] = phi[i,j]\n",
    "            else:\n",
    "                phiprime[i,j] = (1+.9)*(phi[i+1,j] + phi[i-1,j] \\\n",
    "                                 + phi[i,j+1] + phi[i,j-1])/4-.9*(phi[i,j])\n",
    "\n",
    "    # Calculate maximum difference from old values\n",
    "    delta = max(abs(phi-phiprime))\n",
    "\n",
    "    # Swap the two arrays around\n",
    "    phi,phiprime = phiprime,phi\n",
    "\n",
    "# Make a plot\n",
    "imshow(phi)\n",
    "gray()\n",
    "show()"
   ]
  },
  {
   "cell_type": "code",
   "execution_count": null,
   "metadata": {
    "collapsed": true
   },
   "outputs": [],
   "source": []
  }
 ],
 "metadata": {
  "kernelspec": {
   "display_name": "Python 3",
   "language": "python",
   "name": "python3"
  },
  "language_info": {
   "codemirror_mode": {
    "name": "ipython",
    "version": 3
   },
   "file_extension": ".py",
   "mimetype": "text/x-python",
   "name": "python",
   "nbconvert_exporter": "python",
   "pygments_lexer": "ipython3",
   "version": "3.6.6"
  }
 },
 "nbformat": 4,
 "nbformat_minor": 2
}
