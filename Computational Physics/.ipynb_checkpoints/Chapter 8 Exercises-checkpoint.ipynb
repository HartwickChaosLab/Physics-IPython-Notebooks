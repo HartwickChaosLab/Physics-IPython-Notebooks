{
 "cells": [
  {
   "cell_type": "code",
   "execution_count": 37,
   "metadata": {},
   "outputs": [],
   "source": [
    "from numpy import array, arange,sqrt,linspace\n",
    "from pylab import plot, show"
   ]
  },
  {
   "cell_type": "markdown",
   "metadata": {},
   "source": [
    "# Exercise 8.14"
   ]
  },
  {
   "cell_type": "code",
   "execution_count": 19,
   "metadata": {
    "collapsed": true
   },
   "outputs": [],
   "source": [
    "m=9.1094e-31\n",
    "hbar=1.0546e-34\n",
    "e=1.6022e-34\n",
    "a=1e-11\n",
    "Vo=50*e\n",
    "w=10*a ##boundary for PDE\n",
    "N=1000\n",
    "h=2*w/N"
   ]
  },
  {
   "cell_type": "code",
   "execution_count": 20,
   "metadata": {
    "collapsed": true
   },
   "outputs": [],
   "source": [
    "def V(x):\n",
    "    return(Vo*(x/a)**4)"
   ]
  },
  {
   "cell_type": "code",
   "execution_count": 21,
   "metadata": {
    "collapsed": true
   },
   "outputs": [],
   "source": [
    "def f(r,x,E):\n",
    "    psi=r[0]\n",
    "    phi=r[1]\n",
    "    dpsi=phi\n",
    "    dphi=(2*m/hbar**2)*(V(x)-E)*psi\n",
    "    return(array([dpsi,dphi],float))"
   ]
  },
  {
   "cell_type": "code",
   "execution_count": 23,
   "metadata": {
    "collapsed": true
   },
   "outputs": [],
   "source": [
    "def solve(E): #for when we get the whole function\n",
    "    psi=0.0\n",
    "    phi=1.0\n",
    "    r=array([psi,phi],float)\n",
    "    psipoints=[psi]\n",
    "    \n",
    "    for x in arange(-w,w,h):\n",
    "        k1 = h*f(r,x,E)\n",
    "        k2 = h*f(r+0.5*k1,x+0.5*h,E)\n",
    "        k3 = h*f(r+0.5*k2,x+0.5*h,E)\n",
    "        k4 = h*f(r+k3,x+h,E)\n",
    "        r += (k1+2*k2+2*k3+k4)/6\n",
    "        psipoints.append(r[0])\n",
    "    return(array(psipoints,float))"
   ]
  },
  {
   "cell_type": "code",
   "execution_count": 29,
   "metadata": {},
   "outputs": [],
   "source": [
    "def boundary(E): #for the shooting method\n",
    "    psi=solve(E)\n",
    "    return(psi[N])#return the last point"
   ]
  },
  {
   "cell_type": "code",
   "execution_count": 30,
   "metadata": {
    "collapsed": true
   },
   "outputs": [],
   "source": [
    "def secant(E1,E2): \n",
    "    psi2=boundary(E1)\n",
    "    target=e/1000\n",
    "    while abs(E1-E2)>target:\n",
    "        psi1,psi2=psi2,boundary(E2)\n",
    "        E1,E2=E2,E2-psi2*(E2-E1)/(psi2-psi1)\n",
    "    return(E2)"
   ]
  },
  {
   "cell_type": "code",
   "execution_count": 33,
   "metadata": {
    "collapsed": true
   },
   "outputs": [],
   "source": [
    "def waveplot(E):\n",
    "    psi=solve(E)\n",
    "    halfpsi=psi[0:N//2+1]\n",
    "    \n",
    "    integral=2*h*(sum(halfpsi**2)-0.5*halfpsi[0]**2-0.5*halfpsi[N//2]**2)\n",
    "    psi/=sqrt(integral)\n",
    "    x=linspace(-w,w,N+1)\n",
    "    plot(x,psi)"
   ]
  },
  {
   "cell_type": "code",
   "execution_count": 39,
   "metadata": {},
   "outputs": [
    {
     "name": "stdout",
     "output_type": "stream",
     "text": [
      "9401102597730276.0\n"
     ]
    }
   ],
   "source": [
    "E=secant(0*e,10*e)\n",
    "print(E/e)\n",
    "waveplot(E)"
   ]
  },
  {
   "cell_type": "code",
   "execution_count": null,
   "metadata": {
    "collapsed": true
   },
   "outputs": [],
   "source": []
  }
 ],
 "metadata": {
  "kernelspec": {
   "display_name": "Python 3",
   "language": "python",
   "name": "python3"
  },
  "language_info": {
   "codemirror_mode": {
    "name": "ipython",
    "version": 3
   },
   "file_extension": ".py",
   "mimetype": "text/x-python",
   "name": "python",
   "nbconvert_exporter": "python",
   "pygments_lexer": "ipython3",
   "version": "3.6.3"
  }
 },
 "nbformat": 4,
 "nbformat_minor": 2
}
