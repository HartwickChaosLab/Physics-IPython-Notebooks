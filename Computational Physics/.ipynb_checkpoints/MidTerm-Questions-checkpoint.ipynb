{
 "cells": [
  {
   "cell_type": "markdown",
   "metadata": {},
   "source": [
    "# Question 1\n",
    "\n",
    "Consider a spin $1$ particle. The eigen states are given by\n",
    "\n",
    "$|+\\rangle=\\begin{pmatrix}1\\\\0\\\\0\\end{pmatrix}, |0\\rangle=\\begin{pmatrix}0\\\\1\\\\0\\end{pmatrix}\n",
    "|-\\rangle=\\begin{pmatrix}0\\\\1\\\\0\\end{pmatrix}$\n",
    "\n",
    "The spin matricies (ignoring $\\hbar$) are given by\n",
    "$S_Z=\\begin{bmatrix}1 & 0 &0 \\\\0 & 1 & 0\\\\0 & 0&1 \\end{bmatrix},\\\\\n",
    "S_Y=\\frac{1}{\\sqrt{2}}\\begin{bmatrix}0 & -i &0 \\\\i & 0 & -i\\\\0 & i&0 \\end{bmatrix},\\\\\n",
    "S_X=\\frac{1}{\\sqrt{2}}\\begin{bmatrix}0 & 1 &0 \\\\1 & 0 & 1\\\\0 & 1&0 \\end{bmatrix}.$\n",
    "\n"
   ]
  },
  {
   "cell_type": "markdown",
   "metadata": {},
   "source": [
    "## Part A:\n",
    "\n",
    "Using arrays show that $[S_x,S_y]=i S_Z, [S_y,S_z]=iS_x, and [S_z,S_x]=iS_y$ where the square brackets are the commutators, and show that $S^2=2$"
   ]
  },
  {
   "cell_type": "markdown",
   "metadata": {},
   "source": [
    "## Part B:\n",
    "\n",
    "Consider a wavefunction $|\\psi\\rangle=\\frac{2}{\\sqrt{6}}|+\\rangle-\\frac{i}{\\sqrt{6}}|0\\rangle+\\frac{i}{\\sqrt{6}}|-\\rangle$\n",
    "\n",
    "Use vector multiplication to show that $|\\psi\\rangle$ is normalized to $1$\n",
    "\n",
    "Then find $\\langle S_x \\rangle, \\langle S_y \\rangle, \\langle S_z \\rangle$, where $\\langle A \\rangle=\\langle \\psi |A\\psi|\\rangle$ You can import conjugate from numpy to convert the kets into bras.\n",
    " "
   ]
  },
  {
   "cell_type": "markdown",
   "metadata": {},
   "source": [
    "# Question 2\n",
    "\n",
    "In radial coordinates $(r,\\theta)$ you learned that the magnitudes of the velocity and acceleration of an object are given by $v=\\sqrt{\\left(\\frac{dr}{dt}\\right)^2+\\left(r\\frac{d\\theta}{dt}\\right)^2}$ and $a=\\sqrt{\\left[\\frac{d^2r}{dt^2}-r\\left(\\frac{d\\theta}{dt} \\right)^2\\right]^2 +\\left[r\\frac{d^2\\theta}{dt}+2\\frac{dr}{dt}\\frac{d\\theta}{dt}\\right]^2}$\n",
    "\n",
    "Download the data file \"midterm_radar_data.txt\" from D2L and import into python. The first column is time in seconds, the second is $r$ in km, and the third colum is $\\theta$ in radians. \n",
    "\n",
    "Calculate the first and second derivatives of $r$ and $\\theta$ using the central difference method (this means you won't get the endpoints, which is fine). Then calculate and plot the speed as a function of time. Hint: This is sampled data, so watch what derivative formulas you use. Secondly, your step size in this case is 4 seconds.\n",
    "\n",
    "## Extra Credit: \n",
    "Calculate the magnitude of the acceleration and plot."
   ]
  },
  {
   "cell_type": "markdown",
   "metadata": {},
   "source": [
    "# Question 3\n",
    "\n",
    "When planning for underground pipes, engineers need to know the temperature of the ground. A model for the temperature at various depths $x$ is given by\n",
    "\n",
    "$\\frac{T(x,t)-T_s}{T_i-T_s}=erf\\left(\\frac{x}{s\\sqrt{\\alpha t}}\\right)=\\frac{2}{\\sqrt{\\pi}}\\int_0^{\\frac{x}{2\\sqrt{\\alpha t}}}e^{-u^2}du$\n",
    "\n",
    "where $\\alpha=0.138\\times 10^{-6}m^2/s$ is the thermal diffusivity of the soil, $T_s=-15^{\\circ}$C is the surface temperature, $T_i=12^{\\circ}$C is the intital soil termperature at a depth $x$.\n",
    "\n",
    "## Part A\n",
    "\n",
    "Find the temperture at a depth $x=1$m after $30$ days ($t=2.592 \\times 10^6$s) using adaptive trapezoidal rule with an error of $1\\times10^{-6}$ on the integral."
   ]
  },
  {
   "cell_type": "markdown",
   "metadata": {},
   "source": [
    "## Part B\n",
    "\n",
    "For a depth of $x=0.5$m plot the temperature for forty days with a time interval of one day. "
   ]
  },
  {
   "cell_type": "markdown",
   "metadata": {},
   "source": [
    "## Extra Credit\n",
    "\n",
    "Make a 3D plot with temperature along the z-axis and time and depth along the x- and y- axes with $1<T\\leq 40$ days and depth in meters as $1<x\\leq 40$ m in one meter increments. The command imshow from pylab might be good here."
   ]
  },
  {
   "cell_type": "code",
   "execution_count": null,
   "metadata": {
    "collapsed": true
   },
   "outputs": [],
   "source": []
  }
 ],
 "metadata": {
  "kernelspec": {
   "display_name": "Python 3",
   "language": "python",
   "name": "python3"
  },
  "language_info": {
   "codemirror_mode": {
    "name": "ipython",
    "version": 3
   },
   "file_extension": ".py",
   "mimetype": "text/x-python",
   "name": "python",
   "nbconvert_exporter": "python",
   "pygments_lexer": "ipython3",
   "version": "3.6.3"
  }
 },
 "nbformat": 4,
 "nbformat_minor": 2
}
