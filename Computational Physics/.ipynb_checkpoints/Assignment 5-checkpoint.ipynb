{
 "cells": [
  {
   "cell_type": "code",
   "execution_count": 80,
   "metadata": {
    "collapsed": true
   },
   "outputs": [],
   "source": [
    "from numpy import ones,copy,cos,tan,pi,linspace,exp,expm1,sqrt\n",
    "from math import factorial\n",
    "from pylab import plot,show"
   ]
  },
  {
   "cell_type": "code",
   "execution_count": 81,
   "metadata": {
    "collapsed": true
   },
   "outputs": [],
   "source": [
    "\n",
    "\n",
    "def gaussxw(N):\n",
    "\n",
    "    # Initial approximation to roots of the Legendre polynomial\n",
    "    a = linspace(3,4*N-1,N)/(4*N+2)\n",
    "    x = cos(pi*a+1/(8*N*N*tan(a)))\n",
    "\n",
    "    # Find roots using Newton's method\n",
    "    epsilon = 1e-15\n",
    "    delta = 1.0\n",
    "    while delta>epsilon:\n",
    "        p0 = ones(N,float)\n",
    "        p1 = copy(x)\n",
    "        for k in range(1,N):\n",
    "            p0,p1 = p1,((2*k+1)*x*p1-k*p0)/(k+1)\n",
    "        dp = (N+1)*(p0-x*p1)/(1-x*x)\n",
    "        dx = p1/dp\n",
    "        x -= dx\n",
    "        delta = max(abs(dx))\n",
    "\n",
    "    # Calculate the weights\n",
    "    w = 2*(N+1)*(N+1)/(N*N*(1-x*x)*dp*dp)\n",
    "\n",
    "    return x,w"
   ]
  },
  {
   "cell_type": "code",
   "execution_count": 82,
   "metadata": {},
   "outputs": [
    {
     "data": {
      "text/plain": [
       "1.2054686549774487e-15"
      ]
     },
     "execution_count": 82,
     "metadata": {},
     "output_type": "execute_result"
    }
   ],
   "source": [
    "\n",
    "\n",
    "def f(x):\n",
    "    return x**4*exp(x)/(exp(x)-1)**2\n",
    "\n",
    "f(50)"
   ]
  },
  {
   "cell_type": "code",
   "execution_count": 83,
   "metadata": {
    "collapsed": true
   },
   "outputs": [],
   "source": [
    "V=0.001\n",
    "rho=6.022e28\n",
    "thetadebye=428\n",
    "kb=1.3806e-23\n",
    "\n",
    "\n",
    "N = 30\n",
    "\n",
    "x,w=gaussxw(N)\n",
    "\n"
   ]
  },
  {
   "cell_type": "code",
   "execution_count": 84,
   "metadata": {
    "collapsed": true
   },
   "outputs": [],
   "source": [
    "def cv(T):\n",
    "    a=0.0\n",
    "    b=thetadebye/T\n",
    "    xp=0.5*(b+a)+0.5*(b-a)*x #rescale\n",
    "    wp=0.5*(b-a)*w\n",
    "    s=0.0\n",
    "    for k in range(N):\n",
    "        s+=wp[k]*f(xp[k])\n",
    "    return 9*V*rho*kb*((T/thetadebye)**3)*s\n",
    "    "
   ]
  },
  {
   "cell_type": "code",
   "execution_count": 85,
   "metadata": {},
   "outputs": [
    {
     "data": {
      "text/plain": [
       "99"
      ]
     },
     "execution_count": 85,
     "metadata": {},
     "output_type": "execute_result"
    }
   ],
   "source": [
    "k"
   ]
  },
  {
   "cell_type": "code",
   "execution_count": 86,
   "metadata": {},
   "outputs": [
    {
     "data": {
      "image/png": "[encoded data removed]",
      "text/plain": [
       "<matplotlib.figure.Figure at 0x10e09e3c8>"
      ]
     },
     "metadata": {},
     "output_type": "display_data"
    }
   ],
   "source": [
    "temp=[]\n",
    "cvpoints=[]\n",
    "for T in range(5,501):\n",
    "    temp.append(T)\n",
    "    cvpoints.append(cv(T))\n",
    "plot(temp,cvpoints)\n",
    "show()"
   ]
  },
  {
   "cell_type": "code",
   "execution_count": 87,
   "metadata": {
    "collapsed": true
   },
   "outputs": [],
   "source": [
    "def f2(x):\n",
    "    return (x**3)*exp(-x)/(1-exp(-x))"
   ]
  },
  {
   "cell_type": "code",
   "execution_count": 88,
   "metadata": {},
   "outputs": [
    {
     "name": "stdout",
     "output_type": "stream",
     "text": [
      "6.49393940227\n"
     ]
    }
   ],
   "source": [
    "a=0.\n",
    "b=1.\n",
    "N=100\n",
    "x,w=gaussxw(N)\n",
    "xp=0.5*(b+a)+0.5*(b-a)*x #rescale\n",
    "wp=0.5*(b-a)*w\n",
    "s=0.\n",
    "for k in range(N):\n",
    "    s+=wp[k]*f2(xp[k]/(1-xp[k]))/(1-xp[k])**2\n",
    "print(s)\n",
    "#need to multiply by constants\n"
   ]
  },
  {
   "cell_type": "markdown",
   "metadata": {},
   "source": [
    "28/12\n"
   ]
  },
  {
   "cell_type": "code",
   "execution_count": 89,
   "metadata": {},
   "outputs": [
    {
     "data": {
      "text/plain": [
       "2.3333333333333335"
      ]
     },
     "execution_count": 89,
     "metadata": {},
     "output_type": "execute_result"
    }
   ],
   "source": [
    "28/12"
   ]
  },
  {
   "cell_type": "code",
   "execution_count": 90,
   "metadata": {
    "collapsed": true
   },
   "outputs": [],
   "source": [
    "n=5\n",
    "N=100"
   ]
  },
  {
   "cell_type": "code",
   "execution_count": 113,
   "metadata": {
    "collapsed": true
   },
   "outputs": [],
   "source": [
    "def Hermite(n,x):\n",
    "    h0,h1=0.0,1.0\n",
    "    for k in range(n):\n",
    "        print(k,h0,h1)\n",
    "        h0,h1=h1,2*x*h1-2*k*h0\n",
    "        print(k,h0,h1)\n",
    "    return h1"
   ]
  },
  {
   "cell_type": "code",
   "execution_count": 92,
   "metadata": {
    "collapsed": true
   },
   "outputs": [],
   "source": [
    "def psi(n,x):\n",
    "    return exp(-x*x/2)*Hermite(n,x)/sqrt(2**n*factorial(n)*sqrt(pi))"
   ]
  },
  {
   "cell_type": "code",
   "execution_count": 93,
   "metadata": {
    "collapsed": true
   },
   "outputs": [],
   "source": [
    "def ff(x):\n",
    "    return(x*psi(n,x))**2"
   ]
  },
  {
   "cell_type": "code",
   "execution_count": 94,
   "metadata": {
    "collapsed": true
   },
   "outputs": [],
   "source": [
    "def g(z):\n",
    "    return ff(z/(1-z))/(1-z)**2"
   ]
  },
  {
   "cell_type": "code",
   "execution_count": 95,
   "metadata": {},
   "outputs": [
    {
     "name": "stdout",
     "output_type": "stream",
     "text": [
      "2.34520787991\n"
     ]
    }
   ],
   "source": [
    "x,w =gaussxw(N)\n",
    "xp=0.5*(b+a)+0.5*(b-a)*x #rescale\n",
    "wp=0.5*(b-a)*w\n",
    "\n",
    "integral=0.\n",
    "for k in range(N):\n",
    "    integral+=wp[k]*g(xp[k])\n",
    "print(sqrt(2*integral))"
   ]
  },
  {
   "cell_type": "code",
   "execution_count": 61,
   "metadata": {
    "collapsed": true
   },
   "outputs": [],
   "source": [
    "x=linspace(-5,5,100)"
   ]
  },
  {
   "cell_type": "code",
   "execution_count": 65,
   "metadata": {},
   "outputs": [
    {
     "data": {
      "image/png": "[encoded data removed]",
      "text/plain": [
       "<matplotlib.figure.Figure at 0x10e14a0b8>"
      ]
     },
     "metadata": {},
     "output_type": "display_data"
    }
   ],
   "source": [
    "for n in range(1,5):\n",
    "    plot(x,psi(n,x))\n",
    "show()"
   ]
  },
  {
   "cell_type": "code",
   "execution_count": 114,
   "metadata": {},
   "outputs": [
    {
     "name": "stdout",
     "output_type": "stream",
     "text": [
      "0 0.0 1.0\n",
      "0 1.0 2.0\n",
      "1 1.0 2.0\n",
      "1 2.0 2.0\n"
     ]
    },
    {
     "data": {
      "text/plain": [
       "2.0"
      ]
     },
     "execution_count": 114,
     "metadata": {},
     "output_type": "execute_result"
    }
   ],
   "source": [
    "Hermite(2,1)\n",
    "\n"
   ]
  },
  {
   "cell_type": "markdown",
   "metadata": {},
   "source": [
    "## from scipy.special import hermite"
   ]
  },
  {
   "cell_type": "code",
   "execution_count": 98,
   "metadata": {},
   "outputs": [
    {
     "name": "stdout",
     "output_type": "stream",
     "text": [
      "Help on function hermite in module scipy.special.orthogonal:\n",
      "\n",
      "hermite(n, monic=False)\n",
      "    Physicist's Hermite polynomial.\n",
      "    \n",
      "    Defined by\n",
      "    \n",
      "    .. math::\n",
      "    \n",
      "        H_n(x) = (-1)^ne^{x^2}\\frac{d^n}{dx^n}e^{-x^2};\n",
      "    \n",
      "    :math:`H_n` is a polynomial of degree :math:`n`.\n",
      "    \n",
      "    Parameters\n",
      "    ----------\n",
      "    n : int\n",
      "        Degree of the polynomial.\n",
      "    monic : bool, optional\n",
      "        If `True`, scale the leading coefficient to be 1. Default is\n",
      "        `False`.\n",
      "    \n",
      "    Returns\n",
      "    -------\n",
      "    H : orthopoly1d\n",
      "        Hermite polynomial.\n",
      "    \n",
      "    Notes\n",
      "    -----\n",
      "    The polynomials :math:`H_n` are orthogonal over :math:`(-\\infty,\n",
      "    \\infty)` with weight function :math:`e^{-x^2}`.\n",
      "\n"
     ]
    }
   ],
   "source": [
    "help(hermite)"
   ]
  },
  {
   "cell_type": "code",
   "execution_count": 101,
   "metadata": {},
   "outputs": [
    {
     "data": {
      "text/plain": [
       "poly1d([ 4.,  0., -2.])"
      ]
     },
     "execution_count": 101,
     "metadata": {},
     "output_type": "execute_result"
    }
   ],
   "source": [
    "hermite(2)"
   ]
  },
  {
   "cell_type": "code",
   "execution_count": null,
   "metadata": {
    "collapsed": true
   },
   "outputs": [],
   "source": []
  }
 ],
 "metadata": {
  "kernelspec": {
   "display_name": "Python 3",
   "language": "python",
   "name": "python3"
  },
  "language_info": {
   "codemirror_mode": {
    "name": "ipython",
    "version": 3
   },
   "file_extension": ".py",
   "mimetype": "text/x-python",
   "name": "python",
   "nbconvert_exporter": "python",
   "pygments_lexer": "ipython3",
   "version": "3.6.3"
  }
 },
 "nbformat": 4,
 "nbformat_minor": 2
}
