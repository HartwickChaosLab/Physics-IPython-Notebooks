{
 "cells": [
  {
   "cell_type": "markdown",
   "metadata": {},
   "source": [
    "The following is based on the book*Numerical Analysis* by Richard L. Burden and J. Douglas Faires\n",
    "# Richardson's Exploration\n",
    "\n",
    "If we are making an approximation to $M$ by with an expression $N(h)$, with an adjustable parameter (usual step size) $h$, such that we can write the truncation error in the form \n",
    "\n",
    "$M-N(h)=K_1h+K_2h^2+K_3h^3+\\ldots$,Eq.0\n",
    "\n",
    "then we can take two approximations of the same order in truncation error to create a new approximation that is of higher order. Consider first an approximation of the form\n",
    "\n",
    "$M=N(h)+K_1h+K_2h^2+K_3h^3+\\ldots$ Eq(1)\n",
    "\n",
    "This formula is assume to hold for all positive $h$, so when we replace $h$ by half of its value, we get\n",
    "\n",
    "$M=N\\left(\\frac{h}{2}\\right)+K_1\\left(\\frac{h}{2}\\right)+K_2\\frac{h^2}{4}+K_3\\frac{h^3}{8}+\\ldots$, Eq(2)\n",
    "\n",
    "where we have assumed the contants $K_i$ are of the same magnitude when we go from $h$ to $h/2$.\n",
    "\n",
    "If we now subtract Eq.1 from twice Eq.2, this eliminates the $K_1$ term\n",
    "\n",
    "$M=[N(\\frac{h}{2}+(N(\\frac{h}{2})-N(h))+K_2(\\frac{h^2}{2}-h^2)+K_3(\\frac{h^3}{4}-h^3)+\\ldots]$\n",
    "\n",
    "We have used an approximation of order $\\mathcal{O}(h)$ to get an approx to order $\\mathcal{O}(h^2)$\n",
    "\n",
    "To make notation easier let $N_1(h)\\equiv N(h)$ and\n",
    "$N_2(h)=N_1(h/2)+[N_1(h/2)-N_1(h)]$\n",
    "\n",
    "Then for our approximation of $M$ above we get\n",
    "$M=N_2(h)-\\frac{K^2}{2}h^2-\\frac{3K_3}{4}h^3-\\ldots$ Eq.3\n",
    "Replacing $h$ with $h/2$ once again we get\n",
    "$M=N_2(\\frac{h}{2})-\\frac{K_2}{8}h^2-\\frac{3K_3}{32}h^3-\\ldots$ Eq.4\n",
    "Subtracting four times Eq.4 from Eq. 3 we get \n",
    "$M=[N_2(\\frac{h}{2})+\\frac{N_2(h/2)-N_2(h)}{3}]+\\frac{K_3}{8}h^3$\n",
    "\n",
    "Once again we see that by combining two approximations of $\\mathcal{O}(h^2)$ we get a new expression of $\\mathcal{O}(h^3)$\n",
    "\n",
    "We can keep doing this and we find that if $M$ can be written as\n",
    "\n",
    "$M=N(h)+\\sum_{j=1}^{m-1}K_jh^j+\\mathcal{O}(h^m)$\n",
    "\n",
    "we can write an approximation of $\\mathcal{O}(h^j)$ of the form, by taking an approximation with $h$ and then subtracting it in the proper way with the approximation of $h/2$\n",
    "\n",
    "$N_j(h)=N_{j-1}(\\frac{h}{2})+\\frac{N_{j-1}(h/2)-N_{j-1}(h)}{2^{j-1}-1}$ Eq.5\n",
    "\n",
    "\n",
    "\n"
   ]
  },
  {
   "cell_type": "markdown",
   "metadata": {
    "collapsed": true
   },
   "source": [
    "# Romberg Integration\n",
    "If you recall from our discussions of the trapezoidal approximation, the approximation had a truncation error in the form of Eq. 0. This was the basis for the adaptive step size method we used. This means we can use Richardson Extrapolation to get better values for the trapezoid approximation.\n",
    "\n",
    "We  will introduce the  notation $R_(i,j)$ to keep track of everything. The index $i$ keeps track of the step size and the index $j$ keeps track of the approximation error. So $R_{1,1}$ is the trapezoidal approximation with step size $h$ and the typical error $\\mathcal{O}(2)$. $R_{2,1}$ is for a step size of $h/2$ and the same error. $R_{3,1}$ is for a step-size of $h/4$ and the same error. Following Eq. 5 we see that we can combine $R_{2,1}$ and $R_{1,1}$ to form $R_{2,2}$ which has a step size of $h/2$ and approximation error of $\\mathcal{O}(h^4)$\n",
    "\n",
    "It can be show that we can rewrite the error terms for our integral as\n",
    "\n",
    "$\\int_a^b f(x)dx-R_{k,1}=\\sum_{i=1}^\\infty K_ih_k^{2i}=K_1h_k^2+\\sum_{i=2}^\\infty K_ih_k^{2i}$ Eq 6\n",
    "\n",
    "Where the $K_i$ are independent of $h_k$\n",
    "\n",
    "We can eliminate the term involving $h^2$ by following the same procedure as Richardson extrapolation by going to step-size $h^2$. (Our index $i=k$ goes up by one)\n",
    "\n",
    "$\\int_a^b f(x)dx-R_{k+1,1}=\\sum_{i=1}^\\infty K_ih_{k+1}^{2i}=\\frac{K_1}{4}h_k^2+\\sum_{i=2}^\\infty \\frac{K_ih_k^{2i}}{4^i}$ Eq 7\n",
    "\n",
    "Following Richardson Extrapolation we now subtract four times Eq. 7 from Eq. 6 to get\n",
    "\n",
    "$\\int_a^b f(x)dx-\\left[R_{k+1,1}+\\frac{R_{k+1,1}-R_{k,1}}{3}\\right]=\\sum_{i=2}^\\infty\\frac{K_i}{3}\\left(\\frac{1-4^{i-1}}{4^{i-1}}h_k^{2i} \\right)$ Eq. 8\n",
    "\n",
    "where we can see tje lowest order error term (i=2) is now $\\mathcal{O}(h^4)$. We can do this again to get $\\mathcal{O}(h^6)$ and in general. \n",
    "\n",
    "$R_{k,j}=R_{k,j-1}+\\frac{R_{k,j-1}-R_{k-1,j-1}}{4^{j-1}-1}$ Eq. 9"
   ]
  },
  {
   "cell_type": "markdown",
   "metadata": {},
   "source": [
    "# Implementing Romberg Integration\n",
    "\n",
    "We only need to do the trapezoidal approximation for once for each \"level\" we go down. First using step size $h$ and $h/2$ we calculate $R_{1,1}$ and $R_{2,1}$ respectively. We then combine these using Eq. 9 to get $R_{2,2}$ with error $\\mathcal{O}(h^4)$. Remember that we did the integrations with $\\mathcal{O}(h^2)$ combined them in a very straightforward way to get something with $\\mathcal{O}(h^4)$! That is very little work, for a huge payoff.\n",
    "\n",
    "We now can use the trap. integration method with $h/4$ to obtain $R_{3,1}$. We can then use Eq.9 to get $R_{3,2}$ again with error $\\mathcal{O}(h^4)$. However, now we can take $R_{3,2}$ and $R{2,2}$, plug it into Eq. 9 to obtain $R_{3,3}$ With only three integrations of $\\mathcal{O}(h^2)$ and $\\mathcal{O}(h^4)$ we now have an approximation error of $\\mathcal{O}(h^6)$! \n",
    "\n",
    "We can do this until our error is small enough. In general, we keep doing this until $\\left |R_{n-1,n-1}-R_{n,n}\\right |$ is within some tolerance that the user gives. To be extra cautious we can keep ensure that $|R_{n-2,n-2}-R_{n-1,n-1}|$ is also within tolerance. In other words, go one more step to ensure it wasn't some freaky thing that caused us to get within tolerance.\n",
    "\n"
   ]
  },
  {
   "cell_type": "markdown",
   "metadata": {},
   "source": [
    "# sample code\n",
    "\n",
    "Below I am going to preset $n$ to generate our integral. I'll leave it up to you to make it loop until some tolerance is reached."
   ]
  },
  {
   "cell_type": "code",
   "execution_count": 28,
   "metadata": {
    "collapsed": true
   },
   "outputs": [],
   "source": [
    "from numpy import array,sin, cos,pi,empty"
   ]
  },
  {
   "cell_type": "code",
   "execution_count": 39,
   "metadata": {
    "collapsed": true
   },
   "outputs": [],
   "source": [
    "def function(x):\n",
    "    return(sin(x**2)**4)"
   ]
  },
  {
   "cell_type": "code",
   "execution_count": 40,
   "metadata": {},
   "outputs": [
    {
     "name": "stdout",
     "output_type": "stream",
     "text": [
      "N=  1  R=  [ 0.05385303]\n",
      "N=  2  R= [ 0.26548698  0.33603163]\n",
      "N=  4  R= [ 0.37708378  0.41428272  0.41949945]\n",
      "N=  8  R= [ 0.95612564  1.14913959  1.19813004  1.21048926]\n",
      "N=  16  R= [ 0.96829827  0.97235581  0.96057023  0.95679944  0.95580457]\n"
     ]
    }
   ],
   "source": [
    "a=0 #limits of integration\n",
    "b=pi\n",
    "iterations=3 #largest R will be R(5,5)\n",
    "\n",
    "N=1 #Get things started with one slice\n",
    "h=b-a #step size to start is the whole interval\n",
    "\"\"\"What follows looks a bit weird. We are only going to keep the new line of integration\n",
    "and the last. At the end of the iteration loop we will do our customary swap of old variable\n",
    "= new variable. Because eventually we want these variables to be one dimensional arrays, we\n",
    "will start with R1 as an array of one object. If we don't do this now, we would get a type\n",
    "error later.\n",
    "\n",
    "To make this stop on its own, set an error limit, and compare to the correction term below\"\"\"\n",
    "\n",
    "I1=0.5*h*(function(a)+function(b)) #Our first \"integral\" of one slice\n",
    "\n",
    "R1=array([I1],float) # place it in the Romberg array. R1 will be considered the previous\n",
    "                        #row\n",
    "print(\"N= \",N, \" R= \",R1)\n",
    "\n",
    "row=1       #gots to intialize this variable. It will keep track of what row we are in\n",
    "for i in range(iterations+1): #begin the Romberg loop proper\n",
    "    N*=2 #Each time we go through a new row, we double N\n",
    "    h/=2 # and halve h\n",
    "    I2=I1/2 #From Romberg process. Add half of the previous Trap. Calc\n",
    "    for k in range(1,N,2):\n",
    "        I2+=h*function(a+k*h) #Trapezoidal rule\n",
    "    row+=1 #done with the first entry of the row, so now we need to jump up one\n",
    "    R2=empty(row, float) #create an empty array with \"row\" number of slots. \n",
    "    R2[0]=I2 #Set first value to the newly calculated order 2 approximation\n",
    "    for m in range(1,row): #add the corrections via Richardson's extrapolation\n",
    "        correction=(R2[m-1]-R1[m-1])/(4**m-1)\n",
    "        R2[m]=R2[m-1]+correction\n",
    "    I1=I2 # old becomes the new.\n",
    "    R1=R2\n",
    "    print(\"N= \",N,\" R=\",R1)"
   ]
  },
  {
   "cell_type": "code",
   "execution_count": null,
   "metadata": {
    "collapsed": true
   },
   "outputs": [],
   "source": []
  }
 ],
 "metadata": {
  "kernelspec": {
   "display_name": "Python 3",
   "language": "python",
   "name": "python3"
  },
  "language_info": {
   "codemirror_mode": {
    "name": "ipython",
    "version": 3
   },
   "file_extension": ".py",
   "mimetype": "text/x-python",
   "name": "python",
   "nbconvert_exporter": "python",
   "pygments_lexer": "ipython3",
   "version": "3.6.3"
  }
 },
 "nbformat": 4,
 "nbformat_minor": 2
}
