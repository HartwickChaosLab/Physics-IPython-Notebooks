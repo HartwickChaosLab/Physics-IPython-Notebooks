{
 "cells": [
  {
   "cell_type": "markdown",
   "metadata": {
    "slideshow": {
     "slide_type": "slide"
    }
   },
   "source": [
    "The following code are examples from Mark Newman's book Computational Physics. The explanations are my own."
   ]
  },
  {
   "cell_type": "markdown",
   "metadata": {
    "slideshow": {
     "slide_type": "slide"
    }
   },
   "source": [
    "# Example 2.1\n",
    "\n",
    "A simple program to determine the height of a ball dropped from rest off a tower of height, *h*, after an elapsed time, *t*.\n",
    "\n",
    "We set the acceleration due to gravity as a constant. We use the *input* command to get the info. However, the *info* command used by itself would set the variables as strings, which can't be used in mathematics, so we wrap the *input* command inside of a *float* command which turns the string into a float."
   ]
  },
  {
   "cell_type": "code",
   "execution_count": 1,
   "metadata": {
    "slideshow": {
     "slide_type": "subslide"
    }
   },
   "outputs": [
    {
     "name": "stdout",
     "output_type": "stream",
     "text": [
      "enter the height of the tower: 100\n",
      "Enter the time inteval: 5\n",
      "The height of the ball is  -22.625 meters\n"
     ]
    }
   ],
   "source": [
    "g=9.81 #Earth acceleration of gravity in m/s^2\n",
    "h=float(input(\"enter the height of the tower: \")) #in meters\n",
    "t=float(input(\"Enter the time inteval: \"))#in seconds\n",
    "s=g*t**2/2\n",
    "print(\"The height of the ball is \", h-s,\"meters\")"
   ]
  },
  {
   "cell_type": "markdown",
   "metadata": {
    "slideshow": {
     "slide_type": "slide"
    }
   },
   "source": [
    "# Example 2.2\n",
    "\n",
    "Here we will be doing much the same as above, taking an input, converting it into a number, and doing something with it. This time we need some outside help for the functions *sine* and *cosine*. This is a good thing, because these are hard to program for quick **AND** accurate results. I still haven't gotten a clear answer on how Python does it... Anyway, we will import *sin, cos, pi* from the math library. We could import all of the math library at once, but it is better coding practice to just import what you need, when you need it.\n",
    "\n",
    "So this example will take a radial and angular coordinate (polar coordinates) and convert to cartesian.\n"
   ]
  },
  {
   "cell_type": "code",
   "execution_count": 2,
   "metadata": {
    "slideshow": {
     "slide_type": "fragment"
    }
   },
   "outputs": [
    {
     "name": "stdout",
     "output_type": "stream",
     "text": [
      "Enter r: 3\n",
      "Enter angle in degrees: 45\n",
      "x=  2.121320343559643  y=  2.1213203435596424\n"
     ]
    }
   ],
   "source": [
    "from math import sin, cos, pi\n",
    "r=float(input(\"Enter r: \"))\n",
    "angle=float(input(\"Enter angle in degrees: \"))\n",
    "theta=angle*pi/180 #already a float, b/c even though 180 is written as a integer, pi and angle are floats and force theta to be a gloat\n",
    "x=r*cos(theta)\n",
    "y=r*sin(theta)\n",
    "print(\"x= \",x,\" y= \",y)"
   ]
  },
  {
   "cell_type": "markdown",
   "metadata": {
    "slideshow": {
     "slide_type": "slide"
    }
   },
   "source": [
    "# Example 2.7\n",
    "Rydberg's empirical formula for the emission lines of hydrogen is given by: $\\frac{1}{\\lambda}=R\\left(\\frac{1}{m^2}-\\frac{1}{n^2}\\right),$ where $R=1.097\\times 10^{-2}$ nm$^{-1}$ is known as Rydberg's constant, $m$ is an integer greater than $1$ and $n\\geq m+1$\n",
    "we'll use the range function and we'll let the user specify n and m."
   ]
  },
  {
   "cell_type": "code",
   "execution_count": 32,
   "metadata": {
    "slideshow": {
     "slide_type": "fragment"
    }
   },
   "outputs": [
    {
     "name": "stdout",
     "output_type": "stream",
     "text": [
      "Please input maximum m>=1: 4\n",
      "Please input maximum number of lines per series (n>=1): 4\n",
      "Series for m = 1\n",
      "   121.5436037678517  nm\n",
      "   102.55241567912488  nm\n",
      "   97.23488301428137  nm\n",
      "   94.95594044363415  nm\n",
      "Series for m = 2\n",
      "   656.3354603463993  nm\n",
      "   486.1744150714068  nm\n",
      "   434.084299170899  nm\n",
      "   410.2096627164995  nm\n",
      "Series for m = 3\n",
      "   1875.2441724182836  nm\n",
      "   1281.9051959890612  nm\n",
      "   1093.8924339106654  nm\n",
      "   1005.013673655424  nm\n",
      "Series for m = 4\n",
      "   4051.453458928391  nm\n",
      "   2625.341841385597  nm\n",
      "   2165.68603077263  nm\n",
      "   1944.6976602856273  nm\n"
     ]
    }
   ],
   "source": [
    "R=1.097e-2\n",
    "mmax=int(input(\"Please input maximum m>=1: \"))\n",
    "nmax=int(input(\"Please input maximum number of lines per series (n>=1): \"))\n",
    "while (mmax or nmax) <1:\n",
    "    print(\"integers must be greater than or equal to 1\") #check that integers are greater than 1\n",
    "    mmax=int(input(\"Please input maximum m>=1: \"))\n",
    "    nmax=int(input(\"Please input maximum n>=1:\"))\n",
    "for m in range (1,nmax+1): #Need to go to nmax+1, so that user nmax is included\n",
    "    print(\"Series for m =\", m)\n",
    "    for n in range (m+1,m+nmax+1):\n",
    "        invlambda=R*(1/m**2-1/n**2)\n",
    "        print(\"  \", 1/invlambda,\" nm\")"
   ]
  },
  {
   "cell_type": "code",
   "execution_count": null,
   "metadata": {
    "collapsed": true
   },
   "outputs": [],
   "source": []
  }
 ],
 "metadata": {
  "celltoolbar": "Slideshow",
  "kernelspec": {
   "display_name": "Python 3",
   "language": "python",
   "name": "python3"
  },
  "language_info": {
   "codemirror_mode": {
    "name": "ipython",
    "version": 3
   },
   "file_extension": ".py",
   "mimetype": "text/x-python",
   "name": "python",
   "nbconvert_exporter": "python",
   "pygments_lexer": "ipython3",
   "version": "3.6.3"
  }
 },
 "nbformat": 4,
 "nbformat_minor": 2
}
