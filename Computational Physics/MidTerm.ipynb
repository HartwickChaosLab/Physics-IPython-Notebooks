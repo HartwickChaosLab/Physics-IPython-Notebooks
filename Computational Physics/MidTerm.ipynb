{
 "cells": [
  {
   "cell_type": "code",
   "execution_count": 3,
   "metadata": {
    "collapsed": true
   },
   "outputs": [],
   "source": [
    "from numpy import sqrt, dot, array,conjugate, loadtxt,empty,exp,pi, arange,shape\n",
    "from pylab import plot, show,imshow\n",
    "from scipy.special import erf"
   ]
  },
  {
   "cell_type": "markdown",
   "metadata": {},
   "source": [
    "# Question 1\n",
    "\n",
    "Consider a spin $1$ particle. The eigen states are given by\n",
    "\n",
    "$|+\\rangle=\\begin{pmatrix}1\\\\0\\\\0\\end{pmatrix}, |0\\rangle=\\begin{pmatrix}0\\\\1\\\\0\\end{pmatrix}\n",
    "|-\\rangle=\\begin{pmatrix}0\\\\1\\\\0\\end{pmatrix}$\n",
    "\n",
    "The spin matricies (ignoring $\\hbar$) are given by\n",
    "$S_Z=\\begin{bmatrix}1 & 0 &0 \\\\0 & 1 & 0\\\\0 & 0&1 \\end{bmatrix},\\\\\n",
    "S_Y=\\frac{1}{\\sqrt{2}}\\begin{bmatrix}0 & -i &0 \\\\i & 0 & -i\\\\0 & i&0 \\end{bmatrix},\\\\\n",
    "S_X=\\frac{1}{\\sqrt{2}}\\begin{bmatrix}0 & 1 &0 \\\\1 & 0 & 1\\\\0 & 1&0 \\end{bmatrix}.$\n",
    "\n"
   ]
  },
  {
   "cell_type": "markdown",
   "metadata": {},
   "source": [
    "## Part A:\n",
    "\n",
    "Using arrays show that $[S_x,S_y]=i S_Z, [S_y,S_z]=iS_x, and [S_z,S_x]=iS_y$ where the square brackets are the commutators, and show that $S^2=2$"
   ]
  },
  {
   "cell_type": "code",
   "execution_count": 37,
   "metadata": {
    "collapsed": true
   },
   "outputs": [],
   "source": [
    "Sx=array([[0,1,0],[1,0,1],[0,1,0]])/sqrt(2)\n",
    "Sy=array([[0,-1j,0],[1j,0,-1j],[0,1j,0]])/sqrt(2)\n",
    "Sz=array([[1,0,0],[0,0,0],[0,0,-1]])"
   ]
  },
  {
   "cell_type": "code",
   "execution_count": 38,
   "metadata": {},
   "outputs": [
    {
     "name": "stdout",
     "output_type": "stream",
     "text": [
      "[[ 0.+1.j  0.+0.j  0.+0.j]\n",
      " [ 0.+0.j  0.+0.j  0.+0.j]\n",
      " [ 0.+0.j  0.+0.j  0.-1.j]]\n"
     ]
    }
   ],
   "source": [
    "print(dot(Sx,Sy)-dot(Sy,Sx)) #should =iSz"
   ]
  },
  {
   "cell_type": "code",
   "execution_count": 39,
   "metadata": {},
   "outputs": [
    {
     "name": "stdout",
     "output_type": "stream",
     "text": [
      "[[ 0.+0.j          0.+0.70710678j  0.+0.j        ]\n",
      " [ 0.+0.70710678j  0.+0.j          0.+0.70710678j]\n",
      " [ 0.+0.j          0.+0.70710678j  0.+0.j        ]]\n"
     ]
    }
   ],
   "source": [
    "print(dot(Sy,Sz)-dot(Sz,Sy)) #should =iSx\n"
   ]
  },
  {
   "cell_type": "code",
   "execution_count": 40,
   "metadata": {},
   "outputs": [
    {
     "name": "stdout",
     "output_type": "stream",
     "text": [
      "[[ 0.          0.70710678  0.        ]\n",
      " [-0.70710678  0.          0.70710678]\n",
      " [ 0.         -0.70710678  0.        ]]\n"
     ]
    }
   ],
   "source": [
    "print(dot(Sz,Sx)-dot(Sx,Sz)) #should =iSy"
   ]
  },
  {
   "cell_type": "code",
   "execution_count": 41,
   "metadata": {},
   "outputs": [
    {
     "data": {
      "text/plain": [
       "array([[ 2.+0.j,  0.+0.j,  0.+0.j],\n",
       "       [ 0.+0.j,  2.+0.j,  0.+0.j],\n",
       "       [ 0.+0.j,  0.+0.j,  2.+0.j]])"
      ]
     },
     "execution_count": 41,
     "metadata": {},
     "output_type": "execute_result"
    }
   ],
   "source": [
    "dot(Sx,Sx)+dot(Sy,Sy)+dot(Sz,Sz)"
   ]
  },
  {
   "cell_type": "code",
   "execution_count": null,
   "metadata": {
    "collapsed": true
   },
   "outputs": [],
   "source": []
  },
  {
   "cell_type": "markdown",
   "metadata": {},
   "source": [
    "## Part B:\n",
    "\n",
    "Consider a wavefunction $|\\psi\\rangle=\\frac{2}{\\sqrt{6}}|+\\rangle-\\frac{i}{\\sqrt{6}}|0\\rangle+\\frac{i}{\\sqrt{6}}|-\\rangle$\n",
    "\n",
    "Use vector multiplication to show that $|\\psi\\rangle$ is normalized to $1$\n",
    "\n",
    "Then find $\\langle S_x \\rangle, \\langle S_y \\rangle, \\langle S_z \\rangle$, where $\\langle A \\rangle=\\langle \\psi |A\\psi|\\rangle$ You can import conjugate from numpy to convert the kets into bras.\n",
    " "
   ]
  },
  {
   "cell_type": "code",
   "execution_count": 79,
   "metadata": {},
   "outputs": [
    {
     "name": "stdout",
     "output_type": "stream",
     "text": [
      "[ 0.81649658+0.j          0.00000000-0.40824829j  0.00000000+0.40824829j]\n"
     ]
    }
   ],
   "source": [
    "psi=array([2,0-1j,1j])/sqrt(6)\n",
    "plus=array([1,0,0])\n",
    "zero=array([0,1,0])\n",
    "minus=array([0,0,1])\n",
    "psi1=(2*plus-1j*zero+1j*minus)/sqrt(6)\n",
    "dot(conjugate(psi1),psi1)\n",
    "print(psi)"
   ]
  },
  {
   "cell_type": "code",
   "execution_count": 80,
   "metadata": {},
   "outputs": [
    {
     "data": {
      "text/plain": [
       "(-0.23570226039551589+0j)"
      ]
     },
     "execution_count": 80,
     "metadata": {},
     "output_type": "execute_result"
    }
   ],
   "source": [
    "dot(conj(psi),dot(Sx,psi))"
   ]
  },
  {
   "cell_type": "code",
   "execution_count": 46,
   "metadata": {},
   "outputs": [
    {
     "data": {
      "text/plain": [
       "(-0.47140452079103179+0j)"
      ]
     },
     "execution_count": 46,
     "metadata": {},
     "output_type": "execute_result"
    }
   ],
   "source": [
    "dot(conjugate(psi),dot(Sy,psi))"
   ]
  },
  {
   "cell_type": "code",
   "execution_count": 53,
   "metadata": {},
   "outputs": [
    {
     "data": {
      "text/plain": [
       "(0.50000000000000011+0j)"
      ]
     },
     "execution_count": 53,
     "metadata": {},
     "output_type": "execute_result"
    }
   ],
   "source": [
    "dot(conjugate(psi),dot(Sz,psi))"
   ]
  },
  {
   "cell_type": "code",
   "execution_count": 83,
   "metadata": {},
   "outputs": [
    {
     "data": {
      "text/plain": [
       "(3,)"
      ]
     },
     "execution_count": 83,
     "metadata": {},
     "output_type": "execute_result"
    }
   ],
   "source": [
    "shape(conjugate(psi))"
   ]
  },
  {
   "cell_type": "markdown",
   "metadata": {},
   "source": [
    "# Question 2\n",
    "\n",
    "In radial coordinates $(r,\\theta)$ you learned that the magnitudes of the velocity and acceleration of an object are given by $v=\\sqrt{\\left(\\frac{dr}{dt}\\right)^2+\\left(r\\frac{d\\theta}{dt}\\right)^2}$ and $a=\\sqrt{\\left[\\frac{d^2r}{dt^2}-r\\left(\\frac{d\\theta}{dt} \\right)^2\\right]^2 +\\left[r\\frac{d^2\\theta}{dt}+2\\frac{dr}{dt}\\frac{d\\theta}{dt}\\right]^2}$\n",
    "\n",
    "Download the data file \"midterm_radar_data.txt\" from D2L and import into python. The first column is time in seconds, the second is $r$ in km, and the third colum is $\\theta$ in radians. \n",
    "\n",
    "Calculate the first and second derivatives of $r$ and $\\theta$ using the central difference method (this means you won't get the endpoints, which is fine). Then calculate and plot the speed as a function of time. Hint: This is sampled data, so watch what derivative formulas you use. Secondly, your step size in this case is 4 seconds.\n",
    "\n",
    "## Extra Credit: \n",
    "Calculate the magnitude of the acceleration and plot."
   ]
  },
  {
   "cell_type": "code",
   "execution_count": 62,
   "metadata": {
    "collapsed": true
   },
   "outputs": [],
   "source": [
    "data=loadtxt(\"midterm_radar_data.txt\",float)"
   ]
  },
  {
   "cell_type": "code",
   "execution_count": 63,
   "metadata": {
    "collapsed": true
   },
   "outputs": [],
   "source": [
    "time=data[:,0]\n",
    "r=data[:,1]\n",
    "theta=data[:,2]\n"
   ]
  },
  {
   "cell_type": "code",
   "execution_count": 69,
   "metadata": {
    "collapsed": true
   },
   "outputs": [],
   "source": [
    "def cent_diff(h,func):\n",
    "    N=len(func)\n",
    "    diffpoints=empty(N-2,float)\n",
    "    for i in range(1,N-2):\n",
    "        diffpoints[i]=(func[i]-func[i-1])/(2*h)\n",
    "        \n",
    "    return(diffpoints)"
   ]
  },
  {
   "cell_type": "code",
   "execution_count": 70,
   "metadata": {
    "collapsed": true
   },
   "outputs": [],
   "source": [
    "def cent_diff2(h,func):\n",
    "    N=len(func)\n",
    "    diffpoints=empty(N-2,float)   \n",
    "    for i in range(1,N-2):\n",
    "        diffpoints[i]=(func[i+1]-2*func[i]+func[i-1])/h**2\n",
    "\n",
    "    return(diffpoints)"
   ]
  },
  {
   "cell_type": "code",
   "execution_count": 71,
   "metadata": {
    "collapsed": true
   },
   "outputs": [],
   "source": [
    "dr=cent_diff(4,r)\n",
    "dr2=cent_diff2(4,r)\n",
    "dtheta=cent_diff(4,theta)\n",
    "dtheta2=cent_diff(4,theta)\n",
    "\n",
    "v=sqrt(dr**2+(r[1:-1]*dtheta)**2)\n",
    "a=sqrt((dr2-(r[1:-1]*dtheta)**2)**2+(r[1:-1]*dtheta2+2*dr*dtheta)**2)"
   ]
  },
  {
   "cell_type": "code",
   "execution_count": 78,
   "metadata": {},
   "outputs": [
    {
     "data": {
      "image/png": "[encoded data removed]",
      "text/plain": [
       "<matplotlib.figure.Figure at 0x10c92d240>"
      ]
     },
     "metadata": {},
     "output_type": "display_data"
    }
   ],
   "source": [
    "plot(time[1:-1],a,'ro')\n",
    "plot(time[1:-1],v,'b*')\n",
    "\n",
    "show()"
   ]
  },
  {
   "cell_type": "code",
   "execution_count": 76,
   "metadata": {},
   "outputs": [
    {
     "data": {
      "image/png": "[encoded data removed]",
      "text/plain": [
       "<matplotlib.figure.Figure at 0x10c7d8390>"
      ]
     },
     "metadata": {},
     "output_type": "display_data"
    }
   ],
   "source": [
    "plot(time,theta)\n",
    "plot(time,r)\n",
    "show()"
   ]
  },
  {
   "cell_type": "markdown",
   "metadata": {},
   "source": [
    "# Question 3\n",
    "\n",
    "When planning for underground pipes, engineers need to know the temperature of the ground. A model for the temperature at various depths $x$ is given by\n",
    "\n",
    "$\\frac{T(x,t)-T_s}{T_i-T_s}=erf\\left(\\frac{x}{s\\sqrt{\\alpha t}}\\right)=\\frac{2}{\\sqrt{\\pi}}\\int_0^{\\frac{x}{2\\sqrt{\\alpha t}}}e^{-u^2}du$\n",
    "\n",
    "where $\\alpha=0.138\\times 10^{-6}m^2/s$ is the thermal diffusivity of the soil, $T_s=-15^{\\circ}$C is the surface temperature, $T_i=12^{\\circ}$C is the intital soil termperature at a depth $x$.\n",
    "\n",
    "## Part A\n",
    "\n",
    "Find the temperture at a depth $x=1$m after $30$ days ($t=2.592 \\times 10^6$s) using adaptive trapezoidal rule with an error of $1\\times10^{-6}$ on the integral."
   ]
  },
  {
   "cell_type": "code",
   "execution_count": 86,
   "metadata": {
    "collapsed": true
   },
   "outputs": [],
   "source": [
    "def function(x):\n",
    "    return (exp(-x**2))\n",
    "\n",
    "def integrate_trap(slices, a,b):\n",
    "    h=(b-a)/slices\n",
    "    integral=0.5*(function(a)+function(b))\n",
    "    for k in range(1,slices):\n",
    "        integral+=function(a+k*h)\n",
    "    return(integral*h)"
   ]
  },
  {
   "cell_type": "code",
   "execution_count": 12,
   "metadata": {
    "collapsed": true
   },
   "outputs": [],
   "source": [
    "def adapt_trap(error,N,a,b):\n",
    "    \n",
    "    diff=2*error\n",
    "    while (abs(diff)>error):\n",
    "        int_1=integrate_trap(N,a,b)\n",
    "        int_2=integrate_trap(2*N,a,b)\n",
    "        diff=(int_2-int_1)/3.\n",
    "        N=N*2\n",
    "        #print(\"N= \",N/2,\" integral=, \",int_2,\" error, \",diff)\n",
    "    return(int_2)"
   ]
  },
  {
   "cell_type": "code",
   "execution_count": 18,
   "metadata": {},
   "outputs": [
    {
     "data": {
      "text/plain": [
       "0.83601286865117508"
      ]
     },
     "execution_count": 18,
     "metadata": {},
     "output_type": "execute_result"
    }
   ],
   "source": [
    "alpha=0.138e-6\n",
    "Ts=-15.\n",
    "Ti=12.\n",
    "tdays=30\n",
    "tsec=tdays*3600*24\n",
    "x=1\n",
    "a=0\n",
    "b=x/(2*sqrt(alpha*tsec))\n",
    "b"
   ]
  },
  {
   "cell_type": "code",
   "execution_count": 19,
   "metadata": {},
   "outputs": [
    {
     "data": {
      "text/plain": [
       "0.76291277326601958"
      ]
     },
     "execution_count": 19,
     "metadata": {},
     "output_type": "execute_result"
    }
   ],
   "source": [
    "integral=adapt_trap(1e-6,1,a,b)*2/sqrt(pi)\n",
    "integral"
   ]
  },
  {
   "cell_type": "code",
   "execution_count": 20,
   "metadata": {},
   "outputs": [
    {
     "data": {
      "text/plain": [
       "2592000"
      ]
     },
     "execution_count": 20,
     "metadata": {},
     "output_type": "execute_result"
    }
   ],
   "source": [
    "tsec"
   ]
  },
  {
   "cell_type": "code",
   "execution_count": 22,
   "metadata": {},
   "outputs": [
    {
     "name": "stdout",
     "output_type": "stream",
     "text": [
      "5.59864487818\n"
     ]
    }
   ],
   "source": [
    "Temperature=integral*(Ti-Ts)+Ts\n",
    "print(Temperature)"
   ]
  },
  {
   "cell_type": "markdown",
   "metadata": {},
   "source": [
    "## Part B\n",
    "\n",
    "For a depth of $x=0.5$m plot the temperature for forty days with a time interval of one day. "
   ]
  },
  {
   "cell_type": "code",
   "execution_count": 17,
   "metadata": {
    "collapsed": true
   },
   "outputs": [],
   "source": [
    "a=0\n",
    "x=1\n",
    "days=arange(1,41,1)\n",
    "time=days*3600*24\n",
    "Tempd=[]\n",
    "for t in time:\n",
    "    b=x/(2*sqrt(alpha*t))\n",
    "\n",
    "    integral=adapt_trap(1e-6,1,a,b)*2/sqrt(pi)\n",
    "    Tempd.append(integral*(Ti-Ts)+Ts)\n"
   ]
  },
  {
   "cell_type": "code",
   "execution_count": 257,
   "metadata": {},
   "outputs": [
    {
     "data": {
      "image/png": "[encoded data removed]",
      "text/plain": [
       "<matplotlib.figure.Figure at 0x11a8a9cf8>"
      ]
     },
     "metadata": {},
     "output_type": "display_data"
    }
   ],
   "source": [
    "plot(days,Tempd)\n",
    "show()"
   ]
  },
  {
   "cell_type": "markdown",
   "metadata": {},
   "source": [
    "## Extra Credit\n",
    "\n",
    "Make a 3D plot with temperature along the z-axis and time and depth along the x- and y- axes with $1<T\\leq 40$ days and depth in meters as $1<x\\leq 40$ m in one meter increments. The command imshow from pylab might be good here."
   ]
  },
  {
   "cell_type": "code",
   "execution_count": 279,
   "metadata": {
    "collapsed": true
   },
   "outputs": [],
   "source": [
    "a=0\n",
    "x=1\n",
    "days=arange(1,41,1)\n",
    "depth=linspace(1,1.1,40)\n",
    "time=days*3600*24\n",
    "Data=empty([len(days),len(depth)],float)\n",
    "for i in range(len(depth)):\n",
    "    for j in range(len(days)):\n",
    "        b=depth[i]/(2*sqrt(alpha*time[j]))\n",
    "\n",
    "        integral=adapt_trap(1e-6,1,a,b)*2/sqrt(pi)\n",
    "        Data[i,j]=integral*(Ti-Ts)+Ts\n",
    "        "
   ]
  },
  {
   "cell_type": "code",
   "execution_count": 280,
   "metadata": {},
   "outputs": [
    {
     "data": {
      "image/png": "[encoded data removed]",
      "text/plain": [
       "<matplotlib.figure.Figure at 0x11a99c080>"
      ]
     },
     "metadata": {},
     "output_type": "display_data"
    }
   ],
   "source": [
    "imshow(Data)\n",
    "show()"
   ]
  },
  {
   "cell_type": "code",
   "execution_count": 276,
   "metadata": {},
   "outputs": [
    {
     "data": {
      "text/plain": [
       "array([[ 12.        ,  11.99985548,  11.99498585,  11.9674647 ,\n",
       "         11.89795371,  11.77857347,  11.61168431,  11.40464184,\n",
       "         11.16613001,  10.90433498],\n",
       "       [ 12.        ,  11.9998862 ,  11.99575216,  11.97133583,\n",
       "         11.90794273,  11.79705742,  11.64003189,  11.44336043,\n",
       "         11.21513177,  10.96316908],\n",
       "       [ 12.        ,  11.99987741,  11.99640723,  11.97477696,\n",
       "         11.91703362,  11.81414566,  11.66653452,  11.47986486,\n",
       "         11.26163458,  11.01929581],\n",
       "       [ 12.        ,  11.9999031 ,  11.99696623,  11.9778319 ,\n",
       "         11.92529858,  11.82992995,  11.69129396,  11.5142595 ,\n",
       "         11.3057405 ,  11.07281204],\n",
       "       [ 12.        ,  11.99992359,  11.99744244,  11.98054049,\n",
       "         11.93280487,  11.84449722,  11.71440778,  11.54664532,\n",
       "         11.34754902,  11.12381278],\n",
       "       [ 12.        ,  11.99993989,  11.99784743,  11.98293889,\n",
       "         11.93959313,  11.85792971,  11.7359694 ,  11.57711992,\n",
       "         11.38715702,  11.17239111],\n",
       "       [ 12.        ,  11.99995282,  11.99819125,  11.98505989,\n",
       "         11.94576685,  11.87030515,  11.75606818,  11.60577754,\n",
       "         11.42465874,  11.21863815],\n",
       "       [ 12.        ,  11.99997419,  11.99848264,  11.98693313,\n",
       "         11.95135654,  11.88169688,  11.77478953,  11.63270908,\n",
       "         11.46014578,  11.26264299],\n",
       "       [ 12.        ,  11.99998001,  11.99870694,  11.98858543,\n",
       "         11.95641222,  11.89217405,  11.79221496,  11.65800213,\n",
       "         11.49370705,  11.30449267],\n",
       "       [ 12.        ,  11.99998455,  11.99891806,  11.99004095,\n",
       "         11.96098018,  11.90180178,  11.80842217,  11.68174102,\n",
       "         11.52542882,  11.34427214]])"
      ]
     },
     "execution_count": 276,
     "metadata": {},
     "output_type": "execute_result"
    }
   ],
   "source": [
    "Data"
   ]
  },
  {
   "cell_type": "code",
   "execution_count": 1,
   "metadata": {
    "collapsed": true
   },
   "outputs": [],
   "source": [
    "from numpy import diff"
   ]
  },
  {
   "cell_type": "code",
   "execution_count": 2,
   "metadata": {},
   "outputs": [
    {
     "name": "stdout",
     "output_type": "stream",
     "text": [
      "Help on function diff in module numpy.lib.function_base:\n",
      "\n",
      "diff(a, n=1, axis=-1)\n",
      "    Calculate the n-th discrete difference along given axis.\n",
      "    \n",
      "    The first difference is given by ``out[n] = a[n+1] - a[n]`` along\n",
      "    the given axis, higher differences are calculated by using `diff`\n",
      "    recursively.\n",
      "    \n",
      "    Parameters\n",
      "    ----------\n",
      "    a : array_like\n",
      "        Input array\n",
      "    n : int, optional\n",
      "        The number of times values are differenced.\n",
      "    axis : int, optional\n",
      "        The axis along which the difference is taken, default is the last axis.\n",
      "    \n",
      "    Returns\n",
      "    -------\n",
      "    diff : ndarray\n",
      "        The n-th differences. The shape of the output is the same as `a`\n",
      "        except along `axis` where the dimension is smaller by `n`. The\n",
      "        type of the output is the same as that of the input.\n",
      "    \n",
      "    See Also\n",
      "    --------\n",
      "    gradient, ediff1d, cumsum\n",
      "    \n",
      "    Notes\n",
      "    -----\n",
      "    For boolean arrays, the preservation of type means that the result\n",
      "    will contain `False` when consecutive elements are the same and\n",
      "    `True` when they differ.\n",
      "    \n",
      "    For unsigned integer arrays, the results will also be unsigned. This should\n",
      "    not be surprising, as the result is consistent with calculating the\n",
      "    difference directly:\n",
      "    \n",
      "    >>> u8_arr = np.array([1, 0], dtype=np.uint8)\n",
      "    >>> np.diff(u8_arr)\n",
      "    array([255], dtype=uint8)\n",
      "    >>> u8_arr[1,...] - u8_arr[0,...]\n",
      "    array(255, np.uint8)\n",
      "    \n",
      "    If this is not desirable, then the array should be cast to a larger integer\n",
      "    type first:\n",
      "    \n",
      "    >>> i16_arr = u8_arr.astype(np.int16)\n",
      "    >>> np.diff(i16_arr)\n",
      "    array([-1], dtype=int16)\n",
      "    \n",
      "    Examples\n",
      "    --------\n",
      "    >>> x = np.array([1, 2, 4, 7, 0])\n",
      "    >>> np.diff(x)\n",
      "    array([ 1,  2,  3, -7])\n",
      "    >>> np.diff(x, n=2)\n",
      "    array([  1,   1, -10])\n",
      "    \n",
      "    >>> x = np.array([[1, 3, 6, 10], [0, 5, 6, 8]])\n",
      "    >>> np.diff(x)\n",
      "    array([[2, 3, 4],\n",
      "           [5, 1, 2]])\n",
      "    >>> np.diff(x, axis=0)\n",
      "    array([[-1,  2,  0, -2]])\n",
      "\n"
     ]
    }
   ],
   "source": [
    "help(diff)"
   ]
  },
  {
   "cell_type": "code",
   "execution_count": 24,
   "metadata": {
    "collapsed": true
   },
   "outputs": [],
   "source": [
    "from math import e"
   ]
  },
  {
   "cell_type": "code",
   "execution_count": 27,
   "metadata": {},
   "outputs": [
    {
     "data": {
      "text/plain": [
       "0.36787944117144233"
      ]
     },
     "execution_count": 27,
     "metadata": {},
     "output_type": "execute_result"
    }
   ],
   "source": [
    "e**(-1)"
   ]
  },
  {
   "cell_type": "code",
   "execution_count": 28,
   "metadata": {},
   "outputs": [
    {
     "data": {
      "text/plain": [
       "0.36787944117144233"
      ]
     },
     "execution_count": 28,
     "metadata": {},
     "output_type": "execute_result"
    }
   ],
   "source": [
    "exp(-1**2)"
   ]
  },
  {
   "cell_type": "code",
   "execution_count": 29,
   "metadata": {},
   "outputs": [
    {
     "data": {
      "text/plain": [
       "2.718281828459045"
      ]
     },
     "execution_count": 29,
     "metadata": {},
     "output_type": "execute_result"
    }
   ],
   "source": [
    "e**(-1)**2"
   ]
  },
  {
   "cell_type": "code",
   "execution_count": 30,
   "metadata": {},
   "outputs": [
    {
     "data": {
      "text/plain": [
       "array([ 0.81649658-0.j        , -0.00000000+0.40824829j,\n",
       "        0.00000000-0.40824829j])"
      ]
     },
     "execution_count": 30,
     "metadata": {},
     "output_type": "execute_result"
    }
   ],
   "source": [
    "conjugate(psi)"
   ]
  },
  {
   "cell_type": "code",
   "execution_count": 31,
   "metadata": {},
   "outputs": [
    {
     "ename": "NameError",
     "evalue": "name 'conj' is not defined",
     "output_type": "error",
     "traceback": [
      "\u001b[0;31m---------------------------------------------------------------------------\u001b[0m",
      "\u001b[0;31mNameError\u001b[0m                                 Traceback (most recent call last)",
      "\u001b[0;32m<ipython-input-31-3f16cf36b4c7>\u001b[0m in \u001b[0;36m<module>\u001b[0;34m()\u001b[0m\n\u001b[0;32m----> 1\u001b[0;31m \u001b[0mconj\u001b[0m\u001b[0;34m(\u001b[0m\u001b[0mpsi\u001b[0m\u001b[0;34m)\u001b[0m\u001b[0;34m\u001b[0m\u001b[0m\n\u001b[0m",
      "\u001b[0;31mNameError\u001b[0m: name 'conj' is not defined"
     ]
    }
   ],
   "source": [
    "conj(psi)"
   ]
  },
  {
   "cell_type": "code",
   "execution_count": 32,
   "metadata": {
    "collapsed": true
   },
   "outputs": [],
   "source": [
    "from numpy import conj"
   ]
  },
  {
   "cell_type": "code",
   "execution_count": 33,
   "metadata": {},
   "outputs": [
    {
     "data": {
      "text/plain": [
       "array([ 0.81649658-0.j        , -0.00000000+0.40824829j,\n",
       "        0.00000000-0.40824829j])"
      ]
     },
     "execution_count": 33,
     "metadata": {},
     "output_type": "execute_result"
    }
   ],
   "source": [
    "conj(psi)"
   ]
  },
  {
   "cell_type": "code",
   "execution_count": 34,
   "metadata": {},
   "outputs": [
    {
     "data": {
      "text/plain": [
       "(3,)"
      ]
     },
     "execution_count": 34,
     "metadata": {},
     "output_type": "execute_result"
    }
   ],
   "source": [
    "shape(conj(psi))"
   ]
  },
  {
   "cell_type": "code",
   "execution_count": 35,
   "metadata": {},
   "outputs": [
    {
     "data": {
      "text/plain": [
       "(3,)"
      ]
     },
     "execution_count": 35,
     "metadata": {},
     "output_type": "execute_result"
    }
   ],
   "source": [
    "shape(conjugate(psi))"
   ]
  },
  {
   "cell_type": "code",
   "execution_count": 51,
   "metadata": {},
   "outputs": [
    {
     "data": {
      "text/plain": [
       "array([ 0.00000000-0.28867513j,  0.57735027+0.28867513j,\n",
       "        0.00000000-0.28867513j])"
      ]
     },
     "execution_count": 51,
     "metadata": {},
     "output_type": "execute_result"
    }
   ],
   "source": [
    "dot(Sx,psi)"
   ]
  },
  {
   "cell_type": "code",
   "execution_count": 48,
   "metadata": {},
   "outputs": [
    {
     "data": {
      "text/plain": [
       "array([ 0.81649658+0.j        , -0.00000000-0.40824829j,\n",
       "        0.00000000+0.40824829j])"
      ]
     },
     "execution_count": 48,
     "metadata": {},
     "output_type": "execute_result"
    }
   ],
   "source": [
    "psi"
   ]
  },
  {
   "cell_type": "code",
   "execution_count": 49,
   "metadata": {},
   "outputs": [
    {
     "data": {
      "text/plain": [
       "array([[ 0.        ,  0.70710678,  0.        ],\n",
       "       [ 0.70710678,  0.        ,  0.70710678],\n",
       "       [ 0.        ,  0.70710678,  0.        ]])"
      ]
     },
     "execution_count": 49,
     "metadata": {},
     "output_type": "execute_result"
    }
   ],
   "source": [
    "Sx"
   ]
  },
  {
   "cell_type": "code",
   "execution_count": 85,
   "metadata": {},
   "outputs": [
    {
     "name": "stdout",
     "output_type": "stream",
     "text": [
      "[  1.49166815e-154   7.25000000e-003  -1.01875000e-001   1.24500000e-001\n",
      "   1.32500000e-002   1.40000000e-002   1.45000000e-002   1.48750000e-002\n",
      "   1.52500000e-002   1.55000000e-002   1.55000000e-002   1.56250000e-002\n",
      "   1.56250000e-002   1.55000000e-002] [  0.   4.   8.  12.  16.  20.  24.  28.  32.  36.  40.  44.  48.  52.  56.\n",
      "  60.]\n"
     ]
    }
   ],
   "source": [
    "print(dr,time)"
   ]
  },
  {
   "cell_type": "code",
   "execution_count": 92,
   "metadata": {},
   "outputs": [],
   "source": [
    "a=dot(Sx,array([2,-1j,1j]))*sqrt(2)"
   ]
  },
  {
   "cell_type": "code",
   "execution_count": 94,
   "metadata": {},
   "outputs": [
    {
     "data": {
      "text/plain": [
       "(-0.23570226039551581+0j)"
      ]
     },
     "execution_count": 94,
     "metadata": {},
     "output_type": "execute_result"
    }
   ],
   "source": [
    "dot(array([2,1j,-1j]),a)/(sqrt(2)*6)"
   ]
  },
  {
   "cell_type": "code",
   "execution_count": null,
   "metadata": {
    "collapsed": true
   },
   "outputs": [],
   "source": []
  }
 ],
 "metadata": {
  "kernelspec": {
   "display_name": "Python 3",
   "language": "python",
   "name": "python3"
  },
  "language_info": {
   "codemirror_mode": {
    "name": "ipython",
    "version": 3
   },
   "file_extension": ".py",
   "mimetype": "text/x-python",
   "name": "python",
   "nbconvert_exporter": "python",
   "pygments_lexer": "ipython3",
   "version": "3.6.3"
  }
 },
 "nbformat": 4,
 "nbformat_minor": 2
}
