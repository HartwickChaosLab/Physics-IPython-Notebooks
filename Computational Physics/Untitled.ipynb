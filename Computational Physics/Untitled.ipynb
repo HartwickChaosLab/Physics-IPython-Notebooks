{
 "cells": [
  {
   "cell_type": "code",
   "execution_count": 2,
   "metadata": {
    "collapsed": true
   },
   "outputs": [],
   "source": [
    "from numpy import pi, sin, sqrt, empty, linspace\n",
    "from numpy.linalg import eigvalsh"
   ]
  },
  {
   "cell_type": "code",
   "execution_count": 4,
   "metadata": {
    "collapsed": true
   },
   "outputs": [],
   "source": [
    "hbar=1.0546e-34\n",
    "q=1.602e-19\n",
    "M=9.1094e-31\n",
    "L=5e-10\n",
    "a=10*q\n",
    "N=10\n",
    "to_print=10"
   ]
  },
  {
   "cell_type": "code",
   "execution_count": 6,
   "metadata": {
    "collapsed": true
   },
   "outputs": [],
   "source": [
    "def H(m,n):\n",
    "    if m==n:\n",
    "        return pi*pi*m*m*hbar*hbar/(2*L*L*M)+.5*a\n",
    "    if (m+n)%2==0:\n",
    "        return 0.0\n",
    "    return -8*a*m*n/(pi*pi*((m*m-n*n)**2))"
   ]
  },
  {
   "cell_type": "code",
   "execution_count": 7,
   "metadata": {
    "collapsed": true
   },
   "outputs": [],
   "source": [
    "Hmat=empty([N,N])\n",
    "for m in range(N):\n",
    "    for n in range(N):\n",
    "        Hmat[m,n]=H(m+1,n+1)"
   ]
  },
  {
   "cell_type": "code",
   "execution_count": 8,
   "metadata": {
    "collapsed": true
   },
   "outputs": [],
   "source": [
    "value=eigvalsh(Hmat)"
   ]
  },
  {
   "cell_type": "code",
   "execution_count": null,
   "metadata": {
    "collapsed": true
   },
   "outputs": [],
   "source": []
  },
  {
   "cell_type": "code",
   "execution_count": 10,
   "metadata": {},
   "outputs": [
    {
     "name": "stdout",
     "output_type": "stream",
     "text": [
      "[   9.35041639   17.9136504    29.90143239   46.69522729   68.34317067\n",
      "   94.8288196   126.14354628  162.28431039  203.24751911  249.23861693]\n"
     ]
    }
   ],
   "source": [
    "print(value/1e-19)"
   ]
  },
  {
   "cell_type": "code",
   "execution_count": 11,
   "metadata": {},
   "outputs": [
    {
     "data": {
      "text/plain": [
       "1j"
      ]
     },
     "execution_count": 11,
     "metadata": {},
     "output_type": "execute_result"
    }
   ],
   "source": [
    "1j"
   ]
  },
  {
   "cell_type": "code",
   "execution_count": 13,
   "metadata": {},
   "outputs": [],
   "source": [
    "import numpy as np, matplotlib.pyplot as plt\n",
    "from matplotlib import animation\n",
    "from numpy.random import random as rand"
   ]
  },
  {
   "cell_type": "code",
   "execution_count": 14,
   "metadata": {
    "collapsed": true
   },
   "outputs": [],
   "source": [
    "# Set number of steps for each random walk.\n",
    "num_steps = 100\n",
    "# Create an empty figure of the desired size.\n",
    "plt.close('all')\t# Clear anything left over from prior runs.\n",
    "bound = 20\n",
    "fig = plt.figure()\t# Must have figure object for movie.\n",
    "ax = plt.axes(xlim=(-bound, bound), ylim=(-bound, bound))\n",
    "# Create empty line and point objects with no data.\n",
    "# They will be updated during each frame of the animation.\n",
    "(my_line,) = ax.plot([], [], lw=2)\t# Line to show path\n",
    "(my_point,) = ax.plot([], [], 'ro', ms=9)\t# Dot to show current position\n",
    "# Generate the random walk data.\n",
    "x_steps = 2*(rand(num_steps) < 0.5) - 1\t# Generate random steps +/- 1.\n",
    "y_steps = 2*(rand(num_steps) < 0.5) - 1\n",
    "x_coordinate = x_steps.cumsum()\t# Sum steps to get position.\n",
    "y_coordinate = y_steps.cumsum()\n",
    "# This function will generate each frame of the ani\n",
    "def get_step(n, x, y, this_line, this_point):\n",
    "    this_line.set_data(x[:n+1], y[:n+1])\n",
    "    this_point.set_data(x[n], y[n])"
   ]
  },
  {
   "cell_type": "code",
   "execution_count": 21,
   "metadata": {
    "collapsed": true
   },
   "outputs": [],
   "source": [
    "my_movie = animation.FuncAnimation(fig, get_step, frames=num_steps, fargs=(x_coordinate, y_coordinate, my_line, my_point) )\n"
   ]
  },
  {
   "cell_type": "code",
   "execution_count": 17,
   "metadata": {
    "collapsed": true
   },
   "outputs": [],
   "source": [
    "from IPython.display import HTML"
   ]
  },
  {
   "cell_type": "code",
   "execution_count": 22,
   "metadata": {},
   "outputs": [
    {
     "ename": "KeyError",
     "evalue": "'ffmpeg'",
     "output_type": "error",
     "traceback": [
      "\u001b[0;31m---------------------------------------------------------------------------\u001b[0m",
      "\u001b[0;31mKeyError\u001b[0m                                  Traceback (most recent call last)",
      "\u001b[0;32m<ipython-input-22-7c356c2208c2>\u001b[0m in \u001b[0;36m<module>\u001b[0;34m()\u001b[0m\n\u001b[0;32m----> 1\u001b[0;31m \u001b[0mHTML\u001b[0m\u001b[0;34m(\u001b[0m\u001b[0mmy_movie\u001b[0m\u001b[0;34m.\u001b[0m\u001b[0mto_html5_video\u001b[0m\u001b[0;34m(\u001b[0m\u001b[0;34m)\u001b[0m\u001b[0;34m)\u001b[0m\u001b[0;34m\u001b[0m\u001b[0m\n\u001b[0m",
      "\u001b[0;32m/anaconda3/lib/python3.6/site-packages/matplotlib/animation.py\u001b[0m in \u001b[0;36mto_html5_video\u001b[0;34m(self, embed_limit)\u001b[0m\n\u001b[1;32m   1407\u001b[0m                 \u001b[0;31m# We create a writer manually so that we can get the\u001b[0m\u001b[0;34m\u001b[0m\u001b[0;34m\u001b[0m\u001b[0m\n\u001b[1;32m   1408\u001b[0m                 \u001b[0;31m# appropriate size for the tag\u001b[0m\u001b[0;34m\u001b[0m\u001b[0;34m\u001b[0m\u001b[0m\n\u001b[0;32m-> 1409\u001b[0;31m                 \u001b[0mWriter\u001b[0m \u001b[0;34m=\u001b[0m \u001b[0mwriters\u001b[0m\u001b[0;34m[\u001b[0m\u001b[0mrcParams\u001b[0m\u001b[0;34m[\u001b[0m\u001b[0;34m'animation.writer'\u001b[0m\u001b[0;34m]\u001b[0m\u001b[0;34m]\u001b[0m\u001b[0;34m\u001b[0m\u001b[0m\n\u001b[0m\u001b[1;32m   1410\u001b[0m                 writer = Writer(codec='h264',\n\u001b[1;32m   1411\u001b[0m                                 \u001b[0mbitrate\u001b[0m\u001b[0;34m=\u001b[0m\u001b[0mrcParams\u001b[0m\u001b[0;34m[\u001b[0m\u001b[0;34m'animation.bitrate'\u001b[0m\u001b[0;34m]\u001b[0m\u001b[0;34m,\u001b[0m\u001b[0;34m\u001b[0m\u001b[0m\n",
      "\u001b[0;32m/anaconda3/lib/python3.6/site-packages/matplotlib/animation.py\u001b[0m in \u001b[0;36m__getitem__\u001b[0;34m(self, name)\u001b[0m\n\u001b[1;32m    168\u001b[0m         \u001b[0;32mif\u001b[0m \u001b[0;32mnot\u001b[0m \u001b[0mself\u001b[0m\u001b[0;34m.\u001b[0m\u001b[0mavail\u001b[0m\u001b[0;34m:\u001b[0m\u001b[0;34m\u001b[0m\u001b[0m\n\u001b[1;32m    169\u001b[0m             \u001b[0;32mraise\u001b[0m \u001b[0mRuntimeError\u001b[0m\u001b[0;34m(\u001b[0m\u001b[0;34m\"No MovieWriters available!\"\u001b[0m\u001b[0;34m)\u001b[0m\u001b[0;34m\u001b[0m\u001b[0m\n\u001b[0;32m--> 170\u001b[0;31m         \u001b[0;32mreturn\u001b[0m \u001b[0mself\u001b[0m\u001b[0;34m.\u001b[0m\u001b[0mavail\u001b[0m\u001b[0;34m[\u001b[0m\u001b[0mname\u001b[0m\u001b[0;34m]\u001b[0m\u001b[0;34m\u001b[0m\u001b[0m\n\u001b[0m\u001b[1;32m    171\u001b[0m \u001b[0;34m\u001b[0m\u001b[0m\n\u001b[1;32m    172\u001b[0m \u001b[0mwriters\u001b[0m \u001b[0;34m=\u001b[0m \u001b[0mMovieWriterRegistry\u001b[0m\u001b[0;34m(\u001b[0m\u001b[0;34m)\u001b[0m\u001b[0;34m\u001b[0m\u001b[0m\n",
      "\u001b[0;31mKeyError\u001b[0m: 'ffmpeg'"
     ]
    }
   ],
   "source": [
    "HTML(my_movie.to_html5_video())"
   ]
  },
  {
   "cell_type": "code",
   "execution_count": 20,
   "metadata": {
    "collapsed": true
   },
   "outputs": [],
   "source": [
    "%matplotlib inline"
   ]
  },
  {
   "cell_type": "code",
   "execution_count": 23,
   "metadata": {},
   "outputs": [
    {
     "data": {
      "image/png": "[encoded data removed]",
      "text/plain": [
       "<matplotlib.figure.Figure at 0x10fb19a90>"
      ]
     },
     "metadata": {},
     "output_type": "display_data"
    }
   ],
   "source": [
    "import numpy as np\n",
    "import matplotlib.pyplot as plt\n",
    "import mpl_toolkits.mplot3d.axes3d as p3\n",
    "import matplotlib.animation as animation\n",
    "\n",
    "# Fixing random state for reproducibility\n",
    "np.random.seed(19680801)\n",
    "\n",
    "\n",
    "def Gen_RandLine(length, dims=2):\n",
    "    \"\"\"\n",
    "    Create a line using a random walk algorithm\n",
    "\n",
    "    length is the number of points for the line.\n",
    "    dims is the number of dimensions the line has.\n",
    "    \"\"\"\n",
    "    lineData = np.empty((dims, length))\n",
    "    lineData[:, 0] = np.random.rand(dims)\n",
    "    for index in range(1, length):\n",
    "        # scaling the random numbers by 0.1 so\n",
    "        # movement is small compared to position.\n",
    "        # subtraction by 0.5 is to change the range to [-0.5, 0.5]\n",
    "        # to allow a line to move backwards.\n",
    "        step = ((np.random.rand(dims) - 0.5) * 0.1)\n",
    "        lineData[:, index] = lineData[:, index - 1] + step\n",
    "\n",
    "    return lineData\n",
    "\n",
    "\n",
    "def update_lines(num, dataLines, lines):\n",
    "    for line, data in zip(lines, dataLines):\n",
    "        # NOTE: there is no .set_data() for 3 dim data...\n",
    "        line.set_data(data[0:2, :num])\n",
    "        line.set_3d_properties(data[2, :num])\n",
    "    return lines\n",
    "\n",
    "# Attaching 3D axis to the figure\n",
    "fig = plt.figure()\n",
    "ax = p3.Axes3D(fig)\n",
    "\n",
    "# Fifty lines of random 3-D lines\n",
    "data = [Gen_RandLine(25, 3) for index in range(50)]\n",
    "\n",
    "# Creating fifty line objects.\n",
    "# NOTE: Can't pass empty arrays into 3d version of plot()\n",
    "lines = [ax.plot(dat[0, 0:1], dat[1, 0:1], dat[2, 0:1])[0] for dat in data]\n",
    "\n",
    "# Setting the axes properties\n",
    "ax.set_xlim3d([0.0, 1.0])\n",
    "ax.set_xlabel('X')\n",
    "\n",
    "ax.set_ylim3d([0.0, 1.0])\n",
    "ax.set_ylabel('Y')\n",
    "\n",
    "ax.set_zlim3d([0.0, 1.0])\n",
    "ax.set_zlabel('Z')\n",
    "\n",
    "ax.set_title('3D Test')\n",
    "\n",
    "# Creating the Animation object\n",
    "line_ani = animation.FuncAnimation(fig, update_lines, 25, fargs=(data, lines),\n",
    "                                   interval=50, blit=False)\n",
    "\n",
    "plt.show()"
   ]
  },
  {
   "cell_type": "code",
   "execution_count": null,
   "metadata": {
    "collapsed": true
   },
   "outputs": [],
   "source": []
  }
 ],
 "metadata": {
  "kernelspec": {
   "display_name": "Python 3",
   "language": "python",
   "name": "python3"
  },
  "language_info": {
   "codemirror_mode": {
    "name": "ipython",
    "version": 3
   },
   "file_extension": ".py",
   "mimetype": "text/x-python",
   "name": "python",
   "nbconvert_exporter": "python",
   "pygments_lexer": "ipython3",
   "version": "3.6.3"
  }
 },
 "nbformat": 4,
 "nbformat_minor": 2
}
