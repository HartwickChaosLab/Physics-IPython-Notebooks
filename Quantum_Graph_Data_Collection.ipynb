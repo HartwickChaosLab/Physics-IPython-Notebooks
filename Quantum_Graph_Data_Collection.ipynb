{
 "cells": [
  {
   "cell_type": "code",
   "execution_count": 41,
   "metadata": {
    "collapsed": false
   },
   "outputs": [
    {
     "name": "stdout",
     "output_type": "stream",
     "text": [
      "Populating the interactive namespace from numpy and matplotlib\n"
     ]
    },
    {
     "data": {
      "text/plain": [
       "{'Counter0Enabled': False,\n",
       " 'Counter1Enabled': False,\n",
       " 'NumberTimersEnabled': 0,\n",
       " 'TimerCounterPinOffset': 0}"
      ]
     },
     "execution_count": 41,
     "metadata": {},
     "output_type": "execute_result"
    }
   ],
   "source": [
    "import u6\n",
    "from time import sleep\n",
    "from datetime import datetime\n",
    "import traceback\n",
    "import numpy as np\n",
    "from scipy import signal\n",
    "from scipy.fftpack import fft\n",
    "from scipy import linspace,sqrt, exp,log #linspace allows us to generate linear array between start and stop points\n",
    "import scipy.optimize as optimization #curve fitting\n",
    "import matplotlib.pyplot as plt\n",
    "#testing goodness of fit\n",
    "from scipy.stats import chi2 \n",
    "from scipy.stats import chisqprob \n",
    "#make pretty comments\n",
    "from IPython.display import Latex \n",
    "#in case we want interactivity\n",
    "from ipywidgets import interactive \n",
    "from ipywidgets import FloatProgress\n",
    "from IPython.display import display\n",
    "%pylab inline --no-import-all \n",
    "\n",
    "d = u6.U6()\n",
    "\n",
    "# Set up U6\n",
    "d.configU6()\n",
    "\n",
    "# For applying the proper calibration to readings.\n",
    "d.getCalibrationData()\n",
    "\n",
    "# Set the FIO0 to Analog\n",
    "d.configIO()"
   ]
  },
  {
   "cell_type": "code",
   "execution_count": 51,
   "metadata": {
    "collapsed": false
   },
   "outputs": [
    {
     "name": "stdout",
     "output_type": "stream",
     "text": [
      "configuring U6 stream\n"
     ]
    }
   ],
   "source": [
    "# MAX_REQUESTS is the number of packets to be read.\n",
    "MAX_REQUESTS =16\n",
    "# the number of samples will be MAX_REQUESTS times 48 (packets per request) times 25 (samples per packet).\n",
    "\n",
    "#Sample rate in Hz\n",
    "SAMPLE_RATE=pow(2,12)\n",
    "\n",
    "print \"configuring U6 stream\"\n",
    "#d.streamConfig( NumChannels = 1,SamplesPerPacket=25,InternalStreamClockFrequency=1,DivideClockBy256=True, ResolutionIndex = 0 )\n",
    "d.streamConfig( NumChannels = 2, ChannelNumbers = [ 0, 1 ], ChannelOptions = [ 0, 0 ], SettlingFactor = 0, ResolutionIndex = 0, ScanFrequency = SAMPLE_RATE )"
   ]
  },
  {
   "cell_type": "code",
   "execution_count": 32,
   "metadata": {
    "collapsed": false
   },
   "outputs": [
    {
     "data": {
      "text/plain": [
       "153600"
      ]
     },
     "execution_count": 32,
     "metadata": {},
     "output_type": "execute_result"
    }
   ],
   "source": [
    "128*25*48\n"
   ]
  },
  {
   "cell_type": "code",
   "execution_count": 43,
   "metadata": {
    "collapsed": false
   },
   "outputs": [],
   "source": [
    "def getFreq(y,Fs):\n",
    "    \n",
    "    n = len(y) # length of the signal\n",
    "    w=signal.blackman(n)\n",
    "    k = np.arange(n)\n",
    "\n",
    "    T = 1.*n/Fs\n",
    "\n",
    "    #print T\n",
    "    frq = k/T # two sides frequency range\n",
    "    frq = frq[range(n/2)] # one side frequency range\n",
    "   \n",
    "    Y = np.abs(fft(y*w)*10.) # fft computing and normalization\n",
    "    max_index=np.argmax(Y[1:n/2])\n",
    "    #max_frq=np.mean[frq[max_index-4:max_index+4]]\n",
    "    \n",
    "    #uncomment if we need to see plots of FFT for diagonosis\n",
    "    #fig, axes=plt.subplots()\n",
    "    #axes.plot(frq,Y[0:n/2])\n",
    "    \n",
    "    return (frq[max_index])"
   ]
  },
  {
   "cell_type": "code",
   "execution_count": 44,
   "metadata": {
    "collapsed": true
   },
   "outputs": [],
   "source": [
    "def getData():\n",
    "    data1=np.array([],dtype=float)\n",
    "    data2=np.array([],dtype=float)\n",
    "    try:\n",
    "       # print \"start stream\",\n",
    "        d.streamStart()\n",
    "        start = datetime.now()\n",
    "        #print start\n",
    "        \n",
    "        missed = 0\n",
    "        dataCount = 0\n",
    "        packetCount = 0\n",
    "    \n",
    "        for r in d.streamData():\n",
    "            if r is not None:\n",
    "                # Our stop condition\n",
    "                if dataCount >= MAX_REQUESTS:\n",
    "                    break\n",
    "                \n",
    "                if r['errors'] != 0:\n",
    "                    print \"Error: %s ; \" % r['errors'], datetime.now()\n",
    "    \n",
    "                if r['numPackets'] != d.packetsPerRequest:\n",
    "                    print \"----- UNDERFLOW : %s : \" % r['numPackets'], datetime.now()\n",
    "    \n",
    "                if r['missed'] != 0:\n",
    "                    missed += r['missed']\n",
    "                    print \"+++ Missed \", r['missed']\n",
    "               \n",
    "                data1=np.append(data1,r['AIN0'])\n",
    "                data2=np.append(data2,r['AIN1'])\n",
    "                dataCount += 1\n",
    "                packetCount += r['numPackets']\n",
    "            else:\n",
    "                # Got no data back from our read.\n",
    "                # This only happens if your stream isn't faster than the \n",
    "                # the USB read timeout, ~1 sec.\n",
    "                print \"No data\", datetime.now()\n",
    "    except:\n",
    "        print \"\".join(i for i in traceback.format_exc())\n",
    "    finally:\n",
    "        stop = datetime.now()\n",
    "        d.streamStop()\n",
    "        \n",
    "        #Find Frequency\n",
    "        frq=getFreq(data1,SAMPLE_RATE)\n",
    "        \n",
    "        #Get power\n",
    "        power=np.std(data2)\n",
    "       \n",
    "    return(frq,power)"
   ]
  },
  {
   "cell_type": "code",
   "execution_count": 45,
   "metadata": {
    "collapsed": false
   },
   "outputs": [],
   "source": [
    "# setDAC takes a voltage value, converts to 16 bit value, then puts\n",
    "# outputs voltage to channel 0\n",
    "def setDAC(Volts):\n",
    "    bVolts=d.voltageToDACBits(Volts,dacNumber=0,is16Bits=True)\n",
    "    d.getFeedback(u6.DAC16( 0,  bVolts))\n",
    "    return"
   ]
  },
  {
   "cell_type": "code",
   "execution_count": 46,
   "metadata": {
    "collapsed": false
   },
   "outputs": [],
   "source": [
    "setDAC(0.)"
   ]
  },
  {
   "cell_type": "code",
   "execution_count": null,
   "metadata": {
    "collapsed": false
   },
   "outputs": [],
   "source": []
  },
  {
   "cell_type": "code",
   "execution_count": null,
   "metadata": {
    "collapsed": true
   },
   "outputs": [],
   "source": []
  },
  {
   "cell_type": "code",
   "execution_count": 47,
   "metadata": {
    "collapsed": false
   },
   "outputs": [],
   "source": [
    "# cycleData creates a table of voltages to output to DAC,\n",
    "# wait for voltage to settle, and store rms value found at input\n",
    "# variable rms stores the spectrum and is what is returned\n",
    "\n",
    "def cycleData(lowV, HighV, numV):\n",
    "    f = FloatProgress(min=0, max=numV)\n",
    "    display(f)\n",
    "    volts=np.linspace(lowV,HighV,numV)    \n",
    "    power=np.array([],dtype=float)\n",
    "    freq=np.array([],dtype=float)\n",
    "    for i in volts:\n",
    "        setDAC(i)\n",
    "        sleep(.1)\n",
    "        \n",
    "        temp_freq,temp_power=getData()\n",
    "        \n",
    "        power=np.append(power,temp_power)\n",
    "        freq=np.append(freq,temp_freq)\n",
    "        f.value+=1\n",
    "    return (power,freq)"
   ]
  },
  {
   "cell_type": "code",
   "execution_count": 48,
   "metadata": {
    "collapsed": false
   },
   "outputs": [],
   "source": [
    "def plotData(freq, power):\n",
    "   \n",
    "    fig, axes = plt.subplots(1,1)\n",
    "    axes.plot(freq, power)\n",
    "    \n",
    "    axes.set_xlabel('frequency (Hz)')\n",
    "    axes.set_ylabel('rms voltage (V)')\n"
   ]
  },
  {
   "cell_type": "code",
   "execution_count": 49,
   "metadata": {
    "collapsed": true
   },
   "outputs": [],
   "source": [
    "def _smooth(x, window_len=11, window='hanning'):\n",
    "    \"\"\"\n",
    "    smooth the data using a window of the requested size.\n",
    "    \n",
    "    This method is based on the convolution of a scaled window on the signal.\n",
    "    The signal is prepared by introducing reflected copies of the signal \n",
    "    (with the window size) in both ends so that transient parts are minimized\n",
    "    in the begining and end part of the output signal.\n",
    "    \n",
    "    input:\n",
    "        x: the input signal \n",
    "        window_len: the dimension of the smoothing window; should be an odd \n",
    "            integer\n",
    "        window: the type of window from 'flat', 'hanning', 'hamming', \n",
    "            'bartlett', 'blackman'\n",
    "            flat window will produce a moving average smoothing.\n",
    "\n",
    "    output:\n",
    "        the smoothed signal\n",
    "        \n",
    "    example:\n",
    "\n",
    "    t = linspace(-2,2,0.1)\n",
    "    x = sin(t)+randn(len(t))*0.1\n",
    "    y = _smooth(x)\n",
    "    \n",
    "    see also: \n",
    "    \n",
    "    numpy.hanning, numpy.hamming, numpy.bartlett, numpy.blackman, \n",
    "    numpy.convolve, scipy.signal.lfilter\n",
    " \n",
    "    TODO: the window parameter could be the window itself if a list instead of\n",
    "    a string   \n",
    "    \"\"\"\n",
    "    if x.ndim != 1:\n",
    "        raise ValueError, \"smooth only accepts 1 dimension arrays.\"\n",
    " \n",
    "    if x.size < window_len:\n",
    "        raise ValueError, \"Input vector needs to be bigger than window size.\"\n",
    "    \n",
    "    if window_len<3:\n",
    "        return x\n",
    "    \n",
    "    if not window in ['flat', 'hanning', 'hamming', 'bartlett', 'blackman']:\n",
    "        raise(ValueError,\n",
    "            \"Window is not one of '{0}', '{1}', '{2}', '{3}', '{4}'\".format(\n",
    "            *('flat', 'hanning', 'hamming', 'bartlett', 'blackman')))\n",
    "    \n",
    "    s = np.r_[x[window_len-1:0:-1], x, x[-1:-window_len:-1]]\n",
    "    #print(len(s))\n",
    "    if window == 'flat': #moving average\n",
    "        w = np.ones(window_len,'d')\n",
    "    else:\n",
    "        w = eval('np.' + window + '(window_len)')\n",
    " \n",
    "    y = np.convolve(w / w.sum(), s, mode = 'valid')\n",
    "    return y\n",
    "    "
   ]
  },
  {
   "cell_type": "code",
   "execution_count": 53,
   "metadata": {
    "collapsed": false
   },
   "outputs": [
    {
     "name": "stdout",
     "output_type": "stream",
     "text": [
      "966.4\n",
      "1077.33333333\n"
     ]
    },
    {
     "data": {
      "text/plain": [
       "200"
      ]
     },
     "execution_count": 53,
     "metadata": {},
     "output_type": "execute_result"
    },
    {
     "data": {
      "image/png": "[encoded data removed]",
      "text/plain": [
       "<matplotlib.figure.Figure at 0x107e4bb50>"
      ]
     },
     "metadata": {},
     "output_type": "display_data"
    }
   ],
   "source": [
    "#take spectrum\n",
    "spectrum,freq=cycleData(0.,.5,200)\n",
    "plotData(freq,spectrum)\n",
    "print freq[0]\n",
    "print freq[-1]\n",
    "setDAC(0)\n",
    "len(freq)"
   ]
  },
  {
   "cell_type": "code",
   "execution_count": null,
   "metadata": {
    "collapsed": false
   },
   "outputs": [],
   "source": [
    "data_out=np.column_stack((freq[:,np.newaxis],spectrum[:,np.newaxis]))\n",
    "np.savetxt('configA-74-95-072316a.dat', data_out, delimiter=',')"
   ]
  },
  {
   "cell_type": "code",
   "execution_count": null,
   "metadata": {
    "collapsed": true
   },
   "outputs": [],
   "source": [
    "data_out=np.column_stack((freq[:,np.newaxis],spectrum[:,np.newaxis]))\n",
    "np.savetxt('configA-4-333-071615.dat', data_out, delimiter=',')"
   ]
  },
  {
   "cell_type": "code",
   "execution_count": 40,
   "metadata": {
    "collapsed": false
   },
   "outputs": [],
   "source": [
    "d.close()"
   ]
  },
  {
   "cell_type": "code",
   "execution_count": null,
   "metadata": {
    "collapsed": false
   },
   "outputs": [],
   "source": [
    "index=_smooth(spectrum,1)\n",
    "d=np.diff(index)\n",
    "dd=np.diff(d)\n",
    "v=np.sign(d[:len(freq)])\n",
    "\n",
    "resonances = freq[[np.where((v[:-1]!=v[1:])&(dd[:len(freq)-1]<0))][0]]\n",
    "print resonances"
   ]
  },
  {
   "cell_type": "code",
   "execution_count": null,
   "metadata": {
    "collapsed": false
   },
   "outputs": [],
   "source": [
    "fig, axes = plt.subplots(1,1)\n",
    "axes.plot(freq, _smooth(spectrum)[:len(freq)])\n",
    "for i in resonances:\n",
    "    axes.axvline(i)"
   ]
  },
  {
   "cell_type": "code",
   "execution_count": null,
   "metadata": {
    "collapsed": false
   },
   "outputs": [],
   "source": [
    "plotData(freq,spectrum)"
   ]
  },
  {
   "cell_type": "code",
   "execution_count": null,
   "metadata": {
    "collapsed": true
   },
   "outputs": [],
   "source": [
    "#define the fitting function.\n",
    "def func(x,a,b,c,d):\n",
    "    return a+b*exp(-c*(x-d)**2)"
   ]
  },
  {
   "cell_type": "code",
   "execution_count": null,
   "metadata": {
    "collapsed": false
   },
   "outputs": [],
   "source": [
    "#make pretty comments\n",
    "from IPython.display import Latex \n",
    "#in case we want interactivity\n",
    "from IPython.html.widgets import interactive "
   ]
  },
  {
   "cell_type": "code",
   "execution_count": null,
   "metadata": {
    "collapsed": false
   },
   "outputs": [],
   "source": [
    "w=interactive(plotData(freq,spectrum,xmin=(freq[0],freq[len(freq)/2]), xmax=(freq[len(freq)/2],freq[-1])))\n",
    "display(w)"
   ]
  },
  {
   "cell_type": "code",
   "execution_count": null,
   "metadata": {
    "collapsed": true
   },
   "outputs": [],
   "source": [
    "x0=array([9.2,9.7,0.8]) #Enter your intial guess here x0={a,b,c}\n",
    "#calls the solver and puts the solution into the array solution, the uncertainties are put into the\n",
    "#array covar. \n",
    "solution,covar= optimization.curve_fit(func,number_density,ABS,x0,s)\n",
    "#Fit parameters and uncertainties\n",
    "print \"a= %f +/- %f \" % (solution[0],sqrt(covar[0,0]))\n",
    "print \"b= %f +/- %f \" % (solution[1],sqrt(covar[1,1]))\n",
    "print \"c= %f +/- %f \" % (solution[2],sqrt(covar[2,2]))\n",
    "\n",
    "plt.xlabel(r'Number density $10^16 (\\mathrm{m}^{-3})$')\n",
    "plt.ylabel('Absorption (Arb. Units)')\n",
    "plt.errorbar(number_density, ABS, fmt = 'rx', yerr =s,label='Data') \n",
    "plt.plot(number_density,func(number_density,solution[0],solution[1],solution[2]),label='Fit')\n",
    "plt.legend(loc='upper right')\n",
    "plt.show()\n",
    "#Calculate Goodness of fit.\n",
    "chisqr=numpy.sum((ABS-func(number_density,solution[0],solution[1],solution[2]))/s)**2\n",
    "dof=len(ABS)-len(x0)\n",
    "GOF = 1. - chi2.cdf(chisqr,dof)\n",
    "print \"Reduced Chi Square=%f\"%(chisqr/dof)\n",
    "print \"Probability to obtain a higher Chi Square=%f\"%(GOF)\n",
    "fig = plt.gcf()\n",
    "py.iplot_mpl(fig)"
   ]
  },
  {
   "cell_type": "code",
   "execution_count": null,
   "metadata": {
    "collapsed": false
   },
   "outputs": [],
   "source": [
    "setDAC(2.01)\n",
    "f,p,da=getData()\n",
    "plt.plot(da)\n",
    "print np.std(_smooth(da,15))\n",
    "print np.std(da)"
   ]
  },
  {
   "cell_type": "code",
   "execution_count": null,
   "metadata": {
    "collapsed": false
   },
   "outputs": [],
   "source": [
    "f,p"
   ]
  },
  {
   "cell_type": "code",
   "execution_count": null,
   "metadata": {
    "collapsed": false
   },
   "outputs": [],
   "source": [
    "plt.plot(da)"
   ]
  },
  {
   "cell_type": "code",
   "execution_count": null,
   "metadata": {
    "collapsed": true
   },
   "outputs": [],
   "source": []
  }
 ],
 "metadata": {
  "kernelspec": {
   "display_name": "Python 2",
   "language": "python",
   "name": "python2"
  },
  "language_info": {
   "codemirror_mode": {
    "name": "ipython",
    "version": 2
   },
   "file_extension": ".py",
   "mimetype": "text/x-python",
   "name": "python",
   "nbconvert_exporter": "python",
   "pygments_lexer": "ipython2",
   "version": "2.7.12"
  }
 },
 "nbformat": 4,
 "nbformat_minor": 0
}
